{
 "cells": [
  {
   "cell_type": "markdown",
   "metadata": {},
   "source": [
    "# Hw01 - Knapsack problem\n",
    "\n",
    "## Content\n",
    "\n",
    "- [Imports](#Imports)\n",
    "- [Load C++ library for Knapsack solution](#load-c++-library-for-knapsack-solution)\n",
    "- [Load dataframe functions](#load-dataframe-functions)\n",
    "- [](#)\n",
    "\n",
    "## Imports\n"
   ]
  },
  {
   "cell_type": "code",
   "execution_count": 18,
   "metadata": {},
   "outputs": [],
   "source": [
    "import pandas as pd\n",
    "import ctypes\n",
    "from ctypes import c_char_p, c_void_p, c_double\n",
    "import json\n",
    "import seaborn as sns\n",
    "import plotly.express as px\n",
    "from plotly.subplots import make_subplots\n",
    "import plotly.graph_objects as go\n"
   ]
  },
  {
   "cell_type": "markdown",
   "metadata": {},
   "source": [
    "## Load C++ library for Knapsack solution"
   ]
  },
  {
   "cell_type": "code",
   "execution_count": 19,
   "metadata": {},
   "outputs": [],
   "source": [
    "# Do the combinatorics\n",
    "clib = ctypes.cdll.LoadLibrary('./build/knapsack.so')\n",
    "clib.solve.argtypes = [c_char_p, c_char_p]\n",
    "clib.solve.restype = c_double"
   ]
  },
  {
   "cell_type": "markdown",
   "metadata": {},
   "source": [
    "## Load dataframe functions"
   ]
  },
  {
   "cell_type": "code",
   "execution_count": 20,
   "metadata": {},
   "outputs": [],
   "source": [
    "# Load dataframes\n",
    "def insToDf(path):\n",
    "    data_nr_ins_4 = pd.read_csv(path, sep=' ', index_col=0, header=None)\n",
    "    df_ins = data_nr_ins_4.copy()\n",
    "    df_ins = df_ins[~df_ins.index.duplicated(keep='first')]\n",
    "    df_ins.index = df_ins.index.rename(\"ID\")\n",
    "    df_ins = df_ins.rename(columns = {1: \"n\", 2: \"M\", 3: \"B\"})\n",
    "    df_ins.columns = [str(x) for x in df_ins.columns]\n",
    "    df_ins[\"weights\"] = df_ins.apply(lambda x: list(x[df_ins.columns[3::2]]), axis=1)\n",
    "    df_ins[\"values\"] = df_ins.apply(lambda x: list(x[df_ins.columns[4::2]]), axis=1)\n",
    "    df_ins = df_ins.drop(df_ins.columns[3:-2], axis=1)\n",
    "    df_ins.index = abs(df_ins.index)\n",
    "    return df_ins\n",
    "\n",
    "def solToDf(path):\n",
    "    data_nr_sol_4 = pd.read_csv(path, sep=' ', index_col=0, header=None)\n",
    "    df_sol = data_nr_sol_4.copy()\n",
    "    df_sol = df_sol[~df_sol.index.duplicated(keep='first')]\n",
    "    df_sol.index = df_sol.index.rename(\"ID\")\n",
    "    df_sol = df_sol.drop(df_sol.columns[-1], axis=1)\n",
    "    df_sol[\"solution\"] = df_sol.apply(lambda x: list(x[df_sol.columns[2:]]), axis=1)\n",
    "    df_sol = df_sol.drop(df_sol.columns[2:-1], axis=1)\n",
    "    df_sol = df_sol.rename(columns = {1: 'n', 2: \"optimum\"})\n",
    "    # data_nr_4.index = data_nr_4.index.rename(\"ID\")\n",
    "    return df_sol\n",
    "\n",
    "def resToDf(path):\n",
    "    data_nr_res_4 = pd.read_csv(path, sep=' ', index_col=0, header=None)\n",
    "    df_res = data_nr_res_4.copy()\n",
    "\n",
    "    df_res.index = df_res.index.rename(\"ID\")\n",
    "    df_res = df_res.rename(columns = {1: 'n', 2: 'possible', 3: \"value\", df_res.columns[-2]:\"complexity\", \n",
    "        df_res.columns[-1]:\"seconds\"})\n",
    "    df_res.columns = [str(x) for x in df_res.columns]\n",
    "    df_res[\"solution\"] = df_res.apply(lambda x: list(x[df_res.columns[3:-2]]), axis=1)\n",
    "    df_res = df_res.drop(df_res.columns[3:-3], axis=1)\n",
    "    df_res.index = abs(df_res.index)\n",
    "    return df_res\n",
    "\n",
    "def check(df_ins, df_sol, df_res, path):\n",
    "    possible = df_ins[\"B\"] <= df_sol[\"optimum\"]\n",
    "    check = df_res['possible'] == possible\n",
    "    ok = check.sum() == df_ins.shape[0]\n",
    "    idx = df_ins[~check].index.values\n",
    "    return ((~check).sum(), idx)\n"
   ]
  },
  {
   "cell_type": "code",
   "execution_count": 21,
   "metadata": {
    "tags": []
   },
   "outputs": [
    {
     "output_type": "stream",
     "name": "stdout",
     "text": [
      "Name: nr, n: [4, 10, 15, 20]\n",
      "Name: zr, n: [4, 10, 15, 20]\n"
     ]
    }
   ],
   "source": [
    "# Read all dataframes\n",
    "\n",
    "# \"./tests/test_{n}.csv\" # \"./data/nr/res/N_LAST{n}.csv\" # \"./data/nr/res/N{n}.csv\"\n",
    "\n",
    "datasets = {\n",
    "    \"nr\": {\n",
    "        \"instances\": \"../data/nr/NR{n}_inst.dat\",\n",
    "        \"solutions\": \"../data/nr/NK{n}_sol.dat\",\n",
    "        \"brute_force\": \"../data/computed/nr_resu/bf_n_n{n}_resu_test.csv\",\n",
    "        \"branch_and_bound\": \"../data/computed/nr_resu/bab_n_n{n}_resu_test.csv\",\n",
    "    }, \n",
    "    \"zr\": {\n",
    "        \"instances\": \"../data/zr/ZR{n}_inst.dat\",\n",
    "        \"solutions\": \"../data/zr/ZK{n}_sol.dat\",\n",
    "        \"brute_force\": \"../data/computed/zr_resu/bf_z_n{n}_resu_test.csv\",\n",
    "        \"branch_and_bound\": \"../data/computed/zr_resu/bab_z_n{n}_resu_test.csv\",\n",
    "    }\n",
    "}\n",
    "\n",
    "NUMBERS = [4, 10, 15, 20] # [4, 10, 15, 20, 22, 25, 27] # [4, 10, 15, 20, 22, 25, 27, 30, 32, 35, 37, 40]\n",
    "dfs = {}\n",
    "for name, data in datasets.items():\n",
    "    print(\"Name: {}, n: [\".format(name), end='')\n",
    "    dfs[name] = {}\n",
    "    for n in NUMBERS:\n",
    "        print(\"{}, \".format(n), end='') if n != NUMBERS[-1] else print(\"{}]\".format(n))\n",
    "        df_ins = insToDf(data[\"instances\"].format(n=n))\n",
    "\n",
    "        df_sol = solToDf(data[\"solutions\"].format(n=n))\n",
    "\n",
    "        df_bf = resToDf(data[\"brute_force\"].format(n=n))\n",
    "        df_bab = resToDf(data[\"branch_and_bound\"].format(n=n))\n",
    "\n",
    "        dfs[name][n] = {'instances': df_ins, 'solutions': df_sol, 'brute_force': df_bf, 'branch_and_bound': df_bab}\n",
    "\n",
    "        err_num, err_lines = check(df_ins, df_sol, df_bf, data[\"brute_force\"].format(n=n))\n",
    "        if err_num > 0:\n",
    "            print(\"Name: {}, n: {}, BF: err_num: {}, err_lines: {}\".format(name, n, err_num, err_lines))\n",
    "    \n",
    "        err_num, err_lines = check(df_ins, df_sol, df_bab, data[\"branch_and_bound\"].format(n=n))\n",
    "        if err_num > 0:\n",
    "            print(\"Name: {}, n: {}, BAB: err_num: {}, err_lines: {}\".format(name, n, err_num, err_lines))\n",
    "    #     print(ERRORS)"
   ]
  },
  {
   "cell_type": "code",
   "execution_count": 22,
   "metadata": {},
   "outputs": [],
   "source": [
    "BF = \"brute_force\"\n",
    "BAB = \"branch_and_bound\"\n",
    "\n",
    "def plotHistogram(dfs, name, n, title, x_axis, column):\n",
    "    dfs = dfs.copy()\n",
    "    max_value = max(dfs[name][n][BF][column].max(), dfs[name][n][BAB][column].max())\n",
    "    fig = go.Figure()\n",
    "    fig.add_trace(go.Histogram(x=dfs[name][n][BF][column], name='Brute Force',\n",
    "        xbins=dict(start=0,end=max_value, size=max_value/10)))\n",
    "    fig.add_trace(go.Histogram(x=dfs[name][n][BAB][column], name='Branch and Bound',\n",
    "        xbins=dict(start=0,end=max_value, size=max_value/10)))\n",
    "\n",
    "    # fig.update_layout(height=500, width=700, title_text=\"Multiple Subplots with Titles\")\n",
    "    # fig.update_layout(title_text=title, # title of plot\n",
    "    #     xaxis_title_text=x_axis, yaxis_title_text='Count', \n",
    "        # bargap=0.2, # gap between bars of adjacent location coordinates\n",
    "        # bargroupgap=0.0001 # gap between bars of the same location coordinates\n",
    "    # )\n",
    "    fig.update_layout(barmode='overlay', title_text=title, # title of plot\n",
    "    #     xaxis_title_text=x_axis, yaxis_title_text='Count', \n",
    "        bargap=0.2, # gap between bars of adjacent location coordinates\n",
    "        bargroupgap=0.1, # gap between bars of the same location coordinates\n",
    "        # xaxis = dict(gridwidth = max_value/10),\n",
    "        xaxis = dict(tickmode = 'linear', tick0 = 0, dtick = max_value/10, showgrid=True),\n",
    "        xaxis_range = [0, max_value]\n",
    "    )\n",
    "    fig.update_traces(opacity=0.75)\n",
    "    fig.show()\n",
    "    fig.write_image(\"../results/figures/histogram_{}_{}.png\".format(name, column))\n",
    "# ?fig.update_layout"
   ]
  },
  {
   "cell_type": "code",
   "execution_count": 23,
   "metadata": {},
   "outputs": [
    {
     "output_type": "display_data",
     "data": {
      "application/vnd.plotly.v1+json": {
       "config": {
        "plotlyServerURL": "https://plot.ly"
       },
       "data": [
        {
         "name": "Brute Force",
         "opacity": 0.75,
         "type": "histogram",
         "x": [
          32768,
          32768,
          32768,
          32768,
          32768,
          32768,
          32768,
          32768,
          32768,
          32768,
          32768,
          32768,
          32768,
          32768,
          32768,
          32768,
          32768,
          32768,
          32768,
          32768,
          32768,
          32768,
          32768,
          32768,
          32768,
          32768,
          32768,
          32768,
          32768,
          32768,
          32768,
          32768,
          32768,
          32768,
          32768,
          32768,
          32768,
          32768,
          32768,
          32768,
          32768,
          32768,
          32768,
          32768,
          32768,
          32768,
          32768,
          32768,
          32768,
          32768,
          32768,
          32768,
          32768,
          32768,
          32768,
          32768,
          32768,
          32768,
          32768,
          32768,
          32768,
          32768,
          32768,
          32768,
          32768,
          32768,
          32768,
          32768,
          32768,
          32768,
          32768,
          32768,
          32768,
          32768,
          32768,
          32768,
          32768,
          32768,
          32768,
          32768,
          32768,
          32768,
          32768,
          32768,
          32768,
          32768,
          32768,
          32768,
          32768,
          32768,
          32768,
          32768,
          32768,
          32768,
          32768,
          32768,
          32768,
          32768,
          32768,
          32768,
          32768,
          32768,
          32768,
          32768,
          32768,
          32768,
          32768,
          32768,
          32768,
          32768,
          32768,
          32768,
          32768,
          32768,
          32768,
          32768,
          32768,
          32768,
          32768,
          32768,
          32768,
          32768,
          32768,
          32768,
          32768,
          32768,
          32768,
          32768,
          32768,
          32768,
          32768,
          32768,
          32768,
          32768,
          32768,
          32768,
          32768,
          32768,
          32768,
          32768,
          32768,
          32768,
          32768,
          32768,
          32768,
          32768,
          32768,
          32768,
          32768,
          32768,
          32768,
          32768,
          32768,
          32768,
          32768,
          32768,
          32768,
          32768,
          32768,
          32768,
          32768,
          32768,
          32768,
          32768,
          32768,
          32768,
          32768,
          32768,
          32768,
          32768,
          32768,
          32768,
          32768,
          32768,
          32768,
          32768,
          32768,
          32768,
          32768,
          32768,
          32768,
          32768,
          32768,
          32768,
          32768,
          32768,
          32768,
          32768,
          32768,
          32768,
          32768,
          32768,
          32768,
          32768,
          32768,
          32768,
          32768,
          32768,
          32768,
          32768,
          32768,
          32768,
          32768,
          32768,
          32768,
          32768,
          32768,
          32768,
          32768,
          32768,
          32768,
          32768,
          32768,
          32768,
          32768,
          32768,
          32768,
          32768,
          32768,
          32768,
          32768,
          32768,
          32768,
          32768,
          32768,
          32768,
          32768,
          32768,
          32768,
          32768,
          32768,
          32768,
          32768,
          32768,
          32768,
          32768,
          32768,
          32768,
          32768,
          32768,
          32768,
          32768,
          32768,
          32768,
          32768,
          32768,
          32768,
          32768,
          32768,
          32768,
          32768,
          32768,
          32768,
          32768,
          32768,
          32768,
          32768,
          32768,
          32768,
          32768,
          32768,
          32768,
          32768,
          32768,
          32768,
          32768,
          32768,
          32768,
          32768,
          32768,
          32768,
          32768,
          32768,
          32768,
          32768,
          32768,
          32768,
          32768,
          32768,
          32768,
          32768,
          32768,
          32768,
          32768,
          32768,
          32768,
          32768,
          32768,
          32768,
          32768,
          32768,
          32768,
          32768,
          32768,
          32768,
          32768,
          32768,
          32768,
          32768,
          32768,
          32768,
          32768,
          32768,
          32768,
          32768,
          32768,
          32768,
          32768,
          32768,
          32768,
          32768,
          32768,
          32768,
          32768,
          32768,
          32768,
          32768,
          32768,
          32768,
          32768,
          32768,
          32768,
          32768,
          32768,
          32768,
          32768,
          32768,
          32768,
          32768,
          32768,
          32768,
          32768,
          32768,
          32768,
          32768,
          32768,
          32768,
          32768,
          32768,
          32768,
          32768,
          32768,
          32768,
          32768,
          32768,
          32768,
          32768,
          32768,
          32768,
          32768,
          32768,
          32768,
          32768,
          32768,
          32768,
          32768,
          32768,
          32768,
          32768,
          32768,
          32768,
          32768,
          32768,
          32768,
          32768,
          32768,
          32768,
          32768,
          32768,
          32768,
          32768,
          32768,
          32768,
          32768,
          32768,
          32768,
          32768,
          32768,
          32768,
          32768,
          32768,
          32768,
          32768,
          32768,
          32768,
          32768,
          32768,
          32768,
          32768,
          32768,
          32768,
          32768,
          32768,
          32768,
          32768,
          32768,
          32768,
          32768,
          32768,
          32768,
          32768,
          32768,
          32768,
          32768,
          32768,
          32768,
          32768,
          32768,
          32768,
          32768,
          32768,
          32768,
          32768,
          32768,
          32768,
          32768,
          32768,
          32768,
          32768,
          32768,
          32768,
          32768,
          32768,
          32768,
          32768,
          32768,
          32768,
          32768,
          32768,
          32768,
          32768,
          32768,
          32768,
          32768,
          32768,
          32768,
          32768,
          32768,
          32768,
          32768,
          32768,
          32768,
          32768,
          32768,
          32768,
          32768,
          32768,
          32768,
          32768,
          32768,
          32768,
          32768,
          32768,
          32768,
          32768,
          32768,
          32768,
          32768,
          32768,
          32768,
          32768,
          32768,
          32768,
          32768,
          32768,
          32768,
          32768,
          32768,
          32768,
          32768,
          32768,
          32768,
          32768,
          32768,
          32768,
          32768,
          32768,
          32768,
          32768,
          32768,
          32768,
          32768,
          32768,
          32768,
          32768,
          32768,
          32768,
          32768,
          32768,
          32768,
          32768,
          32768,
          32768,
          32768,
          32768,
          32768,
          32768,
          32768,
          32768,
          32768
         ],
         "xbins": {
          "end": 32768,
          "size": 3276.8,
          "start": 0
         }
        },
        {
         "name": "Branch and Bound",
         "opacity": 0.75,
         "type": "histogram",
         "x": [
          1,
          1,
          1,
          104,
          32767,
          1,
          32689,
          32755,
          1,
          1,
          1,
          10,
          32617,
          1,
          32,
          1,
          1,
          22911,
          32761,
          91,
          1,
          8544,
          20134,
          23790,
          17480,
          8530,
          1,
          1,
          1,
          32407,
          30740,
          1853,
          1,
          2756,
          17633,
          1,
          1800,
          424,
          1,
          261,
          32747,
          1,
          32768,
          7196,
          8069,
          1,
          32768,
          1,
          28765,
          26251,
          32044,
          13,
          1,
          1,
          31314,
          20589,
          1,
          74,
          25,
          3,
          1,
          32768,
          2495,
          22416,
          16967,
          5,
          11373,
          1,
          5905,
          27743,
          1,
          1,
          32,
          2195,
          1325,
          1,
          200,
          32749,
          1,
          6,
          32158,
          1,
          1,
          32531,
          482,
          206,
          4942,
          32768,
          32088,
          10,
          1098,
          32768,
          611,
          14800,
          1,
          1,
          1356,
          845,
          30195,
          1,
          1,
          1,
          1,
          30246,
          25075,
          3229,
          88,
          1,
          1,
          26599,
          3957,
          32105,
          30130,
          8,
          32768,
          24366,
          20236,
          1,
          1685,
          28702,
          1,
          1,
          99,
          1,
          1,
          19479,
          32768,
          30235,
          1957,
          27906,
          1013,
          8786,
          1,
          6,
          27206,
          1,
          169,
          1,
          1,
          195,
          1,
          2,
          3,
          3139,
          19175,
          1,
          29976,
          32754,
          6986,
          1,
          29,
          8119,
          1,
          7,
          208,
          2,
          32558,
          4,
          2,
          32520,
          8,
          1,
          1334,
          5051,
          1,
          6106,
          32609,
          40,
          341,
          10928,
          632,
          32758,
          31773,
          1,
          1,
          30407,
          1176,
          32295,
          1699,
          28623,
          1,
          21063,
          15,
          28178,
          420,
          1,
          4791,
          32376,
          1,
          32768,
          26797,
          3643,
          1,
          32768,
          29510,
          1888,
          1312,
          2,
          1,
          1,
          2,
          3943,
          1,
          32619,
          1,
          75,
          11798,
          22285,
          4551,
          170,
          1,
          1,
          73,
          1,
          17904,
          31651,
          4493,
          1777,
          29023,
          344,
          32766,
          10,
          7650,
          6,
          32726,
          32766,
          32639,
          1,
          3,
          41,
          13,
          1,
          32352,
          546,
          2,
          32490,
          10,
          8,
          43,
          1,
          144,
          35,
          18143,
          6275,
          1,
          30487,
          11355,
          32760,
          1,
          1,
          32767,
          1,
          32488,
          3027,
          25032,
          30203,
          1,
          1,
          4,
          960,
          32670,
          50,
          23312,
          2243,
          16828,
          32768,
          2139,
          2,
          29644,
          32768,
          10,
          1,
          6,
          28,
          1,
          32754,
          1,
          30611,
          3349,
          1,
          32768,
          24274,
          3,
          30065,
          43,
          32762,
          24707,
          32702,
          21,
          32705,
          13,
          32609,
          29495,
          32390,
          2,
          28,
          5,
          1,
          1,
          120,
          1,
          21,
          1,
          1,
          32759,
          1,
          5,
          32768,
          1,
          4095,
          1,
          17862,
          2079,
          32368,
          1,
          7,
          29,
          1,
          2068,
          1,
          1,
          32763,
          7941,
          1,
          13645,
          55,
          30548,
          32768,
          14076,
          230,
          27057,
          48,
          1,
          1,
          32761,
          1,
          30415,
          1,
          2,
          3231,
          1,
          205,
          32767,
          1,
          1,
          32666,
          1,
          30341,
          1,
          2,
          30962,
          1,
          1,
          27698,
          1,
          27,
          38,
          822,
          1,
          14,
          1,
          30170,
          31894,
          11,
          32,
          216,
          534,
          20034,
          1,
          4060,
          509,
          6,
          181,
          10491,
          25,
          1,
          11,
          2,
          1,
          280,
          1,
          32459,
          32696,
          32745,
          1441,
          1221,
          1,
          23,
          1,
          3,
          3,
          1,
          1,
          12436,
          19059,
          10183,
          5,
          559,
          2,
          24650,
          1,
          32768,
          45,
          43,
          20072,
          1,
          1,
          5,
          429,
          32758,
          38,
          32740,
          1,
          25,
          22271,
          1,
          1,
          17565,
          1080,
          26270,
          1,
          11638,
          1986,
          1,
          999,
          1,
          29936,
          1,
          10900,
          1,
          1,
          1,
          10,
          32033,
          7493,
          3,
          1,
          32766,
          16,
          1,
          1,
          1,
          32763,
          1861,
          32025,
          88,
          504,
          1,
          1,
          1,
          28351,
          6589,
          24890,
          1,
          2,
          21951,
          1,
          1,
          1,
          2,
          1821,
          1,
          50,
          32768,
          1,
          17,
          8,
          76,
          4090,
          23981,
          30704,
          1,
          1,
          32768,
          26,
          31505,
          95,
          12,
          1,
          26710,
          19,
          14472,
          128,
          22787,
          1,
          4,
          1,
          16504,
          7,
          1,
          27242,
          1076,
          1,
          20,
          32767,
          23548,
          5,
          1,
          1,
          32766
         ],
         "xbins": {
          "end": 32768,
          "size": 3276.8,
          "start": 0
         }
        }
       ],
       "layout": {
        "bargap": 0.2,
        "bargroupgap": 0.1,
        "barmode": "overlay",
        "template": {
         "data": {
          "bar": [
           {
            "error_x": {
             "color": "#2a3f5f"
            },
            "error_y": {
             "color": "#2a3f5f"
            },
            "marker": {
             "line": {
              "color": "#E5ECF6",
              "width": 0.5
             }
            },
            "type": "bar"
           }
          ],
          "barpolar": [
           {
            "marker": {
             "line": {
              "color": "#E5ECF6",
              "width": 0.5
             }
            },
            "type": "barpolar"
           }
          ],
          "carpet": [
           {
            "aaxis": {
             "endlinecolor": "#2a3f5f",
             "gridcolor": "white",
             "linecolor": "white",
             "minorgridcolor": "white",
             "startlinecolor": "#2a3f5f"
            },
            "baxis": {
             "endlinecolor": "#2a3f5f",
             "gridcolor": "white",
             "linecolor": "white",
             "minorgridcolor": "white",
             "startlinecolor": "#2a3f5f"
            },
            "type": "carpet"
           }
          ],
          "choropleth": [
           {
            "colorbar": {
             "outlinewidth": 0,
             "ticks": ""
            },
            "type": "choropleth"
           }
          ],
          "contour": [
           {
            "colorbar": {
             "outlinewidth": 0,
             "ticks": ""
            },
            "colorscale": [
             [
              0,
              "#0d0887"
             ],
             [
              0.1111111111111111,
              "#46039f"
             ],
             [
              0.2222222222222222,
              "#7201a8"
             ],
             [
              0.3333333333333333,
              "#9c179e"
             ],
             [
              0.4444444444444444,
              "#bd3786"
             ],
             [
              0.5555555555555556,
              "#d8576b"
             ],
             [
              0.6666666666666666,
              "#ed7953"
             ],
             [
              0.7777777777777778,
              "#fb9f3a"
             ],
             [
              0.8888888888888888,
              "#fdca26"
             ],
             [
              1,
              "#f0f921"
             ]
            ],
            "type": "contour"
           }
          ],
          "contourcarpet": [
           {
            "colorbar": {
             "outlinewidth": 0,
             "ticks": ""
            },
            "type": "contourcarpet"
           }
          ],
          "heatmap": [
           {
            "colorbar": {
             "outlinewidth": 0,
             "ticks": ""
            },
            "colorscale": [
             [
              0,
              "#0d0887"
             ],
             [
              0.1111111111111111,
              "#46039f"
             ],
             [
              0.2222222222222222,
              "#7201a8"
             ],
             [
              0.3333333333333333,
              "#9c179e"
             ],
             [
              0.4444444444444444,
              "#bd3786"
             ],
             [
              0.5555555555555556,
              "#d8576b"
             ],
             [
              0.6666666666666666,
              "#ed7953"
             ],
             [
              0.7777777777777778,
              "#fb9f3a"
             ],
             [
              0.8888888888888888,
              "#fdca26"
             ],
             [
              1,
              "#f0f921"
             ]
            ],
            "type": "heatmap"
           }
          ],
          "heatmapgl": [
           {
            "colorbar": {
             "outlinewidth": 0,
             "ticks": ""
            },
            "colorscale": [
             [
              0,
              "#0d0887"
             ],
             [
              0.1111111111111111,
              "#46039f"
             ],
             [
              0.2222222222222222,
              "#7201a8"
             ],
             [
              0.3333333333333333,
              "#9c179e"
             ],
             [
              0.4444444444444444,
              "#bd3786"
             ],
             [
              0.5555555555555556,
              "#d8576b"
             ],
             [
              0.6666666666666666,
              "#ed7953"
             ],
             [
              0.7777777777777778,
              "#fb9f3a"
             ],
             [
              0.8888888888888888,
              "#fdca26"
             ],
             [
              1,
              "#f0f921"
             ]
            ],
            "type": "heatmapgl"
           }
          ],
          "histogram": [
           {
            "marker": {
             "colorbar": {
              "outlinewidth": 0,
              "ticks": ""
             }
            },
            "type": "histogram"
           }
          ],
          "histogram2d": [
           {
            "colorbar": {
             "outlinewidth": 0,
             "ticks": ""
            },
            "colorscale": [
             [
              0,
              "#0d0887"
             ],
             [
              0.1111111111111111,
              "#46039f"
             ],
             [
              0.2222222222222222,
              "#7201a8"
             ],
             [
              0.3333333333333333,
              "#9c179e"
             ],
             [
              0.4444444444444444,
              "#bd3786"
             ],
             [
              0.5555555555555556,
              "#d8576b"
             ],
             [
              0.6666666666666666,
              "#ed7953"
             ],
             [
              0.7777777777777778,
              "#fb9f3a"
             ],
             [
              0.8888888888888888,
              "#fdca26"
             ],
             [
              1,
              "#f0f921"
             ]
            ],
            "type": "histogram2d"
           }
          ],
          "histogram2dcontour": [
           {
            "colorbar": {
             "outlinewidth": 0,
             "ticks": ""
            },
            "colorscale": [
             [
              0,
              "#0d0887"
             ],
             [
              0.1111111111111111,
              "#46039f"
             ],
             [
              0.2222222222222222,
              "#7201a8"
             ],
             [
              0.3333333333333333,
              "#9c179e"
             ],
             [
              0.4444444444444444,
              "#bd3786"
             ],
             [
              0.5555555555555556,
              "#d8576b"
             ],
             [
              0.6666666666666666,
              "#ed7953"
             ],
             [
              0.7777777777777778,
              "#fb9f3a"
             ],
             [
              0.8888888888888888,
              "#fdca26"
             ],
             [
              1,
              "#f0f921"
             ]
            ],
            "type": "histogram2dcontour"
           }
          ],
          "mesh3d": [
           {
            "colorbar": {
             "outlinewidth": 0,
             "ticks": ""
            },
            "type": "mesh3d"
           }
          ],
          "parcoords": [
           {
            "line": {
             "colorbar": {
              "outlinewidth": 0,
              "ticks": ""
             }
            },
            "type": "parcoords"
           }
          ],
          "pie": [
           {
            "automargin": true,
            "type": "pie"
           }
          ],
          "scatter": [
           {
            "marker": {
             "colorbar": {
              "outlinewidth": 0,
              "ticks": ""
             }
            },
            "type": "scatter"
           }
          ],
          "scatter3d": [
           {
            "line": {
             "colorbar": {
              "outlinewidth": 0,
              "ticks": ""
             }
            },
            "marker": {
             "colorbar": {
              "outlinewidth": 0,
              "ticks": ""
             }
            },
            "type": "scatter3d"
           }
          ],
          "scattercarpet": [
           {
            "marker": {
             "colorbar": {
              "outlinewidth": 0,
              "ticks": ""
             }
            },
            "type": "scattercarpet"
           }
          ],
          "scattergeo": [
           {
            "marker": {
             "colorbar": {
              "outlinewidth": 0,
              "ticks": ""
             }
            },
            "type": "scattergeo"
           }
          ],
          "scattergl": [
           {
            "marker": {
             "colorbar": {
              "outlinewidth": 0,
              "ticks": ""
             }
            },
            "type": "scattergl"
           }
          ],
          "scattermapbox": [
           {
            "marker": {
             "colorbar": {
              "outlinewidth": 0,
              "ticks": ""
             }
            },
            "type": "scattermapbox"
           }
          ],
          "scatterpolar": [
           {
            "marker": {
             "colorbar": {
              "outlinewidth": 0,
              "ticks": ""
             }
            },
            "type": "scatterpolar"
           }
          ],
          "scatterpolargl": [
           {
            "marker": {
             "colorbar": {
              "outlinewidth": 0,
              "ticks": ""
             }
            },
            "type": "scatterpolargl"
           }
          ],
          "scatterternary": [
           {
            "marker": {
             "colorbar": {
              "outlinewidth": 0,
              "ticks": ""
             }
            },
            "type": "scatterternary"
           }
          ],
          "surface": [
           {
            "colorbar": {
             "outlinewidth": 0,
             "ticks": ""
            },
            "colorscale": [
             [
              0,
              "#0d0887"
             ],
             [
              0.1111111111111111,
              "#46039f"
             ],
             [
              0.2222222222222222,
              "#7201a8"
             ],
             [
              0.3333333333333333,
              "#9c179e"
             ],
             [
              0.4444444444444444,
              "#bd3786"
             ],
             [
              0.5555555555555556,
              "#d8576b"
             ],
             [
              0.6666666666666666,
              "#ed7953"
             ],
             [
              0.7777777777777778,
              "#fb9f3a"
             ],
             [
              0.8888888888888888,
              "#fdca26"
             ],
             [
              1,
              "#f0f921"
             ]
            ],
            "type": "surface"
           }
          ],
          "table": [
           {
            "cells": {
             "fill": {
              "color": "#EBF0F8"
             },
             "line": {
              "color": "white"
             }
            },
            "header": {
             "fill": {
              "color": "#C8D4E3"
             },
             "line": {
              "color": "white"
             }
            },
            "type": "table"
           }
          ]
         },
         "layout": {
          "annotationdefaults": {
           "arrowcolor": "#2a3f5f",
           "arrowhead": 0,
           "arrowwidth": 1
          },
          "coloraxis": {
           "colorbar": {
            "outlinewidth": 0,
            "ticks": ""
           }
          },
          "colorscale": {
           "diverging": [
            [
             0,
             "#8e0152"
            ],
            [
             0.1,
             "#c51b7d"
            ],
            [
             0.2,
             "#de77ae"
            ],
            [
             0.3,
             "#f1b6da"
            ],
            [
             0.4,
             "#fde0ef"
            ],
            [
             0.5,
             "#f7f7f7"
            ],
            [
             0.6,
             "#e6f5d0"
            ],
            [
             0.7,
             "#b8e186"
            ],
            [
             0.8,
             "#7fbc41"
            ],
            [
             0.9,
             "#4d9221"
            ],
            [
             1,
             "#276419"
            ]
           ],
           "sequential": [
            [
             0,
             "#0d0887"
            ],
            [
             0.1111111111111111,
             "#46039f"
            ],
            [
             0.2222222222222222,
             "#7201a8"
            ],
            [
             0.3333333333333333,
             "#9c179e"
            ],
            [
             0.4444444444444444,
             "#bd3786"
            ],
            [
             0.5555555555555556,
             "#d8576b"
            ],
            [
             0.6666666666666666,
             "#ed7953"
            ],
            [
             0.7777777777777778,
             "#fb9f3a"
            ],
            [
             0.8888888888888888,
             "#fdca26"
            ],
            [
             1,
             "#f0f921"
            ]
           ],
           "sequentialminus": [
            [
             0,
             "#0d0887"
            ],
            [
             0.1111111111111111,
             "#46039f"
            ],
            [
             0.2222222222222222,
             "#7201a8"
            ],
            [
             0.3333333333333333,
             "#9c179e"
            ],
            [
             0.4444444444444444,
             "#bd3786"
            ],
            [
             0.5555555555555556,
             "#d8576b"
            ],
            [
             0.6666666666666666,
             "#ed7953"
            ],
            [
             0.7777777777777778,
             "#fb9f3a"
            ],
            [
             0.8888888888888888,
             "#fdca26"
            ],
            [
             1,
             "#f0f921"
            ]
           ]
          },
          "colorway": [
           "#636efa",
           "#EF553B",
           "#00cc96",
           "#ab63fa",
           "#FFA15A",
           "#19d3f3",
           "#FF6692",
           "#B6E880",
           "#FF97FF",
           "#FECB52"
          ],
          "font": {
           "color": "#2a3f5f"
          },
          "geo": {
           "bgcolor": "white",
           "lakecolor": "white",
           "landcolor": "#E5ECF6",
           "showlakes": true,
           "showland": true,
           "subunitcolor": "white"
          },
          "hoverlabel": {
           "align": "left"
          },
          "hovermode": "closest",
          "mapbox": {
           "style": "light"
          },
          "paper_bgcolor": "white",
          "plot_bgcolor": "#E5ECF6",
          "polar": {
           "angularaxis": {
            "gridcolor": "white",
            "linecolor": "white",
            "ticks": ""
           },
           "bgcolor": "#E5ECF6",
           "radialaxis": {
            "gridcolor": "white",
            "linecolor": "white",
            "ticks": ""
           }
          },
          "scene": {
           "xaxis": {
            "backgroundcolor": "#E5ECF6",
            "gridcolor": "white",
            "gridwidth": 2,
            "linecolor": "white",
            "showbackground": true,
            "ticks": "",
            "zerolinecolor": "white"
           },
           "yaxis": {
            "backgroundcolor": "#E5ECF6",
            "gridcolor": "white",
            "gridwidth": 2,
            "linecolor": "white",
            "showbackground": true,
            "ticks": "",
            "zerolinecolor": "white"
           },
           "zaxis": {
            "backgroundcolor": "#E5ECF6",
            "gridcolor": "white",
            "gridwidth": 2,
            "linecolor": "white",
            "showbackground": true,
            "ticks": "",
            "zerolinecolor": "white"
           }
          },
          "shapedefaults": {
           "line": {
            "color": "#2a3f5f"
           }
          },
          "ternary": {
           "aaxis": {
            "gridcolor": "white",
            "linecolor": "white",
            "ticks": ""
           },
           "baxis": {
            "gridcolor": "white",
            "linecolor": "white",
            "ticks": ""
           },
           "bgcolor": "#E5ECF6",
           "caxis": {
            "gridcolor": "white",
            "linecolor": "white",
            "ticks": ""
           }
          },
          "title": {
           "x": 0.05
          },
          "xaxis": {
           "automargin": true,
           "gridcolor": "white",
           "linecolor": "white",
           "ticks": "",
           "title": {
            "standoff": 15
           },
           "zerolinecolor": "white",
           "zerolinewidth": 2
          },
          "yaxis": {
           "automargin": true,
           "gridcolor": "white",
           "linecolor": "white",
           "ticks": "",
           "title": {
            "standoff": 15
           },
           "zerolinecolor": "white",
           "zerolinewidth": 2
          }
         }
        },
        "title": {
         "text": "Histogram of complexities (set: nr, 27 items)"
        },
        "xaxis": {
         "dtick": 3276.8,
         "range": [
          0,
          32768
         ],
         "showgrid": true,
         "tick0": 0,
         "tickmode": "linear"
        }
       }
      },
      "text/html": "<div>                            <div id=\"b1443ccd-126c-4c4f-a472-6dfeb7958554\" class=\"plotly-graph-div\" style=\"height:525px; width:100%;\"></div>            <script type=\"text/javascript\">                require([\"plotly\"], function(Plotly) {                    window.PLOTLYENV=window.PLOTLYENV || {};                                    if (document.getElementById(\"b1443ccd-126c-4c4f-a472-6dfeb7958554\")) {                    Plotly.newPlot(                        \"b1443ccd-126c-4c4f-a472-6dfeb7958554\",                        [{\"name\": \"Brute Force\", \"opacity\": 0.75, \"type\": \"histogram\", \"x\": [32768, 32768, 32768, 32768, 32768, 32768, 32768, 32768, 32768, 32768, 32768, 32768, 32768, 32768, 32768, 32768, 32768, 32768, 32768, 32768, 32768, 32768, 32768, 32768, 32768, 32768, 32768, 32768, 32768, 32768, 32768, 32768, 32768, 32768, 32768, 32768, 32768, 32768, 32768, 32768, 32768, 32768, 32768, 32768, 32768, 32768, 32768, 32768, 32768, 32768, 32768, 32768, 32768, 32768, 32768, 32768, 32768, 32768, 32768, 32768, 32768, 32768, 32768, 32768, 32768, 32768, 32768, 32768, 32768, 32768, 32768, 32768, 32768, 32768, 32768, 32768, 32768, 32768, 32768, 32768, 32768, 32768, 32768, 32768, 32768, 32768, 32768, 32768, 32768, 32768, 32768, 32768, 32768, 32768, 32768, 32768, 32768, 32768, 32768, 32768, 32768, 32768, 32768, 32768, 32768, 32768, 32768, 32768, 32768, 32768, 32768, 32768, 32768, 32768, 32768, 32768, 32768, 32768, 32768, 32768, 32768, 32768, 32768, 32768, 32768, 32768, 32768, 32768, 32768, 32768, 32768, 32768, 32768, 32768, 32768, 32768, 32768, 32768, 32768, 32768, 32768, 32768, 32768, 32768, 32768, 32768, 32768, 32768, 32768, 32768, 32768, 32768, 32768, 32768, 32768, 32768, 32768, 32768, 32768, 32768, 32768, 32768, 32768, 32768, 32768, 32768, 32768, 32768, 32768, 32768, 32768, 32768, 32768, 32768, 32768, 32768, 32768, 32768, 32768, 32768, 32768, 32768, 32768, 32768, 32768, 32768, 32768, 32768, 32768, 32768, 32768, 32768, 32768, 32768, 32768, 32768, 32768, 32768, 32768, 32768, 32768, 32768, 32768, 32768, 32768, 32768, 32768, 32768, 32768, 32768, 32768, 32768, 32768, 32768, 32768, 32768, 32768, 32768, 32768, 32768, 32768, 32768, 32768, 32768, 32768, 32768, 32768, 32768, 32768, 32768, 32768, 32768, 32768, 32768, 32768, 32768, 32768, 32768, 32768, 32768, 32768, 32768, 32768, 32768, 32768, 32768, 32768, 32768, 32768, 32768, 32768, 32768, 32768, 32768, 32768, 32768, 32768, 32768, 32768, 32768, 32768, 32768, 32768, 32768, 32768, 32768, 32768, 32768, 32768, 32768, 32768, 32768, 32768, 32768, 32768, 32768, 32768, 32768, 32768, 32768, 32768, 32768, 32768, 32768, 32768, 32768, 32768, 32768, 32768, 32768, 32768, 32768, 32768, 32768, 32768, 32768, 32768, 32768, 32768, 32768, 32768, 32768, 32768, 32768, 32768, 32768, 32768, 32768, 32768, 32768, 32768, 32768, 32768, 32768, 32768, 32768, 32768, 32768, 32768, 32768, 32768, 32768, 32768, 32768, 32768, 32768, 32768, 32768, 32768, 32768, 32768, 32768, 32768, 32768, 32768, 32768, 32768, 32768, 32768, 32768, 32768, 32768, 32768, 32768, 32768, 32768, 32768, 32768, 32768, 32768, 32768, 32768, 32768, 32768, 32768, 32768, 32768, 32768, 32768, 32768, 32768, 32768, 32768, 32768, 32768, 32768, 32768, 32768, 32768, 32768, 32768, 32768, 32768, 32768, 32768, 32768, 32768, 32768, 32768, 32768, 32768, 32768, 32768, 32768, 32768, 32768, 32768, 32768, 32768, 32768, 32768, 32768, 32768, 32768, 32768, 32768, 32768, 32768, 32768, 32768, 32768, 32768, 32768, 32768, 32768, 32768, 32768, 32768, 32768, 32768, 32768, 32768, 32768, 32768, 32768, 32768, 32768, 32768, 32768, 32768, 32768, 32768, 32768, 32768, 32768, 32768, 32768, 32768, 32768, 32768, 32768, 32768, 32768, 32768, 32768, 32768, 32768, 32768, 32768, 32768, 32768, 32768, 32768, 32768, 32768, 32768, 32768, 32768, 32768, 32768, 32768, 32768, 32768, 32768, 32768, 32768, 32768, 32768, 32768, 32768, 32768, 32768, 32768, 32768, 32768, 32768, 32768, 32768, 32768, 32768, 32768, 32768, 32768, 32768, 32768, 32768, 32768, 32768, 32768, 32768, 32768, 32768, 32768, 32768, 32768, 32768, 32768, 32768, 32768, 32768, 32768, 32768, 32768, 32768, 32768, 32768, 32768, 32768, 32768, 32768], \"xbins\": {\"end\": 32768, \"size\": 3276.8, \"start\": 0}}, {\"name\": \"Branch and Bound\", \"opacity\": 0.75, \"type\": \"histogram\", \"x\": [1, 1, 1, 104, 32767, 1, 32689, 32755, 1, 1, 1, 10, 32617, 1, 32, 1, 1, 22911, 32761, 91, 1, 8544, 20134, 23790, 17480, 8530, 1, 1, 1, 32407, 30740, 1853, 1, 2756, 17633, 1, 1800, 424, 1, 261, 32747, 1, 32768, 7196, 8069, 1, 32768, 1, 28765, 26251, 32044, 13, 1, 1, 31314, 20589, 1, 74, 25, 3, 1, 32768, 2495, 22416, 16967, 5, 11373, 1, 5905, 27743, 1, 1, 32, 2195, 1325, 1, 200, 32749, 1, 6, 32158, 1, 1, 32531, 482, 206, 4942, 32768, 32088, 10, 1098, 32768, 611, 14800, 1, 1, 1356, 845, 30195, 1, 1, 1, 1, 30246, 25075, 3229, 88, 1, 1, 26599, 3957, 32105, 30130, 8, 32768, 24366, 20236, 1, 1685, 28702, 1, 1, 99, 1, 1, 19479, 32768, 30235, 1957, 27906, 1013, 8786, 1, 6, 27206, 1, 169, 1, 1, 195, 1, 2, 3, 3139, 19175, 1, 29976, 32754, 6986, 1, 29, 8119, 1, 7, 208, 2, 32558, 4, 2, 32520, 8, 1, 1334, 5051, 1, 6106, 32609, 40, 341, 10928, 632, 32758, 31773, 1, 1, 30407, 1176, 32295, 1699, 28623, 1, 21063, 15, 28178, 420, 1, 4791, 32376, 1, 32768, 26797, 3643, 1, 32768, 29510, 1888, 1312, 2, 1, 1, 2, 3943, 1, 32619, 1, 75, 11798, 22285, 4551, 170, 1, 1, 73, 1, 17904, 31651, 4493, 1777, 29023, 344, 32766, 10, 7650, 6, 32726, 32766, 32639, 1, 3, 41, 13, 1, 32352, 546, 2, 32490, 10, 8, 43, 1, 144, 35, 18143, 6275, 1, 30487, 11355, 32760, 1, 1, 32767, 1, 32488, 3027, 25032, 30203, 1, 1, 4, 960, 32670, 50, 23312, 2243, 16828, 32768, 2139, 2, 29644, 32768, 10, 1, 6, 28, 1, 32754, 1, 30611, 3349, 1, 32768, 24274, 3, 30065, 43, 32762, 24707, 32702, 21, 32705, 13, 32609, 29495, 32390, 2, 28, 5, 1, 1, 120, 1, 21, 1, 1, 32759, 1, 5, 32768, 1, 4095, 1, 17862, 2079, 32368, 1, 7, 29, 1, 2068, 1, 1, 32763, 7941, 1, 13645, 55, 30548, 32768, 14076, 230, 27057, 48, 1, 1, 32761, 1, 30415, 1, 2, 3231, 1, 205, 32767, 1, 1, 32666, 1, 30341, 1, 2, 30962, 1, 1, 27698, 1, 27, 38, 822, 1, 14, 1, 30170, 31894, 11, 32, 216, 534, 20034, 1, 4060, 509, 6, 181, 10491, 25, 1, 11, 2, 1, 280, 1, 32459, 32696, 32745, 1441, 1221, 1, 23, 1, 3, 3, 1, 1, 12436, 19059, 10183, 5, 559, 2, 24650, 1, 32768, 45, 43, 20072, 1, 1, 5, 429, 32758, 38, 32740, 1, 25, 22271, 1, 1, 17565, 1080, 26270, 1, 11638, 1986, 1, 999, 1, 29936, 1, 10900, 1, 1, 1, 10, 32033, 7493, 3, 1, 32766, 16, 1, 1, 1, 32763, 1861, 32025, 88, 504, 1, 1, 1, 28351, 6589, 24890, 1, 2, 21951, 1, 1, 1, 2, 1821, 1, 50, 32768, 1, 17, 8, 76, 4090, 23981, 30704, 1, 1, 32768, 26, 31505, 95, 12, 1, 26710, 19, 14472, 128, 22787, 1, 4, 1, 16504, 7, 1, 27242, 1076, 1, 20, 32767, 23548, 5, 1, 1, 32766], \"xbins\": {\"end\": 32768, \"size\": 3276.8, \"start\": 0}}],                        {\"bargap\": 0.2, \"bargroupgap\": 0.1, \"barmode\": \"overlay\", \"template\": {\"data\": {\"bar\": [{\"error_x\": {\"color\": \"#2a3f5f\"}, \"error_y\": {\"color\": \"#2a3f5f\"}, \"marker\": {\"line\": {\"color\": \"#E5ECF6\", \"width\": 0.5}}, \"type\": \"bar\"}], \"barpolar\": [{\"marker\": {\"line\": {\"color\": \"#E5ECF6\", \"width\": 0.5}}, \"type\": \"barpolar\"}], \"carpet\": [{\"aaxis\": {\"endlinecolor\": \"#2a3f5f\", \"gridcolor\": \"white\", \"linecolor\": \"white\", \"minorgridcolor\": \"white\", \"startlinecolor\": \"#2a3f5f\"}, \"baxis\": {\"endlinecolor\": \"#2a3f5f\", \"gridcolor\": \"white\", \"linecolor\": \"white\", \"minorgridcolor\": \"white\", \"startlinecolor\": \"#2a3f5f\"}, \"type\": \"carpet\"}], \"choropleth\": [{\"colorbar\": {\"outlinewidth\": 0, \"ticks\": \"\"}, \"type\": \"choropleth\"}], \"contour\": [{\"colorbar\": {\"outlinewidth\": 0, \"ticks\": \"\"}, \"colorscale\": [[0.0, \"#0d0887\"], [0.1111111111111111, \"#46039f\"], [0.2222222222222222, \"#7201a8\"], [0.3333333333333333, \"#9c179e\"], [0.4444444444444444, \"#bd3786\"], [0.5555555555555556, \"#d8576b\"], [0.6666666666666666, \"#ed7953\"], [0.7777777777777778, \"#fb9f3a\"], [0.8888888888888888, \"#fdca26\"], [1.0, \"#f0f921\"]], \"type\": \"contour\"}], \"contourcarpet\": [{\"colorbar\": {\"outlinewidth\": 0, \"ticks\": \"\"}, \"type\": \"contourcarpet\"}], \"heatmap\": [{\"colorbar\": {\"outlinewidth\": 0, \"ticks\": \"\"}, \"colorscale\": [[0.0, \"#0d0887\"], [0.1111111111111111, \"#46039f\"], [0.2222222222222222, \"#7201a8\"], [0.3333333333333333, \"#9c179e\"], [0.4444444444444444, \"#bd3786\"], [0.5555555555555556, \"#d8576b\"], [0.6666666666666666, \"#ed7953\"], [0.7777777777777778, \"#fb9f3a\"], [0.8888888888888888, \"#fdca26\"], [1.0, \"#f0f921\"]], \"type\": \"heatmap\"}], \"heatmapgl\": [{\"colorbar\": {\"outlinewidth\": 0, \"ticks\": \"\"}, \"colorscale\": [[0.0, \"#0d0887\"], [0.1111111111111111, \"#46039f\"], [0.2222222222222222, \"#7201a8\"], [0.3333333333333333, \"#9c179e\"], [0.4444444444444444, \"#bd3786\"], [0.5555555555555556, \"#d8576b\"], [0.6666666666666666, \"#ed7953\"], [0.7777777777777778, \"#fb9f3a\"], [0.8888888888888888, \"#fdca26\"], [1.0, \"#f0f921\"]], \"type\": \"heatmapgl\"}], \"histogram\": [{\"marker\": {\"colorbar\": {\"outlinewidth\": 0, \"ticks\": \"\"}}, \"type\": \"histogram\"}], \"histogram2d\": [{\"colorbar\": {\"outlinewidth\": 0, \"ticks\": \"\"}, \"colorscale\": [[0.0, \"#0d0887\"], [0.1111111111111111, \"#46039f\"], [0.2222222222222222, \"#7201a8\"], [0.3333333333333333, \"#9c179e\"], [0.4444444444444444, \"#bd3786\"], [0.5555555555555556, \"#d8576b\"], [0.6666666666666666, \"#ed7953\"], [0.7777777777777778, \"#fb9f3a\"], [0.8888888888888888, \"#fdca26\"], [1.0, \"#f0f921\"]], \"type\": \"histogram2d\"}], \"histogram2dcontour\": [{\"colorbar\": {\"outlinewidth\": 0, \"ticks\": \"\"}, \"colorscale\": [[0.0, \"#0d0887\"], [0.1111111111111111, \"#46039f\"], [0.2222222222222222, \"#7201a8\"], [0.3333333333333333, \"#9c179e\"], [0.4444444444444444, \"#bd3786\"], [0.5555555555555556, \"#d8576b\"], [0.6666666666666666, \"#ed7953\"], [0.7777777777777778, \"#fb9f3a\"], [0.8888888888888888, \"#fdca26\"], [1.0, \"#f0f921\"]], \"type\": \"histogram2dcontour\"}], \"mesh3d\": [{\"colorbar\": {\"outlinewidth\": 0, \"ticks\": \"\"}, \"type\": \"mesh3d\"}], \"parcoords\": [{\"line\": {\"colorbar\": {\"outlinewidth\": 0, \"ticks\": \"\"}}, \"type\": \"parcoords\"}], \"pie\": [{\"automargin\": true, \"type\": \"pie\"}], \"scatter\": [{\"marker\": {\"colorbar\": {\"outlinewidth\": 0, \"ticks\": \"\"}}, \"type\": \"scatter\"}], \"scatter3d\": [{\"line\": {\"colorbar\": {\"outlinewidth\": 0, \"ticks\": \"\"}}, \"marker\": {\"colorbar\": {\"outlinewidth\": 0, \"ticks\": \"\"}}, \"type\": \"scatter3d\"}], \"scattercarpet\": [{\"marker\": {\"colorbar\": {\"outlinewidth\": 0, \"ticks\": \"\"}}, \"type\": \"scattercarpet\"}], \"scattergeo\": [{\"marker\": {\"colorbar\": {\"outlinewidth\": 0, \"ticks\": \"\"}}, \"type\": \"scattergeo\"}], \"scattergl\": [{\"marker\": {\"colorbar\": {\"outlinewidth\": 0, \"ticks\": \"\"}}, \"type\": \"scattergl\"}], \"scattermapbox\": [{\"marker\": {\"colorbar\": {\"outlinewidth\": 0, \"ticks\": \"\"}}, \"type\": \"scattermapbox\"}], \"scatterpolar\": [{\"marker\": {\"colorbar\": {\"outlinewidth\": 0, \"ticks\": \"\"}}, \"type\": \"scatterpolar\"}], \"scatterpolargl\": [{\"marker\": {\"colorbar\": {\"outlinewidth\": 0, \"ticks\": \"\"}}, \"type\": \"scatterpolargl\"}], \"scatterternary\": [{\"marker\": {\"colorbar\": {\"outlinewidth\": 0, \"ticks\": \"\"}}, \"type\": \"scatterternary\"}], \"surface\": [{\"colorbar\": {\"outlinewidth\": 0, \"ticks\": \"\"}, \"colorscale\": [[0.0, \"#0d0887\"], [0.1111111111111111, \"#46039f\"], [0.2222222222222222, \"#7201a8\"], [0.3333333333333333, \"#9c179e\"], [0.4444444444444444, \"#bd3786\"], [0.5555555555555556, \"#d8576b\"], [0.6666666666666666, \"#ed7953\"], [0.7777777777777778, \"#fb9f3a\"], [0.8888888888888888, \"#fdca26\"], [1.0, \"#f0f921\"]], \"type\": \"surface\"}], \"table\": [{\"cells\": {\"fill\": {\"color\": \"#EBF0F8\"}, \"line\": {\"color\": \"white\"}}, \"header\": {\"fill\": {\"color\": \"#C8D4E3\"}, \"line\": {\"color\": \"white\"}}, \"type\": \"table\"}]}, \"layout\": {\"annotationdefaults\": {\"arrowcolor\": \"#2a3f5f\", \"arrowhead\": 0, \"arrowwidth\": 1}, \"coloraxis\": {\"colorbar\": {\"outlinewidth\": 0, \"ticks\": \"\"}}, \"colorscale\": {\"diverging\": [[0, \"#8e0152\"], [0.1, \"#c51b7d\"], [0.2, \"#de77ae\"], [0.3, \"#f1b6da\"], [0.4, \"#fde0ef\"], [0.5, \"#f7f7f7\"], [0.6, \"#e6f5d0\"], [0.7, \"#b8e186\"], [0.8, \"#7fbc41\"], [0.9, \"#4d9221\"], [1, \"#276419\"]], \"sequential\": [[0.0, \"#0d0887\"], [0.1111111111111111, \"#46039f\"], [0.2222222222222222, \"#7201a8\"], [0.3333333333333333, \"#9c179e\"], [0.4444444444444444, \"#bd3786\"], [0.5555555555555556, \"#d8576b\"], [0.6666666666666666, \"#ed7953\"], [0.7777777777777778, \"#fb9f3a\"], [0.8888888888888888, \"#fdca26\"], [1.0, \"#f0f921\"]], \"sequentialminus\": [[0.0, \"#0d0887\"], [0.1111111111111111, \"#46039f\"], [0.2222222222222222, \"#7201a8\"], [0.3333333333333333, \"#9c179e\"], [0.4444444444444444, \"#bd3786\"], [0.5555555555555556, \"#d8576b\"], [0.6666666666666666, \"#ed7953\"], [0.7777777777777778, \"#fb9f3a\"], [0.8888888888888888, \"#fdca26\"], [1.0, \"#f0f921\"]]}, \"colorway\": [\"#636efa\", \"#EF553B\", \"#00cc96\", \"#ab63fa\", \"#FFA15A\", \"#19d3f3\", \"#FF6692\", \"#B6E880\", \"#FF97FF\", \"#FECB52\"], \"font\": {\"color\": \"#2a3f5f\"}, \"geo\": {\"bgcolor\": \"white\", \"lakecolor\": \"white\", \"landcolor\": \"#E5ECF6\", \"showlakes\": true, \"showland\": true, \"subunitcolor\": \"white\"}, \"hoverlabel\": {\"align\": \"left\"}, \"hovermode\": \"closest\", \"mapbox\": {\"style\": \"light\"}, \"paper_bgcolor\": \"white\", \"plot_bgcolor\": \"#E5ECF6\", \"polar\": {\"angularaxis\": {\"gridcolor\": \"white\", \"linecolor\": \"white\", \"ticks\": \"\"}, \"bgcolor\": \"#E5ECF6\", \"radialaxis\": {\"gridcolor\": \"white\", \"linecolor\": \"white\", \"ticks\": \"\"}}, \"scene\": {\"xaxis\": {\"backgroundcolor\": \"#E5ECF6\", \"gridcolor\": \"white\", \"gridwidth\": 2, \"linecolor\": \"white\", \"showbackground\": true, \"ticks\": \"\", \"zerolinecolor\": \"white\"}, \"yaxis\": {\"backgroundcolor\": \"#E5ECF6\", \"gridcolor\": \"white\", \"gridwidth\": 2, \"linecolor\": \"white\", \"showbackground\": true, \"ticks\": \"\", \"zerolinecolor\": \"white\"}, \"zaxis\": {\"backgroundcolor\": \"#E5ECF6\", \"gridcolor\": \"white\", \"gridwidth\": 2, \"linecolor\": \"white\", \"showbackground\": true, \"ticks\": \"\", \"zerolinecolor\": \"white\"}}, \"shapedefaults\": {\"line\": {\"color\": \"#2a3f5f\"}}, \"ternary\": {\"aaxis\": {\"gridcolor\": \"white\", \"linecolor\": \"white\", \"ticks\": \"\"}, \"baxis\": {\"gridcolor\": \"white\", \"linecolor\": \"white\", \"ticks\": \"\"}, \"bgcolor\": \"#E5ECF6\", \"caxis\": {\"gridcolor\": \"white\", \"linecolor\": \"white\", \"ticks\": \"\"}}, \"title\": {\"x\": 0.05}, \"xaxis\": {\"automargin\": true, \"gridcolor\": \"white\", \"linecolor\": \"white\", \"ticks\": \"\", \"title\": {\"standoff\": 15}, \"zerolinecolor\": \"white\", \"zerolinewidth\": 2}, \"yaxis\": {\"automargin\": true, \"gridcolor\": \"white\", \"linecolor\": \"white\", \"ticks\": \"\", \"title\": {\"standoff\": 15}, \"zerolinecolor\": \"white\", \"zerolinewidth\": 2}}}, \"title\": {\"text\": \"Histogram of complexities (set: nr, 27 items)\"}, \"xaxis\": {\"dtick\": 3276.8, \"range\": [0, 32768], \"showgrid\": true, \"tick0\": 0, \"tickmode\": \"linear\"}},                        {\"responsive\": true}                    ).then(function(){\n                            \nvar gd = document.getElementById('b1443ccd-126c-4c4f-a472-6dfeb7958554');\nvar x = new MutationObserver(function (mutations, observer) {{\n        var display = window.getComputedStyle(gd).display;\n        if (!display || display === 'none') {{\n            console.log([gd, 'removed!']);\n            Plotly.purge(gd);\n            observer.disconnect();\n        }}\n}});\n\n// Listen for the removal of the full notebook cells\nvar notebookContainer = gd.closest('#notebook-container');\nif (notebookContainer) {{\n    x.observe(notebookContainer, {childList: true});\n}}\n\n// Listen for the clearing of the current output cell\nvar outputEl = gd.closest('.output');\nif (outputEl) {{\n    x.observe(outputEl, {childList: true});\n}}\n\n                        })                };                });            </script>        </div>"
     },
     "metadata": {}
    }
   ],
   "source": [
    "plotHistogram(dfs, \"nr\", 15, \n",
    "    \"Histogram of complexities (set: nr, 27 items)\",\n",
    "    \"Number of evaluated instances\", \"complexity\"\n",
    "    )"
   ]
  },
  {
   "cell_type": "code",
   "execution_count": 24,
   "metadata": {},
   "outputs": [
    {
     "output_type": "display_data",
     "data": {
      "application/vnd.plotly.v1+json": {
       "config": {
        "plotlyServerURL": "https://plot.ly"
       },
       "data": [
        {
         "name": "Brute Force",
         "opacity": 0.75,
         "type": "histogram",
         "x": [
          32768,
          32768,
          32768,
          32768,
          32768,
          32768,
          32768,
          32768,
          32768,
          32768,
          32768,
          32768,
          32768,
          32768,
          32768,
          32768,
          32768,
          32768,
          32768,
          32768,
          32768,
          32768,
          32768,
          32768,
          32768,
          32768,
          32768,
          32768,
          32768,
          32768,
          32768,
          32768,
          32768,
          32768,
          32768,
          32768,
          32768,
          32768,
          32768,
          32768,
          32768,
          32768,
          32768,
          32768,
          32768,
          32768,
          32768,
          32768,
          32768,
          32768,
          32768,
          32768,
          32768,
          32768,
          32768,
          32768,
          32768,
          32768,
          32768,
          32768,
          32768,
          32768,
          32768,
          32768,
          32768,
          32768,
          32768,
          32768,
          32768,
          32768,
          32768,
          32768,
          32768,
          32768,
          32768,
          32768,
          32768,
          32768,
          32768,
          32768,
          32768,
          32768,
          32768,
          32768,
          32768,
          32768,
          32768,
          32768,
          32768,
          32768,
          32768,
          32768,
          32768,
          32768,
          32768,
          32768,
          32768,
          32768,
          32768,
          32768,
          32768,
          32768,
          32768,
          32768,
          32768,
          32768,
          32768,
          32768,
          32768,
          32768,
          32768,
          32768,
          32768,
          32768,
          32768,
          32768,
          32768,
          32768,
          32768,
          32768,
          32768,
          32768,
          32768,
          32768,
          32768,
          32768,
          32768,
          32768,
          32768,
          32768,
          32768,
          32768,
          32768,
          32768,
          32768,
          32768,
          32768,
          32768,
          32768,
          32768,
          32768,
          32768,
          32768,
          32768,
          32768,
          32768,
          32768,
          32768,
          32768,
          32768,
          32768,
          32768,
          32768,
          32768,
          32768,
          32768,
          32768,
          32768,
          32768,
          32768,
          32768,
          32768,
          32768,
          32768,
          32768,
          32768,
          32768,
          32768,
          32768,
          32768,
          32768,
          32768,
          32768,
          32768,
          32768,
          32768,
          32768,
          32768,
          32768,
          32768,
          32768,
          32768,
          32768,
          32768,
          32768,
          32768,
          32768,
          32768,
          32768,
          32768,
          32768,
          32768,
          32768,
          32768,
          32768,
          32768,
          32768,
          32768,
          32768,
          32768,
          32768,
          32768,
          32768,
          32768,
          32768,
          32768,
          32768,
          32768,
          32768,
          32768,
          32768,
          32768,
          32768,
          32768,
          32768,
          32768,
          32768,
          32768,
          32768,
          32768,
          32768,
          32768,
          32768,
          32768,
          32768,
          32768,
          32768,
          32768,
          32768,
          32768,
          32768,
          32768,
          32768,
          32768,
          32768,
          32768,
          32768,
          32768,
          32768,
          32768,
          32768,
          32768,
          32768,
          32768,
          32768,
          32768,
          32768,
          32768,
          32768,
          32768,
          32768,
          32768,
          32768,
          32768,
          32768,
          32768,
          32768,
          32768,
          32768,
          32768,
          32768,
          32768,
          32768,
          32768,
          32768,
          32768,
          32768,
          32768,
          32768,
          32768,
          32768,
          32768,
          32768,
          32768,
          32768,
          32768,
          32768,
          32768,
          32768,
          32768,
          32768,
          32768,
          32768,
          32768,
          32768,
          32768,
          32768,
          32768,
          32768,
          32768,
          32768,
          32768,
          32768,
          32768,
          32768,
          32768,
          32768,
          32768,
          32768,
          32768,
          32768,
          32768,
          32768,
          32768,
          32768,
          32768,
          32768,
          32768,
          32768,
          32768,
          32768,
          32768,
          32768,
          32768,
          32768,
          32768,
          32768,
          32768,
          32768,
          32768,
          32768,
          32768,
          32768,
          32768,
          32768,
          32768,
          32768,
          32768,
          32768,
          32768,
          32768,
          32768,
          32768,
          32768,
          32768,
          32768,
          32768,
          32768,
          32768,
          32768,
          32768,
          32768,
          32768,
          32768,
          32768,
          32768,
          32768,
          32768,
          32768,
          32768,
          32768,
          32768,
          32768,
          32768,
          32768,
          32768,
          32768,
          32768,
          32768,
          32768,
          32768,
          32768,
          32768,
          32768,
          32768,
          32768,
          32768,
          32768,
          32768,
          32768,
          32768,
          32768,
          32768,
          32768,
          32768,
          32768,
          32768,
          32768,
          32768,
          32768,
          32768,
          32768,
          32768,
          32768,
          32768,
          32768,
          32768,
          32768,
          32768,
          32768,
          32768,
          32768,
          32768,
          32768,
          32768,
          32768,
          32768,
          32768,
          32768,
          32768,
          32768,
          32768,
          32768,
          32768,
          32768,
          32768,
          32768,
          32768,
          32768,
          32768,
          32768,
          32768,
          32768,
          32768,
          32768,
          32768,
          32768,
          32768,
          32768,
          32768,
          32768,
          32768,
          32768,
          32768,
          32768,
          32768,
          32768,
          32768,
          32768,
          32768,
          32768,
          32768,
          32768,
          32768,
          32768,
          32768,
          32768,
          32768,
          32768,
          32768,
          32768,
          32768,
          32768,
          32768,
          32768,
          32768,
          32768,
          32768,
          32768,
          32768,
          32768,
          32768,
          32768,
          32768,
          32768,
          32768,
          32768,
          32768,
          32768,
          32768,
          32768,
          32768,
          32768,
          32768,
          32768,
          32768,
          32768,
          32768,
          32768,
          32768,
          32768,
          32768,
          32768,
          32768,
          32768,
          32768,
          32768,
          32768,
          32768,
          32768,
          32768,
          32768,
          32768,
          32768,
          32768,
          32768,
          32768,
          32768,
          32768,
          32768,
          32768,
          32768,
          32768,
          32768,
          32768,
          32768,
          32768,
          32768,
          32768,
          32768
         ],
         "xbins": {
          "end": 32768,
          "size": 3276.8,
          "start": 0
         }
        },
        {
         "name": "Branch and Bound",
         "opacity": 0.75,
         "type": "histogram",
         "x": [
          97,
          3,
          56,
          42,
          27831,
          6,
          29982,
          30563,
          44,
          47,
          34,
          3,
          31364,
          3,
          29202,
          30,
          3,
          31493,
          30339,
          222,
          11,
          30239,
          31077,
          31563,
          30111,
          29321,
          24,
          4,
          21,
          28062,
          30101,
          29166,
          28523,
          6665,
          28270,
          17,
          2455,
          29520,
          3,
          186,
          27675,
          5,
          29912,
          30275,
          29283,
          13962,
          29317,
          12,
          29096,
          28536,
          28157,
          34,
          7,
          40,
          29866,
          29890,
          2,
          28532,
          29348,
          83,
          12,
          29834,
          28498,
          27057,
          27739,
          42,
          28366,
          5,
          29645,
          29711,
          86,
          2,
          30,
          29177,
          30757,
          2,
          30120,
          29606,
          8,
          28,
          29947,
          39,
          18,
          29318,
          30906,
          28830,
          30238,
          28890,
          27860,
          25,
          31413,
          29592,
          28261,
          28749,
          33,
          78,
          28678,
          1608,
          28933,
          9,
          2852,
          4,
          982,
          30057,
          28773,
          28682,
          29335,
          2,
          11,
          30852,
          833,
          29509,
          30413,
          623,
          29947,
          30227,
          30202,
          24,
          30533,
          30258,
          5,
          707,
          29020,
          13,
          45,
          29054,
          30276,
          27288,
          858,
          31355,
          28831,
          29920,
          147,
          12,
          28391,
          1,
          29676,
          14403,
          25,
          27681,
          27,
          4,
          40,
          1075,
          30209,
          1225,
          30520,
          30639,
          31465,
          1,
          27586,
          28157,
          24,
          86,
          29821,
          52,
          29843,
          22,
          78,
          28051,
          13,
          13555,
          29444,
          28116,
          1282,
          28931,
          29214,
          30516,
          167,
          28984,
          28841,
          30581,
          27773,
          29,
          132,
          30339,
          29243,
          30011,
          27367,
          29894,
          5,
          30473,
          5,
          28641,
          3568,
          12,
          28416,
          26141,
          31,
          29703,
          28687,
          30085,
          19,
          30330,
          29368,
          94,
          30842,
          8,
          14,
          4251,
          28,
          30151,
          4,
          26856,
          678,
          1452,
          30569,
          29304,
          30183,
          28958,
          22,
          3,
          2,
          58,
          29389,
          28656,
          30569,
          27870,
          29780,
          174,
          27928,
          8,
          29238,
          19,
          30059,
          28914,
          28902,
          74,
          28,
          28275,
          2,
          15,
          31172,
          332,
          12,
          30644,
          4,
          912,
          29493,
          8,
          27489,
          27880,
          30824,
          28985,
          7,
          30311,
          29335,
          28885,
          14107,
          1,
          30773,
          41,
          29390,
          28462,
          30182,
          31004,
          63,
          13286,
          2,
          30146,
          28543,
          28194,
          28087,
          31015,
          29550,
          29558,
          30136,
          2563,
          29555,
          29990,
          3,
          25,
          153,
          631,
          52,
          31220,
          57,
          29424,
          29744,
          9,
          28914,
          31124,
          136,
          30169,
          16,
          27341,
          29487,
          30618,
          4014,
          27599,
          112,
          29940,
          29008,
          27728,
          43,
          3,
          27,
          13,
          37,
          33,
          19,
          2,
          27606,
          12,
          28272,
          80,
          55,
          29962,
          16,
          30490,
          4,
          28580,
          31004,
          30161,
          110,
          42,
          289,
          98,
          28947,
          15,
          16,
          30288,
          30199,
          13,
          29140,
          50,
          29505,
          30839,
          31234,
          3,
          29259,
          2035,
          12,
          2,
          27763,
          31,
          29540,
          57,
          13951,
          28821,
          7,
          51,
          28588,
          42,
          15,
          30887,
          17,
          29603,
          29,
          14693,
          28289,
          95,
          7,
          28375,
          5,
          8615,
          30484,
          27270,
          99,
          1538,
          10,
          28624,
          30370,
          408,
          107,
          610,
          28833,
          28495,
          2174,
          30380,
          30975,
          2656,
          29996,
          29848,
          3,
          4,
          48,
          1343,
          261,
          257,
          3,
          29451,
          27918,
          29260,
          29535,
          49,
          15,
          5,
          3,
          11,
          40,
          47,
          1,
          28718,
          30767,
          26744,
          70,
          6215,
          7,
          28566,
          76,
          28917,
          28913,
          268,
          26954,
          4,
          218,
          5,
          3614,
          29313,
          3,
          27152,
          52,
          52,
          29268,
          13664,
          375,
          26552,
          153,
          28117,
          7,
          31434,
          28095,
          4277,
          15584,
          6,
          31048,
          2,
          29178,
          594,
          32,
          63,
          504,
          28376,
          29009,
          113,
          230,
          28226,
          937,
          11,
          65,
          16,
          28782,
          29988,
          31608,
          5926,
          26977,
          40,
          16,
          504,
          30222,
          29972,
          30023,
          12,
          25,
          26622,
          11,
          36,
          6,
          108,
          30236,
          109,
          2,
          26491,
          4,
          5,
          26,
          30970,
          27964,
          30334,
          30006,
          7,
          7,
          26465,
          5,
          29269,
          188,
          57,
          315,
          29850,
          26,
          29503,
          139,
          28053,
          7,
          10,
          23,
          29797,
          177,
          2207,
          28948,
          30889,
          6,
          45,
          28779,
          30741,
          12282,
          15,
          116,
          28734
         ],
         "xbins": {
          "end": 32768,
          "size": 3276.8,
          "start": 0
         }
        }
       ],
       "layout": {
        "bargap": 0.2,
        "bargroupgap": 0.1,
        "barmode": "overlay",
        "template": {
         "data": {
          "bar": [
           {
            "error_x": {
             "color": "#2a3f5f"
            },
            "error_y": {
             "color": "#2a3f5f"
            },
            "marker": {
             "line": {
              "color": "#E5ECF6",
              "width": 0.5
             }
            },
            "type": "bar"
           }
          ],
          "barpolar": [
           {
            "marker": {
             "line": {
              "color": "#E5ECF6",
              "width": 0.5
             }
            },
            "type": "barpolar"
           }
          ],
          "carpet": [
           {
            "aaxis": {
             "endlinecolor": "#2a3f5f",
             "gridcolor": "white",
             "linecolor": "white",
             "minorgridcolor": "white",
             "startlinecolor": "#2a3f5f"
            },
            "baxis": {
             "endlinecolor": "#2a3f5f",
             "gridcolor": "white",
             "linecolor": "white",
             "minorgridcolor": "white",
             "startlinecolor": "#2a3f5f"
            },
            "type": "carpet"
           }
          ],
          "choropleth": [
           {
            "colorbar": {
             "outlinewidth": 0,
             "ticks": ""
            },
            "type": "choropleth"
           }
          ],
          "contour": [
           {
            "colorbar": {
             "outlinewidth": 0,
             "ticks": ""
            },
            "colorscale": [
             [
              0,
              "#0d0887"
             ],
             [
              0.1111111111111111,
              "#46039f"
             ],
             [
              0.2222222222222222,
              "#7201a8"
             ],
             [
              0.3333333333333333,
              "#9c179e"
             ],
             [
              0.4444444444444444,
              "#bd3786"
             ],
             [
              0.5555555555555556,
              "#d8576b"
             ],
             [
              0.6666666666666666,
              "#ed7953"
             ],
             [
              0.7777777777777778,
              "#fb9f3a"
             ],
             [
              0.8888888888888888,
              "#fdca26"
             ],
             [
              1,
              "#f0f921"
             ]
            ],
            "type": "contour"
           }
          ],
          "contourcarpet": [
           {
            "colorbar": {
             "outlinewidth": 0,
             "ticks": ""
            },
            "type": "contourcarpet"
           }
          ],
          "heatmap": [
           {
            "colorbar": {
             "outlinewidth": 0,
             "ticks": ""
            },
            "colorscale": [
             [
              0,
              "#0d0887"
             ],
             [
              0.1111111111111111,
              "#46039f"
             ],
             [
              0.2222222222222222,
              "#7201a8"
             ],
             [
              0.3333333333333333,
              "#9c179e"
             ],
             [
              0.4444444444444444,
              "#bd3786"
             ],
             [
              0.5555555555555556,
              "#d8576b"
             ],
             [
              0.6666666666666666,
              "#ed7953"
             ],
             [
              0.7777777777777778,
              "#fb9f3a"
             ],
             [
              0.8888888888888888,
              "#fdca26"
             ],
             [
              1,
              "#f0f921"
             ]
            ],
            "type": "heatmap"
           }
          ],
          "heatmapgl": [
           {
            "colorbar": {
             "outlinewidth": 0,
             "ticks": ""
            },
            "colorscale": [
             [
              0,
              "#0d0887"
             ],
             [
              0.1111111111111111,
              "#46039f"
             ],
             [
              0.2222222222222222,
              "#7201a8"
             ],
             [
              0.3333333333333333,
              "#9c179e"
             ],
             [
              0.4444444444444444,
              "#bd3786"
             ],
             [
              0.5555555555555556,
              "#d8576b"
             ],
             [
              0.6666666666666666,
              "#ed7953"
             ],
             [
              0.7777777777777778,
              "#fb9f3a"
             ],
             [
              0.8888888888888888,
              "#fdca26"
             ],
             [
              1,
              "#f0f921"
             ]
            ],
            "type": "heatmapgl"
           }
          ],
          "histogram": [
           {
            "marker": {
             "colorbar": {
              "outlinewidth": 0,
              "ticks": ""
             }
            },
            "type": "histogram"
           }
          ],
          "histogram2d": [
           {
            "colorbar": {
             "outlinewidth": 0,
             "ticks": ""
            },
            "colorscale": [
             [
              0,
              "#0d0887"
             ],
             [
              0.1111111111111111,
              "#46039f"
             ],
             [
              0.2222222222222222,
              "#7201a8"
             ],
             [
              0.3333333333333333,
              "#9c179e"
             ],
             [
              0.4444444444444444,
              "#bd3786"
             ],
             [
              0.5555555555555556,
              "#d8576b"
             ],
             [
              0.6666666666666666,
              "#ed7953"
             ],
             [
              0.7777777777777778,
              "#fb9f3a"
             ],
             [
              0.8888888888888888,
              "#fdca26"
             ],
             [
              1,
              "#f0f921"
             ]
            ],
            "type": "histogram2d"
           }
          ],
          "histogram2dcontour": [
           {
            "colorbar": {
             "outlinewidth": 0,
             "ticks": ""
            },
            "colorscale": [
             [
              0,
              "#0d0887"
             ],
             [
              0.1111111111111111,
              "#46039f"
             ],
             [
              0.2222222222222222,
              "#7201a8"
             ],
             [
              0.3333333333333333,
              "#9c179e"
             ],
             [
              0.4444444444444444,
              "#bd3786"
             ],
             [
              0.5555555555555556,
              "#d8576b"
             ],
             [
              0.6666666666666666,
              "#ed7953"
             ],
             [
              0.7777777777777778,
              "#fb9f3a"
             ],
             [
              0.8888888888888888,
              "#fdca26"
             ],
             [
              1,
              "#f0f921"
             ]
            ],
            "type": "histogram2dcontour"
           }
          ],
          "mesh3d": [
           {
            "colorbar": {
             "outlinewidth": 0,
             "ticks": ""
            },
            "type": "mesh3d"
           }
          ],
          "parcoords": [
           {
            "line": {
             "colorbar": {
              "outlinewidth": 0,
              "ticks": ""
             }
            },
            "type": "parcoords"
           }
          ],
          "pie": [
           {
            "automargin": true,
            "type": "pie"
           }
          ],
          "scatter": [
           {
            "marker": {
             "colorbar": {
              "outlinewidth": 0,
              "ticks": ""
             }
            },
            "type": "scatter"
           }
          ],
          "scatter3d": [
           {
            "line": {
             "colorbar": {
              "outlinewidth": 0,
              "ticks": ""
             }
            },
            "marker": {
             "colorbar": {
              "outlinewidth": 0,
              "ticks": ""
             }
            },
            "type": "scatter3d"
           }
          ],
          "scattercarpet": [
           {
            "marker": {
             "colorbar": {
              "outlinewidth": 0,
              "ticks": ""
             }
            },
            "type": "scattercarpet"
           }
          ],
          "scattergeo": [
           {
            "marker": {
             "colorbar": {
              "outlinewidth": 0,
              "ticks": ""
             }
            },
            "type": "scattergeo"
           }
          ],
          "scattergl": [
           {
            "marker": {
             "colorbar": {
              "outlinewidth": 0,
              "ticks": ""
             }
            },
            "type": "scattergl"
           }
          ],
          "scattermapbox": [
           {
            "marker": {
             "colorbar": {
              "outlinewidth": 0,
              "ticks": ""
             }
            },
            "type": "scattermapbox"
           }
          ],
          "scatterpolar": [
           {
            "marker": {
             "colorbar": {
              "outlinewidth": 0,
              "ticks": ""
             }
            },
            "type": "scatterpolar"
           }
          ],
          "scatterpolargl": [
           {
            "marker": {
             "colorbar": {
              "outlinewidth": 0,
              "ticks": ""
             }
            },
            "type": "scatterpolargl"
           }
          ],
          "scatterternary": [
           {
            "marker": {
             "colorbar": {
              "outlinewidth": 0,
              "ticks": ""
             }
            },
            "type": "scatterternary"
           }
          ],
          "surface": [
           {
            "colorbar": {
             "outlinewidth": 0,
             "ticks": ""
            },
            "colorscale": [
             [
              0,
              "#0d0887"
             ],
             [
              0.1111111111111111,
              "#46039f"
             ],
             [
              0.2222222222222222,
              "#7201a8"
             ],
             [
              0.3333333333333333,
              "#9c179e"
             ],
             [
              0.4444444444444444,
              "#bd3786"
             ],
             [
              0.5555555555555556,
              "#d8576b"
             ],
             [
              0.6666666666666666,
              "#ed7953"
             ],
             [
              0.7777777777777778,
              "#fb9f3a"
             ],
             [
              0.8888888888888888,
              "#fdca26"
             ],
             [
              1,
              "#f0f921"
             ]
            ],
            "type": "surface"
           }
          ],
          "table": [
           {
            "cells": {
             "fill": {
              "color": "#EBF0F8"
             },
             "line": {
              "color": "white"
             }
            },
            "header": {
             "fill": {
              "color": "#C8D4E3"
             },
             "line": {
              "color": "white"
             }
            },
            "type": "table"
           }
          ]
         },
         "layout": {
          "annotationdefaults": {
           "arrowcolor": "#2a3f5f",
           "arrowhead": 0,
           "arrowwidth": 1
          },
          "coloraxis": {
           "colorbar": {
            "outlinewidth": 0,
            "ticks": ""
           }
          },
          "colorscale": {
           "diverging": [
            [
             0,
             "#8e0152"
            ],
            [
             0.1,
             "#c51b7d"
            ],
            [
             0.2,
             "#de77ae"
            ],
            [
             0.3,
             "#f1b6da"
            ],
            [
             0.4,
             "#fde0ef"
            ],
            [
             0.5,
             "#f7f7f7"
            ],
            [
             0.6,
             "#e6f5d0"
            ],
            [
             0.7,
             "#b8e186"
            ],
            [
             0.8,
             "#7fbc41"
            ],
            [
             0.9,
             "#4d9221"
            ],
            [
             1,
             "#276419"
            ]
           ],
           "sequential": [
            [
             0,
             "#0d0887"
            ],
            [
             0.1111111111111111,
             "#46039f"
            ],
            [
             0.2222222222222222,
             "#7201a8"
            ],
            [
             0.3333333333333333,
             "#9c179e"
            ],
            [
             0.4444444444444444,
             "#bd3786"
            ],
            [
             0.5555555555555556,
             "#d8576b"
            ],
            [
             0.6666666666666666,
             "#ed7953"
            ],
            [
             0.7777777777777778,
             "#fb9f3a"
            ],
            [
             0.8888888888888888,
             "#fdca26"
            ],
            [
             1,
             "#f0f921"
            ]
           ],
           "sequentialminus": [
            [
             0,
             "#0d0887"
            ],
            [
             0.1111111111111111,
             "#46039f"
            ],
            [
             0.2222222222222222,
             "#7201a8"
            ],
            [
             0.3333333333333333,
             "#9c179e"
            ],
            [
             0.4444444444444444,
             "#bd3786"
            ],
            [
             0.5555555555555556,
             "#d8576b"
            ],
            [
             0.6666666666666666,
             "#ed7953"
            ],
            [
             0.7777777777777778,
             "#fb9f3a"
            ],
            [
             0.8888888888888888,
             "#fdca26"
            ],
            [
             1,
             "#f0f921"
            ]
           ]
          },
          "colorway": [
           "#636efa",
           "#EF553B",
           "#00cc96",
           "#ab63fa",
           "#FFA15A",
           "#19d3f3",
           "#FF6692",
           "#B6E880",
           "#FF97FF",
           "#FECB52"
          ],
          "font": {
           "color": "#2a3f5f"
          },
          "geo": {
           "bgcolor": "white",
           "lakecolor": "white",
           "landcolor": "#E5ECF6",
           "showlakes": true,
           "showland": true,
           "subunitcolor": "white"
          },
          "hoverlabel": {
           "align": "left"
          },
          "hovermode": "closest",
          "mapbox": {
           "style": "light"
          },
          "paper_bgcolor": "white",
          "plot_bgcolor": "#E5ECF6",
          "polar": {
           "angularaxis": {
            "gridcolor": "white",
            "linecolor": "white",
            "ticks": ""
           },
           "bgcolor": "#E5ECF6",
           "radialaxis": {
            "gridcolor": "white",
            "linecolor": "white",
            "ticks": ""
           }
          },
          "scene": {
           "xaxis": {
            "backgroundcolor": "#E5ECF6",
            "gridcolor": "white",
            "gridwidth": 2,
            "linecolor": "white",
            "showbackground": true,
            "ticks": "",
            "zerolinecolor": "white"
           },
           "yaxis": {
            "backgroundcolor": "#E5ECF6",
            "gridcolor": "white",
            "gridwidth": 2,
            "linecolor": "white",
            "showbackground": true,
            "ticks": "",
            "zerolinecolor": "white"
           },
           "zaxis": {
            "backgroundcolor": "#E5ECF6",
            "gridcolor": "white",
            "gridwidth": 2,
            "linecolor": "white",
            "showbackground": true,
            "ticks": "",
            "zerolinecolor": "white"
           }
          },
          "shapedefaults": {
           "line": {
            "color": "#2a3f5f"
           }
          },
          "ternary": {
           "aaxis": {
            "gridcolor": "white",
            "linecolor": "white",
            "ticks": ""
           },
           "baxis": {
            "gridcolor": "white",
            "linecolor": "white",
            "ticks": ""
           },
           "bgcolor": "#E5ECF6",
           "caxis": {
            "gridcolor": "white",
            "linecolor": "white",
            "ticks": ""
           }
          },
          "title": {
           "x": 0.05
          },
          "xaxis": {
           "automargin": true,
           "gridcolor": "white",
           "linecolor": "white",
           "ticks": "",
           "title": {
            "standoff": 15
           },
           "zerolinecolor": "white",
           "zerolinewidth": 2
          },
          "yaxis": {
           "automargin": true,
           "gridcolor": "white",
           "linecolor": "white",
           "ticks": "",
           "title": {
            "standoff": 15
           },
           "zerolinecolor": "white",
           "zerolinewidth": 2
          }
         }
        },
        "title": {
         "text": "Histogram of complexities (set: zr, 27 items)"
        },
        "xaxis": {
         "dtick": 3276.8,
         "range": [
          0,
          32768
         ],
         "showgrid": true,
         "tick0": 0,
         "tickmode": "linear"
        }
       }
      },
      "text/html": "<div>                            <div id=\"2754c825-7d20-496f-b31c-b4e31edc35ff\" class=\"plotly-graph-div\" style=\"height:525px; width:100%;\"></div>            <script type=\"text/javascript\">                require([\"plotly\"], function(Plotly) {                    window.PLOTLYENV=window.PLOTLYENV || {};                                    if (document.getElementById(\"2754c825-7d20-496f-b31c-b4e31edc35ff\")) {                    Plotly.newPlot(                        \"2754c825-7d20-496f-b31c-b4e31edc35ff\",                        [{\"name\": \"Brute Force\", \"opacity\": 0.75, \"type\": \"histogram\", \"x\": [32768, 32768, 32768, 32768, 32768, 32768, 32768, 32768, 32768, 32768, 32768, 32768, 32768, 32768, 32768, 32768, 32768, 32768, 32768, 32768, 32768, 32768, 32768, 32768, 32768, 32768, 32768, 32768, 32768, 32768, 32768, 32768, 32768, 32768, 32768, 32768, 32768, 32768, 32768, 32768, 32768, 32768, 32768, 32768, 32768, 32768, 32768, 32768, 32768, 32768, 32768, 32768, 32768, 32768, 32768, 32768, 32768, 32768, 32768, 32768, 32768, 32768, 32768, 32768, 32768, 32768, 32768, 32768, 32768, 32768, 32768, 32768, 32768, 32768, 32768, 32768, 32768, 32768, 32768, 32768, 32768, 32768, 32768, 32768, 32768, 32768, 32768, 32768, 32768, 32768, 32768, 32768, 32768, 32768, 32768, 32768, 32768, 32768, 32768, 32768, 32768, 32768, 32768, 32768, 32768, 32768, 32768, 32768, 32768, 32768, 32768, 32768, 32768, 32768, 32768, 32768, 32768, 32768, 32768, 32768, 32768, 32768, 32768, 32768, 32768, 32768, 32768, 32768, 32768, 32768, 32768, 32768, 32768, 32768, 32768, 32768, 32768, 32768, 32768, 32768, 32768, 32768, 32768, 32768, 32768, 32768, 32768, 32768, 32768, 32768, 32768, 32768, 32768, 32768, 32768, 32768, 32768, 32768, 32768, 32768, 32768, 32768, 32768, 32768, 32768, 32768, 32768, 32768, 32768, 32768, 32768, 32768, 32768, 32768, 32768, 32768, 32768, 32768, 32768, 32768, 32768, 32768, 32768, 32768, 32768, 32768, 32768, 32768, 32768, 32768, 32768, 32768, 32768, 32768, 32768, 32768, 32768, 32768, 32768, 32768, 32768, 32768, 32768, 32768, 32768, 32768, 32768, 32768, 32768, 32768, 32768, 32768, 32768, 32768, 32768, 32768, 32768, 32768, 32768, 32768, 32768, 32768, 32768, 32768, 32768, 32768, 32768, 32768, 32768, 32768, 32768, 32768, 32768, 32768, 32768, 32768, 32768, 32768, 32768, 32768, 32768, 32768, 32768, 32768, 32768, 32768, 32768, 32768, 32768, 32768, 32768, 32768, 32768, 32768, 32768, 32768, 32768, 32768, 32768, 32768, 32768, 32768, 32768, 32768, 32768, 32768, 32768, 32768, 32768, 32768, 32768, 32768, 32768, 32768, 32768, 32768, 32768, 32768, 32768, 32768, 32768, 32768, 32768, 32768, 32768, 32768, 32768, 32768, 32768, 32768, 32768, 32768, 32768, 32768, 32768, 32768, 32768, 32768, 32768, 32768, 32768, 32768, 32768, 32768, 32768, 32768, 32768, 32768, 32768, 32768, 32768, 32768, 32768, 32768, 32768, 32768, 32768, 32768, 32768, 32768, 32768, 32768, 32768, 32768, 32768, 32768, 32768, 32768, 32768, 32768, 32768, 32768, 32768, 32768, 32768, 32768, 32768, 32768, 32768, 32768, 32768, 32768, 32768, 32768, 32768, 32768, 32768, 32768, 32768, 32768, 32768, 32768, 32768, 32768, 32768, 32768, 32768, 32768, 32768, 32768, 32768, 32768, 32768, 32768, 32768, 32768, 32768, 32768, 32768, 32768, 32768, 32768, 32768, 32768, 32768, 32768, 32768, 32768, 32768, 32768, 32768, 32768, 32768, 32768, 32768, 32768, 32768, 32768, 32768, 32768, 32768, 32768, 32768, 32768, 32768, 32768, 32768, 32768, 32768, 32768, 32768, 32768, 32768, 32768, 32768, 32768, 32768, 32768, 32768, 32768, 32768, 32768, 32768, 32768, 32768, 32768, 32768, 32768, 32768, 32768, 32768, 32768, 32768, 32768, 32768, 32768, 32768, 32768, 32768, 32768, 32768, 32768, 32768, 32768, 32768, 32768, 32768, 32768, 32768, 32768, 32768, 32768, 32768, 32768, 32768, 32768, 32768, 32768, 32768, 32768, 32768, 32768, 32768, 32768, 32768, 32768, 32768, 32768, 32768, 32768, 32768, 32768, 32768, 32768, 32768, 32768, 32768, 32768, 32768, 32768, 32768, 32768, 32768, 32768, 32768, 32768, 32768, 32768, 32768, 32768, 32768, 32768, 32768, 32768, 32768, 32768, 32768, 32768, 32768, 32768, 32768, 32768, 32768, 32768, 32768, 32768, 32768, 32768, 32768, 32768], \"xbins\": {\"end\": 32768, \"size\": 3276.8, \"start\": 0}}, {\"name\": \"Branch and Bound\", \"opacity\": 0.75, \"type\": \"histogram\", \"x\": [97, 3, 56, 42, 27831, 6, 29982, 30563, 44, 47, 34, 3, 31364, 3, 29202, 30, 3, 31493, 30339, 222, 11, 30239, 31077, 31563, 30111, 29321, 24, 4, 21, 28062, 30101, 29166, 28523, 6665, 28270, 17, 2455, 29520, 3, 186, 27675, 5, 29912, 30275, 29283, 13962, 29317, 12, 29096, 28536, 28157, 34, 7, 40, 29866, 29890, 2, 28532, 29348, 83, 12, 29834, 28498, 27057, 27739, 42, 28366, 5, 29645, 29711, 86, 2, 30, 29177, 30757, 2, 30120, 29606, 8, 28, 29947, 39, 18, 29318, 30906, 28830, 30238, 28890, 27860, 25, 31413, 29592, 28261, 28749, 33, 78, 28678, 1608, 28933, 9, 2852, 4, 982, 30057, 28773, 28682, 29335, 2, 11, 30852, 833, 29509, 30413, 623, 29947, 30227, 30202, 24, 30533, 30258, 5, 707, 29020, 13, 45, 29054, 30276, 27288, 858, 31355, 28831, 29920, 147, 12, 28391, 1, 29676, 14403, 25, 27681, 27, 4, 40, 1075, 30209, 1225, 30520, 30639, 31465, 1, 27586, 28157, 24, 86, 29821, 52, 29843, 22, 78, 28051, 13, 13555, 29444, 28116, 1282, 28931, 29214, 30516, 167, 28984, 28841, 30581, 27773, 29, 132, 30339, 29243, 30011, 27367, 29894, 5, 30473, 5, 28641, 3568, 12, 28416, 26141, 31, 29703, 28687, 30085, 19, 30330, 29368, 94, 30842, 8, 14, 4251, 28, 30151, 4, 26856, 678, 1452, 30569, 29304, 30183, 28958, 22, 3, 2, 58, 29389, 28656, 30569, 27870, 29780, 174, 27928, 8, 29238, 19, 30059, 28914, 28902, 74, 28, 28275, 2, 15, 31172, 332, 12, 30644, 4, 912, 29493, 8, 27489, 27880, 30824, 28985, 7, 30311, 29335, 28885, 14107, 1, 30773, 41, 29390, 28462, 30182, 31004, 63, 13286, 2, 30146, 28543, 28194, 28087, 31015, 29550, 29558, 30136, 2563, 29555, 29990, 3, 25, 153, 631, 52, 31220, 57, 29424, 29744, 9, 28914, 31124, 136, 30169, 16, 27341, 29487, 30618, 4014, 27599, 112, 29940, 29008, 27728, 43, 3, 27, 13, 37, 33, 19, 2, 27606, 12, 28272, 80, 55, 29962, 16, 30490, 4, 28580, 31004, 30161, 110, 42, 289, 98, 28947, 15, 16, 30288, 30199, 13, 29140, 50, 29505, 30839, 31234, 3, 29259, 2035, 12, 2, 27763, 31, 29540, 57, 13951, 28821, 7, 51, 28588, 42, 15, 30887, 17, 29603, 29, 14693, 28289, 95, 7, 28375, 5, 8615, 30484, 27270, 99, 1538, 10, 28624, 30370, 408, 107, 610, 28833, 28495, 2174, 30380, 30975, 2656, 29996, 29848, 3, 4, 48, 1343, 261, 257, 3, 29451, 27918, 29260, 29535, 49, 15, 5, 3, 11, 40, 47, 1, 28718, 30767, 26744, 70, 6215, 7, 28566, 76, 28917, 28913, 268, 26954, 4, 218, 5, 3614, 29313, 3, 27152, 52, 52, 29268, 13664, 375, 26552, 153, 28117, 7, 31434, 28095, 4277, 15584, 6, 31048, 2, 29178, 594, 32, 63, 504, 28376, 29009, 113, 230, 28226, 937, 11, 65, 16, 28782, 29988, 31608, 5926, 26977, 40, 16, 504, 30222, 29972, 30023, 12, 25, 26622, 11, 36, 6, 108, 30236, 109, 2, 26491, 4, 5, 26, 30970, 27964, 30334, 30006, 7, 7, 26465, 5, 29269, 188, 57, 315, 29850, 26, 29503, 139, 28053, 7, 10, 23, 29797, 177, 2207, 28948, 30889, 6, 45, 28779, 30741, 12282, 15, 116, 28734], \"xbins\": {\"end\": 32768, \"size\": 3276.8, \"start\": 0}}],                        {\"bargap\": 0.2, \"bargroupgap\": 0.1, \"barmode\": \"overlay\", \"template\": {\"data\": {\"bar\": [{\"error_x\": {\"color\": \"#2a3f5f\"}, \"error_y\": {\"color\": \"#2a3f5f\"}, \"marker\": {\"line\": {\"color\": \"#E5ECF6\", \"width\": 0.5}}, \"type\": \"bar\"}], \"barpolar\": [{\"marker\": {\"line\": {\"color\": \"#E5ECF6\", \"width\": 0.5}}, \"type\": \"barpolar\"}], \"carpet\": [{\"aaxis\": {\"endlinecolor\": \"#2a3f5f\", \"gridcolor\": \"white\", \"linecolor\": \"white\", \"minorgridcolor\": \"white\", \"startlinecolor\": \"#2a3f5f\"}, \"baxis\": {\"endlinecolor\": \"#2a3f5f\", \"gridcolor\": \"white\", \"linecolor\": \"white\", \"minorgridcolor\": \"white\", \"startlinecolor\": \"#2a3f5f\"}, \"type\": \"carpet\"}], \"choropleth\": [{\"colorbar\": {\"outlinewidth\": 0, \"ticks\": \"\"}, \"type\": \"choropleth\"}], \"contour\": [{\"colorbar\": {\"outlinewidth\": 0, \"ticks\": \"\"}, \"colorscale\": [[0.0, \"#0d0887\"], [0.1111111111111111, \"#46039f\"], [0.2222222222222222, \"#7201a8\"], [0.3333333333333333, \"#9c179e\"], [0.4444444444444444, \"#bd3786\"], [0.5555555555555556, \"#d8576b\"], [0.6666666666666666, \"#ed7953\"], [0.7777777777777778, \"#fb9f3a\"], [0.8888888888888888, \"#fdca26\"], [1.0, \"#f0f921\"]], \"type\": \"contour\"}], \"contourcarpet\": [{\"colorbar\": {\"outlinewidth\": 0, \"ticks\": \"\"}, \"type\": \"contourcarpet\"}], \"heatmap\": [{\"colorbar\": {\"outlinewidth\": 0, \"ticks\": \"\"}, \"colorscale\": [[0.0, \"#0d0887\"], [0.1111111111111111, \"#46039f\"], [0.2222222222222222, \"#7201a8\"], [0.3333333333333333, \"#9c179e\"], [0.4444444444444444, \"#bd3786\"], [0.5555555555555556, \"#d8576b\"], [0.6666666666666666, \"#ed7953\"], [0.7777777777777778, \"#fb9f3a\"], [0.8888888888888888, \"#fdca26\"], [1.0, \"#f0f921\"]], \"type\": \"heatmap\"}], \"heatmapgl\": [{\"colorbar\": {\"outlinewidth\": 0, \"ticks\": \"\"}, \"colorscale\": [[0.0, \"#0d0887\"], [0.1111111111111111, \"#46039f\"], [0.2222222222222222, \"#7201a8\"], [0.3333333333333333, \"#9c179e\"], [0.4444444444444444, \"#bd3786\"], [0.5555555555555556, \"#d8576b\"], [0.6666666666666666, \"#ed7953\"], [0.7777777777777778, \"#fb9f3a\"], [0.8888888888888888, \"#fdca26\"], [1.0, \"#f0f921\"]], \"type\": \"heatmapgl\"}], \"histogram\": [{\"marker\": {\"colorbar\": {\"outlinewidth\": 0, \"ticks\": \"\"}}, \"type\": \"histogram\"}], \"histogram2d\": [{\"colorbar\": {\"outlinewidth\": 0, \"ticks\": \"\"}, \"colorscale\": [[0.0, \"#0d0887\"], [0.1111111111111111, \"#46039f\"], [0.2222222222222222, \"#7201a8\"], [0.3333333333333333, \"#9c179e\"], [0.4444444444444444, \"#bd3786\"], [0.5555555555555556, \"#d8576b\"], [0.6666666666666666, \"#ed7953\"], [0.7777777777777778, \"#fb9f3a\"], [0.8888888888888888, \"#fdca26\"], [1.0, \"#f0f921\"]], \"type\": \"histogram2d\"}], \"histogram2dcontour\": [{\"colorbar\": {\"outlinewidth\": 0, \"ticks\": \"\"}, \"colorscale\": [[0.0, \"#0d0887\"], [0.1111111111111111, \"#46039f\"], [0.2222222222222222, \"#7201a8\"], [0.3333333333333333, \"#9c179e\"], [0.4444444444444444, \"#bd3786\"], [0.5555555555555556, \"#d8576b\"], [0.6666666666666666, \"#ed7953\"], [0.7777777777777778, \"#fb9f3a\"], [0.8888888888888888, \"#fdca26\"], [1.0, \"#f0f921\"]], \"type\": \"histogram2dcontour\"}], \"mesh3d\": [{\"colorbar\": {\"outlinewidth\": 0, \"ticks\": \"\"}, \"type\": \"mesh3d\"}], \"parcoords\": [{\"line\": {\"colorbar\": {\"outlinewidth\": 0, \"ticks\": \"\"}}, \"type\": \"parcoords\"}], \"pie\": [{\"automargin\": true, \"type\": \"pie\"}], \"scatter\": [{\"marker\": {\"colorbar\": {\"outlinewidth\": 0, \"ticks\": \"\"}}, \"type\": \"scatter\"}], \"scatter3d\": [{\"line\": {\"colorbar\": {\"outlinewidth\": 0, \"ticks\": \"\"}}, \"marker\": {\"colorbar\": {\"outlinewidth\": 0, \"ticks\": \"\"}}, \"type\": \"scatter3d\"}], \"scattercarpet\": [{\"marker\": {\"colorbar\": {\"outlinewidth\": 0, \"ticks\": \"\"}}, \"type\": \"scattercarpet\"}], \"scattergeo\": [{\"marker\": {\"colorbar\": {\"outlinewidth\": 0, \"ticks\": \"\"}}, \"type\": \"scattergeo\"}], \"scattergl\": [{\"marker\": {\"colorbar\": {\"outlinewidth\": 0, \"ticks\": \"\"}}, \"type\": \"scattergl\"}], \"scattermapbox\": [{\"marker\": {\"colorbar\": {\"outlinewidth\": 0, \"ticks\": \"\"}}, \"type\": \"scattermapbox\"}], \"scatterpolar\": [{\"marker\": {\"colorbar\": {\"outlinewidth\": 0, \"ticks\": \"\"}}, \"type\": \"scatterpolar\"}], \"scatterpolargl\": [{\"marker\": {\"colorbar\": {\"outlinewidth\": 0, \"ticks\": \"\"}}, \"type\": \"scatterpolargl\"}], \"scatterternary\": [{\"marker\": {\"colorbar\": {\"outlinewidth\": 0, \"ticks\": \"\"}}, \"type\": \"scatterternary\"}], \"surface\": [{\"colorbar\": {\"outlinewidth\": 0, \"ticks\": \"\"}, \"colorscale\": [[0.0, \"#0d0887\"], [0.1111111111111111, \"#46039f\"], [0.2222222222222222, \"#7201a8\"], [0.3333333333333333, \"#9c179e\"], [0.4444444444444444, \"#bd3786\"], [0.5555555555555556, \"#d8576b\"], [0.6666666666666666, \"#ed7953\"], [0.7777777777777778, \"#fb9f3a\"], [0.8888888888888888, \"#fdca26\"], [1.0, \"#f0f921\"]], \"type\": \"surface\"}], \"table\": [{\"cells\": {\"fill\": {\"color\": \"#EBF0F8\"}, \"line\": {\"color\": \"white\"}}, \"header\": {\"fill\": {\"color\": \"#C8D4E3\"}, \"line\": {\"color\": \"white\"}}, \"type\": \"table\"}]}, \"layout\": {\"annotationdefaults\": {\"arrowcolor\": \"#2a3f5f\", \"arrowhead\": 0, \"arrowwidth\": 1}, \"coloraxis\": {\"colorbar\": {\"outlinewidth\": 0, \"ticks\": \"\"}}, \"colorscale\": {\"diverging\": [[0, \"#8e0152\"], [0.1, \"#c51b7d\"], [0.2, \"#de77ae\"], [0.3, \"#f1b6da\"], [0.4, \"#fde0ef\"], [0.5, \"#f7f7f7\"], [0.6, \"#e6f5d0\"], [0.7, \"#b8e186\"], [0.8, \"#7fbc41\"], [0.9, \"#4d9221\"], [1, \"#276419\"]], \"sequential\": [[0.0, \"#0d0887\"], [0.1111111111111111, \"#46039f\"], [0.2222222222222222, \"#7201a8\"], [0.3333333333333333, \"#9c179e\"], [0.4444444444444444, \"#bd3786\"], [0.5555555555555556, \"#d8576b\"], [0.6666666666666666, \"#ed7953\"], [0.7777777777777778, \"#fb9f3a\"], [0.8888888888888888, \"#fdca26\"], [1.0, \"#f0f921\"]], \"sequentialminus\": [[0.0, \"#0d0887\"], [0.1111111111111111, \"#46039f\"], [0.2222222222222222, \"#7201a8\"], [0.3333333333333333, \"#9c179e\"], [0.4444444444444444, \"#bd3786\"], [0.5555555555555556, \"#d8576b\"], [0.6666666666666666, \"#ed7953\"], [0.7777777777777778, \"#fb9f3a\"], [0.8888888888888888, \"#fdca26\"], [1.0, \"#f0f921\"]]}, \"colorway\": [\"#636efa\", \"#EF553B\", \"#00cc96\", \"#ab63fa\", \"#FFA15A\", \"#19d3f3\", \"#FF6692\", \"#B6E880\", \"#FF97FF\", \"#FECB52\"], \"font\": {\"color\": \"#2a3f5f\"}, \"geo\": {\"bgcolor\": \"white\", \"lakecolor\": \"white\", \"landcolor\": \"#E5ECF6\", \"showlakes\": true, \"showland\": true, \"subunitcolor\": \"white\"}, \"hoverlabel\": {\"align\": \"left\"}, \"hovermode\": \"closest\", \"mapbox\": {\"style\": \"light\"}, \"paper_bgcolor\": \"white\", \"plot_bgcolor\": \"#E5ECF6\", \"polar\": {\"angularaxis\": {\"gridcolor\": \"white\", \"linecolor\": \"white\", \"ticks\": \"\"}, \"bgcolor\": \"#E5ECF6\", \"radialaxis\": {\"gridcolor\": \"white\", \"linecolor\": \"white\", \"ticks\": \"\"}}, \"scene\": {\"xaxis\": {\"backgroundcolor\": \"#E5ECF6\", \"gridcolor\": \"white\", \"gridwidth\": 2, \"linecolor\": \"white\", \"showbackground\": true, \"ticks\": \"\", \"zerolinecolor\": \"white\"}, \"yaxis\": {\"backgroundcolor\": \"#E5ECF6\", \"gridcolor\": \"white\", \"gridwidth\": 2, \"linecolor\": \"white\", \"showbackground\": true, \"ticks\": \"\", \"zerolinecolor\": \"white\"}, \"zaxis\": {\"backgroundcolor\": \"#E5ECF6\", \"gridcolor\": \"white\", \"gridwidth\": 2, \"linecolor\": \"white\", \"showbackground\": true, \"ticks\": \"\", \"zerolinecolor\": \"white\"}}, \"shapedefaults\": {\"line\": {\"color\": \"#2a3f5f\"}}, \"ternary\": {\"aaxis\": {\"gridcolor\": \"white\", \"linecolor\": \"white\", \"ticks\": \"\"}, \"baxis\": {\"gridcolor\": \"white\", \"linecolor\": \"white\", \"ticks\": \"\"}, \"bgcolor\": \"#E5ECF6\", \"caxis\": {\"gridcolor\": \"white\", \"linecolor\": \"white\", \"ticks\": \"\"}}, \"title\": {\"x\": 0.05}, \"xaxis\": {\"automargin\": true, \"gridcolor\": \"white\", \"linecolor\": \"white\", \"ticks\": \"\", \"title\": {\"standoff\": 15}, \"zerolinecolor\": \"white\", \"zerolinewidth\": 2}, \"yaxis\": {\"automargin\": true, \"gridcolor\": \"white\", \"linecolor\": \"white\", \"ticks\": \"\", \"title\": {\"standoff\": 15}, \"zerolinecolor\": \"white\", \"zerolinewidth\": 2}}}, \"title\": {\"text\": \"Histogram of complexities (set: zr, 27 items)\"}, \"xaxis\": {\"dtick\": 3276.8, \"range\": [0, 32768], \"showgrid\": true, \"tick0\": 0, \"tickmode\": \"linear\"}},                        {\"responsive\": true}                    ).then(function(){\n                            \nvar gd = document.getElementById('2754c825-7d20-496f-b31c-b4e31edc35ff');\nvar x = new MutationObserver(function (mutations, observer) {{\n        var display = window.getComputedStyle(gd).display;\n        if (!display || display === 'none') {{\n            console.log([gd, 'removed!']);\n            Plotly.purge(gd);\n            observer.disconnect();\n        }}\n}});\n\n// Listen for the removal of the full notebook cells\nvar notebookContainer = gd.closest('#notebook-container');\nif (notebookContainer) {{\n    x.observe(notebookContainer, {childList: true});\n}}\n\n// Listen for the clearing of the current output cell\nvar outputEl = gd.closest('.output');\nif (outputEl) {{\n    x.observe(outputEl, {childList: true});\n}}\n\n                        })                };                });            </script>        </div>"
     },
     "metadata": {}
    }
   ],
   "source": [
    "plotHistogram(dfs, \"zr\", 15, \n",
    "    \"Histogram of complexities (set: zr, 27 items)\",\n",
    "    \"Number of evaluated instances\", \"complexity\"\n",
    "    )"
   ]
  },
  {
   "cell_type": "code",
   "execution_count": 25,
   "metadata": {},
   "outputs": [
    {
     "output_type": "display_data",
     "data": {
      "application/vnd.plotly.v1+json": {
       "config": {
        "plotlyServerURL": "https://plot.ly"
       },
       "data": [
        {
         "name": "Brute Force",
         "opacity": 0.75,
         "type": "histogram",
         "x": [
          0.000452963,
          0.000454364,
          0.00046233300000000005,
          0.000426253,
          0.000435183,
          0.000425113,
          0.00047089699999999996,
          0.000436543,
          0.000440371,
          0.000454469,
          0.00043255199999999995,
          0.00045892199999999995,
          0.00043872599999999996,
          0.000444876,
          0.000444929,
          0.00046342800000000005,
          0.000426383,
          0.000453118,
          0.00043770699999999996,
          0.0004574,
          0.000460256,
          0.000453295,
          0.00045568,
          0.000470217,
          0.00047940300000000004,
          0.000431354,
          0.000432905,
          0.000448295,
          0.000441651,
          0.00044249800000000004,
          0.000450418,
          0.000432721,
          0.00044025900000000003,
          0.000441465,
          0.000441881,
          0.00042941699999999997,
          0.00045216699999999996,
          0.000428074,
          0.000443401,
          0.000481993,
          0.000451328,
          0.00044194199999999996,
          0.000435244,
          0.000435186,
          0.00043423400000000003,
          0.000455932,
          0.000434929,
          0.000444346,
          0.000447766,
          0.00045110699999999996,
          0.00045446099999999997,
          0.000468634,
          0.00045040900000000003,
          0.000440101,
          0.000465067,
          0.000442888,
          0.000467256,
          0.00042457,
          0.000427587,
          0.00044293699999999996,
          0.000450986,
          0.00043559800000000004,
          0.000443058,
          0.000485605,
          0.00044521400000000004,
          0.000425916,
          0.000442954,
          0.000478503,
          0.00045076400000000004,
          0.000455815,
          0.000484354,
          0.00048002099999999996,
          0.00046756300000000005,
          0.000437854,
          0.0004274,
          0.000463737,
          0.000433283,
          0.00044125,
          0.00045734300000000003,
          0.00043927,
          0.000443184,
          0.000453349,
          0.00046098300000000004,
          0.000439235,
          0.000428732,
          0.00042843300000000004,
          0.00042988099999999996,
          0.000436266,
          0.000440114,
          0.000432836,
          0.00042573400000000004,
          0.000435766,
          0.00042530800000000006,
          0.00043862,
          0.000463849,
          0.000468261,
          0.000458358,
          0.000441407,
          0.000450106,
          0.000450502,
          0.000462115,
          0.000437914,
          0.000458375,
          0.00044984699999999996,
          0.000444875,
          0.00043045800000000005,
          0.00042395400000000004,
          0.000455276,
          0.000432855,
          0.000449655,
          0.0004414,
          0.000446261,
          0.00044780199999999997,
          0.00047313300000000004,
          0.00043548400000000003,
          0.00045219300000000004,
          0.000445625,
          0.000474285,
          0.00044291599999999996,
          0.000443879,
          0.000452737,
          0.000424495,
          0.000423317,
          0.000447814,
          0.000453071,
          0.000446978,
          0.00043563099999999996,
          0.00044893900000000003,
          0.00044511400000000003,
          0.000453314,
          0.00043052199999999997,
          0.000462461,
          0.00046465,
          0.000424185,
          0.000450814,
          0.000642784,
          0.00045371,
          0.00050738,
          0.00046954099999999997,
          0.00043761300000000005,
          0.000434227,
          0.00045450199999999997,
          0.00043447300000000005,
          0.00044332400000000004,
          0.00045347199999999996,
          0.00048525900000000004,
          0.00047496400000000003,
          0.000445297,
          0.000443068,
          0.00044941699999999997,
          0.000443456,
          0.00044840699999999995,
          0.00045217900000000004,
          0.00046036300000000004,
          0.000448754,
          0.00047379599999999996,
          0.00045273199999999996,
          0.00044656199999999996,
          0.000433715,
          0.00045473800000000005,
          0.00047079099999999997,
          0.00044597,
          0.000439105,
          0.000444422,
          0.00046520199999999995,
          0.00044648699999999997,
          0.000452288,
          0.000440191,
          0.000454525,
          0.000450495,
          0.00042545,
          0.000465213,
          0.00044309,
          0.000488194,
          0.00046704099999999996,
          0.000459382,
          0.00043912,
          0.00045799400000000003,
          0.00042719599999999997,
          0.000462781,
          0.000446034,
          0.000464085,
          0.000429377,
          0.00046704699999999995,
          0.000457447,
          0.00046366800000000003,
          0.000440866,
          0.00044505699999999995,
          0.000468755,
          0.00044032699999999996,
          0.000469876,
          0.00046009400000000003,
          0.00046175199999999995,
          0.00045378199999999996,
          0.00044413,
          0.000476664,
          0.00042633300000000004,
          0.00044324699999999997,
          0.00047630199999999995,
          0.000459084,
          0.00044061800000000004,
          0.000448793,
          0.000449035,
          0.000455757,
          0.00048342800000000005,
          0.000492195,
          0.000444259,
          0.00046043900000000004,
          0.00043194699999999996,
          0.000461996,
          0.00044233300000000005,
          0.000459936,
          0.000447397,
          0.000480694,
          0.000447623,
          0.00046037,
          0.00043592800000000003,
          0.00045279,
          0.000452965,
          0.00046031,
          0.000435136,
          0.000482551,
          0.000433864,
          0.000434415,
          0.000449266,
          0.00044666199999999996,
          0.00044475,
          0.00045804099999999996,
          0.000455324,
          0.00044470699999999997,
          0.00045863800000000004,
          0.00047512,
          0.000446144,
          0.000483009,
          0.00044773,
          0.00045852,
          0.000426915,
          0.000468848,
          0.00042474099999999996,
          0.000459782,
          0.000424359,
          0.000449595,
          0.000459924,
          0.000448492,
          0.00044708,
          0.00046130300000000004,
          0.000435754,
          0.000458536,
          0.00046040800000000004,
          0.000457561,
          0.000437399,
          0.00048029800000000004,
          0.000580507,
          0.000430544,
          0.00048004300000000004,
          0.00044413,
          0.00046472699999999996,
          0.000452285,
          0.00043213699999999997,
          0.00043695800000000004,
          0.000437602,
          0.00042469,
          0.00044964699999999996,
          0.00042831699999999994,
          0.00044210800000000003,
          0.00043578800000000005,
          0.00042919800000000005,
          0.00043195,
          0.000456582,
          0.00043871599999999996,
          0.000441174,
          0.000449164,
          0.000442787,
          0.000425351,
          0.000463095,
          0.00043655800000000003,
          0.00044213699999999994,
          0.000447695,
          0.00043263800000000005,
          0.00045086800000000005,
          0.00043604699999999995,
          0.000447743,
          0.00047242,
          0.00044795,
          0.00042725300000000005,
          0.00043783300000000005,
          0.00045059900000000004,
          0.000437816,
          0.00044584599999999996,
          0.000440734,
          0.000424381,
          0.000443219,
          0.00046959599999999997,
          0.000445252,
          0.000459932,
          0.000435304,
          0.000452046,
          0.000445275,
          0.00045907699999999996,
          0.000446117,
          0.000442428,
          0.00045954199999999996,
          0.00042412300000000005,
          0.000477202,
          0.00044417199999999995,
          0.000495231,
          0.00045232199999999996,
          0.000435715,
          0.00045404,
          0.000430809,
          0.000469507,
          0.00044120199999999997,
          0.000434802,
          0.000441019,
          0.000454921,
          0.00042476199999999997,
          0.00045521699999999995,
          0.00046279800000000005,
          0.000426968,
          0.00043559699999999997,
          0.000464916,
          0.000440545,
          0.00043620199999999995,
          0.00047533199999999997,
          0.000440258,
          0.000466006,
          0.00044620699999999995,
          0.00043584,
          0.000440411,
          0.000424644,
          0.000454031,
          0.00044432699999999995,
          0.000439685,
          0.000439702,
          0.000436815,
          0.000448663,
          0.000446426,
          0.00045124300000000004,
          0.00045814699999999995,
          0.000436455,
          0.00042553400000000004,
          0.000449312,
          0.000435218,
          0.000453736,
          0.000434366,
          0.00043977800000000004,
          0.000460522,
          0.000449199,
          0.000484884,
          0.000438268,
          0.00044632300000000004,
          0.00045155,
          0.000458849,
          0.000450845,
          0.00045476800000000003,
          0.00043754300000000004,
          0.0004243,
          0.000431164,
          0.00044569,
          0.000436219,
          0.000441097,
          0.00044311400000000004,
          0.00044030699999999997,
          0.000424765,
          0.00043736,
          0.000432565,
          0.000431675,
          0.00045333900000000003,
          0.00044395,
          0.000432594,
          0.000424603,
          0.000447513,
          0.000479786,
          0.0005456640000000001,
          0.00047989,
          0.000461947,
          0.000424897,
          0.00046739800000000005,
          0.00046054300000000005,
          0.00045786800000000006,
          0.000455628,
          0.000445955,
          0.00043740300000000005,
          0.000439245,
          0.00042721800000000004,
          0.00044299300000000003,
          0.00045407300000000004,
          0.00042489800000000005,
          0.00043748800000000004,
          0.00045210199999999996,
          0.000432265,
          0.000445231,
          0.00044386800000000004,
          0.00044141300000000004,
          0.000442067,
          0.000437955,
          0.000426253,
          0.00042810099999999996,
          0.000444535,
          0.000444838,
          0.00045001800000000005,
          0.000438668,
          0.00042397699999999997,
          0.000424903,
          0.000442667,
          0.00044126699999999996,
          0.000460351,
          0.00044221699999999996,
          0.000429005,
          0.00043611199999999995,
          0.000435202,
          0.00044146,
          0.000439995,
          0.00043944,
          0.000450172,
          0.000455212,
          0.00044621300000000005,
          0.000446504,
          0.00043360400000000003,
          0.000452424,
          0.000444255,
          0.00044157699999999996,
          0.000428034,
          0.000437799,
          0.00042953,
          0.00043361699999999997,
          0.000452462,
          0.00043224800000000004,
          0.000443853,
          0.00045666099999999997,
          0.00045430199999999996,
          0.00047521,
          0.000425366,
          0.00044355699999999997,
          0.000435044,
          0.000463751,
          0.000453829,
          0.000439551,
          0.00046685,
          0.000481354,
          0.00044274099999999997,
          0.000455485,
          0.000436062,
          0.00042837,
          0.000438715,
          0.000428616,
          0.000428006,
          0.000461084,
          0.000424403,
          0.00045670300000000004,
          0.00045581,
          0.00043174800000000003,
          0.00044882699999999995,
          0.000481592,
          0.000438656,
          0.00045592,
          0.000439214,
          0.00043604699999999995,
          0.00044789300000000004,
          0.00047081900000000003,
          0.000426835,
          0.00045838300000000003,
          0.000424255,
          0.000437787,
          0.000447105,
          0.00043776300000000003,
          0.00042396400000000004,
          0.00042460199999999994,
          0.000431615,
          0.000451684,
          0.00044076900000000003,
          0.000455092,
          0.000441505,
          0.000435503,
          0.000451875,
          0.00044771599999999997,
          0.00043699300000000005,
          0.00043301300000000005,
          0.00045602699999999996,
          0.000446835,
          0.000424901,
          0.00044640699999999996,
          0.000439155,
          0.00044861900000000004,
          0.000445155,
          0.00042389699999999996,
          0.000462997,
          0.00043948699999999996,
          0.000425185,
          0.00047044599999999996,
          0.00045080900000000004,
          0.0005606,
          0.000514115,
          0.000439534,
          0.00043523199999999997,
          0.00045122099999999997,
          0.00043715199999999995,
          0.000431744,
          0.00043598800000000005,
          0.000442077
         ],
         "xbins": {
          "end": 0.0008951769999999999,
          "size": 0.0000895177,
          "start": 0
         }
        },
        {
         "name": "Branch and Bound",
         "opacity": 0.75,
         "type": "histogram",
         "x": [
          0.0000028269999999999998,
          0.0000018869999999999999,
          0.000001923,
          0.000004168999999999999,
          0.000679048,
          0.000001775,
          0.000693988,
          0.000687385,
          0.0000018719999999999998,
          0.000001857,
          0.000001764,
          0.0000021559999999999998,
          0.0006806280000000001,
          0.000001837,
          0.000002595,
          0.000001895,
          0.000001829,
          0.000482138,
          0.000696045,
          0.000004361,
          0.000001975,
          0.00018029599999999998,
          0.00044024900000000003,
          0.0004968819999999999,
          0.000414323,
          0.000183523,
          0.000001925,
          0.000001913,
          0.000001826,
          0.000682887,
          0.0006880969999999999,
          0.000043198,
          0.0000018230000000000002,
          0.000059561,
          0.000370476,
          0.000001864,
          0.000041526,
          0.000011150999999999999,
          0.0000018809999999999999,
          0.000007806,
          0.000689037,
          0.0000018069999999999998,
          0.000683778,
          0.00015460799999999998,
          0.00016847700000000002,
          0.000001903,
          0.000685335,
          0.000001821,
          0.000599091,
          0.000550252,
          0.000685473,
          0.0000022619999999999997,
          0.000001844,
          0.000001853,
          0.000655487,
          0.000435354,
          0.000002125,
          0.000003862,
          0.000002673,
          0.000007412999999999999,
          0.0000018430000000000002,
          0.000834059,
          0.000068647,
          0.000568009,
          0.000448369,
          0.000003054,
          0.000312444,
          0.000003359,
          0.000213831,
          0.0007971260000000001,
          0.000002002,
          0.000001974,
          0.000002758,
          0.00004959399999999999,
          0.00003044,
          0.0000019930000000000002,
          0.000006453,
          0.000869266,
          0.0000042680000000000005,
          0.000002312,
          0.0008951769999999999,
          0.0000021230000000000003,
          0.0000019880000000000003,
          0.0007250819999999999,
          0.000013222,
          0.000006935,
          0.000108865,
          0.000734214,
          0.0007792960000000001,
          0.00000271,
          0.000029375,
          0.000853059,
          0.000018401,
          0.00034864300000000004,
          0.000002161,
          0.000002055,
          0.000052464,
          0.000022031,
          0.000698808,
          0.000001935,
          0.000001839,
          0.0000017890000000000002,
          0.0000018680000000000002,
          0.000641594,
          0.0005403680000000001,
          0.000069348,
          0.000003812,
          0.000001982,
          0.000001844,
          0.0005889059999999999,
          0.000095562,
          0.0006846739999999999,
          0.000654005,
          0.0000021630000000000003,
          0.0007025839999999999,
          0.0005140990000000001,
          0.00045307400000000003,
          0.000002114,
          0.000038845,
          0.00061309,
          0.000002187,
          0.0000017909999999999999,
          0.0000043410000000000005,
          0.000003099,
          0.0000018630000000000002,
          0.000422114,
          0.000855947,
          0.000756609,
          0.00004928,
          0.000636656,
          0.000025104000000000002,
          0.00027707700000000003,
          0.000002105,
          0.000002194,
          0.000614657,
          0.000002095,
          0.000005797999999999999,
          0.0000020330000000000003,
          0.000001906,
          0.0000065070000000000005,
          0.000001871,
          0.000001961,
          0.000001965,
          0.00007164899999999999,
          0.00047432400000000003,
          0.000001994,
          0.000647771,
          0.0007025610000000001,
          0.000149596,
          0.000001894,
          0.000002606,
          0.00017188299999999998,
          0.00000181,
          0.000002049,
          0.0000066410000000000005,
          0.000002018,
          0.0007008989999999999,
          0.000002109,
          0.000001841,
          0.000693464,
          0.000002102,
          0.00000181,
          0.000034538,
          0.00010578,
          0.00000181,
          0.00012988,
          0.0007103089999999999,
          0.00000431,
          0.000010312,
          0.000234477,
          0.000015216,
          0.0006957939999999999,
          0.000673074,
          0.00000195,
          0.000001846,
          0.0006710310000000001,
          0.000029585999999999998,
          0.00069062,
          0.000041522,
          0.000604115,
          0.000001874,
          0.000461894,
          0.000002311,
          0.0006217680000000001,
          0.00001141,
          0.000001877,
          0.00010329700000000001,
          0.000698048,
          0.0000018219999999999999,
          0.00070887,
          0.00056361,
          0.00009166899999999999,
          0.000001919,
          0.000706645,
          0.000642529,
          0.000040834,
          0.000030117,
          0.000001829,
          0.000001916,
          0.0000019480000000000002,
          0.0000018140000000000001,
          0.00008355899999999999,
          0.000001846,
          0.000688677,
          0.0000018590000000000001,
          0.000005665,
          0.00024938,
          0.000462109,
          0.000093704,
          0.000005557999999999999,
          0.000001826,
          0.000001731,
          0.000003607,
          0.00000181,
          0.00039061099999999996,
          0.000675562,
          0.000100925,
          0.000043421,
          0.000627897,
          0.000010051,
          0.0007156689999999999,
          0.000002364,
          0.000163852,
          0.000002067,
          0.0007059589999999999,
          0.000682287,
          0.0007013239999999999,
          0.000001833,
          0.000001998,
          0.000002713,
          0.000002159,
          0.000001905,
          0.0007169069999999999,
          0.000014569,
          0.0000019880000000000003,
          0.0006900910000000001,
          0.000002086,
          0.000002214,
          0.0000026980000000000003,
          0.0000017709999999999999,
          0.000005014,
          0.000002566,
          0.00039772099999999997,
          0.000134621,
          0.0000018990000000000002,
          0.000646808,
          0.00024859599999999996,
          0.000694225,
          0.0000032889999999999998,
          0.0000018140000000000001,
          0.00069145,
          0.0000019519999999999997,
          0.0007172089999999999,
          0.000063999,
          0.0005244119999999999,
          0.00064465,
          0.000001866,
          0.000001927,
          0.000002011,
          0.000023234,
          0.000716325,
          0.0000030789999999999997,
          0.000491193,
          0.000048256999999999996,
          0.000366075,
          0.000713234,
          0.000053665,
          0.0000020319999999999998,
          0.000622795,
          0.000717415,
          0.000002273,
          0.000001989,
          0.000002072,
          0.000002488,
          0.000001894,
          0.000695749,
          0.000001908,
          0.000651205,
          0.000074823,
          0.000001839,
          0.0007014539999999999,
          0.0005155240000000001,
          0.000002008,
          0.0006373630000000001,
          0.000003112,
          0.000713275,
          0.000530001,
          0.000688145,
          0.000002455,
          0.0007024310000000001,
          0.000002267,
          0.0007056219999999999,
          0.000636685,
          0.000697325,
          0.0000020259999999999997,
          0.000002498,
          0.000001958,
          0.0000018559999999999999,
          0.000001909,
          0.000004737,
          0.000001824,
          0.0000023419999999999998,
          0.000001809,
          0.000001926,
          0.000702618,
          0.000001986,
          0.0000020330000000000003,
          0.00070545,
          0.00000193,
          0.00008824399999999999,
          0.0000018669999999999999,
          0.00036983400000000004,
          0.000047266000000000005,
          0.000704643,
          0.000001946,
          0.0000020280000000000003,
          0.0000026480000000000003,
          0.000001939,
          0.000046838,
          0.0000018069999999999998,
          0.000001937,
          0.000699897,
          0.000171473,
          0.000001989,
          0.000291662,
          0.000003353,
          0.0006590589999999999,
          0.000694107,
          0.00030241,
          0.000007242,
          0.000579076,
          0.0000031139999999999997,
          0.00000186,
          0.0000030569999999999997,
          0.0006918889999999999,
          0.000001891,
          0.0006556,
          0.000001905,
          0.00000192,
          0.00006936899999999999,
          0.0000018269999999999998,
          0.000006592000000000001,
          0.000705496,
          0.00000185,
          0.0000018140000000000001,
          0.000692991,
          0.000001965,
          0.00065338,
          0.000001925,
          0.000002001,
          0.000682447,
          0.0000019519999999999997,
          0.000005451,
          0.000590399,
          0.00000188,
          0.000002558,
          0.00000264,
          0.000020898000000000002,
          0.00000187,
          0.000002266,
          0.000001826,
          0.000632935,
          0.0006822410000000001,
          0.000002185,
          0.000002705,
          0.000006881,
          0.00001347,
          0.000435454,
          0.000001953,
          0.000095017,
          0.00001311,
          0.0000028769999999999997,
          0.000005874,
          0.000221214,
          0.0000025760000000000004,
          0.000001841,
          0.000002027,
          0.000002004,
          0.000001926,
          0.000008344,
          0.000001865,
          0.0006845180000000001,
          0.00070851,
          0.000705094,
          0.000032666,
          0.000027995999999999998,
          0.000001919,
          0.000002362,
          0.00000179,
          0.000001931,
          0.0000019140000000000002,
          0.00000191,
          0.000001886,
          0.000263282,
          0.00040445199999999997,
          0.00021444299999999998,
          0.0000019480000000000002,
          0.000014133,
          0.00000204,
          0.000526184,
          0.0000020440000000000003,
          0.000697893,
          0.000002938,
          0.000002668,
          0.00043505599999999996,
          0.000001912,
          0.000001871,
          0.000002013,
          0.000011037000000000001,
          0.000672159,
          0.000004109,
          0.000705888,
          0.0000018590000000000001,
          0.000002412,
          0.000488841,
          0.000001995,
          0.000001865,
          0.000367186,
          0.000025448,
          0.00057884,
          0.000002104,
          0.000236254,
          0.000043182,
          0.000001951,
          0.000023924,
          0.0000018359999999999999,
          0.0006425690000000001,
          0.0000018230000000000002,
          0.000230595,
          0.0000018809999999999999,
          0.000001953,
          0.000001857,
          0.000002126,
          0.0006885169999999999,
          0.000160647,
          0.000001996,
          0.0000019,
          0.000705247,
          0.000004004,
          0.000001996,
          0.000001889,
          0.000002526,
          0.000686215,
          0.000042068000000000004,
          0.0006884160000000001,
          0.000003959,
          0.000013780999999999999,
          0.0000018719999999999998,
          0.0000018219999999999999,
          0.000001916,
          0.000621575,
          0.000143673,
          0.0005320969999999999,
          0.000002216,
          0.000001912,
          0.00047527400000000003,
          0.000001883,
          0.000001767,
          0.000001869,
          0.0000018919999999999998,
          0.000040463,
          0.000001994,
          0.00000298,
          0.000702745,
          0.000001817,
          0.00000226,
          0.000002017,
          0.000003535,
          0.000087689,
          0.0005041080000000001,
          0.00065908,
          0.000002009,
          0.0000018069999999999998,
          0.000698618,
          0.000002548,
          0.0006753060000000001,
          0.000004313,
          0.000002553,
          0.000001923,
          0.000567224,
          0.0000023030000000000002,
          0.000296393,
          0.0000049000000000000005,
          0.000497184,
          0.000001857,
          0.0000019,
          0.000001944,
          0.00033531699999999996,
          0.000002003,
          0.000001945,
          0.000590375,
          0.000025095999999999998,
          0.000001869,
          0.000002358,
          0.0006939180000000001,
          0.000500168,
          0.0000020890000000000002,
          0.000001903,
          0.000001862,
          0.0007032789999999999
         ],
         "xbins": {
          "end": 0.0008951769999999999,
          "size": 0.0000895177,
          "start": 0
         }
        }
       ],
       "layout": {
        "bargap": 0.2,
        "bargroupgap": 0.1,
        "barmode": "overlay",
        "template": {
         "data": {
          "bar": [
           {
            "error_x": {
             "color": "#2a3f5f"
            },
            "error_y": {
             "color": "#2a3f5f"
            },
            "marker": {
             "line": {
              "color": "#E5ECF6",
              "width": 0.5
             }
            },
            "type": "bar"
           }
          ],
          "barpolar": [
           {
            "marker": {
             "line": {
              "color": "#E5ECF6",
              "width": 0.5
             }
            },
            "type": "barpolar"
           }
          ],
          "carpet": [
           {
            "aaxis": {
             "endlinecolor": "#2a3f5f",
             "gridcolor": "white",
             "linecolor": "white",
             "minorgridcolor": "white",
             "startlinecolor": "#2a3f5f"
            },
            "baxis": {
             "endlinecolor": "#2a3f5f",
             "gridcolor": "white",
             "linecolor": "white",
             "minorgridcolor": "white",
             "startlinecolor": "#2a3f5f"
            },
            "type": "carpet"
           }
          ],
          "choropleth": [
           {
            "colorbar": {
             "outlinewidth": 0,
             "ticks": ""
            },
            "type": "choropleth"
           }
          ],
          "contour": [
           {
            "colorbar": {
             "outlinewidth": 0,
             "ticks": ""
            },
            "colorscale": [
             [
              0,
              "#0d0887"
             ],
             [
              0.1111111111111111,
              "#46039f"
             ],
             [
              0.2222222222222222,
              "#7201a8"
             ],
             [
              0.3333333333333333,
              "#9c179e"
             ],
             [
              0.4444444444444444,
              "#bd3786"
             ],
             [
              0.5555555555555556,
              "#d8576b"
             ],
             [
              0.6666666666666666,
              "#ed7953"
             ],
             [
              0.7777777777777778,
              "#fb9f3a"
             ],
             [
              0.8888888888888888,
              "#fdca26"
             ],
             [
              1,
              "#f0f921"
             ]
            ],
            "type": "contour"
           }
          ],
          "contourcarpet": [
           {
            "colorbar": {
             "outlinewidth": 0,
             "ticks": ""
            },
            "type": "contourcarpet"
           }
          ],
          "heatmap": [
           {
            "colorbar": {
             "outlinewidth": 0,
             "ticks": ""
            },
            "colorscale": [
             [
              0,
              "#0d0887"
             ],
             [
              0.1111111111111111,
              "#46039f"
             ],
             [
              0.2222222222222222,
              "#7201a8"
             ],
             [
              0.3333333333333333,
              "#9c179e"
             ],
             [
              0.4444444444444444,
              "#bd3786"
             ],
             [
              0.5555555555555556,
              "#d8576b"
             ],
             [
              0.6666666666666666,
              "#ed7953"
             ],
             [
              0.7777777777777778,
              "#fb9f3a"
             ],
             [
              0.8888888888888888,
              "#fdca26"
             ],
             [
              1,
              "#f0f921"
             ]
            ],
            "type": "heatmap"
           }
          ],
          "heatmapgl": [
           {
            "colorbar": {
             "outlinewidth": 0,
             "ticks": ""
            },
            "colorscale": [
             [
              0,
              "#0d0887"
             ],
             [
              0.1111111111111111,
              "#46039f"
             ],
             [
              0.2222222222222222,
              "#7201a8"
             ],
             [
              0.3333333333333333,
              "#9c179e"
             ],
             [
              0.4444444444444444,
              "#bd3786"
             ],
             [
              0.5555555555555556,
              "#d8576b"
             ],
             [
              0.6666666666666666,
              "#ed7953"
             ],
             [
              0.7777777777777778,
              "#fb9f3a"
             ],
             [
              0.8888888888888888,
              "#fdca26"
             ],
             [
              1,
              "#f0f921"
             ]
            ],
            "type": "heatmapgl"
           }
          ],
          "histogram": [
           {
            "marker": {
             "colorbar": {
              "outlinewidth": 0,
              "ticks": ""
             }
            },
            "type": "histogram"
           }
          ],
          "histogram2d": [
           {
            "colorbar": {
             "outlinewidth": 0,
             "ticks": ""
            },
            "colorscale": [
             [
              0,
              "#0d0887"
             ],
             [
              0.1111111111111111,
              "#46039f"
             ],
             [
              0.2222222222222222,
              "#7201a8"
             ],
             [
              0.3333333333333333,
              "#9c179e"
             ],
             [
              0.4444444444444444,
              "#bd3786"
             ],
             [
              0.5555555555555556,
              "#d8576b"
             ],
             [
              0.6666666666666666,
              "#ed7953"
             ],
             [
              0.7777777777777778,
              "#fb9f3a"
             ],
             [
              0.8888888888888888,
              "#fdca26"
             ],
             [
              1,
              "#f0f921"
             ]
            ],
            "type": "histogram2d"
           }
          ],
          "histogram2dcontour": [
           {
            "colorbar": {
             "outlinewidth": 0,
             "ticks": ""
            },
            "colorscale": [
             [
              0,
              "#0d0887"
             ],
             [
              0.1111111111111111,
              "#46039f"
             ],
             [
              0.2222222222222222,
              "#7201a8"
             ],
             [
              0.3333333333333333,
              "#9c179e"
             ],
             [
              0.4444444444444444,
              "#bd3786"
             ],
             [
              0.5555555555555556,
              "#d8576b"
             ],
             [
              0.6666666666666666,
              "#ed7953"
             ],
             [
              0.7777777777777778,
              "#fb9f3a"
             ],
             [
              0.8888888888888888,
              "#fdca26"
             ],
             [
              1,
              "#f0f921"
             ]
            ],
            "type": "histogram2dcontour"
           }
          ],
          "mesh3d": [
           {
            "colorbar": {
             "outlinewidth": 0,
             "ticks": ""
            },
            "type": "mesh3d"
           }
          ],
          "parcoords": [
           {
            "line": {
             "colorbar": {
              "outlinewidth": 0,
              "ticks": ""
             }
            },
            "type": "parcoords"
           }
          ],
          "pie": [
           {
            "automargin": true,
            "type": "pie"
           }
          ],
          "scatter": [
           {
            "marker": {
             "colorbar": {
              "outlinewidth": 0,
              "ticks": ""
             }
            },
            "type": "scatter"
           }
          ],
          "scatter3d": [
           {
            "line": {
             "colorbar": {
              "outlinewidth": 0,
              "ticks": ""
             }
            },
            "marker": {
             "colorbar": {
              "outlinewidth": 0,
              "ticks": ""
             }
            },
            "type": "scatter3d"
           }
          ],
          "scattercarpet": [
           {
            "marker": {
             "colorbar": {
              "outlinewidth": 0,
              "ticks": ""
             }
            },
            "type": "scattercarpet"
           }
          ],
          "scattergeo": [
           {
            "marker": {
             "colorbar": {
              "outlinewidth": 0,
              "ticks": ""
             }
            },
            "type": "scattergeo"
           }
          ],
          "scattergl": [
           {
            "marker": {
             "colorbar": {
              "outlinewidth": 0,
              "ticks": ""
             }
            },
            "type": "scattergl"
           }
          ],
          "scattermapbox": [
           {
            "marker": {
             "colorbar": {
              "outlinewidth": 0,
              "ticks": ""
             }
            },
            "type": "scattermapbox"
           }
          ],
          "scatterpolar": [
           {
            "marker": {
             "colorbar": {
              "outlinewidth": 0,
              "ticks": ""
             }
            },
            "type": "scatterpolar"
           }
          ],
          "scatterpolargl": [
           {
            "marker": {
             "colorbar": {
              "outlinewidth": 0,
              "ticks": ""
             }
            },
            "type": "scatterpolargl"
           }
          ],
          "scatterternary": [
           {
            "marker": {
             "colorbar": {
              "outlinewidth": 0,
              "ticks": ""
             }
            },
            "type": "scatterternary"
           }
          ],
          "surface": [
           {
            "colorbar": {
             "outlinewidth": 0,
             "ticks": ""
            },
            "colorscale": [
             [
              0,
              "#0d0887"
             ],
             [
              0.1111111111111111,
              "#46039f"
             ],
             [
              0.2222222222222222,
              "#7201a8"
             ],
             [
              0.3333333333333333,
              "#9c179e"
             ],
             [
              0.4444444444444444,
              "#bd3786"
             ],
             [
              0.5555555555555556,
              "#d8576b"
             ],
             [
              0.6666666666666666,
              "#ed7953"
             ],
             [
              0.7777777777777778,
              "#fb9f3a"
             ],
             [
              0.8888888888888888,
              "#fdca26"
             ],
             [
              1,
              "#f0f921"
             ]
            ],
            "type": "surface"
           }
          ],
          "table": [
           {
            "cells": {
             "fill": {
              "color": "#EBF0F8"
             },
             "line": {
              "color": "white"
             }
            },
            "header": {
             "fill": {
              "color": "#C8D4E3"
             },
             "line": {
              "color": "white"
             }
            },
            "type": "table"
           }
          ]
         },
         "layout": {
          "annotationdefaults": {
           "arrowcolor": "#2a3f5f",
           "arrowhead": 0,
           "arrowwidth": 1
          },
          "coloraxis": {
           "colorbar": {
            "outlinewidth": 0,
            "ticks": ""
           }
          },
          "colorscale": {
           "diverging": [
            [
             0,
             "#8e0152"
            ],
            [
             0.1,
             "#c51b7d"
            ],
            [
             0.2,
             "#de77ae"
            ],
            [
             0.3,
             "#f1b6da"
            ],
            [
             0.4,
             "#fde0ef"
            ],
            [
             0.5,
             "#f7f7f7"
            ],
            [
             0.6,
             "#e6f5d0"
            ],
            [
             0.7,
             "#b8e186"
            ],
            [
             0.8,
             "#7fbc41"
            ],
            [
             0.9,
             "#4d9221"
            ],
            [
             1,
             "#276419"
            ]
           ],
           "sequential": [
            [
             0,
             "#0d0887"
            ],
            [
             0.1111111111111111,
             "#46039f"
            ],
            [
             0.2222222222222222,
             "#7201a8"
            ],
            [
             0.3333333333333333,
             "#9c179e"
            ],
            [
             0.4444444444444444,
             "#bd3786"
            ],
            [
             0.5555555555555556,
             "#d8576b"
            ],
            [
             0.6666666666666666,
             "#ed7953"
            ],
            [
             0.7777777777777778,
             "#fb9f3a"
            ],
            [
             0.8888888888888888,
             "#fdca26"
            ],
            [
             1,
             "#f0f921"
            ]
           ],
           "sequentialminus": [
            [
             0,
             "#0d0887"
            ],
            [
             0.1111111111111111,
             "#46039f"
            ],
            [
             0.2222222222222222,
             "#7201a8"
            ],
            [
             0.3333333333333333,
             "#9c179e"
            ],
            [
             0.4444444444444444,
             "#bd3786"
            ],
            [
             0.5555555555555556,
             "#d8576b"
            ],
            [
             0.6666666666666666,
             "#ed7953"
            ],
            [
             0.7777777777777778,
             "#fb9f3a"
            ],
            [
             0.8888888888888888,
             "#fdca26"
            ],
            [
             1,
             "#f0f921"
            ]
           ]
          },
          "colorway": [
           "#636efa",
           "#EF553B",
           "#00cc96",
           "#ab63fa",
           "#FFA15A",
           "#19d3f3",
           "#FF6692",
           "#B6E880",
           "#FF97FF",
           "#FECB52"
          ],
          "font": {
           "color": "#2a3f5f"
          },
          "geo": {
           "bgcolor": "white",
           "lakecolor": "white",
           "landcolor": "#E5ECF6",
           "showlakes": true,
           "showland": true,
           "subunitcolor": "white"
          },
          "hoverlabel": {
           "align": "left"
          },
          "hovermode": "closest",
          "mapbox": {
           "style": "light"
          },
          "paper_bgcolor": "white",
          "plot_bgcolor": "#E5ECF6",
          "polar": {
           "angularaxis": {
            "gridcolor": "white",
            "linecolor": "white",
            "ticks": ""
           },
           "bgcolor": "#E5ECF6",
           "radialaxis": {
            "gridcolor": "white",
            "linecolor": "white",
            "ticks": ""
           }
          },
          "scene": {
           "xaxis": {
            "backgroundcolor": "#E5ECF6",
            "gridcolor": "white",
            "gridwidth": 2,
            "linecolor": "white",
            "showbackground": true,
            "ticks": "",
            "zerolinecolor": "white"
           },
           "yaxis": {
            "backgroundcolor": "#E5ECF6",
            "gridcolor": "white",
            "gridwidth": 2,
            "linecolor": "white",
            "showbackground": true,
            "ticks": "",
            "zerolinecolor": "white"
           },
           "zaxis": {
            "backgroundcolor": "#E5ECF6",
            "gridcolor": "white",
            "gridwidth": 2,
            "linecolor": "white",
            "showbackground": true,
            "ticks": "",
            "zerolinecolor": "white"
           }
          },
          "shapedefaults": {
           "line": {
            "color": "#2a3f5f"
           }
          },
          "ternary": {
           "aaxis": {
            "gridcolor": "white",
            "linecolor": "white",
            "ticks": ""
           },
           "baxis": {
            "gridcolor": "white",
            "linecolor": "white",
            "ticks": ""
           },
           "bgcolor": "#E5ECF6",
           "caxis": {
            "gridcolor": "white",
            "linecolor": "white",
            "ticks": ""
           }
          },
          "title": {
           "x": 0.05
          },
          "xaxis": {
           "automargin": true,
           "gridcolor": "white",
           "linecolor": "white",
           "ticks": "",
           "title": {
            "standoff": 15
           },
           "zerolinecolor": "white",
           "zerolinewidth": 2
          },
          "yaxis": {
           "automargin": true,
           "gridcolor": "white",
           "linecolor": "white",
           "ticks": "",
           "title": {
            "standoff": 15
           },
           "zerolinecolor": "white",
           "zerolinewidth": 2
          }
         }
        },
        "title": {
         "text": "Histogram of time complexities (set: nr, 27 items)"
        },
        "xaxis": {
         "dtick": 0.0000895177,
         "range": [
          0,
          0.0008951769999999999
         ],
         "showgrid": true,
         "tick0": 0,
         "tickmode": "linear"
        }
       }
      },
      "text/html": "<div>                            <div id=\"360d02fb-d10e-4df9-adbe-1ce6c8be06e1\" class=\"plotly-graph-div\" style=\"height:525px; width:100%;\"></div>            <script type=\"text/javascript\">                require([\"plotly\"], function(Plotly) {                    window.PLOTLYENV=window.PLOTLYENV || {};                                    if (document.getElementById(\"360d02fb-d10e-4df9-adbe-1ce6c8be06e1\")) {                    Plotly.newPlot(                        \"360d02fb-d10e-4df9-adbe-1ce6c8be06e1\",                        [{\"name\": \"Brute Force\", \"opacity\": 0.75, \"type\": \"histogram\", \"x\": [0.000452963, 0.000454364, 0.00046233300000000005, 0.000426253, 0.000435183, 0.000425113, 0.00047089699999999996, 0.000436543, 0.000440371, 0.000454469, 0.00043255199999999995, 0.00045892199999999995, 0.00043872599999999996, 0.000444876, 0.000444929, 0.00046342800000000005, 0.000426383, 0.000453118, 0.00043770699999999996, 0.0004574, 0.000460256, 0.000453295, 0.00045568, 0.000470217, 0.00047940300000000004, 0.000431354, 0.000432905, 0.000448295, 0.000441651, 0.00044249800000000004, 0.000450418, 0.000432721, 0.00044025900000000003, 0.000441465, 0.000441881, 0.00042941699999999997, 0.00045216699999999996, 0.000428074, 0.000443401, 0.000481993, 0.000451328, 0.00044194199999999996, 0.000435244, 0.000435186, 0.00043423400000000003, 0.000455932, 0.000434929, 0.000444346, 0.000447766, 0.00045110699999999996, 0.00045446099999999997, 0.000468634, 0.00045040900000000003, 0.000440101, 0.000465067, 0.000442888, 0.000467256, 0.00042457, 0.000427587, 0.00044293699999999996, 0.000450986, 0.00043559800000000004, 0.000443058, 0.000485605, 0.00044521400000000004, 0.000425916, 0.000442954, 0.000478503, 0.00045076400000000004, 0.000455815, 0.000484354, 0.00048002099999999996, 0.00046756300000000005, 0.000437854, 0.0004274, 0.000463737, 0.000433283, 0.00044125, 0.00045734300000000003, 0.00043927, 0.000443184, 0.000453349, 0.00046098300000000004, 0.000439235, 0.000428732, 0.00042843300000000004, 0.00042988099999999996, 0.000436266, 0.000440114, 0.000432836, 0.00042573400000000004, 0.000435766, 0.00042530800000000006, 0.00043862, 0.000463849, 0.000468261, 0.000458358, 0.000441407, 0.000450106, 0.000450502, 0.000462115, 0.000437914, 0.000458375, 0.00044984699999999996, 0.000444875, 0.00043045800000000005, 0.00042395400000000004, 0.000455276, 0.000432855, 0.000449655, 0.0004414, 0.000446261, 0.00044780199999999997, 0.00047313300000000004, 0.00043548400000000003, 0.00045219300000000004, 0.000445625, 0.000474285, 0.00044291599999999996, 0.000443879, 0.000452737, 0.000424495, 0.000423317, 0.000447814, 0.000453071, 0.000446978, 0.00043563099999999996, 0.00044893900000000003, 0.00044511400000000003, 0.000453314, 0.00043052199999999997, 0.000462461, 0.00046465, 0.000424185, 0.000450814, 0.000642784, 0.00045371, 0.00050738, 0.00046954099999999997, 0.00043761300000000005, 0.000434227, 0.00045450199999999997, 0.00043447300000000005, 0.00044332400000000004, 0.00045347199999999996, 0.00048525900000000004, 0.00047496400000000003, 0.000445297, 0.000443068, 0.00044941699999999997, 0.000443456, 0.00044840699999999995, 0.00045217900000000004, 0.00046036300000000004, 0.000448754, 0.00047379599999999996, 0.00045273199999999996, 0.00044656199999999996, 0.000433715, 0.00045473800000000005, 0.00047079099999999997, 0.00044597, 0.000439105, 0.000444422, 0.00046520199999999995, 0.00044648699999999997, 0.000452288, 0.000440191, 0.000454525, 0.000450495, 0.00042545, 0.000465213, 0.00044309, 0.000488194, 0.00046704099999999996, 0.000459382, 0.00043912, 0.00045799400000000003, 0.00042719599999999997, 0.000462781, 0.000446034, 0.000464085, 0.000429377, 0.00046704699999999995, 0.000457447, 0.00046366800000000003, 0.000440866, 0.00044505699999999995, 0.000468755, 0.00044032699999999996, 0.000469876, 0.00046009400000000003, 0.00046175199999999995, 0.00045378199999999996, 0.00044413, 0.000476664, 0.00042633300000000004, 0.00044324699999999997, 0.00047630199999999995, 0.000459084, 0.00044061800000000004, 0.000448793, 0.000449035, 0.000455757, 0.00048342800000000005, 0.000492195, 0.000444259, 0.00046043900000000004, 0.00043194699999999996, 0.000461996, 0.00044233300000000005, 0.000459936, 0.000447397, 0.000480694, 0.000447623, 0.00046037, 0.00043592800000000003, 0.00045279, 0.000452965, 0.00046031, 0.000435136, 0.000482551, 0.000433864, 0.000434415, 0.000449266, 0.00044666199999999996, 0.00044475, 0.00045804099999999996, 0.000455324, 0.00044470699999999997, 0.00045863800000000004, 0.00047512, 0.000446144, 0.000483009, 0.00044773, 0.00045852, 0.000426915, 0.000468848, 0.00042474099999999996, 0.000459782, 0.000424359, 0.000449595, 0.000459924, 0.000448492, 0.00044708, 0.00046130300000000004, 0.000435754, 0.000458536, 0.00046040800000000004, 0.000457561, 0.000437399, 0.00048029800000000004, 0.000580507, 0.000430544, 0.00048004300000000004, 0.00044413, 0.00046472699999999996, 0.000452285, 0.00043213699999999997, 0.00043695800000000004, 0.000437602, 0.00042469, 0.00044964699999999996, 0.00042831699999999994, 0.00044210800000000003, 0.00043578800000000005, 0.00042919800000000005, 0.00043195, 0.000456582, 0.00043871599999999996, 0.000441174, 0.000449164, 0.000442787, 0.000425351, 0.000463095, 0.00043655800000000003, 0.00044213699999999994, 0.000447695, 0.00043263800000000005, 0.00045086800000000005, 0.00043604699999999995, 0.000447743, 0.00047242, 0.00044795, 0.00042725300000000005, 0.00043783300000000005, 0.00045059900000000004, 0.000437816, 0.00044584599999999996, 0.000440734, 0.000424381, 0.000443219, 0.00046959599999999997, 0.000445252, 0.000459932, 0.000435304, 0.000452046, 0.000445275, 0.00045907699999999996, 0.000446117, 0.000442428, 0.00045954199999999996, 0.00042412300000000005, 0.000477202, 0.00044417199999999995, 0.000495231, 0.00045232199999999996, 0.000435715, 0.00045404, 0.000430809, 0.000469507, 0.00044120199999999997, 0.000434802, 0.000441019, 0.000454921, 0.00042476199999999997, 0.00045521699999999995, 0.00046279800000000005, 0.000426968, 0.00043559699999999997, 0.000464916, 0.000440545, 0.00043620199999999995, 0.00047533199999999997, 0.000440258, 0.000466006, 0.00044620699999999995, 0.00043584, 0.000440411, 0.000424644, 0.000454031, 0.00044432699999999995, 0.000439685, 0.000439702, 0.000436815, 0.000448663, 0.000446426, 0.00045124300000000004, 0.00045814699999999995, 0.000436455, 0.00042553400000000004, 0.000449312, 0.000435218, 0.000453736, 0.000434366, 0.00043977800000000004, 0.000460522, 0.000449199, 0.000484884, 0.000438268, 0.00044632300000000004, 0.00045155, 0.000458849, 0.000450845, 0.00045476800000000003, 0.00043754300000000004, 0.0004243, 0.000431164, 0.00044569, 0.000436219, 0.000441097, 0.00044311400000000004, 0.00044030699999999997, 0.000424765, 0.00043736, 0.000432565, 0.000431675, 0.00045333900000000003, 0.00044395, 0.000432594, 0.000424603, 0.000447513, 0.000479786, 0.0005456640000000001, 0.00047989, 0.000461947, 0.000424897, 0.00046739800000000005, 0.00046054300000000005, 0.00045786800000000006, 0.000455628, 0.000445955, 0.00043740300000000005, 0.000439245, 0.00042721800000000004, 0.00044299300000000003, 0.00045407300000000004, 0.00042489800000000005, 0.00043748800000000004, 0.00045210199999999996, 0.000432265, 0.000445231, 0.00044386800000000004, 0.00044141300000000004, 0.000442067, 0.000437955, 0.000426253, 0.00042810099999999996, 0.000444535, 0.000444838, 0.00045001800000000005, 0.000438668, 0.00042397699999999997, 0.000424903, 0.000442667, 0.00044126699999999996, 0.000460351, 0.00044221699999999996, 0.000429005, 0.00043611199999999995, 0.000435202, 0.00044146, 0.000439995, 0.00043944, 0.000450172, 0.000455212, 0.00044621300000000005, 0.000446504, 0.00043360400000000003, 0.000452424, 0.000444255, 0.00044157699999999996, 0.000428034, 0.000437799, 0.00042953, 0.00043361699999999997, 0.000452462, 0.00043224800000000004, 0.000443853, 0.00045666099999999997, 0.00045430199999999996, 0.00047521, 0.000425366, 0.00044355699999999997, 0.000435044, 0.000463751, 0.000453829, 0.000439551, 0.00046685, 0.000481354, 0.00044274099999999997, 0.000455485, 0.000436062, 0.00042837, 0.000438715, 0.000428616, 0.000428006, 0.000461084, 0.000424403, 0.00045670300000000004, 0.00045581, 0.00043174800000000003, 0.00044882699999999995, 0.000481592, 0.000438656, 0.00045592, 0.000439214, 0.00043604699999999995, 0.00044789300000000004, 0.00047081900000000003, 0.000426835, 0.00045838300000000003, 0.000424255, 0.000437787, 0.000447105, 0.00043776300000000003, 0.00042396400000000004, 0.00042460199999999994, 0.000431615, 0.000451684, 0.00044076900000000003, 0.000455092, 0.000441505, 0.000435503, 0.000451875, 0.00044771599999999997, 0.00043699300000000005, 0.00043301300000000005, 0.00045602699999999996, 0.000446835, 0.000424901, 0.00044640699999999996, 0.000439155, 0.00044861900000000004, 0.000445155, 0.00042389699999999996, 0.000462997, 0.00043948699999999996, 0.000425185, 0.00047044599999999996, 0.00045080900000000004, 0.0005606, 0.000514115, 0.000439534, 0.00043523199999999997, 0.00045122099999999997, 0.00043715199999999995, 0.000431744, 0.00043598800000000005, 0.000442077], \"xbins\": {\"end\": 0.0008951769999999999, \"size\": 8.95177e-05, \"start\": 0}}, {\"name\": \"Branch and Bound\", \"opacity\": 0.75, \"type\": \"histogram\", \"x\": [2.8269999999999998e-06, 1.8869999999999999e-06, 1.923e-06, 4.168999999999999e-06, 0.000679048, 1.775e-06, 0.000693988, 0.000687385, 1.8719999999999998e-06, 1.857e-06, 1.764e-06, 2.1559999999999998e-06, 0.0006806280000000001, 1.837e-06, 2.595e-06, 1.895e-06, 1.829e-06, 0.000482138, 0.000696045, 4.361e-06, 1.975e-06, 0.00018029599999999998, 0.00044024900000000003, 0.0004968819999999999, 0.000414323, 0.000183523, 1.925e-06, 1.913e-06, 1.826e-06, 0.000682887, 0.0006880969999999999, 4.3198e-05, 1.8230000000000002e-06, 5.9561e-05, 0.000370476, 1.864e-06, 4.1526e-05, 1.1150999999999999e-05, 1.8809999999999999e-06, 7.806e-06, 0.000689037, 1.8069999999999998e-06, 0.000683778, 0.00015460799999999998, 0.00016847700000000002, 1.903e-06, 0.000685335, 1.821e-06, 0.000599091, 0.000550252, 0.000685473, 2.2619999999999997e-06, 1.844e-06, 1.853e-06, 0.000655487, 0.000435354, 2.125e-06, 3.862e-06, 2.673e-06, 7.412999999999999e-06, 1.8430000000000002e-06, 0.000834059, 6.8647e-05, 0.000568009, 0.000448369, 3.054e-06, 0.000312444, 3.359e-06, 0.000213831, 0.0007971260000000001, 2.002e-06, 1.974e-06, 2.758e-06, 4.959399999999999e-05, 3.044e-05, 1.9930000000000002e-06, 6.453e-06, 0.000869266, 4.2680000000000005e-06, 2.312e-06, 0.0008951769999999999, 2.1230000000000003e-06, 1.9880000000000003e-06, 0.0007250819999999999, 1.3222e-05, 6.935e-06, 0.000108865, 0.000734214, 0.0007792960000000001, 2.71e-06, 2.9375e-05, 0.000853059, 1.8401e-05, 0.00034864300000000004, 2.161e-06, 2.055e-06, 5.2464e-05, 2.2031e-05, 0.000698808, 1.935e-06, 1.839e-06, 1.7890000000000002e-06, 1.8680000000000002e-06, 0.000641594, 0.0005403680000000001, 6.9348e-05, 3.812e-06, 1.982e-06, 1.844e-06, 0.0005889059999999999, 9.5562e-05, 0.0006846739999999999, 0.000654005, 2.1630000000000003e-06, 0.0007025839999999999, 0.0005140990000000001, 0.00045307400000000003, 2.114e-06, 3.8845e-05, 0.00061309, 2.187e-06, 1.7909999999999999e-06, 4.3410000000000005e-06, 3.099e-06, 1.8630000000000002e-06, 0.000422114, 0.000855947, 0.000756609, 4.928e-05, 0.000636656, 2.5104000000000002e-05, 0.00027707700000000003, 2.105e-06, 2.194e-06, 0.000614657, 2.095e-06, 5.797999999999999e-06, 2.0330000000000003e-06, 1.906e-06, 6.5070000000000005e-06, 1.871e-06, 1.961e-06, 1.965e-06, 7.164899999999999e-05, 0.00047432400000000003, 1.994e-06, 0.000647771, 0.0007025610000000001, 0.000149596, 1.894e-06, 2.606e-06, 0.00017188299999999998, 1.81e-06, 2.049e-06, 6.6410000000000005e-06, 2.018e-06, 0.0007008989999999999, 2.109e-06, 1.841e-06, 0.000693464, 2.102e-06, 1.81e-06, 3.4538e-05, 0.00010578, 1.81e-06, 0.00012988, 0.0007103089999999999, 4.31e-06, 1.0312e-05, 0.000234477, 1.5216e-05, 0.0006957939999999999, 0.000673074, 1.95e-06, 1.846e-06, 0.0006710310000000001, 2.9585999999999998e-05, 0.00069062, 4.1522e-05, 0.000604115, 1.874e-06, 0.000461894, 2.311e-06, 0.0006217680000000001, 1.141e-05, 1.877e-06, 0.00010329700000000001, 0.000698048, 1.8219999999999999e-06, 0.00070887, 0.00056361, 9.166899999999999e-05, 1.919e-06, 0.000706645, 0.000642529, 4.0834e-05, 3.0117e-05, 1.829e-06, 1.916e-06, 1.9480000000000002e-06, 1.8140000000000001e-06, 8.355899999999999e-05, 1.846e-06, 0.000688677, 1.8590000000000001e-06, 5.665e-06, 0.00024938, 0.000462109, 9.3704e-05, 5.557999999999999e-06, 1.826e-06, 1.731e-06, 3.607e-06, 1.81e-06, 0.00039061099999999996, 0.000675562, 0.000100925, 4.3421e-05, 0.000627897, 1.0051e-05, 0.0007156689999999999, 2.364e-06, 0.000163852, 2.067e-06, 0.0007059589999999999, 0.000682287, 0.0007013239999999999, 1.833e-06, 1.998e-06, 2.713e-06, 2.159e-06, 1.905e-06, 0.0007169069999999999, 1.4569e-05, 1.9880000000000003e-06, 0.0006900910000000001, 2.086e-06, 2.214e-06, 2.6980000000000003e-06, 1.7709999999999999e-06, 5.014e-06, 2.566e-06, 0.00039772099999999997, 0.000134621, 1.8990000000000002e-06, 0.000646808, 0.00024859599999999996, 0.000694225, 3.2889999999999998e-06, 1.8140000000000001e-06, 0.00069145, 1.9519999999999997e-06, 0.0007172089999999999, 6.3999e-05, 0.0005244119999999999, 0.00064465, 1.866e-06, 1.927e-06, 2.011e-06, 2.3234e-05, 0.000716325, 3.0789999999999997e-06, 0.000491193, 4.8256999999999996e-05, 0.000366075, 0.000713234, 5.3665e-05, 2.0319999999999998e-06, 0.000622795, 0.000717415, 2.273e-06, 1.989e-06, 2.072e-06, 2.488e-06, 1.894e-06, 0.000695749, 1.908e-06, 0.000651205, 7.4823e-05, 1.839e-06, 0.0007014539999999999, 0.0005155240000000001, 2.008e-06, 0.0006373630000000001, 3.112e-06, 0.000713275, 0.000530001, 0.000688145, 2.455e-06, 0.0007024310000000001, 2.267e-06, 0.0007056219999999999, 0.000636685, 0.000697325, 2.0259999999999997e-06, 2.498e-06, 1.958e-06, 1.8559999999999999e-06, 1.909e-06, 4.737e-06, 1.824e-06, 2.3419999999999998e-06, 1.809e-06, 1.926e-06, 0.000702618, 1.986e-06, 2.0330000000000003e-06, 0.00070545, 1.93e-06, 8.824399999999999e-05, 1.8669999999999999e-06, 0.00036983400000000004, 4.7266000000000005e-05, 0.000704643, 1.946e-06, 2.0280000000000003e-06, 2.6480000000000003e-06, 1.939e-06, 4.6838e-05, 1.8069999999999998e-06, 1.937e-06, 0.000699897, 0.000171473, 1.989e-06, 0.000291662, 3.353e-06, 0.0006590589999999999, 0.000694107, 0.00030241, 7.242e-06, 0.000579076, 3.1139999999999997e-06, 1.86e-06, 3.0569999999999997e-06, 0.0006918889999999999, 1.891e-06, 0.0006556, 1.905e-06, 1.92e-06, 6.936899999999999e-05, 1.8269999999999998e-06, 6.592000000000001e-06, 0.000705496, 1.85e-06, 1.8140000000000001e-06, 0.000692991, 1.965e-06, 0.00065338, 1.925e-06, 2.001e-06, 0.000682447, 1.9519999999999997e-06, 5.451e-06, 0.000590399, 1.88e-06, 2.558e-06, 2.64e-06, 2.0898000000000002e-05, 1.87e-06, 2.266e-06, 1.826e-06, 0.000632935, 0.0006822410000000001, 2.185e-06, 2.705e-06, 6.881e-06, 1.347e-05, 0.000435454, 1.953e-06, 9.5017e-05, 1.311e-05, 2.8769999999999997e-06, 5.874e-06, 0.000221214, 2.5760000000000004e-06, 1.841e-06, 2.027e-06, 2.004e-06, 1.926e-06, 8.344e-06, 1.865e-06, 0.0006845180000000001, 0.00070851, 0.000705094, 3.2666e-05, 2.7995999999999998e-05, 1.919e-06, 2.362e-06, 1.79e-06, 1.931e-06, 1.9140000000000002e-06, 1.91e-06, 1.886e-06, 0.000263282, 0.00040445199999999997, 0.00021444299999999998, 1.9480000000000002e-06, 1.4133e-05, 2.04e-06, 0.000526184, 2.0440000000000003e-06, 0.000697893, 2.938e-06, 2.668e-06, 0.00043505599999999996, 1.912e-06, 1.871e-06, 2.013e-06, 1.1037000000000001e-05, 0.000672159, 4.109e-06, 0.000705888, 1.8590000000000001e-06, 2.412e-06, 0.000488841, 1.995e-06, 1.865e-06, 0.000367186, 2.5448e-05, 0.00057884, 2.104e-06, 0.000236254, 4.3182e-05, 1.951e-06, 2.3924e-05, 1.8359999999999999e-06, 0.0006425690000000001, 1.8230000000000002e-06, 0.000230595, 1.8809999999999999e-06, 1.953e-06, 1.857e-06, 2.126e-06, 0.0006885169999999999, 0.000160647, 1.996e-06, 1.9e-06, 0.000705247, 4.004e-06, 1.996e-06, 1.889e-06, 2.526e-06, 0.000686215, 4.2068000000000004e-05, 0.0006884160000000001, 3.959e-06, 1.3780999999999999e-05, 1.8719999999999998e-06, 1.8219999999999999e-06, 1.916e-06, 0.000621575, 0.000143673, 0.0005320969999999999, 2.216e-06, 1.912e-06, 0.00047527400000000003, 1.883e-06, 1.767e-06, 1.869e-06, 1.8919999999999998e-06, 4.0463e-05, 1.994e-06, 2.98e-06, 0.000702745, 1.817e-06, 2.26e-06, 2.017e-06, 3.535e-06, 8.7689e-05, 0.0005041080000000001, 0.00065908, 2.009e-06, 1.8069999999999998e-06, 0.000698618, 2.548e-06, 0.0006753060000000001, 4.313e-06, 2.553e-06, 1.923e-06, 0.000567224, 2.3030000000000002e-06, 0.000296393, 4.9000000000000005e-06, 0.000497184, 1.857e-06, 1.9e-06, 1.944e-06, 0.00033531699999999996, 2.003e-06, 1.945e-06, 0.000590375, 2.5095999999999998e-05, 1.869e-06, 2.358e-06, 0.0006939180000000001, 0.000500168, 2.0890000000000002e-06, 1.903e-06, 1.862e-06, 0.0007032789999999999], \"xbins\": {\"end\": 0.0008951769999999999, \"size\": 8.95177e-05, \"start\": 0}}],                        {\"bargap\": 0.2, \"bargroupgap\": 0.1, \"barmode\": \"overlay\", \"template\": {\"data\": {\"bar\": [{\"error_x\": {\"color\": \"#2a3f5f\"}, \"error_y\": {\"color\": \"#2a3f5f\"}, \"marker\": {\"line\": {\"color\": \"#E5ECF6\", \"width\": 0.5}}, \"type\": \"bar\"}], \"barpolar\": [{\"marker\": {\"line\": {\"color\": \"#E5ECF6\", \"width\": 0.5}}, \"type\": \"barpolar\"}], \"carpet\": [{\"aaxis\": {\"endlinecolor\": \"#2a3f5f\", \"gridcolor\": \"white\", \"linecolor\": \"white\", \"minorgridcolor\": \"white\", \"startlinecolor\": \"#2a3f5f\"}, \"baxis\": {\"endlinecolor\": \"#2a3f5f\", \"gridcolor\": \"white\", \"linecolor\": \"white\", \"minorgridcolor\": \"white\", \"startlinecolor\": \"#2a3f5f\"}, \"type\": \"carpet\"}], \"choropleth\": [{\"colorbar\": {\"outlinewidth\": 0, \"ticks\": \"\"}, \"type\": \"choropleth\"}], \"contour\": [{\"colorbar\": {\"outlinewidth\": 0, \"ticks\": \"\"}, \"colorscale\": [[0.0, \"#0d0887\"], [0.1111111111111111, \"#46039f\"], [0.2222222222222222, \"#7201a8\"], [0.3333333333333333, \"#9c179e\"], [0.4444444444444444, \"#bd3786\"], [0.5555555555555556, \"#d8576b\"], [0.6666666666666666, \"#ed7953\"], [0.7777777777777778, \"#fb9f3a\"], [0.8888888888888888, \"#fdca26\"], [1.0, \"#f0f921\"]], \"type\": \"contour\"}], \"contourcarpet\": [{\"colorbar\": {\"outlinewidth\": 0, \"ticks\": \"\"}, \"type\": \"contourcarpet\"}], \"heatmap\": [{\"colorbar\": {\"outlinewidth\": 0, \"ticks\": \"\"}, \"colorscale\": [[0.0, \"#0d0887\"], [0.1111111111111111, \"#46039f\"], [0.2222222222222222, \"#7201a8\"], [0.3333333333333333, \"#9c179e\"], [0.4444444444444444, \"#bd3786\"], [0.5555555555555556, \"#d8576b\"], [0.6666666666666666, \"#ed7953\"], [0.7777777777777778, \"#fb9f3a\"], [0.8888888888888888, \"#fdca26\"], [1.0, \"#f0f921\"]], \"type\": \"heatmap\"}], \"heatmapgl\": [{\"colorbar\": {\"outlinewidth\": 0, \"ticks\": \"\"}, \"colorscale\": [[0.0, \"#0d0887\"], [0.1111111111111111, \"#46039f\"], [0.2222222222222222, \"#7201a8\"], [0.3333333333333333, \"#9c179e\"], [0.4444444444444444, \"#bd3786\"], [0.5555555555555556, \"#d8576b\"], [0.6666666666666666, \"#ed7953\"], [0.7777777777777778, \"#fb9f3a\"], [0.8888888888888888, \"#fdca26\"], [1.0, \"#f0f921\"]], \"type\": \"heatmapgl\"}], \"histogram\": [{\"marker\": {\"colorbar\": {\"outlinewidth\": 0, \"ticks\": \"\"}}, \"type\": \"histogram\"}], \"histogram2d\": [{\"colorbar\": {\"outlinewidth\": 0, \"ticks\": \"\"}, \"colorscale\": [[0.0, \"#0d0887\"], [0.1111111111111111, \"#46039f\"], [0.2222222222222222, \"#7201a8\"], [0.3333333333333333, \"#9c179e\"], [0.4444444444444444, \"#bd3786\"], [0.5555555555555556, \"#d8576b\"], [0.6666666666666666, \"#ed7953\"], [0.7777777777777778, \"#fb9f3a\"], [0.8888888888888888, \"#fdca26\"], [1.0, \"#f0f921\"]], \"type\": \"histogram2d\"}], \"histogram2dcontour\": [{\"colorbar\": {\"outlinewidth\": 0, \"ticks\": \"\"}, \"colorscale\": [[0.0, \"#0d0887\"], [0.1111111111111111, \"#46039f\"], [0.2222222222222222, \"#7201a8\"], [0.3333333333333333, \"#9c179e\"], [0.4444444444444444, \"#bd3786\"], [0.5555555555555556, \"#d8576b\"], [0.6666666666666666, \"#ed7953\"], [0.7777777777777778, \"#fb9f3a\"], [0.8888888888888888, \"#fdca26\"], [1.0, \"#f0f921\"]], \"type\": \"histogram2dcontour\"}], \"mesh3d\": [{\"colorbar\": {\"outlinewidth\": 0, \"ticks\": \"\"}, \"type\": \"mesh3d\"}], \"parcoords\": [{\"line\": {\"colorbar\": {\"outlinewidth\": 0, \"ticks\": \"\"}}, \"type\": \"parcoords\"}], \"pie\": [{\"automargin\": true, \"type\": \"pie\"}], \"scatter\": [{\"marker\": {\"colorbar\": {\"outlinewidth\": 0, \"ticks\": \"\"}}, \"type\": \"scatter\"}], \"scatter3d\": [{\"line\": {\"colorbar\": {\"outlinewidth\": 0, \"ticks\": \"\"}}, \"marker\": {\"colorbar\": {\"outlinewidth\": 0, \"ticks\": \"\"}}, \"type\": \"scatter3d\"}], \"scattercarpet\": [{\"marker\": {\"colorbar\": {\"outlinewidth\": 0, \"ticks\": \"\"}}, \"type\": \"scattercarpet\"}], \"scattergeo\": [{\"marker\": {\"colorbar\": {\"outlinewidth\": 0, \"ticks\": \"\"}}, \"type\": \"scattergeo\"}], \"scattergl\": [{\"marker\": {\"colorbar\": {\"outlinewidth\": 0, \"ticks\": \"\"}}, \"type\": \"scattergl\"}], \"scattermapbox\": [{\"marker\": {\"colorbar\": {\"outlinewidth\": 0, \"ticks\": \"\"}}, \"type\": \"scattermapbox\"}], \"scatterpolar\": [{\"marker\": {\"colorbar\": {\"outlinewidth\": 0, \"ticks\": \"\"}}, \"type\": \"scatterpolar\"}], \"scatterpolargl\": [{\"marker\": {\"colorbar\": {\"outlinewidth\": 0, \"ticks\": \"\"}}, \"type\": \"scatterpolargl\"}], \"scatterternary\": [{\"marker\": {\"colorbar\": {\"outlinewidth\": 0, \"ticks\": \"\"}}, \"type\": \"scatterternary\"}], \"surface\": [{\"colorbar\": {\"outlinewidth\": 0, \"ticks\": \"\"}, \"colorscale\": [[0.0, \"#0d0887\"], [0.1111111111111111, \"#46039f\"], [0.2222222222222222, \"#7201a8\"], [0.3333333333333333, \"#9c179e\"], [0.4444444444444444, \"#bd3786\"], [0.5555555555555556, \"#d8576b\"], [0.6666666666666666, \"#ed7953\"], [0.7777777777777778, \"#fb9f3a\"], [0.8888888888888888, \"#fdca26\"], [1.0, \"#f0f921\"]], \"type\": \"surface\"}], \"table\": [{\"cells\": {\"fill\": {\"color\": \"#EBF0F8\"}, \"line\": {\"color\": \"white\"}}, \"header\": {\"fill\": {\"color\": \"#C8D4E3\"}, \"line\": {\"color\": \"white\"}}, \"type\": \"table\"}]}, \"layout\": {\"annotationdefaults\": {\"arrowcolor\": \"#2a3f5f\", \"arrowhead\": 0, \"arrowwidth\": 1}, \"coloraxis\": {\"colorbar\": {\"outlinewidth\": 0, \"ticks\": \"\"}}, \"colorscale\": {\"diverging\": [[0, \"#8e0152\"], [0.1, \"#c51b7d\"], [0.2, \"#de77ae\"], [0.3, \"#f1b6da\"], [0.4, \"#fde0ef\"], [0.5, \"#f7f7f7\"], [0.6, \"#e6f5d0\"], [0.7, \"#b8e186\"], [0.8, \"#7fbc41\"], [0.9, \"#4d9221\"], [1, \"#276419\"]], \"sequential\": [[0.0, \"#0d0887\"], [0.1111111111111111, \"#46039f\"], [0.2222222222222222, \"#7201a8\"], [0.3333333333333333, \"#9c179e\"], [0.4444444444444444, \"#bd3786\"], [0.5555555555555556, \"#d8576b\"], [0.6666666666666666, \"#ed7953\"], [0.7777777777777778, \"#fb9f3a\"], [0.8888888888888888, \"#fdca26\"], [1.0, \"#f0f921\"]], \"sequentialminus\": [[0.0, \"#0d0887\"], [0.1111111111111111, \"#46039f\"], [0.2222222222222222, \"#7201a8\"], [0.3333333333333333, \"#9c179e\"], [0.4444444444444444, \"#bd3786\"], [0.5555555555555556, \"#d8576b\"], [0.6666666666666666, \"#ed7953\"], [0.7777777777777778, \"#fb9f3a\"], [0.8888888888888888, \"#fdca26\"], [1.0, \"#f0f921\"]]}, \"colorway\": [\"#636efa\", \"#EF553B\", \"#00cc96\", \"#ab63fa\", \"#FFA15A\", \"#19d3f3\", \"#FF6692\", \"#B6E880\", \"#FF97FF\", \"#FECB52\"], \"font\": {\"color\": \"#2a3f5f\"}, \"geo\": {\"bgcolor\": \"white\", \"lakecolor\": \"white\", \"landcolor\": \"#E5ECF6\", \"showlakes\": true, \"showland\": true, \"subunitcolor\": \"white\"}, \"hoverlabel\": {\"align\": \"left\"}, \"hovermode\": \"closest\", \"mapbox\": {\"style\": \"light\"}, \"paper_bgcolor\": \"white\", \"plot_bgcolor\": \"#E5ECF6\", \"polar\": {\"angularaxis\": {\"gridcolor\": \"white\", \"linecolor\": \"white\", \"ticks\": \"\"}, \"bgcolor\": \"#E5ECF6\", \"radialaxis\": {\"gridcolor\": \"white\", \"linecolor\": \"white\", \"ticks\": \"\"}}, \"scene\": {\"xaxis\": {\"backgroundcolor\": \"#E5ECF6\", \"gridcolor\": \"white\", \"gridwidth\": 2, \"linecolor\": \"white\", \"showbackground\": true, \"ticks\": \"\", \"zerolinecolor\": \"white\"}, \"yaxis\": {\"backgroundcolor\": \"#E5ECF6\", \"gridcolor\": \"white\", \"gridwidth\": 2, \"linecolor\": \"white\", \"showbackground\": true, \"ticks\": \"\", \"zerolinecolor\": \"white\"}, \"zaxis\": {\"backgroundcolor\": \"#E5ECF6\", \"gridcolor\": \"white\", \"gridwidth\": 2, \"linecolor\": \"white\", \"showbackground\": true, \"ticks\": \"\", \"zerolinecolor\": \"white\"}}, \"shapedefaults\": {\"line\": {\"color\": \"#2a3f5f\"}}, \"ternary\": {\"aaxis\": {\"gridcolor\": \"white\", \"linecolor\": \"white\", \"ticks\": \"\"}, \"baxis\": {\"gridcolor\": \"white\", \"linecolor\": \"white\", \"ticks\": \"\"}, \"bgcolor\": \"#E5ECF6\", \"caxis\": {\"gridcolor\": \"white\", \"linecolor\": \"white\", \"ticks\": \"\"}}, \"title\": {\"x\": 0.05}, \"xaxis\": {\"automargin\": true, \"gridcolor\": \"white\", \"linecolor\": \"white\", \"ticks\": \"\", \"title\": {\"standoff\": 15}, \"zerolinecolor\": \"white\", \"zerolinewidth\": 2}, \"yaxis\": {\"automargin\": true, \"gridcolor\": \"white\", \"linecolor\": \"white\", \"ticks\": \"\", \"title\": {\"standoff\": 15}, \"zerolinecolor\": \"white\", \"zerolinewidth\": 2}}}, \"title\": {\"text\": \"Histogram of time complexities (set: nr, 27 items)\"}, \"xaxis\": {\"dtick\": 8.95177e-05, \"range\": [0, 0.0008951769999999999], \"showgrid\": true, \"tick0\": 0, \"tickmode\": \"linear\"}},                        {\"responsive\": true}                    ).then(function(){\n                            \nvar gd = document.getElementById('360d02fb-d10e-4df9-adbe-1ce6c8be06e1');\nvar x = new MutationObserver(function (mutations, observer) {{\n        var display = window.getComputedStyle(gd).display;\n        if (!display || display === 'none') {{\n            console.log([gd, 'removed!']);\n            Plotly.purge(gd);\n            observer.disconnect();\n        }}\n}});\n\n// Listen for the removal of the full notebook cells\nvar notebookContainer = gd.closest('#notebook-container');\nif (notebookContainer) {{\n    x.observe(notebookContainer, {childList: true});\n}}\n\n// Listen for the clearing of the current output cell\nvar outputEl = gd.closest('.output');\nif (outputEl) {{\n    x.observe(outputEl, {childList: true});\n}}\n\n                        })                };                });            </script>        </div>"
     },
     "metadata": {}
    }
   ],
   "source": [
    "plotHistogram(dfs, \"nr\", 15, \n",
    "    \"Histogram of time complexities (set: nr, 27 items)\",\n",
    "    \"Seconds\", \"seconds\"\n",
    "    )"
   ]
  },
  {
   "cell_type": "code",
   "execution_count": 26,
   "metadata": {},
   "outputs": [
    {
     "output_type": "display_data",
     "data": {
      "application/vnd.plotly.v1+json": {
       "config": {
        "plotlyServerURL": "https://plot.ly"
       },
       "data": [
        {
         "name": "Brute Force",
         "opacity": 0.75,
         "type": "histogram",
         "x": [
          0.000677721,
          0.0006861580000000001,
          0.000674241,
          0.000655858,
          0.000621598,
          0.000658234,
          0.0006630360000000001,
          0.0006744969999999999,
          0.000677858,
          0.000675728,
          0.000671955,
          0.000668355,
          0.000661809,
          0.000678957,
          0.000666495,
          0.000667264,
          0.000680293,
          0.0006873239999999999,
          0.00071405,
          0.000664733,
          0.0006620710000000001,
          0.000673677,
          0.0006648639999999999,
          0.000667944,
          0.000668784,
          0.000664668,
          0.000672225,
          0.0006797239999999999,
          0.000676536,
          0.0006702780000000001,
          0.000664153,
          0.000671278,
          0.000665725,
          0.000657983,
          0.0006591660000000001,
          0.0006697869999999999,
          0.00067376,
          0.0006596489999999999,
          0.00066643,
          0.000654642,
          0.000634978,
          0.000685423,
          0.000783779,
          0.000783442,
          0.00071945,
          0.000655608,
          0.000662157,
          0.000690254,
          0.000667582,
          0.00066805,
          0.000669742,
          0.0006667610000000001,
          0.000668992,
          0.00068481,
          0.000669114,
          0.0006617999999999999,
          0.000667928,
          0.000655778,
          0.000669871,
          0.0006841989999999999,
          0.00066997,
          0.000660056,
          0.000664584,
          0.00065057,
          0.000664961,
          0.000685064,
          0.000662163,
          0.000655821,
          0.0006605710000000001,
          0.000652742,
          0.000656546,
          0.000666867,
          0.000653896,
          0.0006525719999999999,
          0.000660208,
          0.000654732,
          0.000675424,
          0.00063241,
          0.000621615,
          0.00062634,
          0.0006917360000000001,
          0.00073303,
          0.000646367,
          0.000666885,
          0.000609133,
          0.000618189,
          0.0005850569999999999,
          0.000595252,
          0.000616654,
          0.0007262389999999999,
          0.0007345660000000001,
          0.000709157,
          0.000714106,
          0.000712837,
          0.000495756,
          0.000464952,
          0.000449129,
          0.00044291599999999996,
          0.00045172800000000004,
          0.00046136800000000003,
          0.000446936,
          0.000449279,
          0.000441524,
          0.000449786,
          0.000454423,
          0.000442866,
          0.000457056,
          0.000457457,
          0.000451475,
          0.000450791,
          0.00044621099999999996,
          0.00045209199999999997,
          0.000457783,
          0.000440774,
          0.000452566,
          0.00045242199999999996,
          0.000447794,
          0.00045191,
          0.000446861,
          0.000458281,
          0.000453516,
          0.000459109,
          0.000445751,
          0.00044645,
          0.00045652800000000004,
          0.000504217,
          0.000604967,
          0.000444994,
          0.000464878,
          0.00046479599999999996,
          0.00044621,
          0.000485039,
          0.000452563,
          0.00045662800000000005,
          0.000469713,
          0.000454737,
          0.000476546,
          0.000446431,
          0.000473666,
          0.00044023300000000005,
          0.00047392800000000003,
          0.000443711,
          0.00046229699999999997,
          0.000448444,
          0.00046123400000000004,
          0.000447766,
          0.00046967,
          0.00045599599999999996,
          0.00047168199999999996,
          0.000455564,
          0.000468608,
          0.000444269,
          0.000473636,
          0.000448881,
          0.00046504,
          0.000453303,
          0.0004961459999999999,
          0.00045700000000000005,
          0.00047106599999999997,
          0.000440732,
          0.000463352,
          0.000448909,
          0.00046221699999999996,
          0.00044835400000000004,
          0.00047063199999999996,
          0.00046122599999999996,
          0.000466145,
          0.00045269099999999997,
          0.000459628,
          0.00045692,
          0.00045336800000000005,
          0.000471638,
          0.00046733800000000003,
          0.000456081,
          0.000467556,
          0.00045708699999999996,
          0.000460713,
          0.000462545,
          0.000450659,
          0.000459176,
          0.000462575,
          0.000470407,
          0.00045012,
          0.000462175,
          0.000442354,
          0.00047516199999999995,
          0.000442645,
          0.000455403,
          0.000456625,
          0.00047560699999999996,
          0.00045095199999999996,
          0.000468744,
          0.00045394900000000004,
          0.000465653,
          0.000447205,
          0.00046394599999999997,
          0.000454144,
          0.00047368400000000004,
          0.000459434,
          0.000467675,
          0.00045258300000000005,
          0.000466592,
          0.000462866,
          0.000462261,
          0.00044270599999999996,
          0.00046618699999999996,
          0.000457469,
          0.000468165,
          0.00046087300000000004,
          0.000451205,
          0.00046045900000000003,
          0.000458122,
          0.000460566,
          0.000452097,
          0.000476639,
          0.000452624,
          0.000466846,
          0.000443464,
          0.00047373900000000004,
          0.00044651699999999995,
          0.00046837699999999996,
          0.00044956099999999996,
          0.000463009,
          0.000460711,
          0.00048448400000000003,
          0.00045171699999999997,
          0.000465801,
          0.00045275800000000004,
          0.000462889,
          0.000442383,
          0.000477283,
          0.000477889,
          0.000456191,
          0.000465236,
          0.00045248,
          0.00047037699999999996,
          0.000448189,
          0.000469566,
          0.00044008599999999996,
          0.000476845,
          0.00044507199999999997,
          0.00047485699999999997,
          0.00048026199999999996,
          0.000560051,
          0.00044849699999999996,
          0.00046527900000000003,
          0.000445694,
          0.000465075,
          0.00044462699999999996,
          0.000497276,
          0.00045170800000000005,
          0.000472514,
          0.00044335800000000003,
          0.000462192,
          0.000447554,
          0.00046250400000000003,
          0.00045169199999999996,
          0.000461924,
          0.000469634,
          0.00046927300000000003,
          0.000451116,
          0.000463609,
          0.00045099699999999996,
          0.00045419199999999996,
          0.000474376,
          0.000444444,
          0.00046938199999999996,
          0.000451684,
          0.000450895,
          0.000456817,
          0.000451576,
          0.000459265,
          0.00045604699999999995,
          0.000454239,
          0.00045843,
          0.000457991,
          0.000477449,
          0.000450765,
          0.000465387,
          0.00045504,
          0.000464084,
          0.00044304,
          0.000472276,
          0.000449281,
          0.00047632699999999997,
          0.000445331,
          0.000464486,
          0.00045348,
          0.000467415,
          0.000446024,
          0.00046383800000000005,
          0.000453015,
          0.00046066,
          0.000451448,
          0.000469432,
          0.00045542099999999996,
          0.000455434,
          0.000449909,
          0.00047918900000000004,
          0.000446883,
          0.000467288,
          0.00045458300000000005,
          0.00046169900000000004,
          0.00046127,
          0.000458223,
          0.000465582,
          0.000454184,
          0.000460368,
          0.000460345,
          0.000466228,
          0.00045224400000000003,
          0.000478452,
          0.000441324,
          0.00046591199999999997,
          0.00045203699999999997,
          0.00047022199999999996,
          0.000446565,
          0.000467158,
          0.000453811,
          0.00047326400000000004,
          0.00044464300000000005,
          0.00046821199999999997,
          0.000446977,
          0.00047942,
          0.000448412,
          0.00047230300000000003,
          0.00044658,
          0.000477429,
          0.000446591,
          0.000469077,
          0.000444885,
          0.000462457,
          0.00046611,
          0.000477955,
          0.00044561300000000003,
          0.000465939,
          0.000474615,
          0.00046070400000000004,
          0.000465682,
          0.000458191,
          0.00045398300000000003,
          0.00046776900000000004,
          0.000458333,
          0.00046781,
          0.000466985,
          0.000459286,
          0.000457783,
          0.000448137,
          0.00046696199999999997,
          0.00044700199999999995,
          0.000463673,
          0.000458851,
          0.000470517,
          0.00045613,
          0.00047372800000000003,
          0.000460055,
          0.000468596,
          0.000569543,
          0.00046982199999999995,
          0.000454937,
          0.000474056,
          0.000458044,
          0.000454886,
          0.000442089,
          0.00046703699999999995,
          0.00044399,
          0.00046760000000000004,
          0.00045034199999999995,
          0.00047079099999999997,
          0.000448975,
          0.000488263,
          0.000450006,
          0.00046380099999999996,
          0.00044434199999999997,
          0.000478024,
          0.00044593199999999996,
          0.000469686,
          0.00045074300000000003,
          0.00048384599999999996,
          0.00045864699999999996,
          0.000466402,
          0.00045691300000000003,
          0.00046068,
          0.000461479,
          0.000455634,
          0.000449268,
          0.000464536,
          0.000482629,
          0.00047024800000000004,
          0.000460436,
          0.000462254,
          0.000457841,
          0.000460703,
          0.00047686800000000003,
          0.000453971,
          0.000464525,
          0.000446779,
          0.000463763,
          0.000450867,
          0.000458074,
          0.00044719800000000005,
          0.000464186,
          0.00044524699999999996,
          0.000468815,
          0.00045191599999999996,
          0.000473961,
          0.000445341,
          0.0004678,
          0.000453177,
          0.000461439,
          0.000453712,
          0.00046345,
          0.000457602,
          0.00047064800000000005,
          0.000441649,
          0.000467721,
          0.000452223,
          0.00045446099999999997,
          0.00046435800000000006,
          0.000458239,
          0.000458134,
          0.000462554,
          0.000459328,
          0.000454698,
          0.000464341,
          0.00045240199999999997,
          0.000465792,
          0.000462675,
          0.000465562,
          0.000447426,
          0.00048016199999999996,
          0.000454164,
          0.000467546,
          0.000444921,
          0.00045838599999999997,
          0.000448654,
          0.000469677,
          0.00044883900000000003,
          0.00046812599999999997,
          0.000449864,
          0.000479369,
          0.000464214,
          0.000469558,
          0.00044364599999999996,
          0.000463664,
          0.000465837,
          0.00045632800000000004,
          0.000473071,
          0.000451096,
          0.00046069199999999996,
          0.00045287,
          0.000465761,
          0.000447484,
          0.000481849,
          0.000449102,
          0.00046647199999999995,
          0.000454894,
          0.000469251,
          0.00045654800000000003,
          0.00046046,
          0.00045196699999999995,
          0.000468754,
          0.000454594,
          0.000462936,
          0.00045902,
          0.00046998699999999994,
          0.00045461199999999996,
          0.00046717300000000003,
          0.00044655599999999997,
          0.000475338,
          0.00045232800000000005,
          0.00046035,
          0.0005687180000000001,
          0.000464038,
          0.00047711300000000004,
          0.00046186199999999995,
          0.000460397,
          0.000456859,
          0.00046328,
          0.00045072300000000004,
          0.000482861,
          0.000451771,
          0.00046622300000000004,
          0.000442655,
          0.000471115,
          0.000449568,
          0.00046087099999999996,
          0.000454409,
          0.000465219,
          0.000443476,
          0.00047138599999999996,
          0.000447659,
          0.00047900199999999997,
          0.000454529,
          0.000464899,
          0.000445498,
          0.000461265,
          0.00045499699999999995,
          0.000473391,
          0.000452679
         ],
         "xbins": {
          "end": 0.00097788,
          "size": 0.00009778799999999999,
          "start": 0
         }
        },
        {
         "name": "Branch and Bound",
         "opacity": 0.75,
         "type": "histogram",
         "x": [
          0.000006705,
          0.0000023919999999999997,
          0.00000411,
          0.000003585,
          0.000718012,
          0.000002487,
          0.000769632,
          0.0007852019999999999,
          0.000004063,
          0.000003856,
          0.000003625,
          0.0000023469999999999997,
          0.0008250439999999999,
          0.0000023830000000000003,
          0.0008124810000000001,
          0.000003661,
          0.000002386,
          0.000868376,
          0.0008079480000000001,
          0.000009006,
          0.000002824,
          0.0008019489999999999,
          0.0008280319999999999,
          0.0008353999999999999,
          0.000799916,
          0.000780541,
          0.000003185,
          0.0000024819999999999997,
          0.000003068,
          0.000751722,
          0.0007901439999999999,
          0.000772063,
          0.00076151,
          0.00017900099999999998,
          0.000751029,
          0.000002914,
          0.00006911100000000001,
          0.00082778,
          0.00000273,
          0.000007961,
          0.000807616,
          0.000002876,
          0.0008178910000000001,
          0.00083644,
          0.000786362,
          0.00039348599999999997,
          0.0008420289999999999,
          0.000003225,
          0.00079601,
          0.0007844719999999999,
          0.000751952,
          0.0000034689999999999997,
          0.000002504,
          0.0000036089999999999997,
          0.0008185930000000001,
          0.000816415,
          0.000002427,
          0.0007551480000000001,
          0.000801435,
          0.000004974,
          0.000002727,
          0.0007967339999999999,
          0.0007764769999999999,
          0.000773947,
          0.0007436089999999999,
          0.000003937,
          0.000792298,
          0.000002881,
          0.0008237339999999999,
          0.0008220619999999999,
          0.00000536,
          0.000002659,
          0.000003327,
          0.0008027080000000001,
          0.000831873,
          0.000002506,
          0.0008348860000000001,
          0.000812985,
          0.000003703,
          0.000003107,
          0.0008002339999999999,
          0.000003663,
          0.000002793,
          0.000812305,
          0.0008183289999999999,
          0.000796135,
          0.0008218619999999999,
          0.000767332,
          0.000766522,
          0.000003302,
          0.000853867,
          0.000817803,
          0.0007657610000000001,
          0.0007886719999999999,
          0.0000035060000000000004,
          0.000004897,
          0.000769975,
          0.000054618000000000005,
          0.000826129,
          0.000002824,
          0.00008218,
          0.000002618,
          0.000030533,
          0.0008496910000000001,
          0.000820503,
          0.000804459,
          0.000854245,
          0.0000027469999999999997,
          0.0000028510000000000003,
          0.000872498,
          0.000029334,
          0.000821725,
          0.00087735,
          0.00002654,
          0.000836382,
          0.000852836,
          0.000851891,
          0.000003198,
          0.000844763,
          0.000850579,
          0.000002595,
          0.000022814000000000002,
          0.0008284910000000001,
          0.0000029169999999999998,
          0.000004048,
          0.0008060960000000001,
          0.00085331,
          0.000774885,
          0.000027360999999999998,
          0.00088708,
          0.000802773,
          0.000846548,
          0.0000071610000000000006,
          0.0000029039999999999996,
          0.00078734,
          0.0000038080000000000002,
          0.0008317730000000001,
          0.00040139900000000004,
          0.000003365,
          0.000785322,
          0.000003409,
          0.000002606,
          0.0000036269999999999997,
          0.000033348,
          0.0008599739999999999,
          0.000038078000000000004,
          0.00085006,
          0.0008939610000000001,
          0.000899762,
          0.000002574,
          0.00076776,
          0.0007984060000000001,
          0.000003396,
          0.000005115,
          0.000837647,
          0.000004191,
          0.000832124,
          0.000003364,
          0.00000473,
          0.00080241,
          0.000002867,
          0.00037558800000000005,
          0.000833062,
          0.00078394,
          0.000047273,
          0.00080995,
          0.0008305210000000001,
          0.000859112,
          0.000009068999999999999,
          0.0007951519999999999,
          0.000818912,
          0.000870821,
          0.000778403,
          0.000009227,
          0.000006611,
          0.0008698260000000001,
          0.0008414039999999999,
          0.000820645,
          0.0007973419999999999,
          0.000857922,
          0.0000027000000000000004,
          0.000850787,
          0.0000043580000000000005,
          0.000808656,
          0.00010195899999999999,
          0.000002707,
          0.00081233,
          0.000739796,
          0.000004532,
          0.00083559,
          0.000826688,
          0.0008607889999999999,
          0.000003242,
          0.000838274,
          0.000852643,
          0.000005763,
          0.0008840569999999999,
          0.000002848,
          0.0000048419999999999996,
          0.000119905,
          0.000003355,
          0.000846862,
          0.000002662,
          0.000762662,
          0.00002191,
          0.000043864,
          0.000878213,
          0.000830546,
          0.0008452360000000001,
          0.000872936,
          0.000003375,
          0.0000026530000000000003,
          0.000002561,
          0.000004412,
          0.000878575,
          0.000831367,
          0.000907869,
          0.000834126,
          0.0008660769999999999,
          0.000010176,
          0.000829604,
          0.000002813,
          0.000878222,
          0.000003122,
          0.00088347,
          0.000841728,
          0.0008686130000000001,
          0.000005133,
          0.000003589,
          0.0008226710000000001,
          0.000007348,
          0.0000030210000000000004,
          0.000912371,
          0.000012812999999999999,
          0.000002893,
          0.000907412,
          0.000002661,
          0.000029882,
          0.000836917,
          0.000004808,
          0.000805943,
          0.0008194760000000001,
          0.0009108539999999999,
          0.000841603,
          0.0000026839999999999996,
          0.000885316,
          0.000871938,
          0.00082485,
          0.00042643,
          0.0000026339999999999997,
          0.00091854,
          0.000004998,
          0.000863831,
          0.000919648,
          0.000861423,
          0.000900016,
          0.0000045939999999999996,
          0.000381824,
          0.000002578,
          0.000890843,
          0.000851326,
          0.000814882,
          0.0008221680000000001,
          0.0009215019999999999,
          0.000878235,
          0.0008509069999999999,
          0.000975097,
          0.000077442,
          0.000889072,
          0.0008769439999999999,
          0.000004745,
          0.000003333,
          0.00000748,
          0.00002275,
          0.000006702999999999999,
          0.000902795,
          0.000004461,
          0.000870797,
          0.000875931,
          0.000002929,
          0.000833075,
          0.0009104769999999999,
          0.00000717,
          0.0008743360000000001,
          0.0000030839999999999996,
          0.00080355,
          0.000878147,
          0.0009062889999999999,
          0.000134896,
          0.0008046039999999999,
          0.000006094,
          0.000902135,
          0.000865687,
          0.000797069,
          0.000004019,
          0.000002625,
          0.000003483,
          0.000002947,
          0.000003796,
          0.000003775,
          0.0000031780000000000003,
          0.000002545,
          0.0008164060000000001,
          0.000003184,
          0.000851524,
          0.000006395,
          0.000004545,
          0.000847407,
          0.000003045,
          0.000907412,
          0.000002847,
          0.000850811,
          0.0009019610000000001,
          0.000890462,
          0.000006242999999999999,
          0.000004008,
          0.000011595,
          0.000005545,
          0.000855759,
          0.000003162,
          0.000003113,
          0.0008766469999999999,
          0.0009053039999999999,
          0.00000312,
          0.000874188,
          0.0000042999999999999995,
          0.000853481,
          0.0009063119999999999,
          0.0009139889999999999,
          0.000002682,
          0.0008588339999999999,
          0.000071153,
          0.000003028,
          0.000002616,
          0.000801865,
          0.00000365,
          0.00087152,
          0.000004391,
          0.000404864,
          0.000846493,
          0.0000028610000000000002,
          0.000004253,
          0.000842854,
          0.000004118,
          0.000003009,
          0.000890845,
          0.0000031689999999999996,
          0.000864948,
          0.000003625,
          0.00042730599999999996,
          0.0008397010000000001,
          0.00000576,
          0.000002865,
          0.00085173,
          0.0000028060000000000003,
          0.000252128,
          0.000907913,
          0.000843506,
          0.000006075,
          0.000049948000000000004,
          0.000002992,
          0.000865407,
          0.00091993,
          0.000016375,
          0.000006256,
          0.000026085,
          0.000880864,
          0.0009006519999999999,
          0.000069497,
          0.0009489289999999999,
          0.0009517530000000001,
          0.00008232799999999999,
          0.000913988,
          0.000911334,
          0.00000289,
          0.000002767,
          0.000004462,
          0.000044928999999999996,
          0.000011300999999999999,
          0.000010973,
          0.000002588,
          0.0008779910000000001,
          0.00086317,
          0.000898438,
          0.0008796380000000001,
          0.000004298,
          0.000003027,
          0.000004472,
          0.000004802,
          0.000005084,
          0.00000547,
          0.000006841,
          0.000002602,
          0.0008758689999999999,
          0.000951957,
          0.00081443,
          0.000005400000000000001,
          0.000188278,
          0.000002844,
          0.000880371,
          0.000005594,
          0.000896512,
          0.000858147,
          0.000016582,
          0.0008567410000000001,
          0.0000029630000000000003,
          0.000009816,
          0.000002732,
          0.000112489,
          0.00091057,
          0.000003077,
          0.000818893,
          0.000006624,
          0.000005785,
          0.000897108,
          0.000415706,
          0.000020008,
          0.0008186889999999999,
          0.000007943,
          0.000882772,
          0.00000307,
          0.0009544260000000001,
          0.000854603,
          0.00013307100000000001,
          0.000511564,
          0.00000316,
          0.00092203,
          0.000002654,
          0.000919213,
          0.000021711999999999998,
          0.000003811,
          0.000004821,
          0.000018836,
          0.00084851,
          0.0008828439999999999,
          0.000006671,
          0.00001018,
          0.000887549,
          0.000031481,
          0.0000030289999999999997,
          0.000004952,
          0.000003185,
          0.000885877,
          0.0009042,
          0.00097788,
          0.000182817,
          0.000848205,
          0.000004256,
          0.000003087,
          0.000019394,
          0.000925567,
          0.000911997,
          0.000936125,
          0.000003158,
          0.000003444,
          0.000825454,
          0.000003103,
          0.000006499,
          0.000002867,
          0.0000063710000000000005,
          0.000911969,
          0.000010413,
          0.000002646,
          0.00081672,
          0.000002695,
          0.000002773,
          0.00000349,
          0.000942074,
          0.0008352419999999999,
          0.000939607,
          0.000907611,
          0.0000028730000000000003,
          0.0000034610000000000004,
          0.000801964,
          0.000002793,
          0.000897462,
          0.000009046,
          0.000004754,
          0.000012737,
          0.000896847,
          0.000004839,
          0.0008945460000000001,
          0.0000074579999999999996,
          0.0008619130000000001,
          0.000002928,
          0.000003045,
          0.0000033810000000000003,
          0.000891483,
          0.000008869,
          0.00006876899999999999,
          0.000896723,
          0.000946998,
          0.000002935,
          0.000004057,
          0.0008621239999999999,
          0.0009195210000000001,
          0.00038290199999999996,
          0.000005275,
          0.000006372,
          0.000880586
         ],
         "xbins": {
          "end": 0.00097788,
          "size": 0.00009778799999999999,
          "start": 0
         }
        }
       ],
       "layout": {
        "bargap": 0.2,
        "bargroupgap": 0.1,
        "barmode": "overlay",
        "template": {
         "data": {
          "bar": [
           {
            "error_x": {
             "color": "#2a3f5f"
            },
            "error_y": {
             "color": "#2a3f5f"
            },
            "marker": {
             "line": {
              "color": "#E5ECF6",
              "width": 0.5
             }
            },
            "type": "bar"
           }
          ],
          "barpolar": [
           {
            "marker": {
             "line": {
              "color": "#E5ECF6",
              "width": 0.5
             }
            },
            "type": "barpolar"
           }
          ],
          "carpet": [
           {
            "aaxis": {
             "endlinecolor": "#2a3f5f",
             "gridcolor": "white",
             "linecolor": "white",
             "minorgridcolor": "white",
             "startlinecolor": "#2a3f5f"
            },
            "baxis": {
             "endlinecolor": "#2a3f5f",
             "gridcolor": "white",
             "linecolor": "white",
             "minorgridcolor": "white",
             "startlinecolor": "#2a3f5f"
            },
            "type": "carpet"
           }
          ],
          "choropleth": [
           {
            "colorbar": {
             "outlinewidth": 0,
             "ticks": ""
            },
            "type": "choropleth"
           }
          ],
          "contour": [
           {
            "colorbar": {
             "outlinewidth": 0,
             "ticks": ""
            },
            "colorscale": [
             [
              0,
              "#0d0887"
             ],
             [
              0.1111111111111111,
              "#46039f"
             ],
             [
              0.2222222222222222,
              "#7201a8"
             ],
             [
              0.3333333333333333,
              "#9c179e"
             ],
             [
              0.4444444444444444,
              "#bd3786"
             ],
             [
              0.5555555555555556,
              "#d8576b"
             ],
             [
              0.6666666666666666,
              "#ed7953"
             ],
             [
              0.7777777777777778,
              "#fb9f3a"
             ],
             [
              0.8888888888888888,
              "#fdca26"
             ],
             [
              1,
              "#f0f921"
             ]
            ],
            "type": "contour"
           }
          ],
          "contourcarpet": [
           {
            "colorbar": {
             "outlinewidth": 0,
             "ticks": ""
            },
            "type": "contourcarpet"
           }
          ],
          "heatmap": [
           {
            "colorbar": {
             "outlinewidth": 0,
             "ticks": ""
            },
            "colorscale": [
             [
              0,
              "#0d0887"
             ],
             [
              0.1111111111111111,
              "#46039f"
             ],
             [
              0.2222222222222222,
              "#7201a8"
             ],
             [
              0.3333333333333333,
              "#9c179e"
             ],
             [
              0.4444444444444444,
              "#bd3786"
             ],
             [
              0.5555555555555556,
              "#d8576b"
             ],
             [
              0.6666666666666666,
              "#ed7953"
             ],
             [
              0.7777777777777778,
              "#fb9f3a"
             ],
             [
              0.8888888888888888,
              "#fdca26"
             ],
             [
              1,
              "#f0f921"
             ]
            ],
            "type": "heatmap"
           }
          ],
          "heatmapgl": [
           {
            "colorbar": {
             "outlinewidth": 0,
             "ticks": ""
            },
            "colorscale": [
             [
              0,
              "#0d0887"
             ],
             [
              0.1111111111111111,
              "#46039f"
             ],
             [
              0.2222222222222222,
              "#7201a8"
             ],
             [
              0.3333333333333333,
              "#9c179e"
             ],
             [
              0.4444444444444444,
              "#bd3786"
             ],
             [
              0.5555555555555556,
              "#d8576b"
             ],
             [
              0.6666666666666666,
              "#ed7953"
             ],
             [
              0.7777777777777778,
              "#fb9f3a"
             ],
             [
              0.8888888888888888,
              "#fdca26"
             ],
             [
              1,
              "#f0f921"
             ]
            ],
            "type": "heatmapgl"
           }
          ],
          "histogram": [
           {
            "marker": {
             "colorbar": {
              "outlinewidth": 0,
              "ticks": ""
             }
            },
            "type": "histogram"
           }
          ],
          "histogram2d": [
           {
            "colorbar": {
             "outlinewidth": 0,
             "ticks": ""
            },
            "colorscale": [
             [
              0,
              "#0d0887"
             ],
             [
              0.1111111111111111,
              "#46039f"
             ],
             [
              0.2222222222222222,
              "#7201a8"
             ],
             [
              0.3333333333333333,
              "#9c179e"
             ],
             [
              0.4444444444444444,
              "#bd3786"
             ],
             [
              0.5555555555555556,
              "#d8576b"
             ],
             [
              0.6666666666666666,
              "#ed7953"
             ],
             [
              0.7777777777777778,
              "#fb9f3a"
             ],
             [
              0.8888888888888888,
              "#fdca26"
             ],
             [
              1,
              "#f0f921"
             ]
            ],
            "type": "histogram2d"
           }
          ],
          "histogram2dcontour": [
           {
            "colorbar": {
             "outlinewidth": 0,
             "ticks": ""
            },
            "colorscale": [
             [
              0,
              "#0d0887"
             ],
             [
              0.1111111111111111,
              "#46039f"
             ],
             [
              0.2222222222222222,
              "#7201a8"
             ],
             [
              0.3333333333333333,
              "#9c179e"
             ],
             [
              0.4444444444444444,
              "#bd3786"
             ],
             [
              0.5555555555555556,
              "#d8576b"
             ],
             [
              0.6666666666666666,
              "#ed7953"
             ],
             [
              0.7777777777777778,
              "#fb9f3a"
             ],
             [
              0.8888888888888888,
              "#fdca26"
             ],
             [
              1,
              "#f0f921"
             ]
            ],
            "type": "histogram2dcontour"
           }
          ],
          "mesh3d": [
           {
            "colorbar": {
             "outlinewidth": 0,
             "ticks": ""
            },
            "type": "mesh3d"
           }
          ],
          "parcoords": [
           {
            "line": {
             "colorbar": {
              "outlinewidth": 0,
              "ticks": ""
             }
            },
            "type": "parcoords"
           }
          ],
          "pie": [
           {
            "automargin": true,
            "type": "pie"
           }
          ],
          "scatter": [
           {
            "marker": {
             "colorbar": {
              "outlinewidth": 0,
              "ticks": ""
             }
            },
            "type": "scatter"
           }
          ],
          "scatter3d": [
           {
            "line": {
             "colorbar": {
              "outlinewidth": 0,
              "ticks": ""
             }
            },
            "marker": {
             "colorbar": {
              "outlinewidth": 0,
              "ticks": ""
             }
            },
            "type": "scatter3d"
           }
          ],
          "scattercarpet": [
           {
            "marker": {
             "colorbar": {
              "outlinewidth": 0,
              "ticks": ""
             }
            },
            "type": "scattercarpet"
           }
          ],
          "scattergeo": [
           {
            "marker": {
             "colorbar": {
              "outlinewidth": 0,
              "ticks": ""
             }
            },
            "type": "scattergeo"
           }
          ],
          "scattergl": [
           {
            "marker": {
             "colorbar": {
              "outlinewidth": 0,
              "ticks": ""
             }
            },
            "type": "scattergl"
           }
          ],
          "scattermapbox": [
           {
            "marker": {
             "colorbar": {
              "outlinewidth": 0,
              "ticks": ""
             }
            },
            "type": "scattermapbox"
           }
          ],
          "scatterpolar": [
           {
            "marker": {
             "colorbar": {
              "outlinewidth": 0,
              "ticks": ""
             }
            },
            "type": "scatterpolar"
           }
          ],
          "scatterpolargl": [
           {
            "marker": {
             "colorbar": {
              "outlinewidth": 0,
              "ticks": ""
             }
            },
            "type": "scatterpolargl"
           }
          ],
          "scatterternary": [
           {
            "marker": {
             "colorbar": {
              "outlinewidth": 0,
              "ticks": ""
             }
            },
            "type": "scatterternary"
           }
          ],
          "surface": [
           {
            "colorbar": {
             "outlinewidth": 0,
             "ticks": ""
            },
            "colorscale": [
             [
              0,
              "#0d0887"
             ],
             [
              0.1111111111111111,
              "#46039f"
             ],
             [
              0.2222222222222222,
              "#7201a8"
             ],
             [
              0.3333333333333333,
              "#9c179e"
             ],
             [
              0.4444444444444444,
              "#bd3786"
             ],
             [
              0.5555555555555556,
              "#d8576b"
             ],
             [
              0.6666666666666666,
              "#ed7953"
             ],
             [
              0.7777777777777778,
              "#fb9f3a"
             ],
             [
              0.8888888888888888,
              "#fdca26"
             ],
             [
              1,
              "#f0f921"
             ]
            ],
            "type": "surface"
           }
          ],
          "table": [
           {
            "cells": {
             "fill": {
              "color": "#EBF0F8"
             },
             "line": {
              "color": "white"
             }
            },
            "header": {
             "fill": {
              "color": "#C8D4E3"
             },
             "line": {
              "color": "white"
             }
            },
            "type": "table"
           }
          ]
         },
         "layout": {
          "annotationdefaults": {
           "arrowcolor": "#2a3f5f",
           "arrowhead": 0,
           "arrowwidth": 1
          },
          "coloraxis": {
           "colorbar": {
            "outlinewidth": 0,
            "ticks": ""
           }
          },
          "colorscale": {
           "diverging": [
            [
             0,
             "#8e0152"
            ],
            [
             0.1,
             "#c51b7d"
            ],
            [
             0.2,
             "#de77ae"
            ],
            [
             0.3,
             "#f1b6da"
            ],
            [
             0.4,
             "#fde0ef"
            ],
            [
             0.5,
             "#f7f7f7"
            ],
            [
             0.6,
             "#e6f5d0"
            ],
            [
             0.7,
             "#b8e186"
            ],
            [
             0.8,
             "#7fbc41"
            ],
            [
             0.9,
             "#4d9221"
            ],
            [
             1,
             "#276419"
            ]
           ],
           "sequential": [
            [
             0,
             "#0d0887"
            ],
            [
             0.1111111111111111,
             "#46039f"
            ],
            [
             0.2222222222222222,
             "#7201a8"
            ],
            [
             0.3333333333333333,
             "#9c179e"
            ],
            [
             0.4444444444444444,
             "#bd3786"
            ],
            [
             0.5555555555555556,
             "#d8576b"
            ],
            [
             0.6666666666666666,
             "#ed7953"
            ],
            [
             0.7777777777777778,
             "#fb9f3a"
            ],
            [
             0.8888888888888888,
             "#fdca26"
            ],
            [
             1,
             "#f0f921"
            ]
           ],
           "sequentialminus": [
            [
             0,
             "#0d0887"
            ],
            [
             0.1111111111111111,
             "#46039f"
            ],
            [
             0.2222222222222222,
             "#7201a8"
            ],
            [
             0.3333333333333333,
             "#9c179e"
            ],
            [
             0.4444444444444444,
             "#bd3786"
            ],
            [
             0.5555555555555556,
             "#d8576b"
            ],
            [
             0.6666666666666666,
             "#ed7953"
            ],
            [
             0.7777777777777778,
             "#fb9f3a"
            ],
            [
             0.8888888888888888,
             "#fdca26"
            ],
            [
             1,
             "#f0f921"
            ]
           ]
          },
          "colorway": [
           "#636efa",
           "#EF553B",
           "#00cc96",
           "#ab63fa",
           "#FFA15A",
           "#19d3f3",
           "#FF6692",
           "#B6E880",
           "#FF97FF",
           "#FECB52"
          ],
          "font": {
           "color": "#2a3f5f"
          },
          "geo": {
           "bgcolor": "white",
           "lakecolor": "white",
           "landcolor": "#E5ECF6",
           "showlakes": true,
           "showland": true,
           "subunitcolor": "white"
          },
          "hoverlabel": {
           "align": "left"
          },
          "hovermode": "closest",
          "mapbox": {
           "style": "light"
          },
          "paper_bgcolor": "white",
          "plot_bgcolor": "#E5ECF6",
          "polar": {
           "angularaxis": {
            "gridcolor": "white",
            "linecolor": "white",
            "ticks": ""
           },
           "bgcolor": "#E5ECF6",
           "radialaxis": {
            "gridcolor": "white",
            "linecolor": "white",
            "ticks": ""
           }
          },
          "scene": {
           "xaxis": {
            "backgroundcolor": "#E5ECF6",
            "gridcolor": "white",
            "gridwidth": 2,
            "linecolor": "white",
            "showbackground": true,
            "ticks": "",
            "zerolinecolor": "white"
           },
           "yaxis": {
            "backgroundcolor": "#E5ECF6",
            "gridcolor": "white",
            "gridwidth": 2,
            "linecolor": "white",
            "showbackground": true,
            "ticks": "",
            "zerolinecolor": "white"
           },
           "zaxis": {
            "backgroundcolor": "#E5ECF6",
            "gridcolor": "white",
            "gridwidth": 2,
            "linecolor": "white",
            "showbackground": true,
            "ticks": "",
            "zerolinecolor": "white"
           }
          },
          "shapedefaults": {
           "line": {
            "color": "#2a3f5f"
           }
          },
          "ternary": {
           "aaxis": {
            "gridcolor": "white",
            "linecolor": "white",
            "ticks": ""
           },
           "baxis": {
            "gridcolor": "white",
            "linecolor": "white",
            "ticks": ""
           },
           "bgcolor": "#E5ECF6",
           "caxis": {
            "gridcolor": "white",
            "linecolor": "white",
            "ticks": ""
           }
          },
          "title": {
           "x": 0.05
          },
          "xaxis": {
           "automargin": true,
           "gridcolor": "white",
           "linecolor": "white",
           "ticks": "",
           "title": {
            "standoff": 15
           },
           "zerolinecolor": "white",
           "zerolinewidth": 2
          },
          "yaxis": {
           "automargin": true,
           "gridcolor": "white",
           "linecolor": "white",
           "ticks": "",
           "title": {
            "standoff": 15
           },
           "zerolinecolor": "white",
           "zerolinewidth": 2
          }
         }
        },
        "title": {
         "text": "Histogram of time complexities (set: nr, 27 items)"
        },
        "xaxis": {
         "dtick": 0.00009778799999999999,
         "range": [
          0,
          0.00097788
         ],
         "showgrid": true,
         "tick0": 0,
         "tickmode": "linear"
        }
       }
      },
      "text/html": "<div>                            <div id=\"f7bd3cd8-bb42-4999-a98d-ef4db18d325d\" class=\"plotly-graph-div\" style=\"height:525px; width:100%;\"></div>            <script type=\"text/javascript\">                require([\"plotly\"], function(Plotly) {                    window.PLOTLYENV=window.PLOTLYENV || {};                                    if (document.getElementById(\"f7bd3cd8-bb42-4999-a98d-ef4db18d325d\")) {                    Plotly.newPlot(                        \"f7bd3cd8-bb42-4999-a98d-ef4db18d325d\",                        [{\"name\": \"Brute Force\", \"opacity\": 0.75, \"type\": \"histogram\", \"x\": [0.000677721, 0.0006861580000000001, 0.000674241, 0.000655858, 0.000621598, 0.000658234, 0.0006630360000000001, 0.0006744969999999999, 0.000677858, 0.000675728, 0.000671955, 0.000668355, 0.000661809, 0.000678957, 0.000666495, 0.000667264, 0.000680293, 0.0006873239999999999, 0.00071405, 0.000664733, 0.0006620710000000001, 0.000673677, 0.0006648639999999999, 0.000667944, 0.000668784, 0.000664668, 0.000672225, 0.0006797239999999999, 0.000676536, 0.0006702780000000001, 0.000664153, 0.000671278, 0.000665725, 0.000657983, 0.0006591660000000001, 0.0006697869999999999, 0.00067376, 0.0006596489999999999, 0.00066643, 0.000654642, 0.000634978, 0.000685423, 0.000783779, 0.000783442, 0.00071945, 0.000655608, 0.000662157, 0.000690254, 0.000667582, 0.00066805, 0.000669742, 0.0006667610000000001, 0.000668992, 0.00068481, 0.000669114, 0.0006617999999999999, 0.000667928, 0.000655778, 0.000669871, 0.0006841989999999999, 0.00066997, 0.000660056, 0.000664584, 0.00065057, 0.000664961, 0.000685064, 0.000662163, 0.000655821, 0.0006605710000000001, 0.000652742, 0.000656546, 0.000666867, 0.000653896, 0.0006525719999999999, 0.000660208, 0.000654732, 0.000675424, 0.00063241, 0.000621615, 0.00062634, 0.0006917360000000001, 0.00073303, 0.000646367, 0.000666885, 0.000609133, 0.000618189, 0.0005850569999999999, 0.000595252, 0.000616654, 0.0007262389999999999, 0.0007345660000000001, 0.000709157, 0.000714106, 0.000712837, 0.000495756, 0.000464952, 0.000449129, 0.00044291599999999996, 0.00045172800000000004, 0.00046136800000000003, 0.000446936, 0.000449279, 0.000441524, 0.000449786, 0.000454423, 0.000442866, 0.000457056, 0.000457457, 0.000451475, 0.000450791, 0.00044621099999999996, 0.00045209199999999997, 0.000457783, 0.000440774, 0.000452566, 0.00045242199999999996, 0.000447794, 0.00045191, 0.000446861, 0.000458281, 0.000453516, 0.000459109, 0.000445751, 0.00044645, 0.00045652800000000004, 0.000504217, 0.000604967, 0.000444994, 0.000464878, 0.00046479599999999996, 0.00044621, 0.000485039, 0.000452563, 0.00045662800000000005, 0.000469713, 0.000454737, 0.000476546, 0.000446431, 0.000473666, 0.00044023300000000005, 0.00047392800000000003, 0.000443711, 0.00046229699999999997, 0.000448444, 0.00046123400000000004, 0.000447766, 0.00046967, 0.00045599599999999996, 0.00047168199999999996, 0.000455564, 0.000468608, 0.000444269, 0.000473636, 0.000448881, 0.00046504, 0.000453303, 0.0004961459999999999, 0.00045700000000000005, 0.00047106599999999997, 0.000440732, 0.000463352, 0.000448909, 0.00046221699999999996, 0.00044835400000000004, 0.00047063199999999996, 0.00046122599999999996, 0.000466145, 0.00045269099999999997, 0.000459628, 0.00045692, 0.00045336800000000005, 0.000471638, 0.00046733800000000003, 0.000456081, 0.000467556, 0.00045708699999999996, 0.000460713, 0.000462545, 0.000450659, 0.000459176, 0.000462575, 0.000470407, 0.00045012, 0.000462175, 0.000442354, 0.00047516199999999995, 0.000442645, 0.000455403, 0.000456625, 0.00047560699999999996, 0.00045095199999999996, 0.000468744, 0.00045394900000000004, 0.000465653, 0.000447205, 0.00046394599999999997, 0.000454144, 0.00047368400000000004, 0.000459434, 0.000467675, 0.00045258300000000005, 0.000466592, 0.000462866, 0.000462261, 0.00044270599999999996, 0.00046618699999999996, 0.000457469, 0.000468165, 0.00046087300000000004, 0.000451205, 0.00046045900000000003, 0.000458122, 0.000460566, 0.000452097, 0.000476639, 0.000452624, 0.000466846, 0.000443464, 0.00047373900000000004, 0.00044651699999999995, 0.00046837699999999996, 0.00044956099999999996, 0.000463009, 0.000460711, 0.00048448400000000003, 0.00045171699999999997, 0.000465801, 0.00045275800000000004, 0.000462889, 0.000442383, 0.000477283, 0.000477889, 0.000456191, 0.000465236, 0.00045248, 0.00047037699999999996, 0.000448189, 0.000469566, 0.00044008599999999996, 0.000476845, 0.00044507199999999997, 0.00047485699999999997, 0.00048026199999999996, 0.000560051, 0.00044849699999999996, 0.00046527900000000003, 0.000445694, 0.000465075, 0.00044462699999999996, 0.000497276, 0.00045170800000000005, 0.000472514, 0.00044335800000000003, 0.000462192, 0.000447554, 0.00046250400000000003, 0.00045169199999999996, 0.000461924, 0.000469634, 0.00046927300000000003, 0.000451116, 0.000463609, 0.00045099699999999996, 0.00045419199999999996, 0.000474376, 0.000444444, 0.00046938199999999996, 0.000451684, 0.000450895, 0.000456817, 0.000451576, 0.000459265, 0.00045604699999999995, 0.000454239, 0.00045843, 0.000457991, 0.000477449, 0.000450765, 0.000465387, 0.00045504, 0.000464084, 0.00044304, 0.000472276, 0.000449281, 0.00047632699999999997, 0.000445331, 0.000464486, 0.00045348, 0.000467415, 0.000446024, 0.00046383800000000005, 0.000453015, 0.00046066, 0.000451448, 0.000469432, 0.00045542099999999996, 0.000455434, 0.000449909, 0.00047918900000000004, 0.000446883, 0.000467288, 0.00045458300000000005, 0.00046169900000000004, 0.00046127, 0.000458223, 0.000465582, 0.000454184, 0.000460368, 0.000460345, 0.000466228, 0.00045224400000000003, 0.000478452, 0.000441324, 0.00046591199999999997, 0.00045203699999999997, 0.00047022199999999996, 0.000446565, 0.000467158, 0.000453811, 0.00047326400000000004, 0.00044464300000000005, 0.00046821199999999997, 0.000446977, 0.00047942, 0.000448412, 0.00047230300000000003, 0.00044658, 0.000477429, 0.000446591, 0.000469077, 0.000444885, 0.000462457, 0.00046611, 0.000477955, 0.00044561300000000003, 0.000465939, 0.000474615, 0.00046070400000000004, 0.000465682, 0.000458191, 0.00045398300000000003, 0.00046776900000000004, 0.000458333, 0.00046781, 0.000466985, 0.000459286, 0.000457783, 0.000448137, 0.00046696199999999997, 0.00044700199999999995, 0.000463673, 0.000458851, 0.000470517, 0.00045613, 0.00047372800000000003, 0.000460055, 0.000468596, 0.000569543, 0.00046982199999999995, 0.000454937, 0.000474056, 0.000458044, 0.000454886, 0.000442089, 0.00046703699999999995, 0.00044399, 0.00046760000000000004, 0.00045034199999999995, 0.00047079099999999997, 0.000448975, 0.000488263, 0.000450006, 0.00046380099999999996, 0.00044434199999999997, 0.000478024, 0.00044593199999999996, 0.000469686, 0.00045074300000000003, 0.00048384599999999996, 0.00045864699999999996, 0.000466402, 0.00045691300000000003, 0.00046068, 0.000461479, 0.000455634, 0.000449268, 0.000464536, 0.000482629, 0.00047024800000000004, 0.000460436, 0.000462254, 0.000457841, 0.000460703, 0.00047686800000000003, 0.000453971, 0.000464525, 0.000446779, 0.000463763, 0.000450867, 0.000458074, 0.00044719800000000005, 0.000464186, 0.00044524699999999996, 0.000468815, 0.00045191599999999996, 0.000473961, 0.000445341, 0.0004678, 0.000453177, 0.000461439, 0.000453712, 0.00046345, 0.000457602, 0.00047064800000000005, 0.000441649, 0.000467721, 0.000452223, 0.00045446099999999997, 0.00046435800000000006, 0.000458239, 0.000458134, 0.000462554, 0.000459328, 0.000454698, 0.000464341, 0.00045240199999999997, 0.000465792, 0.000462675, 0.000465562, 0.000447426, 0.00048016199999999996, 0.000454164, 0.000467546, 0.000444921, 0.00045838599999999997, 0.000448654, 0.000469677, 0.00044883900000000003, 0.00046812599999999997, 0.000449864, 0.000479369, 0.000464214, 0.000469558, 0.00044364599999999996, 0.000463664, 0.000465837, 0.00045632800000000004, 0.000473071, 0.000451096, 0.00046069199999999996, 0.00045287, 0.000465761, 0.000447484, 0.000481849, 0.000449102, 0.00046647199999999995, 0.000454894, 0.000469251, 0.00045654800000000003, 0.00046046, 0.00045196699999999995, 0.000468754, 0.000454594, 0.000462936, 0.00045902, 0.00046998699999999994, 0.00045461199999999996, 0.00046717300000000003, 0.00044655599999999997, 0.000475338, 0.00045232800000000005, 0.00046035, 0.0005687180000000001, 0.000464038, 0.00047711300000000004, 0.00046186199999999995, 0.000460397, 0.000456859, 0.00046328, 0.00045072300000000004, 0.000482861, 0.000451771, 0.00046622300000000004, 0.000442655, 0.000471115, 0.000449568, 0.00046087099999999996, 0.000454409, 0.000465219, 0.000443476, 0.00047138599999999996, 0.000447659, 0.00047900199999999997, 0.000454529, 0.000464899, 0.000445498, 0.000461265, 0.00045499699999999995, 0.000473391, 0.000452679], \"xbins\": {\"end\": 0.00097788, \"size\": 9.778799999999999e-05, \"start\": 0}}, {\"name\": \"Branch and Bound\", \"opacity\": 0.75, \"type\": \"histogram\", \"x\": [6.705e-06, 2.3919999999999997e-06, 4.11e-06, 3.585e-06, 0.000718012, 2.487e-06, 0.000769632, 0.0007852019999999999, 4.063e-06, 3.856e-06, 3.625e-06, 2.3469999999999997e-06, 0.0008250439999999999, 2.3830000000000003e-06, 0.0008124810000000001, 3.661e-06, 2.386e-06, 0.000868376, 0.0008079480000000001, 9.006e-06, 2.824e-06, 0.0008019489999999999, 0.0008280319999999999, 0.0008353999999999999, 0.000799916, 0.000780541, 3.185e-06, 2.4819999999999997e-06, 3.068e-06, 0.000751722, 0.0007901439999999999, 0.000772063, 0.00076151, 0.00017900099999999998, 0.000751029, 2.914e-06, 6.911100000000001e-05, 0.00082778, 2.73e-06, 7.961e-06, 0.000807616, 2.876e-06, 0.0008178910000000001, 0.00083644, 0.000786362, 0.00039348599999999997, 0.0008420289999999999, 3.225e-06, 0.00079601, 0.0007844719999999999, 0.000751952, 3.4689999999999997e-06, 2.504e-06, 3.6089999999999997e-06, 0.0008185930000000001, 0.000816415, 2.427e-06, 0.0007551480000000001, 0.000801435, 4.974e-06, 2.727e-06, 0.0007967339999999999, 0.0007764769999999999, 0.000773947, 0.0007436089999999999, 3.937e-06, 0.000792298, 2.881e-06, 0.0008237339999999999, 0.0008220619999999999, 5.36e-06, 2.659e-06, 3.327e-06, 0.0008027080000000001, 0.000831873, 2.506e-06, 0.0008348860000000001, 0.000812985, 3.703e-06, 3.107e-06, 0.0008002339999999999, 3.663e-06, 2.793e-06, 0.000812305, 0.0008183289999999999, 0.000796135, 0.0008218619999999999, 0.000767332, 0.000766522, 3.302e-06, 0.000853867, 0.000817803, 0.0007657610000000001, 0.0007886719999999999, 3.5060000000000004e-06, 4.897e-06, 0.000769975, 5.4618000000000005e-05, 0.000826129, 2.824e-06, 8.218e-05, 2.618e-06, 3.0533e-05, 0.0008496910000000001, 0.000820503, 0.000804459, 0.000854245, 2.7469999999999997e-06, 2.8510000000000003e-06, 0.000872498, 2.9334e-05, 0.000821725, 0.00087735, 2.654e-05, 0.000836382, 0.000852836, 0.000851891, 3.198e-06, 0.000844763, 0.000850579, 2.595e-06, 2.2814000000000002e-05, 0.0008284910000000001, 2.9169999999999998e-06, 4.048e-06, 0.0008060960000000001, 0.00085331, 0.000774885, 2.7360999999999998e-05, 0.00088708, 0.000802773, 0.000846548, 7.1610000000000006e-06, 2.9039999999999996e-06, 0.00078734, 3.8080000000000002e-06, 0.0008317730000000001, 0.00040139900000000004, 3.365e-06, 0.000785322, 3.409e-06, 2.606e-06, 3.6269999999999997e-06, 3.3348e-05, 0.0008599739999999999, 3.8078000000000004e-05, 0.00085006, 0.0008939610000000001, 0.000899762, 2.574e-06, 0.00076776, 0.0007984060000000001, 3.396e-06, 5.115e-06, 0.000837647, 4.191e-06, 0.000832124, 3.364e-06, 4.73e-06, 0.00080241, 2.867e-06, 0.00037558800000000005, 0.000833062, 0.00078394, 4.7273e-05, 0.00080995, 0.0008305210000000001, 0.000859112, 9.068999999999999e-06, 0.0007951519999999999, 0.000818912, 0.000870821, 0.000778403, 9.227e-06, 6.611e-06, 0.0008698260000000001, 0.0008414039999999999, 0.000820645, 0.0007973419999999999, 0.000857922, 2.7000000000000004e-06, 0.000850787, 4.3580000000000005e-06, 0.000808656, 0.00010195899999999999, 2.707e-06, 0.00081233, 0.000739796, 4.532e-06, 0.00083559, 0.000826688, 0.0008607889999999999, 3.242e-06, 0.000838274, 0.000852643, 5.763e-06, 0.0008840569999999999, 2.848e-06, 4.8419999999999996e-06, 0.000119905, 3.355e-06, 0.000846862, 2.662e-06, 0.000762662, 2.191e-05, 4.3864e-05, 0.000878213, 0.000830546, 0.0008452360000000001, 0.000872936, 3.375e-06, 2.6530000000000003e-06, 2.561e-06, 4.412e-06, 0.000878575, 0.000831367, 0.000907869, 0.000834126, 0.0008660769999999999, 1.0176e-05, 0.000829604, 2.813e-06, 0.000878222, 3.122e-06, 0.00088347, 0.000841728, 0.0008686130000000001, 5.133e-06, 3.589e-06, 0.0008226710000000001, 7.348e-06, 3.0210000000000004e-06, 0.000912371, 1.2812999999999999e-05, 2.893e-06, 0.000907412, 2.661e-06, 2.9882e-05, 0.000836917, 4.808e-06, 0.000805943, 0.0008194760000000001, 0.0009108539999999999, 0.000841603, 2.6839999999999996e-06, 0.000885316, 0.000871938, 0.00082485, 0.00042643, 2.6339999999999997e-06, 0.00091854, 4.998e-06, 0.000863831, 0.000919648, 0.000861423, 0.000900016, 4.5939999999999996e-06, 0.000381824, 2.578e-06, 0.000890843, 0.000851326, 0.000814882, 0.0008221680000000001, 0.0009215019999999999, 0.000878235, 0.0008509069999999999, 0.000975097, 7.7442e-05, 0.000889072, 0.0008769439999999999, 4.745e-06, 3.333e-06, 7.48e-06, 2.275e-05, 6.702999999999999e-06, 0.000902795, 4.461e-06, 0.000870797, 0.000875931, 2.929e-06, 0.000833075, 0.0009104769999999999, 7.17e-06, 0.0008743360000000001, 3.0839999999999996e-06, 0.00080355, 0.000878147, 0.0009062889999999999, 0.000134896, 0.0008046039999999999, 6.094e-06, 0.000902135, 0.000865687, 0.000797069, 4.019e-06, 2.625e-06, 3.483e-06, 2.947e-06, 3.796e-06, 3.775e-06, 3.1780000000000003e-06, 2.545e-06, 0.0008164060000000001, 3.184e-06, 0.000851524, 6.395e-06, 4.545e-06, 0.000847407, 3.045e-06, 0.000907412, 2.847e-06, 0.000850811, 0.0009019610000000001, 0.000890462, 6.242999999999999e-06, 4.008e-06, 1.1595e-05, 5.545e-06, 0.000855759, 3.162e-06, 3.113e-06, 0.0008766469999999999, 0.0009053039999999999, 3.12e-06, 0.000874188, 4.2999999999999995e-06, 0.000853481, 0.0009063119999999999, 0.0009139889999999999, 2.682e-06, 0.0008588339999999999, 7.1153e-05, 3.028e-06, 2.616e-06, 0.000801865, 3.65e-06, 0.00087152, 4.391e-06, 0.000404864, 0.000846493, 2.8610000000000002e-06, 4.253e-06, 0.000842854, 4.118e-06, 3.009e-06, 0.000890845, 3.1689999999999996e-06, 0.000864948, 3.625e-06, 0.00042730599999999996, 0.0008397010000000001, 5.76e-06, 2.865e-06, 0.00085173, 2.8060000000000003e-06, 0.000252128, 0.000907913, 0.000843506, 6.075e-06, 4.9948000000000004e-05, 2.992e-06, 0.000865407, 0.00091993, 1.6375e-05, 6.256e-06, 2.6085e-05, 0.000880864, 0.0009006519999999999, 6.9497e-05, 0.0009489289999999999, 0.0009517530000000001, 8.232799999999999e-05, 0.000913988, 0.000911334, 2.89e-06, 2.767e-06, 4.462e-06, 4.4928999999999996e-05, 1.1300999999999999e-05, 1.0973e-05, 2.588e-06, 0.0008779910000000001, 0.00086317, 0.000898438, 0.0008796380000000001, 4.298e-06, 3.027e-06, 4.472e-06, 4.802e-06, 5.084e-06, 5.47e-06, 6.841e-06, 2.602e-06, 0.0008758689999999999, 0.000951957, 0.00081443, 5.400000000000001e-06, 0.000188278, 2.844e-06, 0.000880371, 5.594e-06, 0.000896512, 0.000858147, 1.6582e-05, 0.0008567410000000001, 2.9630000000000003e-06, 9.816e-06, 2.732e-06, 0.000112489, 0.00091057, 3.077e-06, 0.000818893, 6.624e-06, 5.785e-06, 0.000897108, 0.000415706, 2.0008e-05, 0.0008186889999999999, 7.943e-06, 0.000882772, 3.07e-06, 0.0009544260000000001, 0.000854603, 0.00013307100000000001, 0.000511564, 3.16e-06, 0.00092203, 2.654e-06, 0.000919213, 2.1711999999999998e-05, 3.811e-06, 4.821e-06, 1.8836e-05, 0.00084851, 0.0008828439999999999, 6.671e-06, 1.018e-05, 0.000887549, 3.1481e-05, 3.0289999999999997e-06, 4.952e-06, 3.185e-06, 0.000885877, 0.0009042, 0.00097788, 0.000182817, 0.000848205, 4.256e-06, 3.087e-06, 1.9394e-05, 0.000925567, 0.000911997, 0.000936125, 3.158e-06, 3.444e-06, 0.000825454, 3.103e-06, 6.499e-06, 2.867e-06, 6.3710000000000005e-06, 0.000911969, 1.0413e-05, 2.646e-06, 0.00081672, 2.695e-06, 2.773e-06, 3.49e-06, 0.000942074, 0.0008352419999999999, 0.000939607, 0.000907611, 2.8730000000000003e-06, 3.4610000000000004e-06, 0.000801964, 2.793e-06, 0.000897462, 9.046e-06, 4.754e-06, 1.2737e-05, 0.000896847, 4.839e-06, 0.0008945460000000001, 7.4579999999999996e-06, 0.0008619130000000001, 2.928e-06, 3.045e-06, 3.3810000000000003e-06, 0.000891483, 8.869e-06, 6.876899999999999e-05, 0.000896723, 0.000946998, 2.935e-06, 4.057e-06, 0.0008621239999999999, 0.0009195210000000001, 0.00038290199999999996, 5.275e-06, 6.372e-06, 0.000880586], \"xbins\": {\"end\": 0.00097788, \"size\": 9.778799999999999e-05, \"start\": 0}}],                        {\"bargap\": 0.2, \"bargroupgap\": 0.1, \"barmode\": \"overlay\", \"template\": {\"data\": {\"bar\": [{\"error_x\": {\"color\": \"#2a3f5f\"}, \"error_y\": {\"color\": \"#2a3f5f\"}, \"marker\": {\"line\": {\"color\": \"#E5ECF6\", \"width\": 0.5}}, \"type\": \"bar\"}], \"barpolar\": [{\"marker\": {\"line\": {\"color\": \"#E5ECF6\", \"width\": 0.5}}, \"type\": \"barpolar\"}], \"carpet\": [{\"aaxis\": {\"endlinecolor\": \"#2a3f5f\", \"gridcolor\": \"white\", \"linecolor\": \"white\", \"minorgridcolor\": \"white\", \"startlinecolor\": \"#2a3f5f\"}, \"baxis\": {\"endlinecolor\": \"#2a3f5f\", \"gridcolor\": \"white\", \"linecolor\": \"white\", \"minorgridcolor\": \"white\", \"startlinecolor\": \"#2a3f5f\"}, \"type\": \"carpet\"}], \"choropleth\": [{\"colorbar\": {\"outlinewidth\": 0, \"ticks\": \"\"}, \"type\": \"choropleth\"}], \"contour\": [{\"colorbar\": {\"outlinewidth\": 0, \"ticks\": \"\"}, \"colorscale\": [[0.0, \"#0d0887\"], [0.1111111111111111, \"#46039f\"], [0.2222222222222222, \"#7201a8\"], [0.3333333333333333, \"#9c179e\"], [0.4444444444444444, \"#bd3786\"], [0.5555555555555556, \"#d8576b\"], [0.6666666666666666, \"#ed7953\"], [0.7777777777777778, \"#fb9f3a\"], [0.8888888888888888, \"#fdca26\"], [1.0, \"#f0f921\"]], \"type\": \"contour\"}], \"contourcarpet\": [{\"colorbar\": {\"outlinewidth\": 0, \"ticks\": \"\"}, \"type\": \"contourcarpet\"}], \"heatmap\": [{\"colorbar\": {\"outlinewidth\": 0, \"ticks\": \"\"}, \"colorscale\": [[0.0, \"#0d0887\"], [0.1111111111111111, \"#46039f\"], [0.2222222222222222, \"#7201a8\"], [0.3333333333333333, \"#9c179e\"], [0.4444444444444444, \"#bd3786\"], [0.5555555555555556, \"#d8576b\"], [0.6666666666666666, \"#ed7953\"], [0.7777777777777778, \"#fb9f3a\"], [0.8888888888888888, \"#fdca26\"], [1.0, \"#f0f921\"]], \"type\": \"heatmap\"}], \"heatmapgl\": [{\"colorbar\": {\"outlinewidth\": 0, \"ticks\": \"\"}, \"colorscale\": [[0.0, \"#0d0887\"], [0.1111111111111111, \"#46039f\"], [0.2222222222222222, \"#7201a8\"], [0.3333333333333333, \"#9c179e\"], [0.4444444444444444, \"#bd3786\"], [0.5555555555555556, \"#d8576b\"], [0.6666666666666666, \"#ed7953\"], [0.7777777777777778, \"#fb9f3a\"], [0.8888888888888888, \"#fdca26\"], [1.0, \"#f0f921\"]], \"type\": \"heatmapgl\"}], \"histogram\": [{\"marker\": {\"colorbar\": {\"outlinewidth\": 0, \"ticks\": \"\"}}, \"type\": \"histogram\"}], \"histogram2d\": [{\"colorbar\": {\"outlinewidth\": 0, \"ticks\": \"\"}, \"colorscale\": [[0.0, \"#0d0887\"], [0.1111111111111111, \"#46039f\"], [0.2222222222222222, \"#7201a8\"], [0.3333333333333333, \"#9c179e\"], [0.4444444444444444, \"#bd3786\"], [0.5555555555555556, \"#d8576b\"], [0.6666666666666666, \"#ed7953\"], [0.7777777777777778, \"#fb9f3a\"], [0.8888888888888888, \"#fdca26\"], [1.0, \"#f0f921\"]], \"type\": \"histogram2d\"}], \"histogram2dcontour\": [{\"colorbar\": {\"outlinewidth\": 0, \"ticks\": \"\"}, \"colorscale\": [[0.0, \"#0d0887\"], [0.1111111111111111, \"#46039f\"], [0.2222222222222222, \"#7201a8\"], [0.3333333333333333, \"#9c179e\"], [0.4444444444444444, \"#bd3786\"], [0.5555555555555556, \"#d8576b\"], [0.6666666666666666, \"#ed7953\"], [0.7777777777777778, \"#fb9f3a\"], [0.8888888888888888, \"#fdca26\"], [1.0, \"#f0f921\"]], \"type\": \"histogram2dcontour\"}], \"mesh3d\": [{\"colorbar\": {\"outlinewidth\": 0, \"ticks\": \"\"}, \"type\": \"mesh3d\"}], \"parcoords\": [{\"line\": {\"colorbar\": {\"outlinewidth\": 0, \"ticks\": \"\"}}, \"type\": \"parcoords\"}], \"pie\": [{\"automargin\": true, \"type\": \"pie\"}], \"scatter\": [{\"marker\": {\"colorbar\": {\"outlinewidth\": 0, \"ticks\": \"\"}}, \"type\": \"scatter\"}], \"scatter3d\": [{\"line\": {\"colorbar\": {\"outlinewidth\": 0, \"ticks\": \"\"}}, \"marker\": {\"colorbar\": {\"outlinewidth\": 0, \"ticks\": \"\"}}, \"type\": \"scatter3d\"}], \"scattercarpet\": [{\"marker\": {\"colorbar\": {\"outlinewidth\": 0, \"ticks\": \"\"}}, \"type\": \"scattercarpet\"}], \"scattergeo\": [{\"marker\": {\"colorbar\": {\"outlinewidth\": 0, \"ticks\": \"\"}}, \"type\": \"scattergeo\"}], \"scattergl\": [{\"marker\": {\"colorbar\": {\"outlinewidth\": 0, \"ticks\": \"\"}}, \"type\": \"scattergl\"}], \"scattermapbox\": [{\"marker\": {\"colorbar\": {\"outlinewidth\": 0, \"ticks\": \"\"}}, \"type\": \"scattermapbox\"}], \"scatterpolar\": [{\"marker\": {\"colorbar\": {\"outlinewidth\": 0, \"ticks\": \"\"}}, \"type\": \"scatterpolar\"}], \"scatterpolargl\": [{\"marker\": {\"colorbar\": {\"outlinewidth\": 0, \"ticks\": \"\"}}, \"type\": \"scatterpolargl\"}], \"scatterternary\": [{\"marker\": {\"colorbar\": {\"outlinewidth\": 0, \"ticks\": \"\"}}, \"type\": \"scatterternary\"}], \"surface\": [{\"colorbar\": {\"outlinewidth\": 0, \"ticks\": \"\"}, \"colorscale\": [[0.0, \"#0d0887\"], [0.1111111111111111, \"#46039f\"], [0.2222222222222222, \"#7201a8\"], [0.3333333333333333, \"#9c179e\"], [0.4444444444444444, \"#bd3786\"], [0.5555555555555556, \"#d8576b\"], [0.6666666666666666, \"#ed7953\"], [0.7777777777777778, \"#fb9f3a\"], [0.8888888888888888, \"#fdca26\"], [1.0, \"#f0f921\"]], \"type\": \"surface\"}], \"table\": [{\"cells\": {\"fill\": {\"color\": \"#EBF0F8\"}, \"line\": {\"color\": \"white\"}}, \"header\": {\"fill\": {\"color\": \"#C8D4E3\"}, \"line\": {\"color\": \"white\"}}, \"type\": \"table\"}]}, \"layout\": {\"annotationdefaults\": {\"arrowcolor\": \"#2a3f5f\", \"arrowhead\": 0, \"arrowwidth\": 1}, \"coloraxis\": {\"colorbar\": {\"outlinewidth\": 0, \"ticks\": \"\"}}, \"colorscale\": {\"diverging\": [[0, \"#8e0152\"], [0.1, \"#c51b7d\"], [0.2, \"#de77ae\"], [0.3, \"#f1b6da\"], [0.4, \"#fde0ef\"], [0.5, \"#f7f7f7\"], [0.6, \"#e6f5d0\"], [0.7, \"#b8e186\"], [0.8, \"#7fbc41\"], [0.9, \"#4d9221\"], [1, \"#276419\"]], \"sequential\": [[0.0, \"#0d0887\"], [0.1111111111111111, \"#46039f\"], [0.2222222222222222, \"#7201a8\"], [0.3333333333333333, \"#9c179e\"], [0.4444444444444444, \"#bd3786\"], [0.5555555555555556, \"#d8576b\"], [0.6666666666666666, \"#ed7953\"], [0.7777777777777778, \"#fb9f3a\"], [0.8888888888888888, \"#fdca26\"], [1.0, \"#f0f921\"]], \"sequentialminus\": [[0.0, \"#0d0887\"], [0.1111111111111111, \"#46039f\"], [0.2222222222222222, \"#7201a8\"], [0.3333333333333333, \"#9c179e\"], [0.4444444444444444, \"#bd3786\"], [0.5555555555555556, \"#d8576b\"], [0.6666666666666666, \"#ed7953\"], [0.7777777777777778, \"#fb9f3a\"], [0.8888888888888888, \"#fdca26\"], [1.0, \"#f0f921\"]]}, \"colorway\": [\"#636efa\", \"#EF553B\", \"#00cc96\", \"#ab63fa\", \"#FFA15A\", \"#19d3f3\", \"#FF6692\", \"#B6E880\", \"#FF97FF\", \"#FECB52\"], \"font\": {\"color\": \"#2a3f5f\"}, \"geo\": {\"bgcolor\": \"white\", \"lakecolor\": \"white\", \"landcolor\": \"#E5ECF6\", \"showlakes\": true, \"showland\": true, \"subunitcolor\": \"white\"}, \"hoverlabel\": {\"align\": \"left\"}, \"hovermode\": \"closest\", \"mapbox\": {\"style\": \"light\"}, \"paper_bgcolor\": \"white\", \"plot_bgcolor\": \"#E5ECF6\", \"polar\": {\"angularaxis\": {\"gridcolor\": \"white\", \"linecolor\": \"white\", \"ticks\": \"\"}, \"bgcolor\": \"#E5ECF6\", \"radialaxis\": {\"gridcolor\": \"white\", \"linecolor\": \"white\", \"ticks\": \"\"}}, \"scene\": {\"xaxis\": {\"backgroundcolor\": \"#E5ECF6\", \"gridcolor\": \"white\", \"gridwidth\": 2, \"linecolor\": \"white\", \"showbackground\": true, \"ticks\": \"\", \"zerolinecolor\": \"white\"}, \"yaxis\": {\"backgroundcolor\": \"#E5ECF6\", \"gridcolor\": \"white\", \"gridwidth\": 2, \"linecolor\": \"white\", \"showbackground\": true, \"ticks\": \"\", \"zerolinecolor\": \"white\"}, \"zaxis\": {\"backgroundcolor\": \"#E5ECF6\", \"gridcolor\": \"white\", \"gridwidth\": 2, \"linecolor\": \"white\", \"showbackground\": true, \"ticks\": \"\", \"zerolinecolor\": \"white\"}}, \"shapedefaults\": {\"line\": {\"color\": \"#2a3f5f\"}}, \"ternary\": {\"aaxis\": {\"gridcolor\": \"white\", \"linecolor\": \"white\", \"ticks\": \"\"}, \"baxis\": {\"gridcolor\": \"white\", \"linecolor\": \"white\", \"ticks\": \"\"}, \"bgcolor\": \"#E5ECF6\", \"caxis\": {\"gridcolor\": \"white\", \"linecolor\": \"white\", \"ticks\": \"\"}}, \"title\": {\"x\": 0.05}, \"xaxis\": {\"automargin\": true, \"gridcolor\": \"white\", \"linecolor\": \"white\", \"ticks\": \"\", \"title\": {\"standoff\": 15}, \"zerolinecolor\": \"white\", \"zerolinewidth\": 2}, \"yaxis\": {\"automargin\": true, \"gridcolor\": \"white\", \"linecolor\": \"white\", \"ticks\": \"\", \"title\": {\"standoff\": 15}, \"zerolinecolor\": \"white\", \"zerolinewidth\": 2}}}, \"title\": {\"text\": \"Histogram of time complexities (set: nr, 27 items)\"}, \"xaxis\": {\"dtick\": 9.778799999999999e-05, \"range\": [0, 0.00097788], \"showgrid\": true, \"tick0\": 0, \"tickmode\": \"linear\"}},                        {\"responsive\": true}                    ).then(function(){\n                            \nvar gd = document.getElementById('f7bd3cd8-bb42-4999-a98d-ef4db18d325d');\nvar x = new MutationObserver(function (mutations, observer) {{\n        var display = window.getComputedStyle(gd).display;\n        if (!display || display === 'none') {{\n            console.log([gd, 'removed!']);\n            Plotly.purge(gd);\n            observer.disconnect();\n        }}\n}});\n\n// Listen for the removal of the full notebook cells\nvar notebookContainer = gd.closest('#notebook-container');\nif (notebookContainer) {{\n    x.observe(notebookContainer, {childList: true});\n}}\n\n// Listen for the clearing of the current output cell\nvar outputEl = gd.closest('.output');\nif (outputEl) {{\n    x.observe(outputEl, {childList: true});\n}}\n\n                        })                };                });            </script>        </div>"
     },
     "metadata": {}
    }
   ],
   "source": [
    "plotHistogram(dfs, \"zr\", 15, \n",
    "    \"Histogram of time complexities (set: nr, 27 items)\",\n",
    "    \"Seconds\", \"seconds\"\n",
    "    )"
   ]
  },
  {
   "cell_type": "code",
   "execution_count": 27,
   "metadata": {},
   "outputs": [],
   "source": [
    "complexities = {}\n",
    "for name in [\"nr\", \"zr\"]:\n",
    "    complexities[name] = {}\n",
    "    for method in [\"brute_force\", \"branch_and_bound\"]:\n",
    "        complexities[name][method] = {}\n",
    "        complexities[name][method][\"n\"] = [n for n in NUMBERS]\n",
    "        complexities[name][method][\"complexity\"] = [dfs[name][n][method][\"complexity\"].mean() for n in NUMBERS]\n",
    "        complexities[name][method][\"seconds\"] = [dfs[name][n][method][\"seconds\"].mean() for n in NUMBERS]\n",
    "\n",
    "# display(complexities)"
   ]
  },
  {
   "cell_type": "code",
   "execution_count": 28,
   "metadata": {},
   "outputs": [],
   "source": [
    "BF = \"brute_force\"\n",
    "BAB = \"branch_and_bound\"\n",
    "\n",
    "def plotComplexity(df, column=\"complexity\"):\n",
    "    # Create figure with secondary y-axis\n",
    "    fig = go.Figure()\n",
    "    # Add traces\n",
    "    fig.add_trace(\n",
    "        go.Scatter(x=df[\"nr\"][BF][\"n\"], y=df[\"nr\"][BF][column], name=\"Set: nr, method Brute Forece\",\n",
    "        line=dict(color='blue', dash=\"dot\"))\n",
    "    )\n",
    "\n",
    "    fig.add_trace(\n",
    "        go.Scatter(x=df[\"zr\"][BF][\"n\"], y=df[\"zr\"][BF][column], name=\"Set: zr, method Brute Forece\",\n",
    "        line=dict(color='red', dash=\"dash\"))\n",
    "    )\n",
    "\n",
    "    fig.add_trace(\n",
    "        go.Scatter(x=df[\"nr\"][BAB][\"n\"], y=df[\"nr\"][BAB][column], name=\"Set: nr, method Branch and Bound\", \n",
    "        line=dict(color=\"blue\"))\n",
    "    )\n",
    "\n",
    "    fig.add_trace(\n",
    "        go.Scatter(x=df[\"zr\"][BAB][\"n\"], y=df[\"zr\"][BAB][column], name=\"Set: zr, method Branch and Bound\",\n",
    "        line=dict(color=\"red\")),\n",
    "    )\n",
    "\n",
    "\n",
    "    # Add figure title\n",
    "    fig.update_layout(\n",
    "        title_text=\"Double Y Axis Example\"\n",
    "    )\n",
    "    fig.update_layout(barmode='overlay', title_text='Histogram of complexities (set: NR, 15 items)', # title of plot\n",
    "        xaxis_title_text='Number of evaluated instances', yaxis_title_text='Count', \n",
    "        bargap=0.2, # gap between bars of adjacent location coordinates\n",
    "        bargroupgap=0.1 # gap between bars of the same location coordinates\n",
    "    )\n",
    "    # fig.update_traces(opacity=0.75)\n",
    "\n",
    "    # Set x-axis title\n",
    "    fig.update_xaxes(title_text=\"xaxis title\")\n",
    "    fig.show()"
   ]
  },
  {
   "cell_type": "code",
   "execution_count": 29,
   "metadata": {},
   "outputs": [
    {
     "output_type": "display_data",
     "data": {
      "application/vnd.plotly.v1+json": {
       "config": {
        "plotlyServerURL": "https://plot.ly"
       },
       "data": [
        {
         "line": {
          "color": "blue",
          "dash": "dot"
         },
         "name": "Set: nr, method Brute Forece",
         "type": "scatter",
         "x": [
          4,
          10,
          15,
          20
         ],
         "y": [
          16,
          1024,
          32768,
          1048576
         ]
        },
        {
         "line": {
          "color": "red",
          "dash": "dash"
         },
         "name": "Set: zr, method Brute Forece",
         "type": "scatter",
         "x": [
          4,
          10,
          15,
          20
         ],
         "y": [
          16,
          1024,
          32768,
          1048576
         ]
        },
        {
         "line": {
          "color": "blue"
         },
         "name": "Set: nr, method Branch and Bound",
         "type": "scatter",
         "x": [
          4,
          10,
          15,
          20
         ],
         "y": [
          6.662,
          318.866,
          9414.076,
          310726.41
         ]
        },
        {
         "line": {
          "color": "red"
         },
         "name": "Set: zr, method Branch and Bound",
         "type": "scatter",
         "x": [
          4,
          10,
          15,
          20
         ],
         "y": [
          9.144,
          481.248,
          14845.542,
          478210.812
         ]
        }
       ],
       "layout": {
        "bargap": 0.2,
        "bargroupgap": 0.1,
        "barmode": "overlay",
        "template": {
         "data": {
          "bar": [
           {
            "error_x": {
             "color": "#2a3f5f"
            },
            "error_y": {
             "color": "#2a3f5f"
            },
            "marker": {
             "line": {
              "color": "#E5ECF6",
              "width": 0.5
             }
            },
            "type": "bar"
           }
          ],
          "barpolar": [
           {
            "marker": {
             "line": {
              "color": "#E5ECF6",
              "width": 0.5
             }
            },
            "type": "barpolar"
           }
          ],
          "carpet": [
           {
            "aaxis": {
             "endlinecolor": "#2a3f5f",
             "gridcolor": "white",
             "linecolor": "white",
             "minorgridcolor": "white",
             "startlinecolor": "#2a3f5f"
            },
            "baxis": {
             "endlinecolor": "#2a3f5f",
             "gridcolor": "white",
             "linecolor": "white",
             "minorgridcolor": "white",
             "startlinecolor": "#2a3f5f"
            },
            "type": "carpet"
           }
          ],
          "choropleth": [
           {
            "colorbar": {
             "outlinewidth": 0,
             "ticks": ""
            },
            "type": "choropleth"
           }
          ],
          "contour": [
           {
            "colorbar": {
             "outlinewidth": 0,
             "ticks": ""
            },
            "colorscale": [
             [
              0,
              "#0d0887"
             ],
             [
              0.1111111111111111,
              "#46039f"
             ],
             [
              0.2222222222222222,
              "#7201a8"
             ],
             [
              0.3333333333333333,
              "#9c179e"
             ],
             [
              0.4444444444444444,
              "#bd3786"
             ],
             [
              0.5555555555555556,
              "#d8576b"
             ],
             [
              0.6666666666666666,
              "#ed7953"
             ],
             [
              0.7777777777777778,
              "#fb9f3a"
             ],
             [
              0.8888888888888888,
              "#fdca26"
             ],
             [
              1,
              "#f0f921"
             ]
            ],
            "type": "contour"
           }
          ],
          "contourcarpet": [
           {
            "colorbar": {
             "outlinewidth": 0,
             "ticks": ""
            },
            "type": "contourcarpet"
           }
          ],
          "heatmap": [
           {
            "colorbar": {
             "outlinewidth": 0,
             "ticks": ""
            },
            "colorscale": [
             [
              0,
              "#0d0887"
             ],
             [
              0.1111111111111111,
              "#46039f"
             ],
             [
              0.2222222222222222,
              "#7201a8"
             ],
             [
              0.3333333333333333,
              "#9c179e"
             ],
             [
              0.4444444444444444,
              "#bd3786"
             ],
             [
              0.5555555555555556,
              "#d8576b"
             ],
             [
              0.6666666666666666,
              "#ed7953"
             ],
             [
              0.7777777777777778,
              "#fb9f3a"
             ],
             [
              0.8888888888888888,
              "#fdca26"
             ],
             [
              1,
              "#f0f921"
             ]
            ],
            "type": "heatmap"
           }
          ],
          "heatmapgl": [
           {
            "colorbar": {
             "outlinewidth": 0,
             "ticks": ""
            },
            "colorscale": [
             [
              0,
              "#0d0887"
             ],
             [
              0.1111111111111111,
              "#46039f"
             ],
             [
              0.2222222222222222,
              "#7201a8"
             ],
             [
              0.3333333333333333,
              "#9c179e"
             ],
             [
              0.4444444444444444,
              "#bd3786"
             ],
             [
              0.5555555555555556,
              "#d8576b"
             ],
             [
              0.6666666666666666,
              "#ed7953"
             ],
             [
              0.7777777777777778,
              "#fb9f3a"
             ],
             [
              0.8888888888888888,
              "#fdca26"
             ],
             [
              1,
              "#f0f921"
             ]
            ],
            "type": "heatmapgl"
           }
          ],
          "histogram": [
           {
            "marker": {
             "colorbar": {
              "outlinewidth": 0,
              "ticks": ""
             }
            },
            "type": "histogram"
           }
          ],
          "histogram2d": [
           {
            "colorbar": {
             "outlinewidth": 0,
             "ticks": ""
            },
            "colorscale": [
             [
              0,
              "#0d0887"
             ],
             [
              0.1111111111111111,
              "#46039f"
             ],
             [
              0.2222222222222222,
              "#7201a8"
             ],
             [
              0.3333333333333333,
              "#9c179e"
             ],
             [
              0.4444444444444444,
              "#bd3786"
             ],
             [
              0.5555555555555556,
              "#d8576b"
             ],
             [
              0.6666666666666666,
              "#ed7953"
             ],
             [
              0.7777777777777778,
              "#fb9f3a"
             ],
             [
              0.8888888888888888,
              "#fdca26"
             ],
             [
              1,
              "#f0f921"
             ]
            ],
            "type": "histogram2d"
           }
          ],
          "histogram2dcontour": [
           {
            "colorbar": {
             "outlinewidth": 0,
             "ticks": ""
            },
            "colorscale": [
             [
              0,
              "#0d0887"
             ],
             [
              0.1111111111111111,
              "#46039f"
             ],
             [
              0.2222222222222222,
              "#7201a8"
             ],
             [
              0.3333333333333333,
              "#9c179e"
             ],
             [
              0.4444444444444444,
              "#bd3786"
             ],
             [
              0.5555555555555556,
              "#d8576b"
             ],
             [
              0.6666666666666666,
              "#ed7953"
             ],
             [
              0.7777777777777778,
              "#fb9f3a"
             ],
             [
              0.8888888888888888,
              "#fdca26"
             ],
             [
              1,
              "#f0f921"
             ]
            ],
            "type": "histogram2dcontour"
           }
          ],
          "mesh3d": [
           {
            "colorbar": {
             "outlinewidth": 0,
             "ticks": ""
            },
            "type": "mesh3d"
           }
          ],
          "parcoords": [
           {
            "line": {
             "colorbar": {
              "outlinewidth": 0,
              "ticks": ""
             }
            },
            "type": "parcoords"
           }
          ],
          "pie": [
           {
            "automargin": true,
            "type": "pie"
           }
          ],
          "scatter": [
           {
            "marker": {
             "colorbar": {
              "outlinewidth": 0,
              "ticks": ""
             }
            },
            "type": "scatter"
           }
          ],
          "scatter3d": [
           {
            "line": {
             "colorbar": {
              "outlinewidth": 0,
              "ticks": ""
             }
            },
            "marker": {
             "colorbar": {
              "outlinewidth": 0,
              "ticks": ""
             }
            },
            "type": "scatter3d"
           }
          ],
          "scattercarpet": [
           {
            "marker": {
             "colorbar": {
              "outlinewidth": 0,
              "ticks": ""
             }
            },
            "type": "scattercarpet"
           }
          ],
          "scattergeo": [
           {
            "marker": {
             "colorbar": {
              "outlinewidth": 0,
              "ticks": ""
             }
            },
            "type": "scattergeo"
           }
          ],
          "scattergl": [
           {
            "marker": {
             "colorbar": {
              "outlinewidth": 0,
              "ticks": ""
             }
            },
            "type": "scattergl"
           }
          ],
          "scattermapbox": [
           {
            "marker": {
             "colorbar": {
              "outlinewidth": 0,
              "ticks": ""
             }
            },
            "type": "scattermapbox"
           }
          ],
          "scatterpolar": [
           {
            "marker": {
             "colorbar": {
              "outlinewidth": 0,
              "ticks": ""
             }
            },
            "type": "scatterpolar"
           }
          ],
          "scatterpolargl": [
           {
            "marker": {
             "colorbar": {
              "outlinewidth": 0,
              "ticks": ""
             }
            },
            "type": "scatterpolargl"
           }
          ],
          "scatterternary": [
           {
            "marker": {
             "colorbar": {
              "outlinewidth": 0,
              "ticks": ""
             }
            },
            "type": "scatterternary"
           }
          ],
          "surface": [
           {
            "colorbar": {
             "outlinewidth": 0,
             "ticks": ""
            },
            "colorscale": [
             [
              0,
              "#0d0887"
             ],
             [
              0.1111111111111111,
              "#46039f"
             ],
             [
              0.2222222222222222,
              "#7201a8"
             ],
             [
              0.3333333333333333,
              "#9c179e"
             ],
             [
              0.4444444444444444,
              "#bd3786"
             ],
             [
              0.5555555555555556,
              "#d8576b"
             ],
             [
              0.6666666666666666,
              "#ed7953"
             ],
             [
              0.7777777777777778,
              "#fb9f3a"
             ],
             [
              0.8888888888888888,
              "#fdca26"
             ],
             [
              1,
              "#f0f921"
             ]
            ],
            "type": "surface"
           }
          ],
          "table": [
           {
            "cells": {
             "fill": {
              "color": "#EBF0F8"
             },
             "line": {
              "color": "white"
             }
            },
            "header": {
             "fill": {
              "color": "#C8D4E3"
             },
             "line": {
              "color": "white"
             }
            },
            "type": "table"
           }
          ]
         },
         "layout": {
          "annotationdefaults": {
           "arrowcolor": "#2a3f5f",
           "arrowhead": 0,
           "arrowwidth": 1
          },
          "coloraxis": {
           "colorbar": {
            "outlinewidth": 0,
            "ticks": ""
           }
          },
          "colorscale": {
           "diverging": [
            [
             0,
             "#8e0152"
            ],
            [
             0.1,
             "#c51b7d"
            ],
            [
             0.2,
             "#de77ae"
            ],
            [
             0.3,
             "#f1b6da"
            ],
            [
             0.4,
             "#fde0ef"
            ],
            [
             0.5,
             "#f7f7f7"
            ],
            [
             0.6,
             "#e6f5d0"
            ],
            [
             0.7,
             "#b8e186"
            ],
            [
             0.8,
             "#7fbc41"
            ],
            [
             0.9,
             "#4d9221"
            ],
            [
             1,
             "#276419"
            ]
           ],
           "sequential": [
            [
             0,
             "#0d0887"
            ],
            [
             0.1111111111111111,
             "#46039f"
            ],
            [
             0.2222222222222222,
             "#7201a8"
            ],
            [
             0.3333333333333333,
             "#9c179e"
            ],
            [
             0.4444444444444444,
             "#bd3786"
            ],
            [
             0.5555555555555556,
             "#d8576b"
            ],
            [
             0.6666666666666666,
             "#ed7953"
            ],
            [
             0.7777777777777778,
             "#fb9f3a"
            ],
            [
             0.8888888888888888,
             "#fdca26"
            ],
            [
             1,
             "#f0f921"
            ]
           ],
           "sequentialminus": [
            [
             0,
             "#0d0887"
            ],
            [
             0.1111111111111111,
             "#46039f"
            ],
            [
             0.2222222222222222,
             "#7201a8"
            ],
            [
             0.3333333333333333,
             "#9c179e"
            ],
            [
             0.4444444444444444,
             "#bd3786"
            ],
            [
             0.5555555555555556,
             "#d8576b"
            ],
            [
             0.6666666666666666,
             "#ed7953"
            ],
            [
             0.7777777777777778,
             "#fb9f3a"
            ],
            [
             0.8888888888888888,
             "#fdca26"
            ],
            [
             1,
             "#f0f921"
            ]
           ]
          },
          "colorway": [
           "#636efa",
           "#EF553B",
           "#00cc96",
           "#ab63fa",
           "#FFA15A",
           "#19d3f3",
           "#FF6692",
           "#B6E880",
           "#FF97FF",
           "#FECB52"
          ],
          "font": {
           "color": "#2a3f5f"
          },
          "geo": {
           "bgcolor": "white",
           "lakecolor": "white",
           "landcolor": "#E5ECF6",
           "showlakes": true,
           "showland": true,
           "subunitcolor": "white"
          },
          "hoverlabel": {
           "align": "left"
          },
          "hovermode": "closest",
          "mapbox": {
           "style": "light"
          },
          "paper_bgcolor": "white",
          "plot_bgcolor": "#E5ECF6",
          "polar": {
           "angularaxis": {
            "gridcolor": "white",
            "linecolor": "white",
            "ticks": ""
           },
           "bgcolor": "#E5ECF6",
           "radialaxis": {
            "gridcolor": "white",
            "linecolor": "white",
            "ticks": ""
           }
          },
          "scene": {
           "xaxis": {
            "backgroundcolor": "#E5ECF6",
            "gridcolor": "white",
            "gridwidth": 2,
            "linecolor": "white",
            "showbackground": true,
            "ticks": "",
            "zerolinecolor": "white"
           },
           "yaxis": {
            "backgroundcolor": "#E5ECF6",
            "gridcolor": "white",
            "gridwidth": 2,
            "linecolor": "white",
            "showbackground": true,
            "ticks": "",
            "zerolinecolor": "white"
           },
           "zaxis": {
            "backgroundcolor": "#E5ECF6",
            "gridcolor": "white",
            "gridwidth": 2,
            "linecolor": "white",
            "showbackground": true,
            "ticks": "",
            "zerolinecolor": "white"
           }
          },
          "shapedefaults": {
           "line": {
            "color": "#2a3f5f"
           }
          },
          "ternary": {
           "aaxis": {
            "gridcolor": "white",
            "linecolor": "white",
            "ticks": ""
           },
           "baxis": {
            "gridcolor": "white",
            "linecolor": "white",
            "ticks": ""
           },
           "bgcolor": "#E5ECF6",
           "caxis": {
            "gridcolor": "white",
            "linecolor": "white",
            "ticks": ""
           }
          },
          "title": {
           "x": 0.05
          },
          "xaxis": {
           "automargin": true,
           "gridcolor": "white",
           "linecolor": "white",
           "ticks": "",
           "title": {
            "standoff": 15
           },
           "zerolinecolor": "white",
           "zerolinewidth": 2
          },
          "yaxis": {
           "automargin": true,
           "gridcolor": "white",
           "linecolor": "white",
           "ticks": "",
           "title": {
            "standoff": 15
           },
           "zerolinecolor": "white",
           "zerolinewidth": 2
          }
         }
        },
        "title": {
         "text": "Histogram of complexities (set: NR, 15 items)"
        },
        "xaxis": {
         "title": {
          "text": "xaxis title"
         }
        },
        "yaxis": {
         "title": {
          "text": "Count"
         }
        }
       }
      },
      "text/html": "<div>                            <div id=\"6c593536-59f6-4c87-8b57-477cb34246a0\" class=\"plotly-graph-div\" style=\"height:525px; width:100%;\"></div>            <script type=\"text/javascript\">                require([\"plotly\"], function(Plotly) {                    window.PLOTLYENV=window.PLOTLYENV || {};                                    if (document.getElementById(\"6c593536-59f6-4c87-8b57-477cb34246a0\")) {                    Plotly.newPlot(                        \"6c593536-59f6-4c87-8b57-477cb34246a0\",                        [{\"line\": {\"color\": \"blue\", \"dash\": \"dot\"}, \"name\": \"Set: nr, method Brute Forece\", \"type\": \"scatter\", \"x\": [4, 10, 15, 20], \"y\": [16.0, 1024.0, 32768.0, 1048576.0]}, {\"line\": {\"color\": \"red\", \"dash\": \"dash\"}, \"name\": \"Set: zr, method Brute Forece\", \"type\": \"scatter\", \"x\": [4, 10, 15, 20], \"y\": [16.0, 1024.0, 32768.0, 1048576.0]}, {\"line\": {\"color\": \"blue\"}, \"name\": \"Set: nr, method Branch and Bound\", \"type\": \"scatter\", \"x\": [4, 10, 15, 20], \"y\": [6.662, 318.866, 9414.076, 310726.41]}, {\"line\": {\"color\": \"red\"}, \"name\": \"Set: zr, method Branch and Bound\", \"type\": \"scatter\", \"x\": [4, 10, 15, 20], \"y\": [9.144, 481.248, 14845.542, 478210.812]}],                        {\"bargap\": 0.2, \"bargroupgap\": 0.1, \"barmode\": \"overlay\", \"template\": {\"data\": {\"bar\": [{\"error_x\": {\"color\": \"#2a3f5f\"}, \"error_y\": {\"color\": \"#2a3f5f\"}, \"marker\": {\"line\": {\"color\": \"#E5ECF6\", \"width\": 0.5}}, \"type\": \"bar\"}], \"barpolar\": [{\"marker\": {\"line\": {\"color\": \"#E5ECF6\", \"width\": 0.5}}, \"type\": \"barpolar\"}], \"carpet\": [{\"aaxis\": {\"endlinecolor\": \"#2a3f5f\", \"gridcolor\": \"white\", \"linecolor\": \"white\", \"minorgridcolor\": \"white\", \"startlinecolor\": \"#2a3f5f\"}, \"baxis\": {\"endlinecolor\": \"#2a3f5f\", \"gridcolor\": \"white\", \"linecolor\": \"white\", \"minorgridcolor\": \"white\", \"startlinecolor\": \"#2a3f5f\"}, \"type\": \"carpet\"}], \"choropleth\": [{\"colorbar\": {\"outlinewidth\": 0, \"ticks\": \"\"}, \"type\": \"choropleth\"}], \"contour\": [{\"colorbar\": {\"outlinewidth\": 0, \"ticks\": \"\"}, \"colorscale\": [[0.0, \"#0d0887\"], [0.1111111111111111, \"#46039f\"], [0.2222222222222222, \"#7201a8\"], [0.3333333333333333, \"#9c179e\"], [0.4444444444444444, \"#bd3786\"], [0.5555555555555556, \"#d8576b\"], [0.6666666666666666, \"#ed7953\"], [0.7777777777777778, \"#fb9f3a\"], [0.8888888888888888, \"#fdca26\"], [1.0, \"#f0f921\"]], \"type\": \"contour\"}], \"contourcarpet\": [{\"colorbar\": {\"outlinewidth\": 0, \"ticks\": \"\"}, \"type\": \"contourcarpet\"}], \"heatmap\": [{\"colorbar\": {\"outlinewidth\": 0, \"ticks\": \"\"}, \"colorscale\": [[0.0, \"#0d0887\"], [0.1111111111111111, \"#46039f\"], [0.2222222222222222, \"#7201a8\"], [0.3333333333333333, \"#9c179e\"], [0.4444444444444444, \"#bd3786\"], [0.5555555555555556, \"#d8576b\"], [0.6666666666666666, \"#ed7953\"], [0.7777777777777778, \"#fb9f3a\"], [0.8888888888888888, \"#fdca26\"], [1.0, \"#f0f921\"]], \"type\": \"heatmap\"}], \"heatmapgl\": [{\"colorbar\": {\"outlinewidth\": 0, \"ticks\": \"\"}, \"colorscale\": [[0.0, \"#0d0887\"], [0.1111111111111111, \"#46039f\"], [0.2222222222222222, \"#7201a8\"], [0.3333333333333333, \"#9c179e\"], [0.4444444444444444, \"#bd3786\"], [0.5555555555555556, \"#d8576b\"], [0.6666666666666666, \"#ed7953\"], [0.7777777777777778, \"#fb9f3a\"], [0.8888888888888888, \"#fdca26\"], [1.0, \"#f0f921\"]], \"type\": \"heatmapgl\"}], \"histogram\": [{\"marker\": {\"colorbar\": {\"outlinewidth\": 0, \"ticks\": \"\"}}, \"type\": \"histogram\"}], \"histogram2d\": [{\"colorbar\": {\"outlinewidth\": 0, \"ticks\": \"\"}, \"colorscale\": [[0.0, \"#0d0887\"], [0.1111111111111111, \"#46039f\"], [0.2222222222222222, \"#7201a8\"], [0.3333333333333333, \"#9c179e\"], [0.4444444444444444, \"#bd3786\"], [0.5555555555555556, \"#d8576b\"], [0.6666666666666666, \"#ed7953\"], [0.7777777777777778, \"#fb9f3a\"], [0.8888888888888888, \"#fdca26\"], [1.0, \"#f0f921\"]], \"type\": \"histogram2d\"}], \"histogram2dcontour\": [{\"colorbar\": {\"outlinewidth\": 0, \"ticks\": \"\"}, \"colorscale\": [[0.0, \"#0d0887\"], [0.1111111111111111, \"#46039f\"], [0.2222222222222222, \"#7201a8\"], [0.3333333333333333, \"#9c179e\"], [0.4444444444444444, \"#bd3786\"], [0.5555555555555556, \"#d8576b\"], [0.6666666666666666, \"#ed7953\"], [0.7777777777777778, \"#fb9f3a\"], [0.8888888888888888, \"#fdca26\"], [1.0, \"#f0f921\"]], \"type\": \"histogram2dcontour\"}], \"mesh3d\": [{\"colorbar\": {\"outlinewidth\": 0, \"ticks\": \"\"}, \"type\": \"mesh3d\"}], \"parcoords\": [{\"line\": {\"colorbar\": {\"outlinewidth\": 0, \"ticks\": \"\"}}, \"type\": \"parcoords\"}], \"pie\": [{\"automargin\": true, \"type\": \"pie\"}], \"scatter\": [{\"marker\": {\"colorbar\": {\"outlinewidth\": 0, \"ticks\": \"\"}}, \"type\": \"scatter\"}], \"scatter3d\": [{\"line\": {\"colorbar\": {\"outlinewidth\": 0, \"ticks\": \"\"}}, \"marker\": {\"colorbar\": {\"outlinewidth\": 0, \"ticks\": \"\"}}, \"type\": \"scatter3d\"}], \"scattercarpet\": [{\"marker\": {\"colorbar\": {\"outlinewidth\": 0, \"ticks\": \"\"}}, \"type\": \"scattercarpet\"}], \"scattergeo\": [{\"marker\": {\"colorbar\": {\"outlinewidth\": 0, \"ticks\": \"\"}}, \"type\": \"scattergeo\"}], \"scattergl\": [{\"marker\": {\"colorbar\": {\"outlinewidth\": 0, \"ticks\": \"\"}}, \"type\": \"scattergl\"}], \"scattermapbox\": [{\"marker\": {\"colorbar\": {\"outlinewidth\": 0, \"ticks\": \"\"}}, \"type\": \"scattermapbox\"}], \"scatterpolar\": [{\"marker\": {\"colorbar\": {\"outlinewidth\": 0, \"ticks\": \"\"}}, \"type\": \"scatterpolar\"}], \"scatterpolargl\": [{\"marker\": {\"colorbar\": {\"outlinewidth\": 0, \"ticks\": \"\"}}, \"type\": \"scatterpolargl\"}], \"scatterternary\": [{\"marker\": {\"colorbar\": {\"outlinewidth\": 0, \"ticks\": \"\"}}, \"type\": \"scatterternary\"}], \"surface\": [{\"colorbar\": {\"outlinewidth\": 0, \"ticks\": \"\"}, \"colorscale\": [[0.0, \"#0d0887\"], [0.1111111111111111, \"#46039f\"], [0.2222222222222222, \"#7201a8\"], [0.3333333333333333, \"#9c179e\"], [0.4444444444444444, \"#bd3786\"], [0.5555555555555556, \"#d8576b\"], [0.6666666666666666, \"#ed7953\"], [0.7777777777777778, \"#fb9f3a\"], [0.8888888888888888, \"#fdca26\"], [1.0, \"#f0f921\"]], \"type\": \"surface\"}], \"table\": [{\"cells\": {\"fill\": {\"color\": \"#EBF0F8\"}, \"line\": {\"color\": \"white\"}}, \"header\": {\"fill\": {\"color\": \"#C8D4E3\"}, \"line\": {\"color\": \"white\"}}, \"type\": \"table\"}]}, \"layout\": {\"annotationdefaults\": {\"arrowcolor\": \"#2a3f5f\", \"arrowhead\": 0, \"arrowwidth\": 1}, \"coloraxis\": {\"colorbar\": {\"outlinewidth\": 0, \"ticks\": \"\"}}, \"colorscale\": {\"diverging\": [[0, \"#8e0152\"], [0.1, \"#c51b7d\"], [0.2, \"#de77ae\"], [0.3, \"#f1b6da\"], [0.4, \"#fde0ef\"], [0.5, \"#f7f7f7\"], [0.6, \"#e6f5d0\"], [0.7, \"#b8e186\"], [0.8, \"#7fbc41\"], [0.9, \"#4d9221\"], [1, \"#276419\"]], \"sequential\": [[0.0, \"#0d0887\"], [0.1111111111111111, \"#46039f\"], [0.2222222222222222, \"#7201a8\"], [0.3333333333333333, \"#9c179e\"], [0.4444444444444444, \"#bd3786\"], [0.5555555555555556, \"#d8576b\"], [0.6666666666666666, \"#ed7953\"], [0.7777777777777778, \"#fb9f3a\"], [0.8888888888888888, \"#fdca26\"], [1.0, \"#f0f921\"]], \"sequentialminus\": [[0.0, \"#0d0887\"], [0.1111111111111111, \"#46039f\"], [0.2222222222222222, \"#7201a8\"], [0.3333333333333333, \"#9c179e\"], [0.4444444444444444, \"#bd3786\"], [0.5555555555555556, \"#d8576b\"], [0.6666666666666666, \"#ed7953\"], [0.7777777777777778, \"#fb9f3a\"], [0.8888888888888888, \"#fdca26\"], [1.0, \"#f0f921\"]]}, \"colorway\": [\"#636efa\", \"#EF553B\", \"#00cc96\", \"#ab63fa\", \"#FFA15A\", \"#19d3f3\", \"#FF6692\", \"#B6E880\", \"#FF97FF\", \"#FECB52\"], \"font\": {\"color\": \"#2a3f5f\"}, \"geo\": {\"bgcolor\": \"white\", \"lakecolor\": \"white\", \"landcolor\": \"#E5ECF6\", \"showlakes\": true, \"showland\": true, \"subunitcolor\": \"white\"}, \"hoverlabel\": {\"align\": \"left\"}, \"hovermode\": \"closest\", \"mapbox\": {\"style\": \"light\"}, \"paper_bgcolor\": \"white\", \"plot_bgcolor\": \"#E5ECF6\", \"polar\": {\"angularaxis\": {\"gridcolor\": \"white\", \"linecolor\": \"white\", \"ticks\": \"\"}, \"bgcolor\": \"#E5ECF6\", \"radialaxis\": {\"gridcolor\": \"white\", \"linecolor\": \"white\", \"ticks\": \"\"}}, \"scene\": {\"xaxis\": {\"backgroundcolor\": \"#E5ECF6\", \"gridcolor\": \"white\", \"gridwidth\": 2, \"linecolor\": \"white\", \"showbackground\": true, \"ticks\": \"\", \"zerolinecolor\": \"white\"}, \"yaxis\": {\"backgroundcolor\": \"#E5ECF6\", \"gridcolor\": \"white\", \"gridwidth\": 2, \"linecolor\": \"white\", \"showbackground\": true, \"ticks\": \"\", \"zerolinecolor\": \"white\"}, \"zaxis\": {\"backgroundcolor\": \"#E5ECF6\", \"gridcolor\": \"white\", \"gridwidth\": 2, \"linecolor\": \"white\", \"showbackground\": true, \"ticks\": \"\", \"zerolinecolor\": \"white\"}}, \"shapedefaults\": {\"line\": {\"color\": \"#2a3f5f\"}}, \"ternary\": {\"aaxis\": {\"gridcolor\": \"white\", \"linecolor\": \"white\", \"ticks\": \"\"}, \"baxis\": {\"gridcolor\": \"white\", \"linecolor\": \"white\", \"ticks\": \"\"}, \"bgcolor\": \"#E5ECF6\", \"caxis\": {\"gridcolor\": \"white\", \"linecolor\": \"white\", \"ticks\": \"\"}}, \"title\": {\"x\": 0.05}, \"xaxis\": {\"automargin\": true, \"gridcolor\": \"white\", \"linecolor\": \"white\", \"ticks\": \"\", \"title\": {\"standoff\": 15}, \"zerolinecolor\": \"white\", \"zerolinewidth\": 2}, \"yaxis\": {\"automargin\": true, \"gridcolor\": \"white\", \"linecolor\": \"white\", \"ticks\": \"\", \"title\": {\"standoff\": 15}, \"zerolinecolor\": \"white\", \"zerolinewidth\": 2}}}, \"title\": {\"text\": \"Histogram of complexities (set: NR, 15 items)\"}, \"xaxis\": {\"title\": {\"text\": \"xaxis title\"}}, \"yaxis\": {\"title\": {\"text\": \"Count\"}}},                        {\"responsive\": true}                    ).then(function(){\n                            \nvar gd = document.getElementById('6c593536-59f6-4c87-8b57-477cb34246a0');\nvar x = new MutationObserver(function (mutations, observer) {{\n        var display = window.getComputedStyle(gd).display;\n        if (!display || display === 'none') {{\n            console.log([gd, 'removed!']);\n            Plotly.purge(gd);\n            observer.disconnect();\n        }}\n}});\n\n// Listen for the removal of the full notebook cells\nvar notebookContainer = gd.closest('#notebook-container');\nif (notebookContainer) {{\n    x.observe(notebookContainer, {childList: true});\n}}\n\n// Listen for the clearing of the current output cell\nvar outputEl = gd.closest('.output');\nif (outputEl) {{\n    x.observe(outputEl, {childList: true});\n}}\n\n                        })                };                });            </script>        </div>"
     },
     "metadata": {}
    }
   ],
   "source": [
    "# display(complexities)\n",
    "plotComplexity(complexities)"
   ]
  },
  {
   "cell_type": "code",
   "execution_count": 30,
   "metadata": {},
   "outputs": [
    {
     "output_type": "display_data",
     "data": {
      "application/vnd.plotly.v1+json": {
       "config": {
        "plotlyServerURL": "https://plot.ly"
       },
       "data": [
        {
         "line": {
          "color": "blue",
          "dash": "dot"
         },
         "name": "Set: nr, method Brute Forece",
         "type": "scatter",
         "x": [
          4,
          10,
          15,
          20
         ],
         "y": [
          8.0138e-7,
          0.000015828432,
          0.000448274792,
          0.014022568199999998
         ]
        },
        {
         "line": {
          "color": "red",
          "dash": "dash"
         },
         "name": "Set: zr, method Brute Forece",
         "type": "scatter",
         "x": [
          4,
          10,
          15,
          20
         ],
         "y": [
          0.0000012670260000000002,
          0.00002392861,
          0.000499987828,
          0.014406605399999998
         ]
        },
        {
         "line": {
          "color": "blue"
         },
         "name": "Set: nr, method Branch and Bound",
         "type": "scatter",
         "x": [
          4,
          10,
          15,
          20
         ],
         "y": [
          7.3178e-7,
          0.000007987854000000001,
          0.000206808624,
          0.00653354816
         ]
        },
        {
         "line": {
          "color": "red"
         },
         "name": "Set: zr, method Branch and Bound",
         "type": "scatter",
         "x": [
          4,
          10,
          15,
          20
         ],
         "y": [
          9.136760000000001e-7,
          0.000013774431999999999,
          0.000431174264,
          0.013197889286
         ]
        }
       ],
       "layout": {
        "bargap": 0.2,
        "bargroupgap": 0.1,
        "barmode": "overlay",
        "template": {
         "data": {
          "bar": [
           {
            "error_x": {
             "color": "#2a3f5f"
            },
            "error_y": {
             "color": "#2a3f5f"
            },
            "marker": {
             "line": {
              "color": "#E5ECF6",
              "width": 0.5
             }
            },
            "type": "bar"
           }
          ],
          "barpolar": [
           {
            "marker": {
             "line": {
              "color": "#E5ECF6",
              "width": 0.5
             }
            },
            "type": "barpolar"
           }
          ],
          "carpet": [
           {
            "aaxis": {
             "endlinecolor": "#2a3f5f",
             "gridcolor": "white",
             "linecolor": "white",
             "minorgridcolor": "white",
             "startlinecolor": "#2a3f5f"
            },
            "baxis": {
             "endlinecolor": "#2a3f5f",
             "gridcolor": "white",
             "linecolor": "white",
             "minorgridcolor": "white",
             "startlinecolor": "#2a3f5f"
            },
            "type": "carpet"
           }
          ],
          "choropleth": [
           {
            "colorbar": {
             "outlinewidth": 0,
             "ticks": ""
            },
            "type": "choropleth"
           }
          ],
          "contour": [
           {
            "colorbar": {
             "outlinewidth": 0,
             "ticks": ""
            },
            "colorscale": [
             [
              0,
              "#0d0887"
             ],
             [
              0.1111111111111111,
              "#46039f"
             ],
             [
              0.2222222222222222,
              "#7201a8"
             ],
             [
              0.3333333333333333,
              "#9c179e"
             ],
             [
              0.4444444444444444,
              "#bd3786"
             ],
             [
              0.5555555555555556,
              "#d8576b"
             ],
             [
              0.6666666666666666,
              "#ed7953"
             ],
             [
              0.7777777777777778,
              "#fb9f3a"
             ],
             [
              0.8888888888888888,
              "#fdca26"
             ],
             [
              1,
              "#f0f921"
             ]
            ],
            "type": "contour"
           }
          ],
          "contourcarpet": [
           {
            "colorbar": {
             "outlinewidth": 0,
             "ticks": ""
            },
            "type": "contourcarpet"
           }
          ],
          "heatmap": [
           {
            "colorbar": {
             "outlinewidth": 0,
             "ticks": ""
            },
            "colorscale": [
             [
              0,
              "#0d0887"
             ],
             [
              0.1111111111111111,
              "#46039f"
             ],
             [
              0.2222222222222222,
              "#7201a8"
             ],
             [
              0.3333333333333333,
              "#9c179e"
             ],
             [
              0.4444444444444444,
              "#bd3786"
             ],
             [
              0.5555555555555556,
              "#d8576b"
             ],
             [
              0.6666666666666666,
              "#ed7953"
             ],
             [
              0.7777777777777778,
              "#fb9f3a"
             ],
             [
              0.8888888888888888,
              "#fdca26"
             ],
             [
              1,
              "#f0f921"
             ]
            ],
            "type": "heatmap"
           }
          ],
          "heatmapgl": [
           {
            "colorbar": {
             "outlinewidth": 0,
             "ticks": ""
            },
            "colorscale": [
             [
              0,
              "#0d0887"
             ],
             [
              0.1111111111111111,
              "#46039f"
             ],
             [
              0.2222222222222222,
              "#7201a8"
             ],
             [
              0.3333333333333333,
              "#9c179e"
             ],
             [
              0.4444444444444444,
              "#bd3786"
             ],
             [
              0.5555555555555556,
              "#d8576b"
             ],
             [
              0.6666666666666666,
              "#ed7953"
             ],
             [
              0.7777777777777778,
              "#fb9f3a"
             ],
             [
              0.8888888888888888,
              "#fdca26"
             ],
             [
              1,
              "#f0f921"
             ]
            ],
            "type": "heatmapgl"
           }
          ],
          "histogram": [
           {
            "marker": {
             "colorbar": {
              "outlinewidth": 0,
              "ticks": ""
             }
            },
            "type": "histogram"
           }
          ],
          "histogram2d": [
           {
            "colorbar": {
             "outlinewidth": 0,
             "ticks": ""
            },
            "colorscale": [
             [
              0,
              "#0d0887"
             ],
             [
              0.1111111111111111,
              "#46039f"
             ],
             [
              0.2222222222222222,
              "#7201a8"
             ],
             [
              0.3333333333333333,
              "#9c179e"
             ],
             [
              0.4444444444444444,
              "#bd3786"
             ],
             [
              0.5555555555555556,
              "#d8576b"
             ],
             [
              0.6666666666666666,
              "#ed7953"
             ],
             [
              0.7777777777777778,
              "#fb9f3a"
             ],
             [
              0.8888888888888888,
              "#fdca26"
             ],
             [
              1,
              "#f0f921"
             ]
            ],
            "type": "histogram2d"
           }
          ],
          "histogram2dcontour": [
           {
            "colorbar": {
             "outlinewidth": 0,
             "ticks": ""
            },
            "colorscale": [
             [
              0,
              "#0d0887"
             ],
             [
              0.1111111111111111,
              "#46039f"
             ],
             [
              0.2222222222222222,
              "#7201a8"
             ],
             [
              0.3333333333333333,
              "#9c179e"
             ],
             [
              0.4444444444444444,
              "#bd3786"
             ],
             [
              0.5555555555555556,
              "#d8576b"
             ],
             [
              0.6666666666666666,
              "#ed7953"
             ],
             [
              0.7777777777777778,
              "#fb9f3a"
             ],
             [
              0.8888888888888888,
              "#fdca26"
             ],
             [
              1,
              "#f0f921"
             ]
            ],
            "type": "histogram2dcontour"
           }
          ],
          "mesh3d": [
           {
            "colorbar": {
             "outlinewidth": 0,
             "ticks": ""
            },
            "type": "mesh3d"
           }
          ],
          "parcoords": [
           {
            "line": {
             "colorbar": {
              "outlinewidth": 0,
              "ticks": ""
             }
            },
            "type": "parcoords"
           }
          ],
          "pie": [
           {
            "automargin": true,
            "type": "pie"
           }
          ],
          "scatter": [
           {
            "marker": {
             "colorbar": {
              "outlinewidth": 0,
              "ticks": ""
             }
            },
            "type": "scatter"
           }
          ],
          "scatter3d": [
           {
            "line": {
             "colorbar": {
              "outlinewidth": 0,
              "ticks": ""
             }
            },
            "marker": {
             "colorbar": {
              "outlinewidth": 0,
              "ticks": ""
             }
            },
            "type": "scatter3d"
           }
          ],
          "scattercarpet": [
           {
            "marker": {
             "colorbar": {
              "outlinewidth": 0,
              "ticks": ""
             }
            },
            "type": "scattercarpet"
           }
          ],
          "scattergeo": [
           {
            "marker": {
             "colorbar": {
              "outlinewidth": 0,
              "ticks": ""
             }
            },
            "type": "scattergeo"
           }
          ],
          "scattergl": [
           {
            "marker": {
             "colorbar": {
              "outlinewidth": 0,
              "ticks": ""
             }
            },
            "type": "scattergl"
           }
          ],
          "scattermapbox": [
           {
            "marker": {
             "colorbar": {
              "outlinewidth": 0,
              "ticks": ""
             }
            },
            "type": "scattermapbox"
           }
          ],
          "scatterpolar": [
           {
            "marker": {
             "colorbar": {
              "outlinewidth": 0,
              "ticks": ""
             }
            },
            "type": "scatterpolar"
           }
          ],
          "scatterpolargl": [
           {
            "marker": {
             "colorbar": {
              "outlinewidth": 0,
              "ticks": ""
             }
            },
            "type": "scatterpolargl"
           }
          ],
          "scatterternary": [
           {
            "marker": {
             "colorbar": {
              "outlinewidth": 0,
              "ticks": ""
             }
            },
            "type": "scatterternary"
           }
          ],
          "surface": [
           {
            "colorbar": {
             "outlinewidth": 0,
             "ticks": ""
            },
            "colorscale": [
             [
              0,
              "#0d0887"
             ],
             [
              0.1111111111111111,
              "#46039f"
             ],
             [
              0.2222222222222222,
              "#7201a8"
             ],
             [
              0.3333333333333333,
              "#9c179e"
             ],
             [
              0.4444444444444444,
              "#bd3786"
             ],
             [
              0.5555555555555556,
              "#d8576b"
             ],
             [
              0.6666666666666666,
              "#ed7953"
             ],
             [
              0.7777777777777778,
              "#fb9f3a"
             ],
             [
              0.8888888888888888,
              "#fdca26"
             ],
             [
              1,
              "#f0f921"
             ]
            ],
            "type": "surface"
           }
          ],
          "table": [
           {
            "cells": {
             "fill": {
              "color": "#EBF0F8"
             },
             "line": {
              "color": "white"
             }
            },
            "header": {
             "fill": {
              "color": "#C8D4E3"
             },
             "line": {
              "color": "white"
             }
            },
            "type": "table"
           }
          ]
         },
         "layout": {
          "annotationdefaults": {
           "arrowcolor": "#2a3f5f",
           "arrowhead": 0,
           "arrowwidth": 1
          },
          "coloraxis": {
           "colorbar": {
            "outlinewidth": 0,
            "ticks": ""
           }
          },
          "colorscale": {
           "diverging": [
            [
             0,
             "#8e0152"
            ],
            [
             0.1,
             "#c51b7d"
            ],
            [
             0.2,
             "#de77ae"
            ],
            [
             0.3,
             "#f1b6da"
            ],
            [
             0.4,
             "#fde0ef"
            ],
            [
             0.5,
             "#f7f7f7"
            ],
            [
             0.6,
             "#e6f5d0"
            ],
            [
             0.7,
             "#b8e186"
            ],
            [
             0.8,
             "#7fbc41"
            ],
            [
             0.9,
             "#4d9221"
            ],
            [
             1,
             "#276419"
            ]
           ],
           "sequential": [
            [
             0,
             "#0d0887"
            ],
            [
             0.1111111111111111,
             "#46039f"
            ],
            [
             0.2222222222222222,
             "#7201a8"
            ],
            [
             0.3333333333333333,
             "#9c179e"
            ],
            [
             0.4444444444444444,
             "#bd3786"
            ],
            [
             0.5555555555555556,
             "#d8576b"
            ],
            [
             0.6666666666666666,
             "#ed7953"
            ],
            [
             0.7777777777777778,
             "#fb9f3a"
            ],
            [
             0.8888888888888888,
             "#fdca26"
            ],
            [
             1,
             "#f0f921"
            ]
           ],
           "sequentialminus": [
            [
             0,
             "#0d0887"
            ],
            [
             0.1111111111111111,
             "#46039f"
            ],
            [
             0.2222222222222222,
             "#7201a8"
            ],
            [
             0.3333333333333333,
             "#9c179e"
            ],
            [
             0.4444444444444444,
             "#bd3786"
            ],
            [
             0.5555555555555556,
             "#d8576b"
            ],
            [
             0.6666666666666666,
             "#ed7953"
            ],
            [
             0.7777777777777778,
             "#fb9f3a"
            ],
            [
             0.8888888888888888,
             "#fdca26"
            ],
            [
             1,
             "#f0f921"
            ]
           ]
          },
          "colorway": [
           "#636efa",
           "#EF553B",
           "#00cc96",
           "#ab63fa",
           "#FFA15A",
           "#19d3f3",
           "#FF6692",
           "#B6E880",
           "#FF97FF",
           "#FECB52"
          ],
          "font": {
           "color": "#2a3f5f"
          },
          "geo": {
           "bgcolor": "white",
           "lakecolor": "white",
           "landcolor": "#E5ECF6",
           "showlakes": true,
           "showland": true,
           "subunitcolor": "white"
          },
          "hoverlabel": {
           "align": "left"
          },
          "hovermode": "closest",
          "mapbox": {
           "style": "light"
          },
          "paper_bgcolor": "white",
          "plot_bgcolor": "#E5ECF6",
          "polar": {
           "angularaxis": {
            "gridcolor": "white",
            "linecolor": "white",
            "ticks": ""
           },
           "bgcolor": "#E5ECF6",
           "radialaxis": {
            "gridcolor": "white",
            "linecolor": "white",
            "ticks": ""
           }
          },
          "scene": {
           "xaxis": {
            "backgroundcolor": "#E5ECF6",
            "gridcolor": "white",
            "gridwidth": 2,
            "linecolor": "white",
            "showbackground": true,
            "ticks": "",
            "zerolinecolor": "white"
           },
           "yaxis": {
            "backgroundcolor": "#E5ECF6",
            "gridcolor": "white",
            "gridwidth": 2,
            "linecolor": "white",
            "showbackground": true,
            "ticks": "",
            "zerolinecolor": "white"
           },
           "zaxis": {
            "backgroundcolor": "#E5ECF6",
            "gridcolor": "white",
            "gridwidth": 2,
            "linecolor": "white",
            "showbackground": true,
            "ticks": "",
            "zerolinecolor": "white"
           }
          },
          "shapedefaults": {
           "line": {
            "color": "#2a3f5f"
           }
          },
          "ternary": {
           "aaxis": {
            "gridcolor": "white",
            "linecolor": "white",
            "ticks": ""
           },
           "baxis": {
            "gridcolor": "white",
            "linecolor": "white",
            "ticks": ""
           },
           "bgcolor": "#E5ECF6",
           "caxis": {
            "gridcolor": "white",
            "linecolor": "white",
            "ticks": ""
           }
          },
          "title": {
           "x": 0.05
          },
          "xaxis": {
           "automargin": true,
           "gridcolor": "white",
           "linecolor": "white",
           "ticks": "",
           "title": {
            "standoff": 15
           },
           "zerolinecolor": "white",
           "zerolinewidth": 2
          },
          "yaxis": {
           "automargin": true,
           "gridcolor": "white",
           "linecolor": "white",
           "ticks": "",
           "title": {
            "standoff": 15
           },
           "zerolinecolor": "white",
           "zerolinewidth": 2
          }
         }
        },
        "title": {
         "text": "Histogram of complexities (set: NR, 15 items)"
        },
        "xaxis": {
         "title": {
          "text": "xaxis title"
         }
        },
        "yaxis": {
         "title": {
          "text": "Count"
         }
        }
       }
      },
      "text/html": "<div>                            <div id=\"528db3ca-2398-4403-80eb-1f3546617412\" class=\"plotly-graph-div\" style=\"height:525px; width:100%;\"></div>            <script type=\"text/javascript\">                require([\"plotly\"], function(Plotly) {                    window.PLOTLYENV=window.PLOTLYENV || {};                                    if (document.getElementById(\"528db3ca-2398-4403-80eb-1f3546617412\")) {                    Plotly.newPlot(                        \"528db3ca-2398-4403-80eb-1f3546617412\",                        [{\"line\": {\"color\": \"blue\", \"dash\": \"dot\"}, \"name\": \"Set: nr, method Brute Forece\", \"type\": \"scatter\", \"x\": [4, 10, 15, 20], \"y\": [8.0138e-07, 1.5828432e-05, 0.000448274792, 0.014022568199999998]}, {\"line\": {\"color\": \"red\", \"dash\": \"dash\"}, \"name\": \"Set: zr, method Brute Forece\", \"type\": \"scatter\", \"x\": [4, 10, 15, 20], \"y\": [1.2670260000000002e-06, 2.392861e-05, 0.000499987828, 0.014406605399999998]}, {\"line\": {\"color\": \"blue\"}, \"name\": \"Set: nr, method Branch and Bound\", \"type\": \"scatter\", \"x\": [4, 10, 15, 20], \"y\": [7.3178e-07, 7.987854000000001e-06, 0.000206808624, 0.00653354816]}, {\"line\": {\"color\": \"red\"}, \"name\": \"Set: zr, method Branch and Bound\", \"type\": \"scatter\", \"x\": [4, 10, 15, 20], \"y\": [9.136760000000001e-07, 1.3774431999999999e-05, 0.000431174264, 0.013197889286]}],                        {\"bargap\": 0.2, \"bargroupgap\": 0.1, \"barmode\": \"overlay\", \"template\": {\"data\": {\"bar\": [{\"error_x\": {\"color\": \"#2a3f5f\"}, \"error_y\": {\"color\": \"#2a3f5f\"}, \"marker\": {\"line\": {\"color\": \"#E5ECF6\", \"width\": 0.5}}, \"type\": \"bar\"}], \"barpolar\": [{\"marker\": {\"line\": {\"color\": \"#E5ECF6\", \"width\": 0.5}}, \"type\": \"barpolar\"}], \"carpet\": [{\"aaxis\": {\"endlinecolor\": \"#2a3f5f\", \"gridcolor\": \"white\", \"linecolor\": \"white\", \"minorgridcolor\": \"white\", \"startlinecolor\": \"#2a3f5f\"}, \"baxis\": {\"endlinecolor\": \"#2a3f5f\", \"gridcolor\": \"white\", \"linecolor\": \"white\", \"minorgridcolor\": \"white\", \"startlinecolor\": \"#2a3f5f\"}, \"type\": \"carpet\"}], \"choropleth\": [{\"colorbar\": {\"outlinewidth\": 0, \"ticks\": \"\"}, \"type\": \"choropleth\"}], \"contour\": [{\"colorbar\": {\"outlinewidth\": 0, \"ticks\": \"\"}, \"colorscale\": [[0.0, \"#0d0887\"], [0.1111111111111111, \"#46039f\"], [0.2222222222222222, \"#7201a8\"], [0.3333333333333333, \"#9c179e\"], [0.4444444444444444, \"#bd3786\"], [0.5555555555555556, \"#d8576b\"], [0.6666666666666666, \"#ed7953\"], [0.7777777777777778, \"#fb9f3a\"], [0.8888888888888888, \"#fdca26\"], [1.0, \"#f0f921\"]], \"type\": \"contour\"}], \"contourcarpet\": [{\"colorbar\": {\"outlinewidth\": 0, \"ticks\": \"\"}, \"type\": \"contourcarpet\"}], \"heatmap\": [{\"colorbar\": {\"outlinewidth\": 0, \"ticks\": \"\"}, \"colorscale\": [[0.0, \"#0d0887\"], [0.1111111111111111, \"#46039f\"], [0.2222222222222222, \"#7201a8\"], [0.3333333333333333, \"#9c179e\"], [0.4444444444444444, \"#bd3786\"], [0.5555555555555556, \"#d8576b\"], [0.6666666666666666, \"#ed7953\"], [0.7777777777777778, \"#fb9f3a\"], [0.8888888888888888, \"#fdca26\"], [1.0, \"#f0f921\"]], \"type\": \"heatmap\"}], \"heatmapgl\": [{\"colorbar\": {\"outlinewidth\": 0, \"ticks\": \"\"}, \"colorscale\": [[0.0, \"#0d0887\"], [0.1111111111111111, \"#46039f\"], [0.2222222222222222, \"#7201a8\"], [0.3333333333333333, \"#9c179e\"], [0.4444444444444444, \"#bd3786\"], [0.5555555555555556, \"#d8576b\"], [0.6666666666666666, \"#ed7953\"], [0.7777777777777778, \"#fb9f3a\"], [0.8888888888888888, \"#fdca26\"], [1.0, \"#f0f921\"]], \"type\": \"heatmapgl\"}], \"histogram\": [{\"marker\": {\"colorbar\": {\"outlinewidth\": 0, \"ticks\": \"\"}}, \"type\": \"histogram\"}], \"histogram2d\": [{\"colorbar\": {\"outlinewidth\": 0, \"ticks\": \"\"}, \"colorscale\": [[0.0, \"#0d0887\"], [0.1111111111111111, \"#46039f\"], [0.2222222222222222, \"#7201a8\"], [0.3333333333333333, \"#9c179e\"], [0.4444444444444444, \"#bd3786\"], [0.5555555555555556, \"#d8576b\"], [0.6666666666666666, \"#ed7953\"], [0.7777777777777778, \"#fb9f3a\"], [0.8888888888888888, \"#fdca26\"], [1.0, \"#f0f921\"]], \"type\": \"histogram2d\"}], \"histogram2dcontour\": [{\"colorbar\": {\"outlinewidth\": 0, \"ticks\": \"\"}, \"colorscale\": [[0.0, \"#0d0887\"], [0.1111111111111111, \"#46039f\"], [0.2222222222222222, \"#7201a8\"], [0.3333333333333333, \"#9c179e\"], [0.4444444444444444, \"#bd3786\"], [0.5555555555555556, \"#d8576b\"], [0.6666666666666666, \"#ed7953\"], [0.7777777777777778, \"#fb9f3a\"], [0.8888888888888888, \"#fdca26\"], [1.0, \"#f0f921\"]], \"type\": \"histogram2dcontour\"}], \"mesh3d\": [{\"colorbar\": {\"outlinewidth\": 0, \"ticks\": \"\"}, \"type\": \"mesh3d\"}], \"parcoords\": [{\"line\": {\"colorbar\": {\"outlinewidth\": 0, \"ticks\": \"\"}}, \"type\": \"parcoords\"}], \"pie\": [{\"automargin\": true, \"type\": \"pie\"}], \"scatter\": [{\"marker\": {\"colorbar\": {\"outlinewidth\": 0, \"ticks\": \"\"}}, \"type\": \"scatter\"}], \"scatter3d\": [{\"line\": {\"colorbar\": {\"outlinewidth\": 0, \"ticks\": \"\"}}, \"marker\": {\"colorbar\": {\"outlinewidth\": 0, \"ticks\": \"\"}}, \"type\": \"scatter3d\"}], \"scattercarpet\": [{\"marker\": {\"colorbar\": {\"outlinewidth\": 0, \"ticks\": \"\"}}, \"type\": \"scattercarpet\"}], \"scattergeo\": [{\"marker\": {\"colorbar\": {\"outlinewidth\": 0, \"ticks\": \"\"}}, \"type\": \"scattergeo\"}], \"scattergl\": [{\"marker\": {\"colorbar\": {\"outlinewidth\": 0, \"ticks\": \"\"}}, \"type\": \"scattergl\"}], \"scattermapbox\": [{\"marker\": {\"colorbar\": {\"outlinewidth\": 0, \"ticks\": \"\"}}, \"type\": \"scattermapbox\"}], \"scatterpolar\": [{\"marker\": {\"colorbar\": {\"outlinewidth\": 0, \"ticks\": \"\"}}, \"type\": \"scatterpolar\"}], \"scatterpolargl\": [{\"marker\": {\"colorbar\": {\"outlinewidth\": 0, \"ticks\": \"\"}}, \"type\": \"scatterpolargl\"}], \"scatterternary\": [{\"marker\": {\"colorbar\": {\"outlinewidth\": 0, \"ticks\": \"\"}}, \"type\": \"scatterternary\"}], \"surface\": [{\"colorbar\": {\"outlinewidth\": 0, \"ticks\": \"\"}, \"colorscale\": [[0.0, \"#0d0887\"], [0.1111111111111111, \"#46039f\"], [0.2222222222222222, \"#7201a8\"], [0.3333333333333333, \"#9c179e\"], [0.4444444444444444, \"#bd3786\"], [0.5555555555555556, \"#d8576b\"], [0.6666666666666666, \"#ed7953\"], [0.7777777777777778, \"#fb9f3a\"], [0.8888888888888888, \"#fdca26\"], [1.0, \"#f0f921\"]], \"type\": \"surface\"}], \"table\": [{\"cells\": {\"fill\": {\"color\": \"#EBF0F8\"}, \"line\": {\"color\": \"white\"}}, \"header\": {\"fill\": {\"color\": \"#C8D4E3\"}, \"line\": {\"color\": \"white\"}}, \"type\": \"table\"}]}, \"layout\": {\"annotationdefaults\": {\"arrowcolor\": \"#2a3f5f\", \"arrowhead\": 0, \"arrowwidth\": 1}, \"coloraxis\": {\"colorbar\": {\"outlinewidth\": 0, \"ticks\": \"\"}}, \"colorscale\": {\"diverging\": [[0, \"#8e0152\"], [0.1, \"#c51b7d\"], [0.2, \"#de77ae\"], [0.3, \"#f1b6da\"], [0.4, \"#fde0ef\"], [0.5, \"#f7f7f7\"], [0.6, \"#e6f5d0\"], [0.7, \"#b8e186\"], [0.8, \"#7fbc41\"], [0.9, \"#4d9221\"], [1, \"#276419\"]], \"sequential\": [[0.0, \"#0d0887\"], [0.1111111111111111, \"#46039f\"], [0.2222222222222222, \"#7201a8\"], [0.3333333333333333, \"#9c179e\"], [0.4444444444444444, \"#bd3786\"], [0.5555555555555556, \"#d8576b\"], [0.6666666666666666, \"#ed7953\"], [0.7777777777777778, \"#fb9f3a\"], [0.8888888888888888, \"#fdca26\"], [1.0, \"#f0f921\"]], \"sequentialminus\": [[0.0, \"#0d0887\"], [0.1111111111111111, \"#46039f\"], [0.2222222222222222, \"#7201a8\"], [0.3333333333333333, \"#9c179e\"], [0.4444444444444444, \"#bd3786\"], [0.5555555555555556, \"#d8576b\"], [0.6666666666666666, \"#ed7953\"], [0.7777777777777778, \"#fb9f3a\"], [0.8888888888888888, \"#fdca26\"], [1.0, \"#f0f921\"]]}, \"colorway\": [\"#636efa\", \"#EF553B\", \"#00cc96\", \"#ab63fa\", \"#FFA15A\", \"#19d3f3\", \"#FF6692\", \"#B6E880\", \"#FF97FF\", \"#FECB52\"], \"font\": {\"color\": \"#2a3f5f\"}, \"geo\": {\"bgcolor\": \"white\", \"lakecolor\": \"white\", \"landcolor\": \"#E5ECF6\", \"showlakes\": true, \"showland\": true, \"subunitcolor\": \"white\"}, \"hoverlabel\": {\"align\": \"left\"}, \"hovermode\": \"closest\", \"mapbox\": {\"style\": \"light\"}, \"paper_bgcolor\": \"white\", \"plot_bgcolor\": \"#E5ECF6\", \"polar\": {\"angularaxis\": {\"gridcolor\": \"white\", \"linecolor\": \"white\", \"ticks\": \"\"}, \"bgcolor\": \"#E5ECF6\", \"radialaxis\": {\"gridcolor\": \"white\", \"linecolor\": \"white\", \"ticks\": \"\"}}, \"scene\": {\"xaxis\": {\"backgroundcolor\": \"#E5ECF6\", \"gridcolor\": \"white\", \"gridwidth\": 2, \"linecolor\": \"white\", \"showbackground\": true, \"ticks\": \"\", \"zerolinecolor\": \"white\"}, \"yaxis\": {\"backgroundcolor\": \"#E5ECF6\", \"gridcolor\": \"white\", \"gridwidth\": 2, \"linecolor\": \"white\", \"showbackground\": true, \"ticks\": \"\", \"zerolinecolor\": \"white\"}, \"zaxis\": {\"backgroundcolor\": \"#E5ECF6\", \"gridcolor\": \"white\", \"gridwidth\": 2, \"linecolor\": \"white\", \"showbackground\": true, \"ticks\": \"\", \"zerolinecolor\": \"white\"}}, \"shapedefaults\": {\"line\": {\"color\": \"#2a3f5f\"}}, \"ternary\": {\"aaxis\": {\"gridcolor\": \"white\", \"linecolor\": \"white\", \"ticks\": \"\"}, \"baxis\": {\"gridcolor\": \"white\", \"linecolor\": \"white\", \"ticks\": \"\"}, \"bgcolor\": \"#E5ECF6\", \"caxis\": {\"gridcolor\": \"white\", \"linecolor\": \"white\", \"ticks\": \"\"}}, \"title\": {\"x\": 0.05}, \"xaxis\": {\"automargin\": true, \"gridcolor\": \"white\", \"linecolor\": \"white\", \"ticks\": \"\", \"title\": {\"standoff\": 15}, \"zerolinecolor\": \"white\", \"zerolinewidth\": 2}, \"yaxis\": {\"automargin\": true, \"gridcolor\": \"white\", \"linecolor\": \"white\", \"ticks\": \"\", \"title\": {\"standoff\": 15}, \"zerolinecolor\": \"white\", \"zerolinewidth\": 2}}}, \"title\": {\"text\": \"Histogram of complexities (set: NR, 15 items)\"}, \"xaxis\": {\"title\": {\"text\": \"xaxis title\"}}, \"yaxis\": {\"title\": {\"text\": \"Count\"}}},                        {\"responsive\": true}                    ).then(function(){\n                            \nvar gd = document.getElementById('528db3ca-2398-4403-80eb-1f3546617412');\nvar x = new MutationObserver(function (mutations, observer) {{\n        var display = window.getComputedStyle(gd).display;\n        if (!display || display === 'none') {{\n            console.log([gd, 'removed!']);\n            Plotly.purge(gd);\n            observer.disconnect();\n        }}\n}});\n\n// Listen for the removal of the full notebook cells\nvar notebookContainer = gd.closest('#notebook-container');\nif (notebookContainer) {{\n    x.observe(notebookContainer, {childList: true});\n}}\n\n// Listen for the clearing of the current output cell\nvar outputEl = gd.closest('.output');\nif (outputEl) {{\n    x.observe(outputEl, {childList: true});\n}}\n\n                        })                };                });            </script>        </div>"
     },
     "metadata": {}
    }
   ],
   "source": [
    "# display(complexities)\n",
    "plotComplexity(complexities, \"seconds\")"
   ]
  },
  {
   "cell_type": "code",
   "execution_count": 31,
   "metadata": {},
   "outputs": [],
   "source": [
    "# import plotly.express as px\n",
    "\n",
    "\n",
    "# complexity = {\n",
    "#     \"n\": [x for x in NUMBERS],\n",
    "#     \"complexity\": [dfs['zr'][x]['brute_force'][\"complexity\"].mean() for x in NUMBERS],\n",
    "#     \"seconds\": [dfs['zr'][x]['brute_force'][\"seconds\"].mean() for x in NUMBERS],\n",
    "# }\n",
    "\n",
    "\n",
    "\n",
    "# df_compl = pd.DataFrame(complexity)\n",
    "# fig = px.line(df_compl, x=\"n\", y=\"seconds\", title='Life expectancy in Canada')\n",
    "# fig.show()\n",
    "\n",
    "\n",
    "\n",
    "# sum_dict = {\"n\": NUMBERS, \"complexities\": complexities}\n",
    "# df_sum = pd.DataFrame(sum_dict)\n",
    "# display(df_sum)\n",
    "\n",
    "# sns.lineplot(x=\"n\", y=\"complexities\", data=df_sum)\n",
    "# Do statistics\n",
    "\n",
    "# dfs[20][\"solutions\"]\n",
    "\n",
    "# with open(\"./time_spent.json\", \"w\") as f:\n",
    "#     f.write(json.dumps(TIME_SPENT))\n",
    "# with open(\"./errors.json\", \"w\") as f:\n",
    "#     f.write(json.dumps(ERRORS))\n",
    "\n",
    "\n"
   ]
  },
  {
   "cell_type": "code",
   "execution_count": 32,
   "metadata": {},
   "outputs": [],
   "source": [
    "# Plot results\n",
    "\n",
    "# summary = pd.read_csv(\"./summary.csv\", sep=\" \", header=None,\n",
    "                    #   names=[\"n\", \"seconds\", \"errors\", \"error lines\", \"path\"])\n",
    "# pd.read(\"./time_spent.json\", orient=\"index\")\n",
    "# summary[\"seconds\"] = \n",
    "# df[df.columns[0]] = pd.to_datetime(df.columns[0], format='%d.%m.%Y')\n",
    "# display(summary.head())\n",
    "\n",
    "# sns.lineplot(x=\"n\", y=\"seconds\", data=summary)\n",
    "# sns.regplot(x=\"n\", y=\"seconds\", data=summary, order=2)"
   ]
  },
  {
   "cell_type": "code",
   "execution_count": null,
   "metadata": {},
   "outputs": [],
   "source": []
  },
  {
   "cell_type": "code",
   "execution_count": 33,
   "metadata": {},
   "outputs": [],
   "source": [
    "# dfs['zr'][27]['brute_force'][\"complexity\"].mean()"
   ]
  },
  {
   "cell_type": "code",
   "execution_count": 34,
   "metadata": {},
   "outputs": [],
   "source": [
    "# resToDf(\"./data/nr/res/N{n}.csv\".format(n=15))\n",
    "\n",
    "# TODO rewrite to writeSummary\n",
    "\n",
    "#     with open(\"./summary.csv\", \"a\") as f:\n",
    "#         f.write(\"{} {} {} {} {}\\n\".format(n, time, err_num, err_lines, PATH_INS))\n",
    "\n",
    "\n",
    "\n",
    "# mal = ~check\n",
    "# df_res[mal]\n",
    "# display(df_ins[484:485])\n",
    "# display(df_res[484:485])\n",
    "# display(df_sol[484:485])\n",
    "# df_ins.iloc[485]\n",
    "# display(df_res)\n",
    "# display(df_sol)\n",
    "\n",
    "# Do the computing if not done elsewhere\n",
    "\n",
    "# INSTANCES = INSTANCES_TEMPLATE\n",
    "# RESULTS = RESULTS_TEST_TEMPLATE\n",
    "\n",
    "# for n in [4, 10, 15, 20]: #NUMBERS:\n",
    "#     time = clib.solve(INSTANCES.format(n=n).encode(), RESULTS.format(n=n).encode())\n",
    "#     print(f\"N={n}, time: {time} seconds\")\n",
    "\n",
    "    # ADD TIME TO EVERY ROW IN C\n",
    "#     with open(\"./summary.csv\", \"a\") as f:\n",
    "#     f.write(\"{} {} {} {} {}\\n\".format(n, time, err_num, err_lines, PATH_INS))\n",
    "\n",
    "# Example ------------------------------\n",
    "# N=4, time: 0.002436647 seconds\n",
    "# N=10, time: 0.008560687 seconds\n",
    "# N=15, time: 0.13911387 seconds\n",
    "# N=20, time: 3.220593536 seconds\n",
    "# N=22, time: 10.276774363 seconds\n",
    "# N=25, time: 86.253023671 seconds\n",
    "# N=27, time: 340.290631575 seconds\n",
    "# N=30, time: 2415.635693286 seconds\n",
    "# N=32, time: 9672.943833396 seconds\n",
    "\n",
    "\n",
    "# n = 4\n",
    "# dataset = \"zr\"\n",
    "# df_ins = dfs[dataset][n][\"instances\"]\n",
    "# df_sol = dfs[dataset][n][\"solutions\"]\n",
    "# df_bf = dfs[dataset][n][\"brute_force\"]\n",
    "\n",
    "# # df_ins[\"B\"]\n",
    "# [a for a in df_sol[\"optimum\"].index if a not in df_ins[\"B\"].index]\n",
    "# df_sol[\"optimum\"][df_sol[\"optimum\"].index.duplicated()]\n",
    "# err_num, err_lines = check(df_ins, df_sol, df_bf, data[\"brute_force\"].format(n=n))\n",
    "# print(\"BF: err_num: {}, err_lines: {}\".format(err_num, err_lines))\n",
    "\n",
    "# display(dfs[15]['brute_force'])\n",
    "# fig = px.histogram(dfs[15]['brute_force'], x=\"complexity\")\n",
    "\n",
    "# fig = px.histogram(dfs[15]['branch_and_bound'], x=\"complexity\")\n",
    "\n",
    "# fig = make_subplots(rows=1, cols=2, subplot_titles=(\"Plot 1\", \"Plot 2\"))\n",
    "# fig.add_trace(go.Histogram(x=dfs[15]['brute_force'][\"complexity\"]), row=1, col=1)\n",
    "# fig.add_trace(go.Histogram(x=dfs[15]['branch_and_bound'][\"complexity\"]), row=1, col=2)\n",
    "\n"
   ]
  }
 ],
 "metadata": {
  "kernelspec": {
   "display_name": "Python 3",
   "language": "python",
   "name": "python3"
  },
  "language_info": {
   "codemirror_mode": {
    "name": "ipython",
    "version": 3
   },
   "file_extension": ".py",
   "mimetype": "text/x-python",
   "name": "python",
   "nbconvert_exporter": "python",
   "pygments_lexer": "ipython3",
   "version": "3.6.7-final"
  }
 },
 "nbformat": 4,
 "nbformat_minor": 4
}