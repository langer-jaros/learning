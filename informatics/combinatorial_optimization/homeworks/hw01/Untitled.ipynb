{
 "cells": [
  {
   "cell_type": "code",
   "execution_count": 2,
   "metadata": {},
   "outputs": [],
   "source": [
    "import pandas as pd\n",
    "import ctypes\n",
    "from ctypes import c_char_p, c_void_p, c_double\n",
    "import json\n"
   ]
  },
  {
   "cell_type": "code",
   "execution_count": 3,
   "metadata": {},
   "outputs": [],
   "source": [
    "def insToDf(path):\n",
    "    data_nr_ins_4 = pd.read_csv(path, sep=' ', index_col=0, header=None)\n",
    "    df_ins = data_nr_ins_4.copy()\n",
    "    df_ins.index = df_ins.index.rename(\"ID\")\n",
    "    df_ins = df_ins.rename(columns = {1: \"n\", 2: \"M\", 3: \"B\"})\n",
    "    df_ins.columns = [str(x) for x in df_ins.columns]\n",
    "    df_ins[\"weights\"] = df_ins.apply(lambda x: list(x[df_ins.columns[3::2]]), axis=1)\n",
    "    df_ins[\"values\"] = df_ins.apply(lambda x: list(x[df_ins.columns[4::2]]), axis=1)\n",
    "    df_ins = df_ins.drop(df_ins.columns[3:-2], axis=1)\n",
    "    df_ins.index = abs(df_ins.index)\n",
    "    return df_ins\n"
   ]
  },
  {
   "cell_type": "code",
   "execution_count": 4,
   "metadata": {},
   "outputs": [],
   "source": [
    "# Do the combinatorics\n",
    "clib = ctypes.cdll.LoadLibrary('./knapsack.so')\n",
    "clib.solve.argtypes = [c_char_p, c_char_p]\n",
    "clib.solve.restype = c_double"
   ]
  },
  {
   "cell_type": "code",
   "execution_count": 5,
   "metadata": {},
   "outputs": [],
   "source": [
    "def resToDf(path):\n",
    "    data_nr_res_4 = pd.read_csv(path, sep=' ', index_col=0, header=None)\n",
    "    df_res = data_nr_res_4.copy()\n",
    "\n",
    "    df_res.index = df_res.index.rename(\"ID\")\n",
    "    df_res[\"solution\"] = df_res.apply(lambda x: list(x[df_res.columns[2:]]), axis=1)\n",
    "    df_res = df_res.drop(df_res.columns[2:-1], axis=1)\n",
    "    df_res = df_res.rename(columns = {1: 'possible', 2: \"value\", 3:\"solution\"})\n",
    "    df_res.index = abs(df_res.index)\n",
    "    return df_res"
   ]
  },
  {
   "cell_type": "code",
   "execution_count": 6,
   "metadata": {},
   "outputs": [],
   "source": [
    "def solToDf(path):\n",
    "    data_nr_sol_4 = pd.read_csv(path, sep=' ', index_col=0, header=None)\n",
    "    df_sol = data_nr_sol_4.copy()\n",
    "    df_sol.index = df_sol.index.rename(\"ID\")\n",
    "    df_sol = df_sol.drop(df_sol.columns[-1], axis=1)\n",
    "    df_sol[\"solution\"] = df_sol.apply(lambda x: list(x[df_sol.columns[2:]]), axis=1)\n",
    "    df_sol = df_sol.drop(df_sol.columns[2:-1], axis=1)\n",
    "    df_sol = df_sol.rename(columns = {1: 'n', 2: \"optimum\"})\n",
    "    # data_nr_4.index = data_nr_4.index.rename(\"ID\")\n",
    "    return df_sol\n"
   ]
  },
  {
   "cell_type": "code",
   "execution_count": 7,
   "metadata": {},
   "outputs": [],
   "source": [
    "def check(df_ins, df_sol, df_res, path):\n",
    "    possible = df_ins[\"B\"] <= df_sol[\"optimum\"]\n",
    "    check = df_res['possible'] == possible\n",
    "    ok = check.sum() == df_ins.shape[0]\n",
    "    if (not ok):\n",
    "        idx = df_ins[~check].index.values\n",
    "        ERRORS[f\"{path}:{idx}\"] = (~check).sum()\n",
    "        print(f\"{path}:{idx} - {(~check).sum()}\")\n",
    "\n",
    "# mal = ~check\n",
    "# df_res[mal]\n",
    "# display(df_ins[484:485])\n",
    "# display(df_res[484:485])\n",
    "# display(df_sol[484:485])\n",
    "# df_ins.iloc[485]\n",
    "# display(df_res)\n",
    "# display(df_sol)"
   ]
  },
  {
   "cell_type": "code",
   "execution_count": null,
   "metadata": {},
   "outputs": [
    {
     "name": "stdout",
     "output_type": "stream",
     "text": [
      "N=4, time: 0.002436647 seconds\n",
      "N=10, time: 0.008560687 seconds\n",
      "N=15, time: 0.13911387 seconds\n",
      "N=20, time: 3.220593536 seconds\n",
      "N=22, time: 10.276774363 seconds\n",
      "N=25, time: 86.253023671 seconds\n",
      "N=27, time: 340.290631575 seconds\n"
     ]
    }
   ],
   "source": [
    "NUM = 10\n",
    "NUMBERS = [4, 10, 15, 20, 22, 25, 27, 30, 32, 35, 37, 40]\n",
    "\n",
    "ERRORS = {}\n",
    "TIME_SPENT = {}\n",
    "\n",
    "for n in NUMBERS:\n",
    "    PATH_INS = f\"./data/{'nr'}/{'NR'}{n}_{'inst'}.dat\"\n",
    "    PATH_SOL = f\"./data/{'nr'}/{'NK'}{n}_{'sol'}.dat\"\n",
    "    PATH_RES = f\"./data/{'nr'}/res/{'N'}{n}.csv\"\n",
    "\n",
    "    df_ins = insToDf(PATH_INS)\n",
    "#     print(f\"df_ins shape: {df_ins.shape}\")\n",
    "\n",
    "    time = clib.solve(PATH_INS.encode(), PATH_RES.encode())\n",
    "    print(f\"N={n}, time: {time} seconds\")\n",
    "    TIME_SPENT[NUM] = {\"time\": time}\n",
    "\n",
    "    df_res = resToDf(PATH_RES)\n",
    "#     print(f\"df_res shape: {df_res.shape}\")\n",
    "\n",
    "    df_sol = solToDf(PATH_SOL)\n",
    "#     print(f\"df_sol shape: {df_sol.shape}\")\n",
    "\n",
    "    errors = check(df_ins, df_sol, df_res, PATH_RES)\n",
    "#     print(ERRORS)\n",
    "\n",
    "#     print(TIME_SPENT)\n",
    "with open(\"./time_spent.json\", \"w\") as f:\n",
    "    f.write(json.dumps(TIME_SPENT))\n",
    "with open(\"./errors.json\", \"w\") as f:\n",
    "    f.write(json.dumps(ERRORS))"
   ]
  },
  {
   "cell_type": "code",
   "execution_count": null,
   "metadata": {},
   "outputs": [],
   "source": [
    "ERRORS"
   ]
  },
  {
   "cell_type": "code",
   "execution_count": null,
   "metadata": {},
   "outputs": [],
   "source": [
    "pd.read_json(\"./time_spent.json\", orient=\"index\")"
   ]
  }
 ],
 "metadata": {
  "kernelspec": {
   "display_name": "Python 3",
   "language": "python",
   "name": "python3"
  },
  "language_info": {
   "codemirror_mode": {
    "name": "ipython",
    "version": 3
   },
   "file_extension": ".py",
   "mimetype": "text/x-python",
   "name": "python",
   "nbconvert_exporter": "python",
   "pygments_lexer": "ipython3",
   "version": "3.6.7"
  }
 },
 "nbformat": 4,
 "nbformat_minor": 4
}
