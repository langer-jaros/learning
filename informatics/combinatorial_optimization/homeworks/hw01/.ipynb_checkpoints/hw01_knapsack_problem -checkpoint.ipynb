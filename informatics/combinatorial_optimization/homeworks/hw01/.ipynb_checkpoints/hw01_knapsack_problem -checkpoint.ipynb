{
 "cells": [
  {
   "cell_type": "code",
   "execution_count": 1,
   "metadata": {},
   "outputs": [],
   "source": [
    "import pandas as pd\n",
    "import ctypes\n",
    "from ctypes import c_char_p, c_void_p, c_double\n",
    "import json\n",
    "import seaborn as sns"
   ]
  },
  {
   "cell_type": "code",
   "execution_count": null,
   "metadata": {},
   "outputs": [],
   "source": [
    "# Do the combinatorics\n",
    "clib = ctypes.cdll.LoadLibrary('./knapsack.so')\n",
    "clib.solve.argtypes = [c_char_p, c_char_p]\n",
    "clib.solve.restype = c_double"
   ]
  },
  {
   "cell_type": "code",
   "execution_count": 2,
   "metadata": {},
   "outputs": [],
   "source": [
    "# Load dataframes\n",
    "\n",
    "def insToDf(path):\n",
    "    data_nr_ins_4 = pd.read_csv(path, sep=' ', index_col=0, header=None)\n",
    "    df_ins = data_nr_ins_4.copy()\n",
    "    df_ins.index = df_ins.index.rename(\"ID\")\n",
    "    df_ins = df_ins.rename(columns = {1: \"n\", 2: \"M\", 3: \"B\"})\n",
    "    df_ins.columns = [str(x) for x in df_ins.columns]\n",
    "    df_ins[\"weights\"] = df_ins.apply(lambda x: list(x[df_ins.columns[3::2]]), axis=1)\n",
    "    df_ins[\"values\"] = df_ins.apply(lambda x: list(x[df_ins.columns[4::2]]), axis=1)\n",
    "    df_ins = df_ins.drop(df_ins.columns[3:-2], axis=1)\n",
    "    df_ins.index = abs(df_ins.index)\n",
    "    return df_ins\n",
    "\n",
    "def solToDf(path):\n",
    "    data_nr_sol_4 = pd.read_csv(path, sep=' ', index_col=0, header=None)\n",
    "    df_sol = data_nr_sol_4.copy()\n",
    "    df_sol.index = df_sol.index.rename(\"ID\")\n",
    "    df_sol = df_sol.drop(df_sol.columns[-1], axis=1)\n",
    "    df_sol[\"solution\"] = df_sol.apply(lambda x: list(x[df_sol.columns[2:]]), axis=1)\n",
    "    df_sol = df_sol.drop(df_sol.columns[2:-1], axis=1)\n",
    "    df_sol = df_sol.rename(columns = {1: 'n', 2: \"optimum\"})\n",
    "    # data_nr_4.index = data_nr_4.index.rename(\"ID\")\n",
    "    return df_sol\n",
    "\n",
    "def resToDf(path):\n",
    "    data_nr_res_4 = pd.read_csv(path, sep=' ', index_col=0, header=None)\n",
    "    df_res = data_nr_res_4.copy()\n",
    "\n",
    "    df_res.index = df_res.index.rename(\"ID\")\n",
    "    df_res[\"solution\"] = df_res.apply(lambda x: list(x[df_res.columns[2:]]), axis=1)\n",
    "    df_res = df_res.drop(df_res.columns[2:-1], axis=1)\n",
    "    df_res = df_res.rename(columns = {1: 'possible', 2: \"value\", 3:\"solution\"})\n",
    "    df_res.index = abs(df_res.index)\n",
    "    return df_res"
   ]
  },
  {
   "cell_type": "code",
   "execution_count": 6,
   "metadata": {},
   "outputs": [],
   "source": [
    "# TODO rewrite to writeSummary\n",
    "\n",
    "#     with open(\"./summary.csv\", \"a\") as f:\n",
    "#         f.write(\"{} {} {} {} {}\\n\".format(n, time, err_num, err_lines, PATH_INS))\n",
    "\n",
    "\n",
    "def check(df_ins, df_sol, df_res, path):\n",
    "    possible = df_ins[\"B\"] <= df_sol[\"optimum\"]\n",
    "    check = df_res['possible'] == possible\n",
    "    ok = check.sum() == df_ins.shape[0]\n",
    "    idx = df_ins[~check].index.values\n",
    "    return ((~check).sum(), idx)\n",
    "\n",
    "# mal = ~check\n",
    "# df_res[mal]\n",
    "# display(df_ins[484:485])\n",
    "# display(df_res[484:485])\n",
    "# display(df_sol[484:485])\n",
    "# df_ins.iloc[485]\n",
    "# display(df_res)\n",
    "# display(df_sol)"
   ]
  },
  {
   "cell_type": "code",
   "execution_count": 7,
   "metadata": {},
   "outputs": [],
   "source": [
    "# Constants\n",
    "\n",
    "NUM = 10\n",
    "NUMBERS = [4, 10, 15, 20, 22, 25, 27, 30, 32, 35, 37, 40]\n",
    "\n",
    "INSTANCES_TEMPLATE    = \"./data/nr/NR{n}_inst.dat\"\n",
    "SOLUTIONS_TEMPLATE    = \"./data/nr/NK{n}_sol.dat\"\n",
    "RESULTS_TEMPLATE      = \"./data/nr/res/N{n}.csv\"\n",
    "RESULTS_TEST_TEMPLATE = \"./data/nr/res/N_TEST_{n}.csv\""
   ]
  },
  {
   "cell_type": "code",
   "execution_count": 8,
   "metadata": {},
   "outputs": [
    {
     "name": "stdout",
     "output_type": "stream",
     "text": [
      "N=4, time: 0.002305934 seconds\n",
      "N=10, time: 0.006972863 seconds\n",
      "N=15, time: 0.086041546 seconds\n",
      "N=20, time: 2.545645793 seconds\n"
     ]
    }
   ],
   "source": [
    "# Do the computing if not done elsewhere\n",
    "\n",
    "INSTANCES = INSTANCES_TEMPLATE\n",
    "RESULTS = RESULTS_TEST_TEMPLATE\n",
    "\n",
    "for n in [4, 10, 15, 20]: #NUMBERS:\n",
    "    time = clib.solve(INSTANCES.format(n=n).encode(), RESULTS.format(n=n).encode())\n",
    "    print(f\"N={n}, time: {time} seconds\")\n",
    "\n",
    "    # ADD TIME TO EVERY ROW IN C\n",
    "#     with open(\"./summary.csv\", \"a\") as f:\n",
    "#     f.write(\"{} {} {} {} {}\\n\".format(n, time, err_num, err_lines, PATH_INS))\n",
    "\n"
   ]
  },
  {
   "cell_type": "code",
   "execution_count": 9,
   "metadata": {},
   "outputs": [
    {
     "name": "stdout",
     "output_type": "stream",
     "text": [
      "err_num: 0, err_lines: []\n",
      "err_num: 0, err_lines: []\n",
      "err_num: 0, err_lines: []\n",
      "err_num: 0, err_lines: []\n"
     ]
    }
   ],
   "source": [
    "# Read all dataframes\n",
    "\n",
    "INSTANCES = INSTANCES_TEMPLATE\n",
    "SOLUTIONS = SOLUTIONS_TEMPLATE\n",
    "RESULTS = RESULTS_TEST_TEMPLATE\n",
    "\n",
    "dfs = {}\n",
    "\n",
    "for n in [4, 10, 15, 20]: #[4, 10, 15, 20, 22, 27, 30, 32]: #NUMBERS:\n",
    "    df_ins = insToDf(INSTANCES.format(n=n))\n",
    "    #     print(f\"df_ins shape: {df_ins.shape}\")\n",
    "\n",
    "    df_sol = solToDf(SOLUTIONS.format(n=n))\n",
    "    #     print(f\"df_sol shape: {df_sol.shape}\")\n",
    "\n",
    "    df_res = resToDf(RESULTS.format(n=n))\n",
    "    #     print(f\"df_res shape: {df_res.shape}\")\n",
    "\n",
    "    dfs[n] = {'instances': df_ins, 'solutions': df_sol, 'results': df_res}\n",
    "\n",
    "    #  REWRITE THIS TO writeSummery\n",
    "    err_num, err_lines = check(df_ins, df_sol, df_res, RESULTS.format(n=n))\n",
    "    print(\"err_num: {}, err_lines: {}\".format(err_num, err_lines))\n",
    "    #     print(ERRORS)"
   ]
  },
  {
   "cell_type": "code",
   "execution_count": 10,
   "metadata": {},
   "outputs": [
    {
     "data": {
      "text/html": [
       "<div>\n",
       "<style scoped>\n",
       "    .dataframe tbody tr th:only-of-type {\n",
       "        vertical-align: middle;\n",
       "    }\n",
       "\n",
       "    .dataframe tbody tr th {\n",
       "        vertical-align: top;\n",
       "    }\n",
       "\n",
       "    .dataframe thead th {\n",
       "        text-align: right;\n",
       "    }\n",
       "</style>\n",
       "<table border=\"1\" class=\"dataframe\">\n",
       "  <thead>\n",
       "    <tr style=\"text-align: right;\">\n",
       "      <th></th>\n",
       "      <th>n</th>\n",
       "      <th>optimum</th>\n",
       "      <th>solution</th>\n",
       "    </tr>\n",
       "    <tr>\n",
       "      <th>ID</th>\n",
       "      <th></th>\n",
       "      <th></th>\n",
       "      <th></th>\n",
       "    </tr>\n",
       "  </thead>\n",
       "  <tbody>\n",
       "    <tr>\n",
       "      <th>1</th>\n",
       "      <td>20</td>\n",
       "      <td>17561</td>\n",
       "      <td>[0, 1, 0, 1, 1, 1, 0, 1, 1, 0, 1, 1, 0, 1, 1, ...</td>\n",
       "    </tr>\n",
       "    <tr>\n",
       "      <th>2</th>\n",
       "      <td>20</td>\n",
       "      <td>20949</td>\n",
       "      <td>[1, 0, 1, 1, 0, 0, 1, 0, 0, 0, 1, 1, 1, 1, 0, ...</td>\n",
       "    </tr>\n",
       "    <tr>\n",
       "      <th>3</th>\n",
       "      <td>20</td>\n",
       "      <td>26514</td>\n",
       "      <td>[1, 1, 1, 0, 1, 1, 1, 0, 0, 0, 1, 1, 1, 1, 1, ...</td>\n",
       "    </tr>\n",
       "    <tr>\n",
       "      <th>4</th>\n",
       "      <td>20</td>\n",
       "      <td>20845</td>\n",
       "      <td>[1, 1, 0, 0, 1, 1, 1, 0, 0, 0, 1, 1, 1, 1, 0, ...</td>\n",
       "    </tr>\n",
       "    <tr>\n",
       "      <th>5</th>\n",
       "      <td>20</td>\n",
       "      <td>19271</td>\n",
       "      <td>[1, 0, 1, 1, 0, 1, 0, 0, 1, 1, 0, 0, 1, 0, 1, ...</td>\n",
       "    </tr>\n",
       "    <tr>\n",
       "      <th>...</th>\n",
       "      <td>...</td>\n",
       "      <td>...</td>\n",
       "      <td>...</td>\n",
       "    </tr>\n",
       "    <tr>\n",
       "      <th>496</th>\n",
       "      <td>20</td>\n",
       "      <td>4851</td>\n",
       "      <td>[0, 0, 0, 0, 0, 1, 0, 0, 0, 0, 0, 0, 0, 1, 1, ...</td>\n",
       "    </tr>\n",
       "    <tr>\n",
       "      <th>497</th>\n",
       "      <td>20</td>\n",
       "      <td>6256</td>\n",
       "      <td>[0, 0, 0, 0, 0, 0, 0, 1, 0, 0, 0, 0, 0, 0, 0, ...</td>\n",
       "    </tr>\n",
       "    <tr>\n",
       "      <th>498</th>\n",
       "      <td>20</td>\n",
       "      <td>23883</td>\n",
       "      <td>[1, 1, 0, 1, 1, 1, 1, 0, 1, 1, 1, 1, 1, 1, 1, ...</td>\n",
       "    </tr>\n",
       "    <tr>\n",
       "      <th>499</th>\n",
       "      <td>20</td>\n",
       "      <td>26504</td>\n",
       "      <td>[1, 1, 1, 1, 1, 0, 1, 1, 1, 1, 1, 1, 1, 1, 0, ...</td>\n",
       "    </tr>\n",
       "    <tr>\n",
       "      <th>500</th>\n",
       "      <td>20</td>\n",
       "      <td>16897</td>\n",
       "      <td>[0, 1, 1, 1, 1, 0, 0, 0, 0, 0, 0, 0, 1, 0, 1, ...</td>\n",
       "    </tr>\n",
       "  </tbody>\n",
       "</table>\n",
       "<p>500 rows × 3 columns</p>\n",
       "</div>"
      ],
      "text/plain": [
       "      n  optimum                                           solution\n",
       "ID                                                                 \n",
       "1    20    17561  [0, 1, 0, 1, 1, 1, 0, 1, 1, 0, 1, 1, 0, 1, 1, ...\n",
       "2    20    20949  [1, 0, 1, 1, 0, 0, 1, 0, 0, 0, 1, 1, 1, 1, 0, ...\n",
       "3    20    26514  [1, 1, 1, 0, 1, 1, 1, 0, 0, 0, 1, 1, 1, 1, 1, ...\n",
       "4    20    20845  [1, 1, 0, 0, 1, 1, 1, 0, 0, 0, 1, 1, 1, 1, 0, ...\n",
       "5    20    19271  [1, 0, 1, 1, 0, 1, 0, 0, 1, 1, 0, 0, 1, 0, 1, ...\n",
       "..   ..      ...                                                ...\n",
       "496  20     4851  [0, 0, 0, 0, 0, 1, 0, 0, 0, 0, 0, 0, 0, 1, 1, ...\n",
       "497  20     6256  [0, 0, 0, 0, 0, 0, 0, 1, 0, 0, 0, 0, 0, 0, 0, ...\n",
       "498  20    23883  [1, 1, 0, 1, 1, 1, 1, 0, 1, 1, 1, 1, 1, 1, 1, ...\n",
       "499  20    26504  [1, 1, 1, 1, 1, 0, 1, 1, 1, 1, 1, 1, 1, 1, 0, ...\n",
       "500  20    16897  [0, 1, 1, 1, 1, 0, 0, 0, 0, 0, 0, 0, 1, 0, 1, ...\n",
       "\n",
       "[500 rows x 3 columns]"
      ]
     },
     "execution_count": 10,
     "metadata": {},
     "output_type": "execute_result"
    }
   ],
   "source": [
    "# Do statistics\n",
    "\n",
    "# dfs[20][\"solutions\"]\n",
    "\n",
    "# with open(\"./time_spent.json\", \"w\") as f:\n",
    "#     f.write(json.dumps(TIME_SPENT))\n",
    "# with open(\"./errors.json\", \"w\") as f:\n",
    "#     f.write(json.dumps(ERRORS))"
   ]
  },
  {
   "cell_type": "code",
   "execution_count": 11,
   "metadata": {},
   "outputs": [
    {
     "data": {
      "text/html": [
       "<div>\n",
       "<style scoped>\n",
       "    .dataframe tbody tr th:only-of-type {\n",
       "        vertical-align: middle;\n",
       "    }\n",
       "\n",
       "    .dataframe tbody tr th {\n",
       "        vertical-align: top;\n",
       "    }\n",
       "\n",
       "    .dataframe thead th {\n",
       "        text-align: right;\n",
       "    }\n",
       "</style>\n",
       "<table border=\"1\" class=\"dataframe\">\n",
       "  <thead>\n",
       "    <tr style=\"text-align: right;\">\n",
       "      <th></th>\n",
       "      <th>n</th>\n",
       "      <th>seconds</th>\n",
       "      <th>errors</th>\n",
       "      <th>error lines</th>\n",
       "      <th>path</th>\n",
       "    </tr>\n",
       "  </thead>\n",
       "  <tbody>\n",
       "    <tr>\n",
       "      <th>0</th>\n",
       "      <td>4</td>\n",
       "      <td>0.002437</td>\n",
       "      <td>[]</td>\n",
       "      <td>NaN</td>\n",
       "      <td>NaN</td>\n",
       "    </tr>\n",
       "    <tr>\n",
       "      <th>1</th>\n",
       "      <td>10</td>\n",
       "      <td>0.008561</td>\n",
       "      <td>[]</td>\n",
       "      <td>NaN</td>\n",
       "      <td>NaN</td>\n",
       "    </tr>\n",
       "    <tr>\n",
       "      <th>2</th>\n",
       "      <td>15</td>\n",
       "      <td>0.139114</td>\n",
       "      <td>[]</td>\n",
       "      <td>NaN</td>\n",
       "      <td>NaN</td>\n",
       "    </tr>\n",
       "    <tr>\n",
       "      <th>3</th>\n",
       "      <td>20</td>\n",
       "      <td>3.220594</td>\n",
       "      <td>[]</td>\n",
       "      <td>NaN</td>\n",
       "      <td>NaN</td>\n",
       "    </tr>\n",
       "    <tr>\n",
       "      <th>4</th>\n",
       "      <td>22</td>\n",
       "      <td>10.276774</td>\n",
       "      <td>[]</td>\n",
       "      <td>NaN</td>\n",
       "      <td>NaN</td>\n",
       "    </tr>\n",
       "  </tbody>\n",
       "</table>\n",
       "</div>"
      ],
      "text/plain": [
       "    n    seconds errors  error lines  path\n",
       "0   4   0.002437     []          NaN   NaN\n",
       "1  10   0.008561     []          NaN   NaN\n",
       "2  15   0.139114     []          NaN   NaN\n",
       "3  20   3.220594     []          NaN   NaN\n",
       "4  22  10.276774     []          NaN   NaN"
      ]
     },
     "metadata": {},
     "output_type": "display_data"
    },
    {
     "data": {
      "text/plain": [
       "<matplotlib.axes._subplots.AxesSubplot at 0x7f2dfc7dae48>"
      ]
     },
     "execution_count": 11,
     "metadata": {},
     "output_type": "execute_result"
    },
    {
     "data": {
      "image/png": "[encoded data removed]",
      "text/plain": [
       "<Figure size 432x288 with 1 Axes>"
      ]
     },
     "metadata": {
      "needs_background": "light"
     },
     "output_type": "display_data"
    }
   ],
   "source": [
    "summary = pd.read_csv(\"./summary.csv\", sep=\" \", header=None,\n",
    "                      names=[\"n\", \"seconds\", \"errors\", \"error lines\", \"path\"])\n",
    "# pd.read(\"./time_spent.json\", orient=\"index\")\n",
    "# summary[\"seconds\"] = \n",
    "# df[df.columns[0]] = pd.to_datetime(df.columns[0], format='%d.%m.%Y')\n",
    "display(summary.head())\n",
    "\n",
    "sns.lineplot(x=\"n\", y=\"seconds\", data=summary)\n",
    "# sns.regplot(x=\"n\", y=\"seconds\", data=summary, order=2)"
   ]
  },
  {
   "cell_type": "code",
   "execution_count": 12,
   "metadata": {},
   "outputs": [],
   "source": [
    "# N=4, time: 0.002436647 seconds\n",
    "# N=10, time: 0.008560687 seconds\n",
    "# N=15, time: 0.13911387 seconds\n",
    "# N=20, time: 3.220593536 seconds\n",
    "# N=22, time: 10.276774363 seconds\n",
    "# N=25, time: 86.253023671 seconds\n",
    "# N=27, time: 340.290631575 seconds\n",
    "# N=30, time: 2415.635693286 seconds\n",
    "# N=32, time: 9672.943833396 seconds"
   ]
  }
 ],
 "metadata": {
  "kernelspec": {
   "display_name": "Python 3",
   "language": "python",
   "name": "python3"
  },
  "language_info": {
   "codemirror_mode": {
    "name": "ipython",
    "version": 3
   },
   "file_extension": ".py",
   "mimetype": "text/x-python",
   "name": "python",
   "nbconvert_exporter": "python",
   "pygments_lexer": "ipython3",
   "version": "3.6.7"
  }
 },
 "nbformat": 4,
 "nbformat_minor": 4
}
