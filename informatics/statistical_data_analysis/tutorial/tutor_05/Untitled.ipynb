{
 "cells": [
  {
   "cell_type": "code",
   "execution_count": 1,
   "metadata": {},
   "outputs": [
    {
     "data": {
      "text/html": [
       "'/home/langerjaros/Projects/learning/informatics/statistical_data_analysis/homeworks/05'"
      ],
      "text/latex": [
       "'/home/langerjaros/Projects/learning/informatics/statistical\\_data\\_analysis/homeworks/05'"
      ],
      "text/markdown": [
       "'/home/langerjaros/Projects/learning/informatics/statistical_data_analysis/homeworks/05'"
      ],
      "text/plain": [
       "[1] \"/home/langerjaros/Projects/learning/informatics/statistical_data_analysis/homeworks/05\""
      ]
     },
     "metadata": {},
     "output_type": "display_data"
    }
   ],
   "source": [
    "getwd()"
   ]
  },
  {
   "cell_type": "code",
   "execution_count": 11,
   "metadata": {},
   "outputs": [],
   "source": [
    "connection <- file('ufocase.dat.txt', open='r')"
   ]
  },
  {
   "cell_type": "code",
   "execution_count": 7,
   "metadata": {},
   "outputs": [
    {
     "data": {
      "text/plain": [
       "A connection with                             \n",
       "description \"ufocase.dat.txt\"\n",
       "class       \"file\"           \n",
       "mode        \"r\"              \n",
       "text        \"text\"           \n",
       "opened      \"opened\"         \n",
       "can read    \"yes\"            \n",
       "can write   \"no\"             "
      ]
     },
     "metadata": {},
     "output_type": "display_data"
    }
   ],
   "source": [
    "connection\n"
   ]
  },
  {
   "cell_type": "code",
   "execution_count": 18,
   "metadata": {},
   "outputs": [
    {
     "name": "stdout",
     "output_type": "stream",
     "text": [
      "[1] \"1952  Coast Guard UFO Photograph                           USA            0   1   0   0\"\n",
      "[2] \"1952  Australian Seafury Incident                          Australia      1   0   0   0\"\n",
      "[3] \"1952  The Florida Scoutmaster Encounter                    USA            1   0   0   0\"\n",
      "[4] \"1952  Navy aviators encounter UFO                          Gnland         0   0   0   0\"\n",
      "[5] \"1952  The Operation Mainbrace Sightings                    Den/Nor        0   0   0   0\"\n"
     ]
    }
   ],
   "source": [
    "print(readLines(connection, n=5))"
   ]
  },
  {
   "cell_type": "code",
   "execution_count": 37,
   "metadata": {},
   "outputs": [
    {
     "data": {
      "text/html": [
       "<table>\n",
       "<caption>A matrix: 5 × 7 of type chr</caption>\n",
       "<tbody>\n",
       "\t<tr><th scope=row>data_row</th><td>1865</td><td>The Great Airships          </td><td>USA   </td><td>1</td><td>0</td><td>1</td><td>0</td></tr>\n",
       "\t<tr><th scope=row>data_row</th><td>1878</td><td>Denison, Texas Daylight UFO </td><td>USA   </td><td>0</td><td>0</td><td>0</td><td>0</td></tr>\n",
       "\t<tr><th scope=row>data_row</th><td>1897</td><td>The Aurora, Texas Crash     </td><td>USA   </td><td>1</td><td>0</td><td>1</td><td>0</td></tr>\n",
       "\t<tr><th scope=row>data_row</th><td>1930</td><td>Alien Picture from Alaska   </td><td>Alaska</td><td>0</td><td>1</td><td>1</td><td>0</td></tr>\n",
       "\t<tr><th scope=row>data_row</th><td>1937</td><td>Discovery of the Dropa Discs</td><td>China </td><td>0</td><td>0</td><td>0</td><td>0</td></tr>\n",
       "</tbody>\n",
       "</table>\n"
      ],
      "text/latex": [
       "A matrix: 5 × 7 of type chr\n",
       "\\begin{tabular}{r|lllllll}\n",
       "\tdata\\_row & 1865 & The Great Airships           & USA    & 1 & 0 & 1 & 0\\\\\n",
       "\tdata\\_row & 1878 & Denison, Texas Daylight UFO  & USA    & 0 & 0 & 0 & 0\\\\\n",
       "\tdata\\_row & 1897 & The Aurora, Texas Crash      & USA    & 1 & 0 & 1 & 0\\\\\n",
       "\tdata\\_row & 1930 & Alien Picture from Alaska    & Alaska & 0 & 1 & 1 & 0\\\\\n",
       "\tdata\\_row & 1937 & Discovery of the Dropa Discs & China  & 0 & 0 & 0 & 0\\\\\n",
       "\\end{tabular}\n"
      ],
      "text/markdown": [
       "\n",
       "A matrix: 5 × 7 of type chr\n",
       "\n",
       "| data_row | 1865 | The Great Airships           | USA    | 1 | 0 | 1 | 0 |\n",
       "| data_row | 1878 | Denison, Texas Daylight UFO  | USA    | 0 | 0 | 0 | 0 |\n",
       "| data_row | 1897 | The Aurora, Texas Crash      | USA    | 1 | 0 | 1 | 0 |\n",
       "| data_row | 1930 | Alien Picture from Alaska    | Alaska | 0 | 1 | 1 | 0 |\n",
       "| data_row | 1937 | Discovery of the Dropa Discs | China  | 0 | 0 | 0 | 0 |\n",
       "\n"
      ],
      "text/plain": [
       "         [,1] [,2]                         [,3]   [,4] [,5] [,6] [,7]\n",
       "data_row 1865 The Great Airships           USA    1    0    1    0   \n",
       "data_row 1878 Denison, Texas Daylight UFO  USA    0    0    0    0   \n",
       "data_row 1897 The Aurora, Texas Crash      USA    1    0    1    0   \n",
       "data_row 1930 Alien Picture from Alaska    Alaska 0    1    1    0   \n",
       "data_row 1937 Discovery of the Dropa Discs China  0    0    0    0   "
      ]
     },
     "metadata": {},
     "output_type": "display_data"
    }
   ],
   "source": [
    "connection <- file(\"ufocase.dat\", open = \"r\")\n",
    "\n",
    "counter <- 1\n",
    "m_ufocase <- NULL # proměnná, která bude odkazovat na naší matici\n",
    "while (length(line <- readLines(connection, n = 1))) { # iteruj řádku po řádce\n",
    "    line_strip <- unlist(strsplit(line, \" \")) # rozděl řádku podle mezer\n",
    "    \n",
    "    data_row <- c() # vektor reprezentující jeden řádek v matici\n",
    "    next_col <- T # indikátor, zda očekáváme nový sloupec (nová nezávislá proměnná)\n",
    "    for (fragment in line_strip) { # iteruj přes jednotlivé nalezené fragmenty\n",
    "        if (fragment != \"\" && next_col) {\n",
    "            # nalezený fragment není prázdný řetězec a zároveň očekáváme nový sloupec\n",
    "            \n",
    "            data_row <- c(data_row, fragment) # přidej nové slovo na řádku v matici\n",
    "            next_col <- F # nalezli jsme sloupec, takže tento fakt zaznamenáme\n",
    "        } else if (fragment == \"\") {\n",
    "            # nalezli jsme prázdý řetězec, což znamená úsek, \n",
    "            # kde byla v textové tabulce na řádce více než jedna mezera\n",
    "            \n",
    "            next_col <- T # očekáváme tedy nový sloupec\n",
    "        } else if (fragment != \"\" && !next_col) {\n",
    "            # nalezli jsme fragment, ale neočekáváme nový sloupec\n",
    "            # jedná se tedy o fragment z jednoho sloupce\n",
    "            \n",
    "            # z řádku si tedy vezmeme poslední fragment\n",
    "            previous_fragment <- data_row[length(data_row)]\n",
    "            \n",
    "            # a po spojení s předchozím tento celek přidáme jako nový poslední fragment\n",
    "            data_row <- c(\n",
    "                data_row[-(length(data_row))] # všechna data na řádce ale bez posledního fragmentu\n",
    "                , paste(previous_fragment, fragment, sep = \" \") # spojení posledního fragmentu s aktuálním\n",
    "            )\n",
    "        } else {\n",
    "            stop(\"Sem bychom se neměli dostat. Pokud ano, něco nám uniklo.\")\n",
    "        }\n",
    "    }\n",
    "    \n",
    "    # připoj aktuální řádek do matice\n",
    "    m_ufocase <- rbind(m_ufocase, data_row)\n",
    "}\n",
    "\n",
    "close(connection) # zavři spojení\n",
    "\n",
    "head(m_ufocase, 5) # ukaž prvních pět řádků z vytvořené matice"
   ]
  },
  {
   "cell_type": "code",
   "execution_count": 38,
   "metadata": {},
   "outputs": [],
   "source": [
    "# row.names(m_ufocase) <- NULL\n",
    "rownames(m_ufocase) <- NULL"
   ]
  },
  {
   "cell_type": "code",
   "execution_count": 39,
   "metadata": {},
   "outputs": [
    {
     "data": {
      "text/html": [
       "<table>\n",
       "<caption>A data.frame: 6 × 7</caption>\n",
       "<thead>\n",
       "\t<tr><th></th><th scope=col>X1</th><th scope=col>X2</th><th scope=col>X3</th><th scope=col>X4</th><th scope=col>X5</th><th scope=col>X6</th><th scope=col>X7</th></tr>\n",
       "\t<tr><th></th><th scope=col>&lt;fct&gt;</th><th scope=col>&lt;fct&gt;</th><th scope=col>&lt;fct&gt;</th><th scope=col>&lt;fct&gt;</th><th scope=col>&lt;fct&gt;</th><th scope=col>&lt;fct&gt;</th><th scope=col>&lt;fct&gt;</th></tr>\n",
       "</thead>\n",
       "<tbody>\n",
       "\t<tr><th scope=row>1</th><td>1865</td><td>The Great Airships                   </td><td>USA   </td><td>1</td><td>0</td><td>1</td><td>0</td></tr>\n",
       "\t<tr><th scope=row>2</th><td>1878</td><td>Denison, Texas Daylight UFO          </td><td>USA   </td><td>0</td><td>0</td><td>0</td><td>0</td></tr>\n",
       "\t<tr><th scope=row>3</th><td>1897</td><td>The Aurora, Texas Crash              </td><td>USA   </td><td>1</td><td>0</td><td>1</td><td>0</td></tr>\n",
       "\t<tr><th scope=row>4</th><td>1930</td><td>Alien Picture from Alaska            </td><td>Alaska</td><td>0</td><td>1</td><td>1</td><td>0</td></tr>\n",
       "\t<tr><th scope=row>5</th><td>1937</td><td>Discovery of the Dropa Discs         </td><td>China </td><td>0</td><td>0</td><td>0</td><td>0</td></tr>\n",
       "\t<tr><th scope=row>6</th><td>1939</td><td>Alien Bodies Confirmed (Cordell Hull)</td><td>USA   </td><td>0</td><td>0</td><td>1</td><td>0</td></tr>\n",
       "</tbody>\n",
       "</table>\n"
      ],
      "text/latex": [
       "A data.frame: 6 × 7\n",
       "\\begin{tabular}{r|lllllll}\n",
       "  & X1 & X2 & X3 & X4 & X5 & X6 & X7\\\\\n",
       "  & <fct> & <fct> & <fct> & <fct> & <fct> & <fct> & <fct>\\\\\n",
       "\\hline\n",
       "\t1 & 1865 & The Great Airships                    & USA    & 1 & 0 & 1 & 0\\\\\n",
       "\t2 & 1878 & Denison, Texas Daylight UFO           & USA    & 0 & 0 & 0 & 0\\\\\n",
       "\t3 & 1897 & The Aurora, Texas Crash               & USA    & 1 & 0 & 1 & 0\\\\\n",
       "\t4 & 1930 & Alien Picture from Alaska             & Alaska & 0 & 1 & 1 & 0\\\\\n",
       "\t5 & 1937 & Discovery of the Dropa Discs          & China  & 0 & 0 & 0 & 0\\\\\n",
       "\t6 & 1939 & Alien Bodies Confirmed (Cordell Hull) & USA    & 0 & 0 & 1 & 0\\\\\n",
       "\\end{tabular}\n"
      ],
      "text/markdown": [
       "\n",
       "A data.frame: 6 × 7\n",
       "\n",
       "| <!--/--> | X1 &lt;fct&gt; | X2 &lt;fct&gt; | X3 &lt;fct&gt; | X4 &lt;fct&gt; | X5 &lt;fct&gt; | X6 &lt;fct&gt; | X7 &lt;fct&gt; |\n",
       "|---|---|---|---|---|---|---|---|\n",
       "| 1 | 1865 | The Great Airships                    | USA    | 1 | 0 | 1 | 0 |\n",
       "| 2 | 1878 | Denison, Texas Daylight UFO           | USA    | 0 | 0 | 0 | 0 |\n",
       "| 3 | 1897 | The Aurora, Texas Crash               | USA    | 1 | 0 | 1 | 0 |\n",
       "| 4 | 1930 | Alien Picture from Alaska             | Alaska | 0 | 1 | 1 | 0 |\n",
       "| 5 | 1937 | Discovery of the Dropa Discs          | China  | 0 | 0 | 0 | 0 |\n",
       "| 6 | 1939 | Alien Bodies Confirmed (Cordell Hull) | USA    | 0 | 0 | 1 | 0 |\n",
       "\n"
      ],
      "text/plain": [
       "  X1   X2                                    X3     X4 X5 X6 X7\n",
       "1 1865 The Great Airships                    USA    1  0  1  0 \n",
       "2 1878 Denison, Texas Daylight UFO           USA    0  0  0  0 \n",
       "3 1897 The Aurora, Texas Crash               USA    1  0  1  0 \n",
       "4 1930 Alien Picture from Alaska             Alaska 0  1  1  0 \n",
       "5 1937 Discovery of the Dropa Discs          China  0  0  0  0 \n",
       "6 1939 Alien Bodies Confirmed (Cordell Hull) USA    0  0  1  0 "
      ]
     },
     "metadata": {},
     "output_type": "display_data"
    }
   ],
   "source": [
    "df_ufocase <- data.frame(m_ufocase)\n",
    "head(df_ufocase)"
   ]
  },
  {
   "cell_type": "code",
   "execution_count": 40,
   "metadata": {},
   "outputs": [],
   "source": [
    "colnames(df_ufocase) <- c('Year', 'EventName', 'Location', 'PhysicalEffects', 'Multimedia', 'ETContact', 'Abduction')"
   ]
  },
  {
   "cell_type": "code",
   "execution_count": 41,
   "metadata": {},
   "outputs": [
    {
     "data": {
      "text/html": [
       "<table>\n",
       "<caption>A data.frame: 6 × 7</caption>\n",
       "<thead>\n",
       "\t<tr><th></th><th scope=col>Year</th><th scope=col>EventName</th><th scope=col>Location</th><th scope=col>PhysicalEffects</th><th scope=col>Multimedia</th><th scope=col>ETContact</th><th scope=col>Abduction</th></tr>\n",
       "\t<tr><th></th><th scope=col>&lt;fct&gt;</th><th scope=col>&lt;chr&gt;</th><th scope=col>&lt;fct&gt;</th><th scope=col>&lt;fct&gt;</th><th scope=col>&lt;fct&gt;</th><th scope=col>&lt;fct&gt;</th><th scope=col>&lt;fct&gt;</th></tr>\n",
       "</thead>\n",
       "<tbody>\n",
       "\t<tr><th scope=row>1</th><td>1865</td><td>The Great Airships                   </td><td>USA   </td><td>1</td><td>0</td><td>1</td><td>0</td></tr>\n",
       "\t<tr><th scope=row>2</th><td>1878</td><td>Denison, Texas Daylight UFO          </td><td>USA   </td><td>0</td><td>0</td><td>0</td><td>0</td></tr>\n",
       "\t<tr><th scope=row>3</th><td>1897</td><td>The Aurora, Texas Crash              </td><td>USA   </td><td>1</td><td>0</td><td>1</td><td>0</td></tr>\n",
       "\t<tr><th scope=row>4</th><td>1930</td><td>Alien Picture from Alaska            </td><td>Alaska</td><td>0</td><td>1</td><td>1</td><td>0</td></tr>\n",
       "\t<tr><th scope=row>5</th><td>1937</td><td>Discovery of the Dropa Discs         </td><td>China </td><td>0</td><td>0</td><td>0</td><td>0</td></tr>\n",
       "\t<tr><th scope=row>6</th><td>1939</td><td>Alien Bodies Confirmed (Cordell Hull)</td><td>USA   </td><td>0</td><td>0</td><td>1</td><td>0</td></tr>\n",
       "</tbody>\n",
       "</table>\n"
      ],
      "text/latex": [
       "A data.frame: 6 × 7\n",
       "\\begin{tabular}{r|lllllll}\n",
       "  & Year & EventName & Location & PhysicalEffects & Multimedia & ETContact & Abduction\\\\\n",
       "  & <fct> & <chr> & <fct> & <fct> & <fct> & <fct> & <fct>\\\\\n",
       "\\hline\n",
       "\t1 & 1865 & The Great Airships                    & USA    & 1 & 0 & 1 & 0\\\\\n",
       "\t2 & 1878 & Denison, Texas Daylight UFO           & USA    & 0 & 0 & 0 & 0\\\\\n",
       "\t3 & 1897 & The Aurora, Texas Crash               & USA    & 1 & 0 & 1 & 0\\\\\n",
       "\t4 & 1930 & Alien Picture from Alaska             & Alaska & 0 & 1 & 1 & 0\\\\\n",
       "\t5 & 1937 & Discovery of the Dropa Discs          & China  & 0 & 0 & 0 & 0\\\\\n",
       "\t6 & 1939 & Alien Bodies Confirmed (Cordell Hull) & USA    & 0 & 0 & 1 & 0\\\\\n",
       "\\end{tabular}\n"
      ],
      "text/markdown": [
       "\n",
       "A data.frame: 6 × 7\n",
       "\n",
       "| <!--/--> | Year &lt;fct&gt; | EventName &lt;chr&gt; | Location &lt;fct&gt; | PhysicalEffects &lt;fct&gt; | Multimedia &lt;fct&gt; | ETContact &lt;fct&gt; | Abduction &lt;fct&gt; |\n",
       "|---|---|---|---|---|---|---|---|\n",
       "| 1 | 1865 | The Great Airships                    | USA    | 1 | 0 | 1 | 0 |\n",
       "| 2 | 1878 | Denison, Texas Daylight UFO           | USA    | 0 | 0 | 0 | 0 |\n",
       "| 3 | 1897 | The Aurora, Texas Crash               | USA    | 1 | 0 | 1 | 0 |\n",
       "| 4 | 1930 | Alien Picture from Alaska             | Alaska | 0 | 1 | 1 | 0 |\n",
       "| 5 | 1937 | Discovery of the Dropa Discs          | China  | 0 | 0 | 0 | 0 |\n",
       "| 6 | 1939 | Alien Bodies Confirmed (Cordell Hull) | USA    | 0 | 0 | 1 | 0 |\n",
       "\n"
      ],
      "text/plain": [
       "  Year EventName                             Location PhysicalEffects\n",
       "1 1865 The Great Airships                    USA      1              \n",
       "2 1878 Denison, Texas Daylight UFO           USA      0              \n",
       "3 1897 The Aurora, Texas Crash               USA      1              \n",
       "4 1930 Alien Picture from Alaska             Alaska   0              \n",
       "5 1937 Discovery of the Dropa Discs          China    0              \n",
       "6 1939 Alien Bodies Confirmed (Cordell Hull) USA      0              \n",
       "  Multimedia ETContact Abduction\n",
       "1 0          1         0        \n",
       "2 0          0         0        \n",
       "3 0          1         0        \n",
       "4 1          1         0        \n",
       "5 0          0         0        \n",
       "6 0          1         0        "
      ]
     },
     "metadata": {},
     "output_type": "display_data"
    }
   ],
   "source": [
    "df_ufocase$EventName <- as.character(df_ufocase$EventName)\n",
    "head(df_ufocase)"
   ]
  },
  {
   "cell_type": "code",
   "execution_count": 42,
   "metadata": {},
   "outputs": [],
   "source": [
    "write.table(df_ufocase, file = \"ufocase.csv\", sep = \",\") # , row.names = F)"
   ]
  },
  {
   "cell_type": "code",
   "execution_count": 44,
   "metadata": {},
   "outputs": [],
   "source": [
    "?read.table"
   ]
  },
  {
   "cell_type": "code",
   "execution_count": null,
   "metadata": {},
   "outputs": [],
   "source": []
  }
 ],
 "metadata": {
  "kernelspec": {
   "display_name": "R",
   "language": "R",
   "name": "ir"
  },
  "language_info": {
   "codemirror_mode": "r",
   "file_extension": ".r",
   "mimetype": "text/x-r-source",
   "name": "R",
   "pygments_lexer": "r",
   "version": "3.4.4"
  }
 },
 "nbformat": 4,
 "nbformat_minor": 4
}
