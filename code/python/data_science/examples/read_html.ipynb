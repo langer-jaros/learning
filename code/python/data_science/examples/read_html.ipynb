{
 "metadata": {
  "language_info": {
   "codemirror_mode": {
    "name": "ipython",
    "version": 3
   },
   "file_extension": ".py",
   "mimetype": "text/x-python",
   "name": "python",
   "nbconvert_exporter": "python",
   "pygments_lexer": "ipython3",
   "version": "3.6.7-final"
  },
  "orig_nbformat": 2,
  "kernelspec": {
   "name": "python3",
   "display_name": "Python 3",
   "metadata": {
    "interpreter": {
     "hash": "31f2aee4e71d21fbe5cf8b01ff0e069b9275f58929596ceb00d14d90e3e16cd6"
    }
   }
  }
 },
 "nbformat": 4,
 "nbformat_minor": 2,
 "cells": [
  {
   "cell_type": "code",
   "execution_count": 1,
   "metadata": {},
   "outputs": [
    {
     "output_type": "display_data",
     "data": {
      "text/plain": "     0   1                               2   3                  4          5   \\\n0  2002   1        Ing. arch. Zdeněk Havlík   1      Havlík Zdeněk  Ing.arch.   \n1  2002   2  Komunistická str.Čech a Moravy   1     Bauer Miroslav       Ing.   \n2  2002   2  Komunistická str.Čech a Moravy   2     Rybárová Květa        NaN   \n3  2002   2  Komunistická str.Čech a Moravy   3         Říhová Eva        NaN   \n4  2002   2  Komunistická str.Čech a Moravy   4  Malinkovič Viktor        NaN   \n\n   6     7      8      9       10   11   12  \n0  49    NK  BEZPP  1 981  100.00  NaN  NaN  \n1  55  KSČM   KSČM  4 709    3.00    1    *  \n2  50  KSČM  BEZPP  4 447    2.83    2    *  \n3  47  KSČM  BEZPP  4 552    2.90    3    *  \n4  50  KSČM   KSČM  4 371    2.78    4    *  ",
      "text/html": "<div>\n<style scoped>\n    .dataframe tbody tr th:only-of-type {\n        vertical-align: middle;\n    }\n\n    .dataframe tbody tr th {\n        vertical-align: top;\n    }\n\n    .dataframe thead th {\n        text-align: right;\n    }\n</style>\n<table border=\"1\" class=\"dataframe\">\n  <thead>\n    <tr style=\"text-align: right;\">\n      <th></th>\n      <th>0</th>\n      <th>1</th>\n      <th>2</th>\n      <th>3</th>\n      <th>4</th>\n      <th>5</th>\n      <th>6</th>\n      <th>7</th>\n      <th>8</th>\n      <th>9</th>\n      <th>10</th>\n      <th>11</th>\n      <th>12</th>\n    </tr>\n  </thead>\n  <tbody>\n    <tr>\n      <th>0</th>\n      <td>2002</td>\n      <td>1</td>\n      <td>Ing. arch. Zdeněk Havlík</td>\n      <td>1</td>\n      <td>Havlík Zdeněk</td>\n      <td>Ing.arch.</td>\n      <td>49</td>\n      <td>NK</td>\n      <td>BEZPP</td>\n      <td>1 981</td>\n      <td>100.00</td>\n      <td>NaN</td>\n      <td>NaN</td>\n    </tr>\n    <tr>\n      <th>1</th>\n      <td>2002</td>\n      <td>2</td>\n      <td>Komunistická str.Čech a Moravy</td>\n      <td>1</td>\n      <td>Bauer Miroslav</td>\n      <td>Ing.</td>\n      <td>55</td>\n      <td>KSČM</td>\n      <td>KSČM</td>\n      <td>4 709</td>\n      <td>3.00</td>\n      <td>1</td>\n      <td>*</td>\n    </tr>\n    <tr>\n      <th>2</th>\n      <td>2002</td>\n      <td>2</td>\n      <td>Komunistická str.Čech a Moravy</td>\n      <td>2</td>\n      <td>Rybárová Květa</td>\n      <td>NaN</td>\n      <td>50</td>\n      <td>KSČM</td>\n      <td>BEZPP</td>\n      <td>4 447</td>\n      <td>2.83</td>\n      <td>2</td>\n      <td>*</td>\n    </tr>\n    <tr>\n      <th>3</th>\n      <td>2002</td>\n      <td>2</td>\n      <td>Komunistická str.Čech a Moravy</td>\n      <td>3</td>\n      <td>Říhová Eva</td>\n      <td>NaN</td>\n      <td>47</td>\n      <td>KSČM</td>\n      <td>BEZPP</td>\n      <td>4 552</td>\n      <td>2.90</td>\n      <td>3</td>\n      <td>*</td>\n    </tr>\n    <tr>\n      <th>4</th>\n      <td>2002</td>\n      <td>2</td>\n      <td>Komunistická str.Čech a Moravy</td>\n      <td>4</td>\n      <td>Malinkovič Viktor</td>\n      <td>NaN</td>\n      <td>50</td>\n      <td>KSČM</td>\n      <td>KSČM</td>\n      <td>4 371</td>\n      <td>2.78</td>\n      <td>4</td>\n      <td>*</td>\n    </tr>\n  </tbody>\n</table>\n</div>"
     },
     "metadata": {}
    },
    {
     "output_type": "display_data",
     "data": {
      "text/plain": "&#39;candidates.shape&#39;"
     },
     "metadata": {}
    },
    {
     "output_type": "display_data",
     "data": {
      "text/plain": "(2176, 13)"
     },
     "metadata": {}
    }
   ],
   "source": [
    "import pandas as pd\n",
    "# SCRAPE HTML TO RAW CSV #\n",
    "# Scrapping of Candidates #\n",
    "\n",
    "url_candidates_template = 'https://www.volby.cz/pls/kv{YYYY}/kv21111?xjazyk=CZ&xid=1&xv=12&xdz=3&xnumnuts=4207&xobec=554804&xstrana=0'\n",
    "\n",
    "\n",
    "candidates = pd.DataFrame()\n",
    "rows = 0\n",
    "\n",
    "for year in range(2002, 2019, 4):\n",
    "    url_candidates = url_candidates_template.format(YYYY=year)\n",
    "    dfsCan = pd.read_html(url_candidates)\n",
    "    candidates_tmp = dfsCan[0]\n",
    "    candidates_tmp.columns = candidates_tmp.columns.to_flat_index()\n",
    "    if(len(candidates_tmp.columns) == 11):\n",
    "        degreeCol = [float(\"NaN\") for x in range(candidates_tmp.shape[0])]\n",
    "        candidates_tmp.insert(4, ('Kandidát', 'Tituly'), degreeCol, False)\n",
    "    \n",
    "    candidates_tmp.columns = range(1,len(candidates_tmp.columns)+1)\n",
    "\n",
    "    rows += candidates_tmp.shape[0]\n",
    "    \n",
    "    yearColumn = [year for x in range(candidates_tmp.shape[0])]\n",
    "    candidates_tmp.insert(0, 0, yearColumn, False)\n",
    "    candidates = pd.concat([candidates,candidates_tmp], ignore_index=True)\n",
    "    \n",
    "\n",
    "display(candidates.head(5))\n",
    "display(\"candidates.shape\", candidates.shape)\n",
    "\n",
    "columns =['Rok', 'Kandidátní listina - číslo', 'Kandidátní listina - název', 'Pořadové číslo',\n",
    "    'Příjmení, jméno', 'Tituly', 'Věk', 'Navrhující strana', 'Politická příslušnost', 'Hlasy absolutní počet',\n",
    "    'Hlasy v procentech', 'Pořadí', 'Mandát']\n",
    "\n",
    "candidates.to_csv('./candidates_raw.csv', header=columns, index=False)"
   ]
  },
  {
   "cell_type": "code",
   "execution_count": null,
   "metadata": {},
   "outputs": [],
   "source": []
  }
 ]
}