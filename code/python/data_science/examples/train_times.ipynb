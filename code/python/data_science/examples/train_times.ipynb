{
 "cells": [
  {
   "cell_type": "markdown",
   "metadata": {},
   "source": [
    "# Classifiers Train Time Exploration\n",
    "\n",
    "## to-read\n",
    "\n",
    "- [Predicting how long an scikit-learn classification will take to run\n",
    "](https://stackoverflow.com/questions/22443041/predicting-how-long-an-scikit-learn-classification-will-take-to-run)\n",
    "- [What is better, k-nearest neighbors algorithm (k-NN) or Support Vector Machine (SVM) classifier? Which algorithm is mostly used practically? Which algorithm guarantees reliable detection in unpredictable situations?\n",
    "](https://www.quora.com/What-is-better-k-nearest-neighbors-algorithm-k-NN-or-Support-Vector-Machine-SVM-classifier-Which-algorithm-is-mostly-used-practically-Which-algorithm-guarantees-reliable-detection-in-unpredictable-situations)\n",
    "- [Logit, Smote, RFE, ROC](https://towardsdatascience.com/building-a-logistic-regression-in-python-step-by-step-becd4d56c9c8)\n",
    "\n",
    "- [Dimensionality Curse](https://stats.stackexchange.com/questions/186184/does-dimensionality-curse-effect-some-models-more-than-others)"
   ]
  },
  {
   "cell_type": "code",
   "execution_count": 2,
   "metadata": {},
   "outputs": [],
   "source": [
    "import pandas as pd\n",
    "\n",
    "import seaborn as sns\n",
    "\n",
    "import matplotlib\n",
    "import matplotlib.pyplot as plt\n",
    "\n",
    "import numpy as np\n",
    "\n",
    "from math import ceil, floor\n",
    "\n",
    "from collections import namedtuple\n",
    "\n",
    "import pickle"
   ]
  },
  {
   "cell_type": "code",
   "execution_count": 3,
   "metadata": {},
   "outputs": [],
   "source": [
    "COLUMNS = [\"N\", \"method\", \"cpu_time\", \"wall_time\", \"data_shape\", \"parameters\"]\n",
    "DATA = [\n",
    "    [None, \"decision_tree\",         \"14.7 ms\", \"12.6 ms\", (20, 5), {'ccp_alpha': 0.0, 'class_weight': None, 'criterion': 'gini', 'max_depth': None, 'max_features': None, 'max_leaf_nodes': None, 'min_impurity_decrease': 0.0, 'min_impurity_split': None, 'min_samples_leaf': 1, 'min_samples_split': 2, 'min_weight_fraction_leaf': 0.0, 'presort': 'deprecated', 'random_state': 42, 'splitter': 'best'}],\n",
    "    [None, \"naive_bayes\",           \"17.3 ms\", \"15.7 ms\", (20, 5), {'priors': None, 'var_smoothing': 1e-09}],\n",
    "    [None, \"logistic_regression\",   \"30.8 ms\", \"26.1 ms\", (20, 5), {'C': 1.0, 'class_weight': None, 'dual': False, 'fit_intercept': True, 'intercept_scaling': 1, 'l1_ratio': None, 'max_iter': 1000, 'multi_class': 'auto', 'n_jobs': None, 'penalty': 'l2', 'random_state': 42, 'solver': 'lbfgs', 'tol': 0.0001, 'verbose': 0, 'warm_start': False}],\n",
    "    [None, \"RBF_SVM\",               \"17.7 ms\", \"15.7 ms\", (20, 5), {'C': 1, 'break_ties': False, 'cache_size': 200, 'class_weight': None, 'coef0': 0.0, 'decision_function_shape': 'ovr', 'degree': 3, 'gamma': 2, 'kernel': 'rbf', 'max_iter': -1, 'probability': False, 'random_state': None, 'shrinking': True, 'tol': 0.001, 'verbose': False} ],\n",
    "    [None, \"multilayer_perceptron\", \"135 ms\",  \"131 ms\",  (20, 5), {'activation': 'relu', 'alpha': 1, 'batch_size': 'auto', 'beta_1': 0.9, 'beta_2': 0.999, 'early_stopping': False, 'epsilon': 1e-08, 'hidden_layer_sizes': (3,), 'learning_rate': 'constant', 'learning_rate_init': 0.001, 'max_fun': 15000, 'max_iter': 1000, 'momentum': 0.9, 'n_iter_no_change': 10, 'nesterovs_momentum': True, 'power_t': 0.5, 'random_state': 42, 'shuffle': True, 'solver': 'adam', 'tol': 0.0001, 'validation_fraction': 0.1, 'verbose': False, 'warm_start': False}],\n",
    "    [None, \"k_nearest_neighbors\",   \"18.8 ms\", \"17.3 ms\", (20, 5), {'algorithm': 'auto', 'leaf_size': 30, 'metric': 'minkowski', 'metric_params': None, 'n_jobs': None, 'n_neighbors': 5, 'p': 2, 'weights': 'uniform'}],\n",
    "\n",
    "    [None, \"decision_tree\",         \"6.67 ms\", \"6.24 ms\", (131, 8), {'ccp_alpha': 0.0, 'class_weight': None, 'criterion': 'gini', 'max_depth': None, 'max_features': None, 'max_leaf_nodes': None, 'min_impurity_decrease': 0.0, 'min_impurity_split': None, 'min_samples_leaf': 1, 'min_samples_split': 2, 'min_weight_fraction_leaf': 0.0, 'presort': 'deprecated', 'random_state': 42, 'splitter': 'best'}],\n",
    "    [None, \"naive_bayes\",           \"8.78 ms\", \"8.22 ms\", (131, 8), {'priors': None, 'var_smoothing': 1e-09}],\n",
    "    [None, \"logistic_regression\",   \"22.5 ms\", \"20.3 ms\", (131, 8), {'C': 1.0, 'class_weight': None, 'dual': False, 'fit_intercept': True, 'intercept_scaling': 1, 'l1_ratio': None, 'max_iter': 1000, 'multi_class': 'auto', 'n_jobs': None, 'penalty': 'l2', 'random_state': 42, 'solver': 'lbfgs', 'tol': 0.0001, 'verbose': 0, 'warm_start': False}],\n",
    "    [None, \"RBF_SVM\",               \"7.69 ms\", \"7.2 ms\",  (131, 8), {'C': 1, 'break_ties': False, 'cache_size': 200, 'class_weight': None, 'coef0': 0.0, 'decision_function_shape': 'ovr', 'degree': 3, 'gamma': 2, 'kernel': 'rbf', 'max_iter': -1, 'probability': False, 'random_state': None, 'shrinking': True, 'tol': 0.001, 'verbose': False}],\n",
    "    [None, \"multilayer_perceptron\", \"189 ms\",  \"188 ms\",  (131, 8), {'activation': 'relu', 'alpha': 1, 'batch_size': 'auto', 'beta_1': 0.9, 'beta_2': 0.999, 'early_stopping': False, 'epsilon': 1e-08, 'hidden_layer_sizes': (5,), 'learning_rate': 'constant', 'learning_rate_init': 0.001, 'max_fun': 15000, 'max_iter': 1000, 'momentum': 0.9, 'n_iter_no_change': 10, 'nesterovs_momentum': True, 'power_t': 0.5, 'random_state': 42, 'shuffle': True, 'solver': 'adam', 'tol': 0.0001, 'validation_fraction': 0.1, 'verbose': False, 'warm_start': False}],\n",
    "    [None, \"k_nearest_neighbors\",   \"7.42 ms\", \"6.1 ms\",  (131, 8), {'algorithm': 'auto', 'leaf_size': 30, 'metric': 'minkowski', 'metric_params': None, 'n_jobs': None, 'n_neighbors': 5, 'p': 2, 'weights': 'uniform'}],\n",
    "\n",
    "    [None, \"decision_tree\",         \"10.5 ms\", \"9.77 ms\", (905, 11), {'ccp_alpha': 0.0, 'class_weight': None, 'criterion': 'gini', 'max_depth': None, 'max_features': None, 'max_leaf_nodes': None, 'min_impurity_decrease': 0.0, 'min_impurity_split': None, 'min_samples_leaf': 1, 'min_samples_split': 2, 'min_weight_fraction_leaf': 0.0, 'presort': 'deprecated', 'random_state': 42, 'splitter': 'best'}],\n",
    "    [None, \"naive_bayes\",           \"9.89 ms\", \"8.76 ms\", (905, 11), {'priors': None, 'var_smoothing': 1e-09}],\n",
    "    [None, \"logistic_regression\",   \"451 ms\",  \"83.1 ms\", (905, 11), {'C': 1.0, 'class_weight': None, 'dual': False, 'fit_intercept': True, 'intercept_scaling': 1, 'l1_ratio': None, 'max_iter': 1000, 'multi_class': 'auto', 'n_jobs': None, 'penalty': 'l2', 'random_state': 42, 'solver': 'lbfgs', 'tol': 0.0001, 'verbose': 0, 'warm_start': False}],\n",
    "    [None, \"RBF_SVM\",               \"464 ms\",  \"65.7 ms\", (905, 11), {'C': 1, 'break_ties': False, 'cache_size': 200, 'class_weight': None, 'coef0': 0.0, 'decision_function_shape': 'ovr', 'degree': 3, 'gamma': 2, 'kernel': 'rbf', 'max_iter': -1, 'probability': False, 'random_state': None, 'shrinking': True, 'tol': 0.001, 'verbose': False}],\n",
    "    [None, \"multilayer_perceptron\", \"855 ms\",  \"447 ms\",  (905, 11), {'activation': 'relu', 'alpha': 1, 'batch_size': 'auto', 'beta_1': 0.9, 'beta_2': 0.999, 'early_stopping': False, 'epsilon': 1e-08, 'hidden_layer_sizes': (25,), 'learning_rate': 'constant', 'learning_rate_init': 0.001, 'max_fun': 15000, 'max_iter': 1000, 'momentum': 0.9, 'n_iter_no_change': 10, 'nesterovs_momentum': True, 'power_t': 0.5, 'random_state': 42, 'shuffle': True, 'solver': 'adam', 'tol': 0.0001, 'validation_fraction': 0.1, 'verbose': False, 'warm_start': False}],\n",
    "    [None, \"k_nearest_neighbors\",   \"19.3 ms\", \"17.9 ms\", (905, 11), {'algorithm': 'auto', 'leaf_size': 30, 'metric': 'minkowski', 'metric_params': None, 'n_jobs': None, 'n_neighbors': 5, 'p': 2, 'weights': 'uniform'}],\n",
    "\n",
    "    [None, \"decision_tree\",         \"34.3 ms\", \"33.7 ms\", (5630, 18), {'ccp_alpha': 0.0, 'class_weight': None, 'criterion': 'gini', 'max_depth': None, 'max_features': None, 'max_leaf_nodes': None, 'min_impurity_decrease': 0.0, 'min_impurity_split': None, 'min_samples_leaf': 1, 'min_samples_split': 2, 'min_weight_fraction_leaf': 0.0, 'presort': 'deprecated', 'random_state': 42, 'splitter': 'best'}],\n",
    "    [None, \"naive_bayes\",           \"10.4 ms\", \"9.01 ms\", (5630, 18), {'priors': None, 'var_smoothing': 1e-09}],\n",
    "    [None, \"logistic_regression\",   \"2.1 s\",   \"294 ms\",  (5630, 18), {'C': 1.0, 'class_weight': None, 'dual': False, 'fit_intercept': True, 'intercept_scaling': 1, 'l1_ratio': None, 'max_iter': 1000, 'multi_class': 'auto', 'n_jobs': None, 'penalty': 'l2', 'random_state': 42, 'solver': 'lbfgs', 'tol': 0.0001, 'verbose': 0, 'warm_start': False}],\n",
    "    [None, \"RBF_SVM\",               \"3.38 s\",  \"2.5 s\",   (5630, 18), {'C': 1, 'break_ties': False, 'cache_size': 200, 'class_weight': None, 'coef0': 0.0, 'decision_function_shape': 'ovr', 'degree': 3, 'gamma': 2, 'kernel': 'rbf', 'max_iter': -1, 'probability': False, 'random_state': None, 'shrinking': True, 'tol': 0.001, 'verbose': False}],\n",
    "    [None, \"multilayer_perceptron\", \"16.8 s\",  \"2.26 s\",  (5630, 18), {'activation': 'relu', 'alpha': 1, 'batch_size': 'auto', 'beta_1': 0.9, 'beta_2': 0.999, 'early_stopping': False, 'epsilon': 1e-08, 'hidden_layer_sizes': (100,), 'learning_rate': 'constant', 'learning_rate_init': 0.001, 'max_fun': 15000, 'max_iter': 1000, 'momentum': 0.9, 'n_iter_no_change': 10, 'nesterovs_momentum': True, 'power_t': 0.5, 'random_state': 42, 'shuffle': True, 'solver': 'adam', 'tol': 0.0001, 'validation_fraction': 0.1, 'verbose': False, 'warm_start': False}],\n",
    "    [None, \"k_nearest_neighbors\",   \"1.11 s\",  \"236 ms\",  (5630, 18), {'algorithm': 'auto', 'leaf_size': 30, 'metric': 'minkowski', 'metric_params': None, 'n_jobs': None, 'n_neighbors': 5, 'p': 2, 'weights': 'uniform'}],\n",
    "\n",
    "    [None, \"decision_tree\",         \"240 ms\",   \"239 ms\",   (17472, 57), {'ccp_alpha': 0.0, 'class_weight': None, 'criterion': 'gini', 'max_depth': None, 'max_features': None, 'max_leaf_nodes': None, 'min_impurity_decrease': 0.0, 'min_impurity_split': None, 'min_samples_leaf': 1, 'min_samples_split': 2, 'min_weight_fraction_leaf': 0.0, 'presort': 'deprecated', 'random_state': 42, 'splitter': 'best'}],\n",
    "    [None, \"naive_bayes\",           \"27.3 ms\",  \"26.1 ms\",  (17472, 57), {'priors': None, 'var_smoothing': 1e-09}],\n",
    "    [None, \"logistic_regression\",   \"28.6 s\",   \"3.99 s\",   (17472, 57), {'C': 1.0, 'class_weight': None, 'dual': False, 'fit_intercept': True, 'intercept_scaling': 1, 'l1_ratio': None, 'max_iter': 1000, 'multi_class': 'auto', 'n_jobs': None, 'penalty': 'l2', 'random_state': 42, 'solver': 'lbfgs', 'tol': 0.0001, 'verbose': 0, 'warm_start': False}],\n",
    "    [None, \"RBF_SVM\",               \"2min 17s\", \"2min 16s\", (17472, 57), {'C': 1, 'break_ties': False, 'cache_size': 200, 'class_weight': None, 'coef0': 0.0, 'decision_function_shape': 'ovr', 'degree': 3, 'gamma': 2, 'kernel': 'rbf', 'max_iter': -1, 'probability': False, 'random_state': None, 'shrinking': True, 'tol': 0.001, 'verbose': False}],\n",
    "    [None, \"multilayer_perceptron\", \"3min 31s\", \"27.6 s\",   (17472, 57), {'activation': 'relu', 'alpha': 1, 'batch_size': 'auto', 'beta_1': 0.9, 'beta_2': 0.999, 'early_stopping': False, 'epsilon': 1e-08, 'hidden_layer_sizes': (100,), 'learning_rate': 'constant', 'learning_rate_init': 0.001, 'max_fun': 15000, 'max_iter': 1000, 'momentum': 0.9, 'n_iter_no_change': 10, 'nesterovs_momentum': True, 'power_t': 0.5, 'random_state': 42, 'shuffle': True, 'solver': 'adam', 'tol': 0.0001, 'validation_fraction': 0.1, 'verbose': False, 'warm_start': False}],\n",
    "    [None, \"k_nearest_neighbors\",   \"7.18 s\",   \"6.66 s\",   (17472, 57), {'algorithm': 'auto', 'leaf_size': 30, 'metric': 'minkowski', 'metric_params': None, 'n_jobs': None, 'n_neighbors': 5, 'p': 2, 'weights': 'uniform'}],\n",
    "\n",
    "    [None, \"decision_tree\",         \"2.84 s\",    \"2.88 s\",    (34710, 227), {'ccp_alpha': 0.0, 'class_weight': None, 'criterion': 'gini', 'max_depth': None, 'max_features': None, 'max_leaf_nodes': None, 'min_impurity_decrease': 0.0, 'min_impurity_split': None, 'min_samples_leaf': 1, 'min_samples_split': 2, 'min_weight_fraction_leaf': 0.0, 'presort': 'deprecated', 'random_state': 42, 'splitter': 'best'}],\n",
    "    [None, \"naive_bayes\",           \"420 ms\",    \"426 ms\",    (34710, 227), {'priors': None, 'var_smoothing': 1e-09}],\n",
    "    [None, \"logistic_regression\",   \"3min 52s\",  \"39.4 s\",    (34710, 227), {'C': 1.0, 'class_weight': None, 'dual': False, 'fit_intercept': True, 'intercept_scaling': 1, 'l1_ratio': None, 'max_iter': 1000, 'multi_class': 'auto', 'n_jobs': None, 'penalty': 'l2', 'random_state': 42, 'solver': 'lbfgs', 'tol': 0.0001, 'verbose': 0, 'warm_start': False}],\n",
    "    [None, \"RBF_SVM\",               \"30min 39s\", \"31min 28s\", (34710, 227), {'C': 1, 'break_ties': False, 'cache_size': 200, 'class_weight': None, 'coef0': 0.0, 'decision_function_shape': 'ovr', 'degree': 3, 'gamma': 2, 'kernel': 'rbf', 'max_iter': -1, 'probability': False, 'random_state': None, 'shrinking': True, 'tol': 0.001, 'verbose': False}],\n",
    "    [None, \"multilayer_perceptron\", \"7min 16s\",  \"57.4 s\",    (34710, 227), {'activation': 'relu', 'alpha': 1, 'batch_size': 'auto', 'beta_1': 0.9, 'beta_2': 0.999, 'early_stopping': False, 'epsilon': 1e-08, 'hidden_layer_sizes': (100,), 'learning_rate': 'constant', 'learning_rate_init': 0.001, 'max_fun': 15000, 'max_iter': 1000, 'momentum': 0.9, 'n_iter_no_change': 10, 'nesterovs_momentum': True, 'power_t': 0.5, 'random_state': 42, 'shuffle': True, 'solver': 'adam', 'tol': 0.0001, 'validation_fraction': 0.1, 'verbose': False, 'warm_start': False}],\n",
    "    [None, \"k_nearest_neighbors\",   \"1min 59s\",  \"1min 58s\",  (34710, 227), {'algorithm': 'auto', 'leaf_size': 30, 'metric': 'minkowski', 'metric_params': None, 'n_jobs': None, 'n_neighbors': 5, 'p': 2, 'weights': 'uniform'}],\n",
    "\n",
    "    [None, \"decision_tree\",         \"2.32 s\",       \"2.32 s\",       (44053, 227), {'ccp_alpha': 0.0, 'class_weight': None, 'criterion': 'gini', 'max_depth': None, 'max_features': None, 'max_leaf_nodes': None, 'min_impurity_decrease': 0.0, 'min_impurity_split': None, 'min_samples_leaf': 1, 'min_samples_split': 2, 'min_weight_fraction_leaf': 0.0, 'presort': 'deprecated', 'random_state': 42, 'splitter': 'best'}],\n",
    "    [None, \"naive_bayes\",           \"923 ms\",       \"924 ms\",       (44053, 227), {'priors': None, 'var_smoothing': 1e-09}],\n",
    "    [None, \"logistic_regression\",   \"3min\",         \"24.6 s\",       (44053, 227), {'C': 1.0, 'class_weight': None, 'dual': False, 'fit_intercept': True, 'intercept_scaling': 1, 'l1_ratio': None, 'max_iter': 1000, 'multi_class': 'auto', 'n_jobs': None, 'penalty': 'l2', 'random_state': 42, 'solver': 'lbfgs', 'tol': 0.0001, 'verbose': 0, 'warm_start': False}],\n",
    "    [None, \"RBF_SVM\",               \"1h 13min 38s\", \"1h 13min 41s\", (44053, 227), {'C': 1, 'break_ties': False, 'cache_size': 200, 'class_weight': None, 'coef0': 0.0, 'decision_function_shape': 'ovr', 'degree': 3, 'gamma': 2, 'kernel': 'rbf', 'max_iter': -1, 'probability': False, 'random_state': None, 'shrinking': True, 'tol': 0.001, 'verbose': False}],\n",
    "    [None, \"multilayer_perceptron\", \"16min 52s\",    \"2min 34s\",     (44053, 227), {'activation': 'relu', 'alpha': 1, 'batch_size': 'auto', 'beta_1': 0.9, 'beta_2': 0.999, 'early_stopping': False, 'epsilon': 1e-08, 'hidden_layer_sizes': (100,), 'learning_rate': 'constant', 'learning_rate_init': 0.001, 'max_fun': 15000, 'max_iter': 1000, 'momentum': 0.9, 'n_iter_no_change': 10, 'nesterovs_momentum': True, 'power_t': 0.5, 'random_state': 42, 'shuffle': True, 'solver': 'adam', 'tol': 0.0001, 'validation_fraction': 0.1, 'verbose': False, 'warm_start': False}],\n",
    "    [None, \"k_nearest_neighbors\",   \"3min 53s\",     \"3min 52s\",     (44053, 227), {'algorithm': 'auto', 'leaf_size': 30, 'metric': 'minkowski', 'metric_params': None, 'n_jobs': None, 'n_neighbors': 5, 'p': 2, 'weights': 'uniform'}],\n",
    "\n",
    "    [None, \"decision_tree\",         \"56.5 s\", \"56.6 s\",             (476169, 227), {'ccp_alpha': 0.0, 'class_weight': None, 'criterion': 'gini', 'max_depth': None, 'max_features': None, 'max_leaf_nodes': None, 'min_impurity_decrease': 0.0, 'min_impurity_split': None, 'min_samples_leaf': 1, 'min_samples_split': 2, 'min_weight_fraction_leaf': 0.0, 'presort': 'deprecated', 'random_state': 42, 'splitter': 'best'}],\n",
    "    [None, \"naive_bayes\",           \"32 s\", \"34.9 s\",               (476169, 227), {'priors': None, 'var_smoothing': 1e-09}],\n",
    "    [None, \"logistic_regression\",   \"36min 29s\", \"4min 53s\",        (476169, 227), {'C': 1.0, 'class_weight': None, 'dual': False, 'fit_intercept': True, 'intercept_scaling': 1, 'l1_ratio': None, 'max_iter': 1000, 'multi_class': 'auto', 'n_jobs': None, 'penalty': 'l2', 'random_state': 42, 'solver': 'lbfgs', 'tol': 0.0001, 'verbose': 0, 'warm_start': False}],\n",
    "    [None, \"multilayer_perceptron\", \"31min 58s\", \"4min 11s\",        (476169, 227), {'activation': 'relu', 'alpha': 1, 'batch_size': 'auto', 'beta_1': 0.9, 'beta_2': 0.999, 'early_stopping': False, 'epsilon': 1e-08, 'hidden_layer_sizes': (100,), 'learning_rate': 'constant', 'learning_rate_init': 0.001, 'max_fun': 15000, 'max_iter': 1000, 'momentum': 0.9, 'n_iter_no_change': 10, 'nesterovs_momentum': True, 'power_t': 0.5, 'random_state': 42, 'shuffle': True, 'solver': 'adam', 'tol': 0.0001, 'validation_fraction': 0.1, 'verbose': False, 'warm_start': False}],\n",
    "    [None, \"k_nearest_neighbors\",   \"3h 32min 11s\", \"11h 27min 6s\", (476169, 227), {'algorithm': 'auto', 'leaf_size': 30, 'metric': 'minkowski', 'metric_params': None, 'n_jobs': None, 'n_neighbors': 5, 'p': 2, 'weights': 'uniform'}],\n",
    "]"
   ]
  },
  {
   "cell_type": "code",
   "execution_count": 4,
   "metadata": {},
   "outputs": [],
   "source": [
    "original_df = pd.DataFrame(DATA, columns=COLUMNS)\n",
    "main_df = original_df.copy()"
   ]
  },
  {
   "cell_type": "code",
   "execution_count": 5,
   "metadata": {},
   "outputs": [
    {
     "data": {
      "text/html": [
       "<div>\n",
       "<style scoped>\n",
       "    .dataframe tbody tr th:only-of-type {\n",
       "        vertical-align: middle;\n",
       "    }\n",
       "\n",
       "    .dataframe tbody tr th {\n",
       "        vertical-align: top;\n",
       "    }\n",
       "\n",
       "    .dataframe thead th {\n",
       "        text-align: right;\n",
       "    }\n",
       "</style>\n",
       "<table border=\"1\" class=\"dataframe\">\n",
       "  <thead>\n",
       "    <tr style=\"text-align: right;\">\n",
       "      <th></th>\n",
       "      <th>N</th>\n",
       "      <th>method</th>\n",
       "      <th>cpu_time</th>\n",
       "      <th>wall_time</th>\n",
       "      <th>data_shape</th>\n",
       "      <th>parameters</th>\n",
       "    </tr>\n",
       "  </thead>\n",
       "  <tbody>\n",
       "    <tr>\n",
       "      <th>2</th>\n",
       "      <td>100</td>\n",
       "      <td>logistic_regression</td>\n",
       "      <td>30.8 ms</td>\n",
       "      <td>26.1 ms</td>\n",
       "      <td>(20, 5)</td>\n",
       "      <td>{'C': 1.0, 'class_weight': None, 'dual': False...</td>\n",
       "    </tr>\n",
       "    <tr>\n",
       "      <th>30</th>\n",
       "      <td>7879170</td>\n",
       "      <td>decision_tree</td>\n",
       "      <td>2.84 s</td>\n",
       "      <td>2.88 s</td>\n",
       "      <td>(34710, 227)</td>\n",
       "      <td>{'ccp_alpha': 0.0, 'class_weight': None, 'crit...</td>\n",
       "    </tr>\n",
       "    <tr>\n",
       "      <th>28</th>\n",
       "      <td>995904</td>\n",
       "      <td>multilayer_perceptron</td>\n",
       "      <td>3min 31s</td>\n",
       "      <td>27.6 s</td>\n",
       "      <td>(17472, 57)</td>\n",
       "      <td>{'activation': 'relu', 'alpha': 1, 'batch_size...</td>\n",
       "    </tr>\n",
       "    <tr>\n",
       "      <th>0</th>\n",
       "      <td>100</td>\n",
       "      <td>decision_tree</td>\n",
       "      <td>14.7 ms</td>\n",
       "      <td>12.6 ms</td>\n",
       "      <td>(20, 5)</td>\n",
       "      <td>{'ccp_alpha': 0.0, 'class_weight': None, 'crit...</td>\n",
       "    </tr>\n",
       "    <tr>\n",
       "      <th>39</th>\n",
       "      <td>10000031</td>\n",
       "      <td>RBF_SVM</td>\n",
       "      <td>1h 13min 38s</td>\n",
       "      <td>1h 13min 41s</td>\n",
       "      <td>(44053, 227)</td>\n",
       "      <td>{'C': 1, 'break_ties': False, 'cache_size': 20...</td>\n",
       "    </tr>\n",
       "  </tbody>\n",
       "</table>\n",
       "</div>"
      ],
      "text/plain": [
       "           N                 method      cpu_time     wall_time    data_shape  \\\n",
       "2        100    logistic_regression       30.8 ms       26.1 ms       (20, 5)   \n",
       "30   7879170          decision_tree        2.84 s        2.88 s  (34710, 227)   \n",
       "28    995904  multilayer_perceptron      3min 31s        27.6 s   (17472, 57)   \n",
       "0        100          decision_tree       14.7 ms       12.6 ms       (20, 5)   \n",
       "39  10000031                RBF_SVM  1h 13min 38s  1h 13min 41s  (44053, 227)   \n",
       "\n",
       "                                           parameters  \n",
       "2   {'C': 1.0, 'class_weight': None, 'dual': False...  \n",
       "30  {'ccp_alpha': 0.0, 'class_weight': None, 'crit...  \n",
       "28  {'activation': 'relu', 'alpha': 1, 'batch_size...  \n",
       "0   {'ccp_alpha': 0.0, 'class_weight': None, 'crit...  \n",
       "39  {'C': 1, 'break_ties': False, 'cache_size': 20...  "
      ]
     },
     "metadata": {},
     "output_type": "display_data"
    }
   ],
   "source": [
    "df = main_df\n",
    "\n",
    "df.N = df.data_shape.apply(lambda x: x[0] * x[1])\n",
    "display(df.sample(5))\n",
    "\n",
    "main_df = df"
   ]
  },
  {
   "cell_type": "code",
   "execution_count": 6,
   "metadata": {},
   "outputs": [
    {
     "data": {
      "text/html": [
       "<div>\n",
       "<style scoped>\n",
       "    .dataframe tbody tr th:only-of-type {\n",
       "        vertical-align: middle;\n",
       "    }\n",
       "\n",
       "    .dataframe tbody tr th {\n",
       "        vertical-align: top;\n",
       "    }\n",
       "\n",
       "    .dataframe thead th {\n",
       "        text-align: right;\n",
       "    }\n",
       "</style>\n",
       "<table border=\"1\" class=\"dataframe\">\n",
       "  <thead>\n",
       "    <tr style=\"text-align: right;\">\n",
       "      <th></th>\n",
       "      <th>N</th>\n",
       "      <th>method</th>\n",
       "      <th>cpu_time</th>\n",
       "      <th>wall_time</th>\n",
       "      <th>data_shape</th>\n",
       "      <th>parameters</th>\n",
       "    </tr>\n",
       "  </thead>\n",
       "  <tbody>\n",
       "    <tr>\n",
       "      <th>11</th>\n",
       "      <td>1048</td>\n",
       "      <td>k_nearest_neighbors</td>\n",
       "      <td>0.00742</td>\n",
       "      <td>0.00610</td>\n",
       "      <td>(131, 8)</td>\n",
       "      <td>{'algorithm': 'auto', 'leaf_size': 30, 'metric...</td>\n",
       "    </tr>\n",
       "    <tr>\n",
       "      <th>12</th>\n",
       "      <td>9955</td>\n",
       "      <td>decision_tree</td>\n",
       "      <td>0.01050</td>\n",
       "      <td>0.00977</td>\n",
       "      <td>(905, 11)</td>\n",
       "      <td>{'ccp_alpha': 0.0, 'class_weight': None, 'crit...</td>\n",
       "    </tr>\n",
       "    <tr>\n",
       "      <th>25</th>\n",
       "      <td>995904</td>\n",
       "      <td>naive_bayes</td>\n",
       "      <td>0.02730</td>\n",
       "      <td>0.02610</td>\n",
       "      <td>(17472, 57)</td>\n",
       "      <td>{'priors': None, 'var_smoothing': 1e-09}</td>\n",
       "    </tr>\n",
       "    <tr>\n",
       "      <th>31</th>\n",
       "      <td>7879170</td>\n",
       "      <td>naive_bayes</td>\n",
       "      <td>0.42000</td>\n",
       "      <td>0.42600</td>\n",
       "      <td>(34710, 227)</td>\n",
       "      <td>{'priors': None, 'var_smoothing': 1e-09}</td>\n",
       "    </tr>\n",
       "    <tr>\n",
       "      <th>43</th>\n",
       "      <td>108090363</td>\n",
       "      <td>naive_bayes</td>\n",
       "      <td>32.00000</td>\n",
       "      <td>34.90000</td>\n",
       "      <td>(476169, 227)</td>\n",
       "      <td>{'priors': None, 'var_smoothing': 1e-09}</td>\n",
       "    </tr>\n",
       "  </tbody>\n",
       "</table>\n",
       "</div>"
      ],
      "text/plain": [
       "            N               method  cpu_time  wall_time     data_shape  \\\n",
       "11       1048  k_nearest_neighbors   0.00742    0.00610       (131, 8)   \n",
       "12       9955        decision_tree   0.01050    0.00977      (905, 11)   \n",
       "25     995904          naive_bayes   0.02730    0.02610    (17472, 57)   \n",
       "31    7879170          naive_bayes   0.42000    0.42600   (34710, 227)   \n",
       "43  108090363          naive_bayes  32.00000   34.90000  (476169, 227)   \n",
       "\n",
       "                                           parameters  \n",
       "11  {'algorithm': 'auto', 'leaf_size': 30, 'metric...  \n",
       "12  {'ccp_alpha': 0.0, 'class_weight': None, 'crit...  \n",
       "25           {'priors': None, 'var_smoothing': 1e-09}  \n",
       "31           {'priors': None, 'var_smoothing': 1e-09}  \n",
       "43           {'priors': None, 'var_smoothing': 1e-09}  "
      ]
     },
     "metadata": {},
     "output_type": "display_data"
    }
   ],
   "source": [
    "df = main_df\n",
    "\n",
    "df.cpu_time = df.cpu_time.apply(lambda x: pd.to_timedelta(x).total_seconds())\n",
    "\n",
    "df.wall_time = df.wall_time.apply(lambda x: pd.to_timedelta(x).total_seconds())\n",
    "display(df.sample(5))\n",
    "\n",
    "main_df = df"
   ]
  },
  {
   "cell_type": "code",
   "execution_count": 7,
   "metadata": {},
   "outputs": [],
   "source": [
    "from matplotlib.ticker import FuncFormatter\n",
    "\n",
    "def format_func(x, pos):\n",
    "    hours = int(x//3600)\n",
    "    minutes = int((x%3600)//60)\n",
    "    seconds = int(x%60)\n",
    "\n",
    "#     return \"{:d}:{:02d}\".format(hours, minutes)\n",
    "    return \"{:d}:{:02d}:{:02}\".format(hours, minutes, seconds)\n",
    "\n",
    "formatter = FuncFormatter(format_func)"
   ]
  },
  {
   "cell_type": "code",
   "execution_count": 8,
   "metadata": {
    "scrolled": false
   },
   "outputs": [
    {
     "data": {
      "image/png": "[encoded data removed]",
      "text/plain": [
       "<Figure size 1008x432 with 2 Axes>"
      ]
     },
     "metadata": {
      "needs_background": "light"
     },
     "output_type": "display_data"
    }
   ],
   "source": [
    "classifiers = [\n",
    "    \"decision_tree\",\n",
    "    \"naive_bayes\",\n",
    "    \"logistic_regression\",\n",
    "#     \"RBF_SVM\",\n",
    "    \"multilayer_perceptron\",\n",
    "#     \"k_nearest_neighbors\",\n",
    "]\n",
    "\n",
    "df = main_df[main_df[\"method\"].isin(classifiers)]\n",
    "\n",
    "fig, axes = plt.subplots(nrows=1, ncols=2)\n",
    "fig.set_size_inches(14, 6)\n",
    "\n",
    "_ = sns.barplot(x=\"N\", y=\"cpu_time\", hue=\"method\", data=df, ax=axes[0]).set_title(\"cpu_time\")\n",
    "_ = sns.barplot(x=\"N\", y=\"wall_time\", hue=\"method\", data=df, ax=axes[1]).set_title(\"wall_time\")\n",
    "\n",
    "# Rotate x ticks\n",
    "for ax in axes:\n",
    "    ax.set_xticklabels(ax.get_xticklabels(), rotation=70)\n",
    "\n",
    "for ax in axes:\n",
    "    ax.yaxis.set_major_formatter(formatter)\n",
    "    # this locates y-ticks at the hours\n",
    "    ax.yaxis.set_major_locator(matplotlib.ticker.MultipleLocator(base=150))\n",
    "#     # this ensures each bar has a 'date' label\n",
    "#     ax.xaxis.set_major_locator(matplotlib.ticker.MultipleLocator(base=1))"
   ]
  },
  {
   "cell_type": "markdown",
   "metadata": {},
   "source": [
    "## Classifiers Properties and Problems\n",
    "\n",
    "### K-Means\n",
    "\n",
    "- [K-Means as binary classifier should be avoided](https://www.ibm.com/support/pages/clustering-binary-data-k-means-should-be-avoided)\n",
    "\n",
    "### Why is K-Nearest Neighbors so slow\n",
    "\n",
    "\n",
    "### SVM\n",
    "\n",
    "#### Why is SVM so slow\n",
    "\n",
    "- [O(n^2 * featurs) - O(n^3 * features)](https://stackoverflow.com/questions/40077432/why-is-scikit-learn-svm-svc-extremely-slow)\n",
    "\n",
    "\n",
    "\n"
   ]
  },
  {
   "cell_type": "markdown",
   "metadata": {},
   "source": [
    "## Number of Rows and Features\n",
    "\n",
    "### What is the minimum number of data for given NN\n",
    "\n",
    "- [2-3 times number of weights](https://www.researchgate.net/post/Is_there_any_reference_methods_rules_to_understand_about_the_minimum_number_of_observations_needed_for_ANN_based_data_prediction)\n",
    "\n",
    "### SVM\n",
    "\n",
    "- [SVM Classification - minimum number of input sets for each class](https://stackoverflow.com/questions/2284059/svm-classification-minimum-number-of-input-sets-for-each-class)"
   ]
  },
  {
   "cell_type": "markdown",
   "metadata": {},
   "source": [
    "Number of datapoints $N$, for number of features $F$ and number of rows $R$\n",
    "\n",
    "$N = F * R$\n",
    "\n",
    "MLP: 1 layer\n",
    "\n",
    "$(F + 1) * neurons = R$"
   ]
  },
  {
   "cell_type": "code",
   "execution_count": 1,
   "metadata": {},
   "outputs": [
    {
     "ename": "SyntaxError",
     "evalue": "invalid syntax (<ipython-input-1-7b9a721735a6>, line 1)",
     "output_type": "error",
     "traceback": [
      "\u001b[0;36m  File \u001b[0;32m\"<ipython-input-1-7b9a721735a6>\"\u001b[0;36m, line \u001b[0;32m1\u001b[0m\n\u001b[0;31m    def minSamplesForMLP(featuers, neurons, multiple)\u001b[0m\n\u001b[0m                                                     ^\u001b[0m\n\u001b[0;31mSyntaxError\u001b[0m\u001b[0;31m:\u001b[0m invalid syntax\n"
     ]
    }
   ],
   "source": [
    "def minSamplesForMLP(featuers, neurons, multiple)\n",
    "    required_rows = ((features+1)*neurons*multiple)\n",
    "    print(f\"Number of required rows: {required_rows}\\n\")\n",
    "\n",
    "def roundFeaturesAndRows(*, N, f, r):\n",
    "    f_up, r_down, f_down, r_up = ceil(f), floor(r), floor(f), ceil(r)\n",
    "\n",
    "    print(\"N: {: <18}| F:       {: <18}| R:       {}\\n\".format(f*r, f, r))\n",
    "\n",
    "    if abs(N-(f_up*r_down)) < abs(N-(f_down*r_up)):\n",
    "        print(\"N: {: <18}| F(up):   {: <18}| R(down): {}\".format(f_up*r_down, f_up, r_down))\n",
    "        N, F, R = N, f_up, r_down\n",
    "    else: \n",
    "        print(\"N: {: <18}| F(down): {: <18}| R(down): {}\".format(f_down*r_up, f_down, r_up))\n",
    "        N, F, R = N, f_down, r_up\n",
    "\n",
    "    return (N, F, R)\n",
    "\n",
    "\n",
    "def getSizeFeaturesRows(*, N, F=None, R=None, neurons=100, multiple=3):\n",
    "    if (F is not None) and (R is not None):\n",
    "        print(\"N: {: <18}| F:       {: <18}| R:       {}\\n\".format(F*R, F, R))\n",
    "        return (F*R, F, R)\n",
    "    if F is not None:\n",
    "        return roundFeaturesAndRows(N=N, f=F, r=N/F)\n",
    "    if R is not None:\n",
    "        return roundFeaturesAndRows(N=N, f=N/R, r=R)\n",
    "    \n",
    "    a, b, c = 1, 1, -N/(neurons*multiple)\n",
    "\n",
    "    f = (-b + np.sqrt(b**2 - 4*a*c)) / 2*a\n",
    "    r = (f + 1)*neurons*multiple\n",
    "\n",
    "    return roundFeaturesAndRows(N=N, f=f, r=r)\n",
    "        \n"
   ]
  },
  {
   "cell_type": "code",
   "execution_count": 10,
   "metadata": {},
   "outputs": [
    {
     "name": "stdout",
     "output_type": "stream",
     "text": [
      "N: 208337422         | F:       227               | R:       917786\n",
      "\n"
     ]
    },
    {
     "data": {
      "text/plain": [
       "(208337422, 227, 917786)"
      ]
     },
     "execution_count": 10,
     "metadata": {},
     "output_type": "execute_result"
    }
   ],
   "source": [
    "idx = 6\n",
    "N        = [100, 1000, 10000, 100_000, 1_000_000, 10_000_000, 100_000_000][idx]\n",
    "neurons  = [3, 5, 25, 100, 100, 100, 100][idx]\n",
    "multiple = [1, 3, 3, 3, 3, 3, 3][idx]\n",
    "F = 227  # None\n",
    "R = 458893*2 # None # 34710 \n",
    "\n",
    "getSizeFeaturesRows(N=N, F=F, R=R, neurons=neurons, multiple=multiple)"
   ]
  },
  {
   "cell_type": "code",
   "execution_count": null,
   "metadata": {},
   "outputs": [],
   "source": [
    "# Training\n",
    "\n",
    "IDX = 6\n",
    "\n",
    "TRAIN_SAMPLE_SIZE = [20, 130, 905, 5629, 17472, 34710, 44053][IDX]\n",
    "FEATURES_NUMBER   = [5, 8, 11, 18, 57, 227, 227][IDX]\n",
    "HIDDEN_NEURONS    = [3, 5, 25, 100, 100, 100, 100][IDX]"
   ]
  },
  {
   "cell_type": "code",
   "execution_count": 9,
   "metadata": {},
   "outputs": [],
   "source": [
    "Model = namedtuple(\"Model\", [\"name\", \"classifier\", \"train_set\", \"test_set\", \"y_prediction\"])\n",
    "Dataset = namedtuple(\"Dataset\", [\"X\", \"y\"])\n",
    "\n",
    "# models_path = \"../../../../../gitlab/ni-pdd-2020-langeja5/02/models\"\n",
    "# models = pickle.load(open(f\"{models_path}/models_20_5.pkl\", \"rb\" ))"
   ]
  }
 ],
 "metadata": {
  "kernelspec": {
   "display_name": "Python 3",
   "language": "python",
   "name": "python3"
  },
  "language_info": {
   "codemirror_mode": {
    "name": "ipython",
    "version": 3
   },
   "file_extension": ".py",
   "mimetype": "text/x-python",
   "name": "python",
   "nbconvert_exporter": "python",
   "pygments_lexer": "ipython3",
   "version": "3.6.7"
  }
 },
 "nbformat": 4,
 "nbformat_minor": 4
}
